{
 "cells": [
  {
   "cell_type": "code",
   "execution_count": 1,
   "metadata": {},
   "outputs": [
    {
     "name": "stderr",
     "output_type": "stream",
     "text": [
      "Using TensorFlow backend.\n"
     ]
    }
   ],
   "source": [
    "import pandas as pd\n",
    "from sklearn.feature_extraction.text import TfidfVectorizer\n",
    "import numpy as np\n",
    "import nltk\n",
    "import matplotlib.pyplot as plt\n",
    "import string\n",
    "import re\n",
    "from nltk.corpus import stopwords\n",
    "from nltk.classify import SklearnClassifier\n",
    "from sklearn.feature_extraction.text import TfidfVectorizer\n",
    "from sklearn.preprocessing import OneHotEncoder\n",
    "from io import StringIO\n",
    "from sklearn.preprocessing import LabelEncoder\n",
    "import math\n",
    "from scipy.sparse import hstack, csr_matrix\n",
    "from tqdm import tqdm\n",
    "from sklearn.preprocessing import StandardScaler\n",
    "import xgboost as xgb\n",
    "from sklearn.model_selection import KFold\n",
    "from sklearn.model_selection import train_test_split\n",
    "from sklearn.model_selection import train_test_split, KFold, cross_val_score\n",
    "from sklearn import metrics\n",
    "from sklearn.metrics import roc_auc_score\n",
    "from sklearn.utils import shuffle\n",
    "from sklearn.model_selection import StratifiedKFold\n",
    "from sklearn.preprocessing import StandardScaler\n",
    "import matplotlib\n",
    "from sklearn.metrics import mean_squared_error\n",
    "import numpy as np\n",
    "import lightgbm as lgb\n",
    "from sklearn.preprocessing import LabelEncoder\n",
    "import os\n",
    "import time\n",
    "from keras.preprocessing.text import Tokenizer\n",
    "from keras.preprocessing.sequence import pad_sequences\n",
    "from keras.layers import Dense, Input, LSTM, Embedding, Dropout, Activation, CuDNNGRU, Conv1D\n",
    "from keras.layers import Bidirectional, GlobalMaxPool1D\n",
    "from keras.models import Model\n",
    "from keras import initializers, regularizers, constraints, optimizers, layers"
   ]
  },
  {
   "cell_type": "code",
   "execution_count": 2,
   "metadata": {},
   "outputs": [
    {
     "data": {
      "text/html": [
       "<div>\n",
       "<style scoped>\n",
       "    .dataframe tbody tr th:only-of-type {\n",
       "        vertical-align: middle;\n",
       "    }\n",
       "\n",
       "    .dataframe tbody tr th {\n",
       "        vertical-align: top;\n",
       "    }\n",
       "\n",
       "    .dataframe thead th {\n",
       "        text-align: right;\n",
       "    }\n",
       "</style>\n",
       "<table border=\"1\" class=\"dataframe\">\n",
       "  <thead>\n",
       "    <tr style=\"text-align: right;\">\n",
       "      <th></th>\n",
       "      <th>unique_hash</th>\n",
       "      <th>text</th>\n",
       "      <th>drug</th>\n",
       "      <th>sentiment</th>\n",
       "    </tr>\n",
       "  </thead>\n",
       "  <tbody>\n",
       "    <tr>\n",
       "      <th>0</th>\n",
       "      <td>2e180be4c9214c1f5ab51fd8cc32bc80c9f612e0</td>\n",
       "      <td>Autoimmune diseases tend to come in clusters. ...</td>\n",
       "      <td>gilenya</td>\n",
       "      <td>2</td>\n",
       "    </tr>\n",
       "    <tr>\n",
       "      <th>1</th>\n",
       "      <td>9eba8f80e7e20f3a2f48685530748fbfa95943e4</td>\n",
       "      <td>I can completely understand why you’d want to ...</td>\n",
       "      <td>gilenya</td>\n",
       "      <td>2</td>\n",
       "    </tr>\n",
       "    <tr>\n",
       "      <th>2</th>\n",
       "      <td>fe809672251f6bd0d986e00380f48d047c7e7b76</td>\n",
       "      <td>Interesting that it only targets S1P-1/5 recep...</td>\n",
       "      <td>fingolimod</td>\n",
       "      <td>2</td>\n",
       "    </tr>\n",
       "    <tr>\n",
       "      <th>3</th>\n",
       "      <td>bd22104dfa9ec80db4099523e03fae7a52735eb6</td>\n",
       "      <td>Very interesting, grand merci. Now I wonder wh...</td>\n",
       "      <td>ocrevus</td>\n",
       "      <td>2</td>\n",
       "    </tr>\n",
       "    <tr>\n",
       "      <th>4</th>\n",
       "      <td>b227688381f9b25e5b65109dd00f7f895e838249</td>\n",
       "      <td>Hi everybody, My latest MRI results for Brain ...</td>\n",
       "      <td>gilenya</td>\n",
       "      <td>1</td>\n",
       "    </tr>\n",
       "  </tbody>\n",
       "</table>\n",
       "</div>"
      ],
      "text/plain": [
       "                                unique_hash  \\\n",
       "0  2e180be4c9214c1f5ab51fd8cc32bc80c9f612e0   \n",
       "1  9eba8f80e7e20f3a2f48685530748fbfa95943e4   \n",
       "2  fe809672251f6bd0d986e00380f48d047c7e7b76   \n",
       "3  bd22104dfa9ec80db4099523e03fae7a52735eb6   \n",
       "4  b227688381f9b25e5b65109dd00f7f895e838249   \n",
       "\n",
       "                                                text        drug  sentiment  \n",
       "0  Autoimmune diseases tend to come in clusters. ...     gilenya          2  \n",
       "1  I can completely understand why you’d want to ...     gilenya          2  \n",
       "2  Interesting that it only targets S1P-1/5 recep...  fingolimod          2  \n",
       "3  Very interesting, grand merci. Now I wonder wh...     ocrevus          2  \n",
       "4  Hi everybody, My latest MRI results for Brain ...     gilenya          1  "
      ]
     },
     "execution_count": 2,
     "metadata": {},
     "output_type": "execute_result"
    }
   ],
   "source": [
    "train=pd.read_csv(\"train_F3WbcTw.csv\")\n",
    "train.head()"
   ]
  },
  {
   "cell_type": "code",
   "execution_count": 3,
   "metadata": {},
   "outputs": [
    {
     "data": {
      "text/plain": [
       "(5279, 4)"
      ]
     },
     "execution_count": 3,
     "metadata": {},
     "output_type": "execute_result"
    }
   ],
   "source": [
    "train.shape"
   ]
  },
  {
   "cell_type": "code",
   "execution_count": 4,
   "metadata": {},
   "outputs": [
    {
     "data": {
      "text/html": [
       "<div>\n",
       "<style scoped>\n",
       "    .dataframe tbody tr th:only-of-type {\n",
       "        vertical-align: middle;\n",
       "    }\n",
       "\n",
       "    .dataframe tbody tr th {\n",
       "        vertical-align: top;\n",
       "    }\n",
       "\n",
       "    .dataframe thead th {\n",
       "        text-align: right;\n",
       "    }\n",
       "</style>\n",
       "<table border=\"1\" class=\"dataframe\">\n",
       "  <thead>\n",
       "    <tr style=\"text-align: right;\">\n",
       "      <th></th>\n",
       "      <th>unique_hash</th>\n",
       "      <th>text</th>\n",
       "      <th>drug</th>\n",
       "    </tr>\n",
       "  </thead>\n",
       "  <tbody>\n",
       "    <tr>\n",
       "      <th>0</th>\n",
       "      <td>9e9a8166b84114aca147bf409f6f956635034c08</td>\n",
       "      <td>256 (previously stable on natalizumab), with 5...</td>\n",
       "      <td>fingolimod</td>\n",
       "    </tr>\n",
       "    <tr>\n",
       "      <th>1</th>\n",
       "      <td>e747e6822c867571afe7b907b51f0f2ca67b0e1a</td>\n",
       "      <td>On fingolimod and have been since December 201...</td>\n",
       "      <td>fingolimod</td>\n",
       "    </tr>\n",
       "    <tr>\n",
       "      <th>2</th>\n",
       "      <td>50b6d851bcff4f35afe354937949e9948975adf7</td>\n",
       "      <td>Apparently it's shingles! :-/ I do have a few ...</td>\n",
       "      <td>humira</td>\n",
       "    </tr>\n",
       "    <tr>\n",
       "      <th>3</th>\n",
       "      <td>7f82ec2176ae6ab0b5d20b5ffc767ac829f384ae</td>\n",
       "      <td>If the Docetaxel doing once a week x3 weeks th...</td>\n",
       "      <td>tagrisso</td>\n",
       "    </tr>\n",
       "    <tr>\n",
       "      <th>4</th>\n",
       "      <td>8b37d169dee5bdae27060949242fb54feb6a7f7f</td>\n",
       "      <td>CC, Stelara worked in a matter of days for me....</td>\n",
       "      <td>stelara</td>\n",
       "    </tr>\n",
       "  </tbody>\n",
       "</table>\n",
       "</div>"
      ],
      "text/plain": [
       "                                unique_hash  \\\n",
       "0  9e9a8166b84114aca147bf409f6f956635034c08   \n",
       "1  e747e6822c867571afe7b907b51f0f2ca67b0e1a   \n",
       "2  50b6d851bcff4f35afe354937949e9948975adf7   \n",
       "3  7f82ec2176ae6ab0b5d20b5ffc767ac829f384ae   \n",
       "4  8b37d169dee5bdae27060949242fb54feb6a7f7f   \n",
       "\n",
       "                                                text        drug  \n",
       "0  256 (previously stable on natalizumab), with 5...  fingolimod  \n",
       "1  On fingolimod and have been since December 201...  fingolimod  \n",
       "2  Apparently it's shingles! :-/ I do have a few ...      humira  \n",
       "3  If the Docetaxel doing once a week x3 weeks th...    tagrisso  \n",
       "4  CC, Stelara worked in a matter of days for me....     stelara  "
      ]
     },
     "execution_count": 4,
     "metadata": {},
     "output_type": "execute_result"
    }
   ],
   "source": [
    "test=pd.read_csv(\"test_tOlRoBf.csv\")\n",
    "test.head()"
   ]
  },
  {
   "cell_type": "code",
   "execution_count": 5,
   "metadata": {},
   "outputs": [
    {
     "name": "stdout",
     "output_type": "stream",
     "text": [
      "<class 'pandas.core.frame.DataFrame'>\n",
      "RangeIndex: 5279 entries, 0 to 5278\n",
      "Data columns (total 4 columns):\n",
      "unique_hash    5279 non-null object\n",
      "text           5279 non-null object\n",
      "drug           5279 non-null object\n",
      "sentiment      5279 non-null int64\n",
      "dtypes: int64(1), object(3)\n",
      "memory usage: 165.0+ KB\n"
     ]
    }
   ],
   "source": [
    "train.info()"
   ]
  },
  {
   "cell_type": "code",
   "execution_count": 6,
   "metadata": {},
   "outputs": [
    {
     "data": {
      "text/plain": [
       "(19890, 2)"
      ]
     },
     "execution_count": 6,
     "metadata": {},
     "output_type": "execute_result"
    }
   ],
   "source": [
    "train['token_length'] = [len(x.split(\" \")) for x in train.text]\n",
    "max(train.token_length),min(train.token_length)"
   ]
  },
  {
   "cell_type": "code",
   "execution_count": 7,
   "metadata": {},
   "outputs": [
    {
     "data": {
      "text/plain": [
       "(31151, 4)"
      ]
     },
     "execution_count": 7,
     "metadata": {},
     "output_type": "execute_result"
    }
   ],
   "source": [
    "test['token_length'] = [len(x.split(\" \")) for x in test.text]\n",
    "max(test.token_length),min(test.token_length)"
   ]
  },
  {
   "cell_type": "code",
   "execution_count": 8,
   "metadata": {},
   "outputs": [
    {
     "data": {
      "text/plain": [
       "'SERIOUS INFECTIONS Patients treated with Remicade  ® are at increased risk for developing serious infections that may lead to hospitalization or death  [see Warnings and Precautions (5.1) and Adverse Reactions (6.1) ] . Most patients who developed these infections were taking concomitant immunosuppressants such as methotrexate or corticosteroids. Remicade should be discontinued if a patient develops a serious infection or sepsis. Reported infections include: Active tuberculosis, including reactivation of latent tuberculosis. Patients with tuberculosis have frequently presented with disseminated or extrapulmonary disease. Patients should be tested for latent tuberculosis before Remicade use and during therapy.  1,2 Treatment for latent infection should be initiated prior to Remicade use. Invasive fungal infections, including histoplasmosis, coccidioidomycosis, candidiasis, aspergillosis, blastomycosis, and pneumocystosis. Patients with histoplasmosis or other invasive fungal infections may present with disseminated, rather than localized, disease. Antigen and antibody testing for histoplasmosis may be negative in some patients with active infection. Empiric anti-fungal therapy should be considered in patients at risk for invasive fungal infections who develop severe systemic illness. Bacterial, viral and other infections due to opportunistic pathogens, including Legionella and Listeria. The risks and benefits of treatment with Remicade should be carefully considered prior to initiating therapy in patients with chronic or recurrent infection. Patients should be closely monitored for the development of signs and symptoms of infection during and after treatment with Remicade, including the possible development of tuberculosis in patients who tested negative for latent tuberculosis infection prior to initiating therapy. MALIGNANCY Lymphoma and other malignancies, some fatal, have been reported in children and adolescent patients treated with TNF blockers, including Remicade  [see Warnings and Precautions (5.2) ] . Postmarketing cases of hepatosplenic T-cell lymphoma (HSTCL), a rare type of T-cell lymphoma, have been reported in patients treated with TNF blockers including Remicade. These cases have had a very aggressive disease course and have been fatal. Almost all patients had received treatment with azathioprine or 6-mercaptopurine concomitantly with a TNF-blocker at or prior to diagnosis. The majority of reported Remicade cases have occurred in patients with Crohn\\'s disease or ulcerative colitis and most were in adolescent and young adult males.  Indications and Usage for Remicade See also: Stelara Crohn\\'s Disease Remicade is indicated for reducing signs and symptoms and inducing and maintaining clinical remission in adult patients with moderately to severely active Crohn\\'s disease who have had an inadequate response to conventional therapy. Remicade is indicated for reducing the number of draining enterocutaneous and rectovaginal fistulas and maintaining fistula closure in adult patients with fistulizing Crohn\\'s disease.  Pediatric Crohn\\'s Disease Remicade is indicated for reducing signs and symptoms and inducing and maintaining clinical remission in pediatric patients 6 years of age and older with moderately to severely active Crohn\\'s disease who have had an inadequate response to conventional therapy.  Ulcerative Colitis Remicade is indicated for reducing signs and symptoms, inducing and maintaining clinical remission and mucosal healing, and eliminating corticosteroid use in adult patients with moderately to severely active ulcerative colitis who have had an inadequate response to conventional therapy.  Pediatric Ulcerative Colitis Remicade is indicated for reducing signs and symptoms and inducing and maintaining clinical remission in pediatric patients 6 years of age and older with moderately to severely active ulcerative colitis who have had an inadequate response to conventional therapy.  Rheumatoid Arthritis Remicade, in combination with methotrexate, is indicated for reducing signs and symptoms, inhibiting the progression of structural damage, and improving physical function in patients with moderately to severely active rheumatoid arthritis.  Ankylosing Spondylitis Remicade is indicated for reducing signs and symptoms in patients with active ankylosing spondylitis.  Psoriatic Arthritis Remicade is indicated for reducing signs and symptoms of active arthritis, inhibiting the progression of structural damage, and improving physical function in patients with psoriatic arthritis.  Plaque Psoriasis Remicade is indicated for the treatment of adult patients with chronic severe (i.e., extensive and/or disabling) plaque psoriasis who are candidates for systemic therapy and when other systemic therapies are medically less appropriate. Remicade should only be administered to patients who will be closely monitored and have regular follow-up visits with a physician  [see Boxed Warning , Warnings and Precautions (5) ] .  Remicade Dosage and Administration Crohn\\'s Disease The recommended dose of Remicade is 5 mg/kg given as an intravenous induction regimen at 0, 2 and 6 weeks followed by a maintenance regimen of 5 mg/kg every 8 weeks thereafter for the treatment of adults with moderately to severely active Crohn\\'s disease or fistulizing Crohn\\'s disease. For adult patients who respond and then lose their response, consideration may be given to treatment with 10 mg/kg. Patients who do not respond by Week 14 are unlikely to respond with continued dosing and consideration should be given to discontinue Remicade in these patients.  Pediatric Crohn\\'s Disease The recommended dose of Remicade for pediatric patients 6 years and older with moderately to severely active Crohn\\'s disease is 5 mg/kg given as an intravenous induction regimen at 0, 2 and 6 weeks followed by a maintenance regimen of 5 mg/kg every 8 weeks.  Ulcerative Colitis The recommended dose of Remicade is 5 mg/kg given as an intravenous induction regimen at 0, 2 and 6 weeks followed by a maintenance regimen of 5 mg/kg every 8 weeks thereafter for the treatment of adult patients with moderately to severely active ulcerative colitis.  Pediatric Ulcerative Colitis The recommended dose of Remicade for pediatric patients 6 years and older with moderately to severely active ulcerative colitis is 5 mg/kg given as an intravenous induction regimen at 0, 2 and 6 weeks followed by a maintenance regimen of 5 mg/kg every 8 weeks.  Rheumatoid Arthritis The recommended dose of Remicade is 3 mg/kg given as an intravenous induction regimen at 0, 2 and 6 weeks followed by a maintenance regimen of 3 mg/kg every 8 weeks thereafter for the treatment of moderately to severely active rheumatoid arthritis. Remicade should be given in combination with methotrexate. For patients who have an incomplete response, consideration may be given to adjusting the dose up to 10 mg/kg or treating as often as every 4 weeks bearing in mind that risk of serious infections is increased at higher doses  [ see Adverse Reactions (6.1) ] .  Ankylosing Spondylitis The recommended dose of Remicade is 5 mg/kg given as an intravenous induction regimen at 0, 2 and 6 weeks followed by a maintenance regimen of 5 mg/kg every 6 weeks thereafter for the treatment of active ankylosing spondylitis.  Psoriatic Arthritis The recommended dose of Remicade is 5 mg/kg given as an intravenous induction regimen at 0, 2 and 6 weeks followed by a maintenance regimen of 5 mg/kg every 8 weeks thereafter for the treatment of psoriatic arthritis. Remicade can be used with or without methotrexate.  Plaque Psoriasis The recommended dose of Remicade is 5 mg/kg given as an intravenous induction regimen at 0, 2 and 6 weeks followed by a maintenance regimen of 5 mg/kg every 8 weeks thereafter for the treatment of chronic severe (i.e., extensive and/or disabling) plaque psoriasis.  Monitoring to Assess Safety Prior to initiating Remicade and periodically during therapy, patients should be evaluated for active tuberculosis and tested for latent infection  [see Warnings and Precautions (5.1) ] .  Administration Instructions Regarding Infusion Reactions Adverse effects during administration of Remicade have included flu-like symptoms, headache, dyspnea, hypotension, transient fever, chills, gastrointestinal symptoms, and skin rashes. Anaphylaxis might occur at any time during Remicade infusion. Approximately 20% of Remicade-treated patients in all clinical trials experienced an infusion reaction compared with 10% of placebo-treated patients  [see Adverse Reactions (6.1) ] . Prior to infusion with Remicade, premedication may be administered at the physician\\'s discretion. Premedication could include antihistamines (anti-H1 +/- anti-H2), acetaminophen and/or corticosteroids. During infusion, mild to moderate infusion reactions may improve following slowing or suspension of the infusion, and upon resolution of the reaction, reinitiation at a lower infusion rate and/or therapeutic administration of antihistamines, acetaminophen, and/or corticosteroids. For patients that do not tolerate the infusion following these interventions, Remicade should be discontinued. During or following infusion, patients who have severe infusion-related hypersensitivity reactions should be discontinued from further Remicade treatment. The management of severe infusion reactions should be dictated by the signs and symptoms of the reaction. Appropriate personnel and medication should be available to treat anaphylaxis if it occurs.  General Considerations and Instructions for Preparation and Administration Remicade is intended for use under the guidance and supervision of a physician. The reconstituted infusion solution should be prepared by a trained medical professional using aseptic technique by the following procedure: Calculate the dose, total volume of reconstituted Remicade solution required and the number of Remicade vials needed. Each Remicade vial contains 100 mg of the infliximab antibody. Reconstitute each Remicade vial with 10 mL of Sterile Water for Injection, USP, using a syringe equipped with a 21-gauge or smaller needle as follows: Remove the flip-top from the vial and wipe the top with an alcohol swab. Insert the syringe needle into the vial through the center of the rubber stopper and direct the stream of Sterile Water for Injection, USP, to the glass wall of the vial. Gently swirl the solution by rotating the vial to dissolve the lyophilized powder. Avoid prolonged or vigorous agitation. DO NOT SHAKE. Foaming of the solution on reconstitution is not unusual. Allow the reconstituted solution to stand for 5 minutes. The solution should be colorless to light yellow and opalescent, and the solution may develop a few translucent particles as infliximab is a protein. Do not use if the lyophilized cake has not fully dissolved or if opaque particles, discoloration, or other foreign particles are present. Dilute the total volume of the reconstituted Remicade solution dose to 250 mL with sterile 0.9% Sodium Chloride Injection, USP, by withdrawing a volume equal to the volume of reconstituted Remicade from the 0.9% Sodium Chloride Injection, USP, 250 mL bottle or bag. Do not dilute the reconstituted Remicade solution with any other diluent. Slowly add the total volume of reconstituted Remicade solution to the 250 mL infusion bottle or bag. Gently mix. The resulting infusion concentration should range between 0.4 mg/mL and 4 mg/mL. The Remicade infusion should begin within 3 hours of reconstitution and dilution. The infusion must be administered over a period of not less than 2 hours and must use an infusion set with an in-line, sterile, non-pyrogenic, low-protein-binding filter (pore size of 1.2 µm or less). The vials do not contain antibacterial preservatives. Therefore, any unused portion of the infusion solution should not be stored for reuse. No physical biochemical compatibility studies have been conducted to evaluate the co-administration of Remicade with other agents. Remicade should not be infused concomitantly in the same intravenous line with other agents. Parenteral drug products should be inspected visually before and after reconstitution for particulate matter and discoloration prior to administration, whenever solution and container permit. If visibly opaque particles, discoloration or other foreign particulates are observed, the solution should not be used.  Dosage Forms and Strengths 100 mg vial: 100 mg lyophilized infliximab in a 20 mL vial for injection, for intravenous use.  Contraindications Remicade at doses >5 mg/kg should not be administered to patients with moderate to severe heart failure. In a randomized study evaluating Remicade in patients with moderate to severe heart failure (New York Heart Association [NYHA] Functional Class III/IV), Remicade treatment at 10 mg/kg was associated with an increased incidence of death and hospitalization due to worsening heart failure  [see Warnings and Precautions (5.5) and Adverse Reactions (6.1) ] . Remicade should not be re-administered to patients who have experienced a severe hypersensitivity reaction to Remicade. Additionally, Remicade should not be administered to patients with known hypersensitivity to inactive components of the product or to any murine proteins.  Warnings and Precautions Serious Infections Patients treated with Remicade are at increased risk for developing serious infections involving various organ systems and sites that may lead to hospitalization or death. Opportunistic infections due to bacterial, mycobacterial, invasive fungal, viral, or parasitic organisms including aspergillosis, blastomycosis, candidiasis, coccidioidomycosis, cryptococcosis, histoplasmosis, legionellosis, listeriosis, pneumocystosis, salmonellosis and tuberculosis have been reported with TNF-blockers. Patients have frequently presented with disseminated rather than localized disease. Treatment with Remicade should not be initiated in patients with an active infection, including clinically important localized infections. Patients greater than 65 years of age, patients with co-morbid conditions and/or patients taking concomitant immunosuppressants such as corticosteroids or methotrexate may be at greater risk of infection. The risks and benefits of treatment should be considered prior to initiating therapy in patients:  with chronic or recurrent infection; who have been exposed to tuberculosis; with a history of an opportunistic infection; who have resided or traveled in areas of endemic tuberculosis or endemic mycoses, such as histoplasmosis, coccidioidomycosis, or blastomycosis; or with underlying conditions that may predispose them to infection. Tuberculosis Cases of reactivation of tuberculosis or new tuberculosis infections have been observed in patients receiving Remicade, including patients who have previously received treatment for latent or active tuberculosis. Cases of active tuberculosis have also occurred in patients being treated with Remicade during treatment for latent tuberculosis. Patients should be evaluated for tuberculosis risk factors and tested for latent infection prior to initiating Remicade and periodically during therapy. Treatment of latent tuberculosis infection prior to therapy with TNF blocking agents has been shown to reduce the risk of tuberculosis reactivation during therapy. Induration of 5 mm or greater with tuberculin skin testing should be considered a positive test result when assessing if treatment for latent tuberculosis is needed prior to initiating Remicade, even for patients previously vaccinated with Bacille Calmette-Guérin (BCG). Anti-tuberculosis therapy should also be considered prior to initiation of Remicade in patients with a past history of latent or active tuberculosis in whom an adequate course of treatment cannot be confirmed, and for patients with a negative test for latent tuberculosis but having risk factors for tuberculosis infection. Consultation with a physician with expertise in the treatment of tuberculosis is recommended to aid in the decision whether initiating anti-tuberculosis therapy is appropriate for an individual patient. Tuberculosis should be strongly considered in patients who develop a new infection during Remicade treatment, especially in patients who have previously or recently traveled to countries with a high prevalence of tuberculosis, or who have had close contact with a person with active tuberculosis.  Monitoring Patients should be closely monitored for the development of signs and symptoms of infection during and after treatment with Remicade, including the development of tuberculosis in patients who tested negative for latent tuberculosis infection prior to initiating therapy. Tests for latent tuberculosis infection may also be falsely negative while on therapy with Remicade. Remicade should be discontinued if a patient develops a serious infection or sepsis. A patient who develops a new infection during treatment with Remicade should be closely monitored, undergo a prompt and complete diagnostic workup appropriate for an immunocompromised patient, and appropriate antimicrobial therapy should be initiated.  Invasive Fungal Infections For patients who reside or travel in regions where mycoses are endemic, invasive fungal infection should be suspected if they develop a serious systemic illness. Appropriate empiric antifungal therapy should be considered while a diagnostic workup is being performed. Antigen and antibody testing for histoplasmosis may be negative in some patients with active infection. When feasible, the decision to administer empiric antifungal therapy in these patients should be made in consultation with a physician with expertise in the diagnosis and treatment of invasive fungal infections and should take into account both the risk for severe fungal infection and the risks of antifungal therapy.  Malignancies Malignancies, some fatal, have been reported among children, adolescents and young adults who received treatment with TNF-blocking agents (initiation of therapy ≤18 years of age), including Remicade. Approximately half of these cases were lymphomas, including Hodgkin\\'s and non-Hodgkin\\'s lymphoma. The other cases represented a variety of malignancies, including rare malignancies that are usually associated with immunosuppression and malignancies that are not usually observed in children and adolescents. The malignancies occurred after a median of 30 months (range 1 to 84 months) after the first dose of TNF blocker therapy. Most of the patients were receiving concomitant immunosuppressants. These cases were reported post-marketing and are derived from a variety of sources, including registries and spontaneous postmarketing reports.  Lymphomas In the controlled portions of clinical trials of all the TNF-blocking agents, more cases of lymphoma have been observed among patients receiving a TNF blocker compared with control patients. In the controlled and open-label portions of Remicade clinical trials, 5 patients developed lymphomas among 5707 patients treated with Remicade (median duration of follow-up 1.0 years) vs. 0 lymphomas in 1600 control patients (median duration of follow-up 0.4 years). In rheumatoid arthritis patients, 2 lymphomas were observed for a rate of 0.08 cases per 100 patient-years of follow-up, which is approximately three-fold higher than expected in the general population. In the combined clinical trial population for rheumatoid arthritis, Crohn\\'s disease, psoriatic arthritis, ankylosing spondylitis, ulcerative colitis, and plaque psoriasis, 5 lymphomas were observed for a rate of 0.10 cases per 100 patient-years of follow-up, which is approximately four-fold higher than expected in the general population. Patients with Crohn\\'s disease, rheumatoid arthritis or plaque psoriasis, particularly patients with highly active disease and/or chronic exposure to immunosuppressant therapies, may be at a higher risk (up to several fold) than the general population for the development of lymphoma, even in the absence of TNF-blocking therapy. Cases of acute and chronic leukemia have been reported with postmarketing TNF-blocker use in rheumatoid arthritis and other indications. Even in the absence of TNF blocker therapy, patients with rheumatoid arthritis may be at a higher risk (approximately 2-fold) than the general population for the development of leukemia.  Hepatosplenic T-cell Lymphoma (HSTCL) Postmarketing cases of hepatosplenic T-cell lymphoma (HSTCL), a rare type of T-cell lymphoma, have been reported in patients treated with TNF blockers including Remicade. These cases have had a very aggressive disease course and have been fatal. Almost all patients had received treatment with the immunosuppressants azathioprine or 6-mercaptopurine concomitantly with a TNF-blocker at or prior to diagnosis. The majority of reported Remicade cases have occurred in patients with Crohn\\'s disease or ulcerative colitis and most were in adolescent and young adult males. It is uncertain whether the occurrence of HSTCL is related to TNF-blockers or TNF-blockers in combination with these other immunosuppressants. When treating patients, consideration of whether to use Remicade alone or in combination with other immunosuppressants such as azathioprine or 6-mercaptopurine should take into account a possibility that there is a higher risk of HSTCL with combination therapy versus an observed increased risk of immunogenicity and hypersensitivity reactions with Remicade monotherapy from the clinical trial data  [see Warnings and Precautions (5.7) and Adverse Reactions (6.1) ] .  Skin Cancer Melanoma and Merkel cell carcinoma have been reported in patients treated with TNF blocker therapy, including Remicade  [see Adverse Reactions (6.2) ] . Periodic skin examination is recommended for all patients, particularly those with risk factors for skin cancer.  \\u200b Cervical Cancer \\u200b A population-based retrospective cohort study using data from Swedish national health registries found a 2 to 3 fold increase in the incidence of invasive cervical cancer in women with rheumatoid arthritis treated with infliximab compared to biologics-naïve patients or the general population, particularly those over 60 years of age. A causal relationship between infliximab and cervical cancer cannot be excluded. Periodic screening should continue in women treated with Remicade  [see Adverse Reactions (6.2) ] .  Other Malignancies In the controlled portions of clinical trials of some TNF-blocking agents including Remicade, more malignancies (excluding lymphoma and nonmelanoma skin cancer [NMSC]) have been observed in patients receiving those TNF-blockers compared with control patients. During the controlled portions of Remicade trials in patients with moderately to severely active rheumatoid arthritis, Crohn\\'s disease, psoriatic arthritis, ankylosing spondylitis, ulcerative colitis, and plaque psoriasis, 14 patients were diagnosed with malignancies (excluding lymphoma and NMSC) among 4019 Remicade-treated patients vs. 1 among 1597 control patients (at a rate of 0.52/100 patient-years among Remicade-treated patients vs. a rate of 0.11/100 patient-years among control patients), with median duration of follow-up 0.5 years for Remicade-treated patients and 0.4 years for control patients. Of these, the most common malignancies were breast, colorectal, and melanoma. The rate of malignancies among Remicade-treated patients was similar to that expected in the general population whereas the rate in control patients was lower than expected. In a clinical trial exploring the use of Remicade in patients with moderate to severe chronic obstructive pulmonary disease (COPD), more malignancies, the majority of lung or head and neck origin, were reported in Remicade-treated patients compared with control patients. All patients had a history of heavy smoking  [see Adverse Reactions (6.1) ] . Prescribers should exercise caution when considering the use of Remicade in patients with moderate to severe COPD. Psoriasis patients should be monitored for nonmelanoma skin cancers (NMSCs), particularly those patients who have had prior prolonged phototherapy treatment. In the maintenance portion of clinical trials for Remicade, NMSCs were more common in patients with previous phototherapy  [see Adverse Reactions (6.1) ] . The potential role of TNF-blocking therapy in the development of malignancies is not known  [see Adverse Reactions (6.1) ]. Rates in clinical trials for Remicade cannot be compared to rates in clinical trials of other TNF-blockers and may not predict rates observed in a broader patient population. Caution should be exercised in considering Remicade treatment in patients with a history of malignancy or in continuing treatment in patients who develop malignancy while receiving Remicade.  Hepatitis B Virus Reactivation Use of TNF blockers, including Remicade, has been associated with reactivation of hepatitis B virus (HBV) in patients who are chronic carriers of this virus. In some instances, HBV reactivation occurring in conjunction with TNF blocker therapy has been fatal. The majority of these reports have occurred in patients concomitantly receiving other medications that suppress the immune system, which may also contribute to HBV reactivation. Patients should be tested for HBV infection before initiating TNF blocker therapy, including Remicade. For patients who test positive for hepatitis B surface antigen, consultation with a physician with expertise in the treatment of hepatitis B is recommended. Adequate data are not available on the safety or efficacy of treating patients who are carriers of HBV with anti-viral therapy in conjunction with TNF blocker therapy to prevent HBV reactivation. Patients who are carriers of HBV and require treatment with TNF blockers should be closely monitored for clinical and laboratory signs of active HBV infection throughout therapy and for several months following termination of therapy. In patients who develop HBV reactivation, TNF blockers should be stopped and antiviral therapy with appropriate supportive treatment should be initiated. The safety of resuming TNF blocker therapy after HBV reactivation is controlled is not known. Therefore, prescribers should exercise caution when considering resumption of TNF blocker therapy in this situation and monitor patients closely.  Hepatotoxicity Severe hepatic reactions, including acute liver failure, jaundice, hepatitis and cholestasis, have been reported in postmarketing data in patients receiving Remicade. Autoimmune hepatitis has been diagnosed in some of these cases. Severe hepatic reactions occurred between 2 weeks to more than 1 year after initiation of Remicade; elevations in hepatic aminotransferase levels were not noted prior to discovery of the liver injury in many of these cases. Some of these cases were fatal or necessitated liver transplantation. Patients with symptoms or signs of liver dysfunction should be evaluated for evidence of liver injury. If jaundice and/or marked liver enzyme elevations (e.g., ≥5 times the upper limit of normal) develop, Remicade should be discontinued, and a thorough investigation of the abnormality should be undertaken. In clinical trials, mild or moderate elevations of ALT and AST have been observed in patients receiving Remicade without progression to severe hepatic injury  [see Adverse Reactions (6.1) ] .  Patients with Heart Failure Remicade has been associated with adverse outcomes in patients with heart failure, and should be used in patients with heart failure only after consideration of other treatment options. The results of a randomized study evaluating the use of Remicade in patients with heart failure (NYHA Functional Class III/IV) suggested higher mortality in patients who received 10 mg/kg Remicade, and higher rates of cardiovascular adverse events at doses of 5 mg/kg and 10 mg/kg. There have been post-marketing reports of worsening heart failure, with and without identifiable precipitating factors, in patients taking Remicade. There have also been post-marketing reports of new onset heart failure, including heart failure in patients without known pre-existing cardiovascular disease. Some of these patients have been under 50 years of age. If a decision is made to administer Remicade to patients with heart failure, they should be closely monitored during therapy, and Remicade should be discontinued if new or worsening symptoms of heart failure appear  [see Contraindications (4) and Adverse Reactions (6.1) ] .  Hematologic Reactions Cases of leukopenia, neutropenia, thrombocytopenia, and pancytopenia, some with a fatal outcome, have been reported in patients receiving Remicade. The causal relationship to Remicade therapy remains unclear. Although no high-risk group(s) has been identified, caution should be exercised in patients being treated with Remicade who have ongoing or a history of significant hematologic abnormalities. All patients should be advised to seek immediate medical attention if they develop signs and symptoms suggestive of blood dyscrasias or infection (e.g., persistent fever) while on Remicade. Discontinuation of Remicade therapy should be considered in patients who develop significant hematologic abnormalities.  Hypersensitivity Remicade has been associated with hypersensitivity reactions that vary in their time of onset and required hospitalization in some cases. Most hypersensitivity reactions, which include anaphylaxis, urticaria, dyspnea, and/or hypotension, have occurred during or within 2 hours of Remicade infusion. However, in some cases, serum sickness-like reactions have been observed in patients after initial Remicade therapy (i.e., as early as after the second dose), and when Remicade therapy was reinstituted following an extended period without Remicade treatment. Symptoms associated with these reactions include fever, rash, headache, sore throat, myalgias, polyarthralgias, hand and facial edema and/or dysphagia. These reactions were associated with a marked increase in antibodies to infliximab, loss of detectable serum concentrations of infliximab, and possible loss of drug efficacy. Remicade should be discontinued for severe hypersensitivity reactions. Medications for the treatment of hypersensitivity reactions (e.g., acetaminophen, antihistamines, corticosteroids and/or epinephrine) should be available for immediate use in the event of a reaction  [see Adverse Reactions (6.1) ] . In rheumatoid arthritis, Crohn\\'s disease and psoriasis clinical trials, re-administration of Remicade after a period of no treatment resulted in a higher incidence of infusion reactions relative to regular maintenance treatment  [see Adverse Reactions (6.1) ] . In general, the benefit-risk of re-administration of Remicade after a period of no-treatment, especially as a re-induction regimen given at weeks 0, 2 and 6, should be carefully considered. In the case where Remicade maintenance therapy for psoriasis is interrupted, Remicade should be reinitiated as a single dose followed by maintenance therapy.  Cardiovascular and Cerebrovascular Reactions During and After Infusion \\u200b Serious cerebrovascular accidents, myocardial ischemia/infarction (some fatal), hypotension, hypertension, and arrhythmias have been reported during and within 24 hours of initiation of Remicade infusion. Cases of transient visual loss have been reported during or within 2 hours of infusion of Remicade. Monitor patients during infusion and if serious reaction occurs, discontinue infusion. Further management of reactions should be dictated by signs and symptoms  [See Adverse Reactions (6) ] .  Neurologic Reactions Remicade and other agents that inhibit TNF have been associated with CNS manifestation of systemic vasculitis, seizure and new onset or exacerbation of clinical symptoms and/or radiographic evidence of central nervous system demyelinating disorders, including multiple sclerosis and optic neuritis, and peripheral demyelinating disorders, including Guillain-Barré syndrome. Prescribers should exercise caution in considering the use of Remicade in patients with these neurologic disorders and should consider discontinuation of Remicade if these disorders develop.  Use with Anakinra Serious infections and neutropenia were seen in clinical studies with concurrent use of anakinra and another TNFα-blocking agent, etanercept, with no added clinical benefit compared to etanercept alone. Because of the nature of the adverse reactions seen with the combination of etanercept and anakinra therapy, similar toxicities may also result from the combination of anakinra and other TNFα-blocking agents. Therefore, the combination of Remicade and anakinra is not recommended.  Use with Abatacept In clinical studies, concurrent administration of TNF-blocking agents and abatacept have been associated with an increased risk of infections including serious infections compared with TNF - blocking agents alone, without increased clinical benefit. Therefore, the combination of Remicade and abatacept is not recommended  [see Drug Interactions (7.1) ] .  Concurrent Administration with Other Biological Therapeutics There is insufficient information regarding the concomitant use of Remicade with other biological therapeutics used to treat the same conditions as Remicade. The concomitant use of Remicade with these biologics is not recommended because of the possibility of an increased risk of infection  [see Drug Interactions (7.3) ] .  Switching Between Biological Disease-Modifying Antirheumatic Drugs (DMARDs) Care should be taken when switching from one biologic to another, since overlapping biological activity may further increase the risk of infection.  Autoimmunity Treatment with Remicade may result in the formation of autoantibodies and in the development of a lupus-like syndrome. If a patient develops symptoms suggestive of a lupus-like syndrome following treatment with Remicade, treatment should be discontinued  [see Adverse Reactions (6.1) ] .  Live Vaccines/Therapeutic Infectious Agents In patients receiving anti-TNF therapy, limited data are available on the response to vaccination with live vaccines or on the secondary transmission of infection by live vaccines. Use of live vaccines can result in clinical infections, including disseminated infections. The concurrent administration of live vaccines with Remicade is not recommended. Fatal outcome due to disseminated BCG infection has been reported in an infant who received a BCG vaccine after  in utero exposure to infliximab. Infliximab is known to cross the placenta and has been detected up to 6 months following birth. At least a six month waiting period following birth is recommended before the administration of any live vaccine to infants exposed  in utero to infliximab. Other uses of therapeutic infectious agents such as live attenuated bacteria (e.g., BCG bladder instillation for the treatment of cancer) could result in clinical infections, including disseminated infections. It is recommended that therapeutic infectious agents not be given concurrently with Remicade. It is recommended that all pediatric patients be brought up to date with all vaccinations prior to initiating Remicade therapy. The interval between vaccination and initiation of Remicade therapy should be in accordance with current vaccination guidelines.  Adverse Reactions Clinical Trials Experience Because clinical trials are conducted under widely varying conditions, adverse reaction rates observed in the clinical trials of a drug cannot be directly compared to rates in the clinical trials of another drug and may not reflect the rates observed in practice.  Adverse Reactions in Adults The data described herein reflect exposure to Remicade in 4779 adult patients (1304 patients with rheumatoid arthritis, 1106 patients with Crohn\\'s disease, 202 with ankylosing spondylitis, 293 with psoriatic arthritis, 484 with ulcerative colitis, 1373 with plaque psoriasis, and 17 patients with other conditions), including 2625 patients exposed beyond 30 weeks and 374 exposed beyond 1 year.  [For information on adverse reactions in pediatric patients see Adverse Reactions (6.1) .] One of the most-common reasons for discontinuation of treatment was infusion-related reactions (e.g., dyspnea, flushing, headache and rash).  Infusion-related Reactions An infusion reaction was defined in clinical trials as any adverse event occurring during an infusion or within 1 hour after an infusion. In Phase 3 clinical studies, 18% of Remicade-treated patients experienced an infusion reaction compared to 5% of placebo-treated patients. Of infliximab-treated patients who had an infusion reaction during the induction period, 27% experienced an infusion reaction during the maintenance period. Of patients who did not have an infusion reaction during the induction period, 9% experienced an infusion reaction during the maintenance period. Among all Remicade infusions, 3% were accompanied by nonspecific symptoms such as fever or chills, 1% were accompanied by cardiopulmonary reactions (primarily chest pain, hypotension, hypertension or dyspnea), and <1% were accompanied by pruritus, urticaria, or the combined symptoms of pruritus/urticaria and cardiopulmonary reactions. Serious infusion reactions occurred in <1% of patients and included anaphylaxis, convulsions, erythematous rash and hypotension. Approximately 3% of patients discontinued Remicade because of infusion reactions, and all patients recovered with treatment and/or discontinuation of the infusion. Remicade infusions beyond the initial infusion were not associated with a higher incidence of reactions. The infusion reaction rates remained stable in psoriasis through 1 year in psoriasis Study I. In psoriasis Study II, the rates were variable over time and somewhat higher following the final infusion than after the initial infusion. Across the 3 psoriasis studies, the percent of total infusions resulting in infusion reactions (i.e., an adverse event occurring within 1 hour) was 7% in the 3 mg/kg group, 4% in the 5 mg/kg group, and 1% in the placebo group. Patients who became positive for antibodies to infliximab were more likely (approximately two-to three-fold) to have an infusion reaction than were those who were negative. Use of concomitant immunosuppressant agents appeared to reduce the frequency of both antibodies to infliximab and infusion reactions  [see Adverse Reactions (6.1) and Drug Interactions (7.4) ] .  Infusion Reactions Following Re-administration In a clinical trial of patients with moderate to severe psoriasis designed to assess the efficacy of long-term maintenance therapy versus re-treatment with an induction regimen of Remicade following disease flare, 4% (8/219) of patients in the re-treatment therapy arm experienced serious infusion reactions versus <1% (1/222) in the maintenance therapy arm. Patients enrolled in this trial did not receive any concomitant immunosuppressant therapy. In this study, the majority of serious infusion reactions occurred during the second infusion at Week 2. Symptoms included, but were not limited to, dyspnea, urticaria, facial edema, and hypotension. In all cases, Remicade treatment was discontinued and/or other treatment instituted with complete resolution of signs and symptoms.  Delayed Reactions/Reactions Following Re-administration In psoriasis studies, approximately 1% of Remicade-treated patients experienced a possible delayed hypersensitivity reaction, generally reported as serum sickness or a combination of arthralgia and/or myalgia with fever and/or rash. These reactions generally occurred within 2 weeks after repeat infusion.  Infections In Remicade clinical studies, treated infections were reported in 36% of Remicade-treated patients (average of 51 weeks of follow-up) and in 25% of placebo-treated patients (average of 37 weeks of follow-up). The infections most frequently reported were respiratory tract infections (including sinusitis, pharyngitis, and bronchitis) and urinary tract infections. Among Remicade-treated patients, serious infections included pneumonia, cellulitis, abscess, skin ulceration, sepsis, and bacterial infection. In clinical trials, 7 opportunistic infections were reported; 2 cases each of coccidioidomycosis (1 case was fatal) and histoplasmosis (1 case was fatal), and 1 case each of pneumocystosis, nocardiosis and cytomegalovirus. Tuberculosis was reported in 14 patients, 4 of whom died due to miliary tuberculosis. Other cases of tuberculosis, including disseminated tuberculosis, also have been reported post-marketing. Most of these cases of tuberculosis occurred within the first 2 months after initiation of therapy with Remicade and may reflect recrudescence of latent disease  [see Warnings and Precautions (5.1) ] . In the 1-year placebo-controlled studies RA I and RA II, 5.3% of patients receiving Remicade every 8 weeks with MTX developed serious infections as compared to 3.4% of placebo patients receiving MTX. Of 924 patients receiving Remicade, 1.7% developed pneumonia and 0.4% developed TB, when compared to 0.3% and 0.0% in the placebo arm respectively. In a shorter (22-week) placebo-controlled study of 1082 RA patients randomized to receive placebo, 3 mg/kg or 10 mg/kg Remicade infusions at 0, 2, and 6 weeks, followed by every 8 weeks with MTX, serious infections were more frequent in the 10 mg/kg Remicade group (5.3%) than the 3 mg/kg or placebo groups (1.7% in both). During the 54-week Crohn\\'s II Study, 15% of patients with fistulizing Crohn\\'s disease developed a new fistula-related abscess. In Remicade clinical studies in patients with ulcerative colitis, infections treated with antimicrobials were reported in 27% of Remicade-treated patients (average of 41 weeks of follow-up) and in 18% of placebo-treated patients (average 32 weeks of follow-up). The types of infections, including serious infections, reported in patients with ulcerative colitis were similar to those reported in other clinical studies. The onset of serious infections may be preceded by constitutional symptoms such as fever, chills, weight loss, and fatigue. The majority of serious infections, however, may also be preceded by signs or symptoms localized to the site of the infection.  Autoantibodies/Lupus-like Syndrome Approximately half of Remicade-treated patients in clinical trials who were antinuclear antibody (ANA) negative at baseline developed a positive ANA during the trial compared with approximately one-fifth of placebo-treated patients. Anti-dsDNA antibodies were newly detected in approximately one-fifth of Remicade-treated patients compared with 0% of placebo-treated patients. Reports of lupus and lupus-like syndromes, however, remain uncommon.  Malignancies In controlled trials, more Remicade-treated patients developed malignancies than placebo-treated patients  [see Warnings and Precautions (5.2) ] . In a randomized controlled clinical trial exploring the use of Remicade in patients with moderate to severe COPD who were either current smokers or ex-smokers, 157 patients were treated with Remicade at doses similar to those used in rheumatoid arthritis and Crohn\\'s disease. Of these Remicade-treated patients, 9 developed a malignancy, including 1 lymphoma, for a rate of 7.67 cases per 100 patient-years of follow-up (median duration of follow-up 0.8 years; 95% CI 3.51 – 14.56). There was 1 reported malignancy among 77 control patients for a rate of 1.63 cases per 100 patient-years of follow-up (median duration of follow-up 0.8 years; 95% CI 0.04 – 9.10). The majority of the malignancies developed in the lung or head and neck.  Patients with Heart Failure In a randomized study evaluating Remicade in moderate to severe heart failure (NYHA Class III/IV; left ventricular ejection fraction ≤35%), 150 patients were randomized to receive treatment with 3 infusions of Remicade 10 mg/kg, 5 mg/kg, or placebo, at 0, 2, and 6 weeks. Higher incidences of mortality and hospitalization due to worsening heart failure were observed in patients receiving the 10 mg/kg Remicade dose. At 1 year, 8 patients in the 10 mg/kg Remicade group had died compared with 4 deaths each in the 5 mg/kg Remicade and the placebo groups. There were trends toward increased dyspnea, hypotension, angina, and dizziness in both the 10 mg/kg and 5 mg/kg Remicade treatment groups, versus placebo. Remicade has not been studied in patients with mild heart failure (NYHA Class I/II)  [see Contraindications (4) and Warnings and Precautions (5.5) ] .  Immunogenicity Treatment with Remicade can be associated with the development of antibodies to infliximab. An enzyme immunoassay (EIA) method was originally used to measure anti-infliximab antibodies in clinical studies of Remicade. The EIA method is subject to interference by serum infliximab, possibly resulting in an underestimation of the rate of patient antibody formation. A separate, drug-tolerant electrochemiluminescence immunoassay (ECLIA) method for detecting antibodies to infliximab was subsequently developed and validated. This method is 60-fold more sensitive than the original EIA. With the ECLIA method, all clinical samples can be classified as either positive or negative for antibodies to infliximab without the need for the inconclusive category. The incidence of antibodies to infliximab was based on the original EIA method in all clinical studies of Remicade except for the Phase 3 study in pediatric patients with ulcerative colitis where the incidence of antibodies to infliximab was detected using both the EIA and ECLIA methods  [see Adverse Reactions, Pediatric Ulcerative Colitis (6.1) ] . The incidence of antibodies to infliximab in patients given a 3-dose induction regimen followed by maintenance dosing was approximately 10% as assessed through 1 to 2 years of Remicade treatment. A higher incidence of antibodies to infliximab was observed in Crohn\\'s disease patients receiving Remicade after drug-free intervals >16 weeks. In a study of psoriatic arthritis in which 191 patients received 5 mg/kg with or without MTX, antibodies to infliximab occurred in 15% of patients. The majority of antibody-positive patients had low titers. Patients who were antibody-positive were more likely to have higher rates of clearance, reduced efficacy and to experience an infusion reaction  [see Adverse Reactions (6.1) ] than were patients who were antibody negative. Antibody development was lower among rheumatoid arthritis and Crohn\\'s disease patients receiving immunosuppressant therapies such as 6-MP/AZA or MTX. In the psoriasis Study II, which included both the 5 mg/kg and 3 mg/kg doses, antibodies were observed in 36% of patients treated with 5 mg/kg every 8 weeks for 1 year, and in 51% of patients treated with 3 mg/kg every 8 weeks for 1 year. In the psoriasis Study III, which also included both the 5 mg/kg and 3 mg/kg doses, antibodies were observed in 20% of patients treated with 5 mg/kg induction (weeks 0, 2 and 6), and in 27% of patients treated with 3 mg/kg induction. Despite the increase in antibody formation, the infusion reaction rates in Studies I and II in patients treated with 5 mg/kg induction followed by every 8 week maintenance for 1 year and in Study III in patients treated with 5 mg/kg induction (14.1%–23.0%) and serious infusion reaction rates (<1%) were similar to those observed in other study populations. The clinical significance of apparent increased immunogenicity on efficacy and infusion reactions in psoriasis patients as compared to patients with other diseases treated with Remicade over the long term is not known. The data reflect the percentage of patients whose test results were positive for antibodies to infliximab in an immunoassay, and they are highly dependent on the sensitivity and specificity of the assay. Additionally, the observed incidence of antibody positivity in an assay may be influenced by several factors including sample handling, timing of sample collection, concomitant medication, and underlying disease. For these reasons, comparison of the incidence of antibodies to infliximab with the incidence of antibodies to other products may be misleading.  Hepatotoxicity Severe liver injury, including acute liver failure and autoimmune hepatitis, has been reported in patients receiving Remicade  [see Warnings and Precautions (5.4) ] . Reactivation of hepatitis B virus has occurred in patients receiving TNF-blocking agents, including Remicade, who are chronic carriers of this virus  [see Warnings and Precautions (5.3) ] . In clinical trials in rheumatoid arthritis, Crohn\\'s disease, ulcerative colitis, ankylosing spondylitis, plaque psoriasis, and psoriatic arthritis, elevations of aminotransferases were observed (ALT more common than AST) in a greater proportion of patients receiving Remicade than in controls (Table 1), both when Remicade was given as monotherapy and when it was used in combination with other immunosuppressive agents. In general, patients who developed ALT and AST elevations were asymptomatic, and the abnormalities decreased or resolved with either continuation or discontinuation of Remicade, or modification of concomitant medications. Table 1: Proportion of patients with elevated ALT in clinical trials  Proportion of patients with elevated ALT >1 to <3 × ULN ≥3 × ULN ≥5 × ULN Placebo Remicade Placebo Remicade Placebo Remicade * Placebo patients received methotrexate while Remicade patients received both Remicade and methotrexate. Median follow-up was 58 weeks.  † Placebo patients in the 2 Phase 3 trials in Crohn\\'s disease received an initial dose of 5 mg/kg Remicade at study start and were on placebo in the maintenance phase. Patients who were randomized to the placebo maintenance group and then later crossed over to Remicade are included in the Remicade group in ALT analysis. Median follow-up was 54 weeks.  ‡ Median follow-up was 30 weeks. Specifically, the median duration of follow-up was 30 weeks for placebo and 31 weeks for Remicade.  § Median follow-up was 24 weeks for the placebo group and 102 weeks for the Remicade group.  ¶ Median follow-up was 39 weeks for the Remicade group and 18 weeks for the placebo group.  # ALT values are obtained in 2 Phase 3 psoriasis studies with median follow-up of 50 weeks for Remicade and 16 weeks for placebo.  Rheumatoid arthritis * 24% 34% 3% 4% <1% <1% Crohn\\'s disease † 34% 39% 4% 5% 0% 2% Ulcerative colitis ‡ 12% 17% 1% 2% <1% <1% Ankylosing spondylitis § 15% 51% 0% 10% 0% 4% Psoriatic arthritis ¶ 16% 50% 0% 7% 0% 2% Plaque psoriasis # 24% 49% <1% 8% 0% 3% Adverse Reactions in Psoriasis Studies During the placebo-controlled portion across the 3 clinical trials up to Week 16, the proportion of patients who experienced at least 1 serious adverse reaction (SAE; defined as resulting in death, life threatening, requires hospitalization, or persistent or significant disability/incapacity) was 0.5% in the 3 mg/kg Remicade group, 1.9% in the placebo group, and 1.6% in the 5 mg/kg Remicade group. Among patients in the 2 Phase 3 studies, 12.4% of patients receiving Remicade 5 mg/kg every 8 weeks through 1 year of maintenance treatment experienced at least 1 SAE in Study I. In Study II, 4.1% and 4.7% of patients receiving Remicade 3 mg/kg and 5 mg/kg every 8 weeks, respectively, through 1 year of maintenance treatment experienced at least 1 SAE. One death due to bacterial sepsis occurred 25 days after the second infusion of 5 mg/kg Remicade. Serious infections included sepsis, and abscesses. In Study I, 2.7% of patients receiving Remicade 5 mg/kg every 8 weeks through 1 year of maintenance treatment experienced at least 1 serious infection. In Study II, 1.0% and 1.3% of patients receiving Remicade 3 mg/kg and 5 mg/kg, respectively, through 1 year of treatment experienced at least 1 serious infection. The most common serious infection (requiring hospitalization) was abscess (skin, throat, and peri-rectal) reported by 5 (0.7%) patients in the 5 mg/kg Remicade group. Two active cases of tuberculosis were reported: 6 weeks and 34 weeks after starting Remicade. In the placebo-controlled portion of the psoriasis studies, 7 of 1123 patients who received Remicade at any dose were diagnosed with at least one NMSC compared to 0 of 334 patients who received placebo. In the psoriasis studies, 1% (15/1373) of patients experienced serum sickness or a combination of arthralgia and/or myalgia with fever, and/or rash, usually early in the treatment course. Of these patients, 6 required hospitalization due to fever, severe myalgia, arthralgia, swollen joints, and immobility.  Other Adverse Reactions Safety data are available from 4779 Remicade-treated adult patients, including 1304 with rheumatoid arthritis, 1106 with Crohn\\'s disease, 484 with ulcerative colitis, 202 with ankylosing spondylitis, 293 with psoriatic arthritis, 1373 with plaque psoriasis and 17 with other conditions. [For information on other adverse reactions in pediatric patients,  see Adverse Reactions (6.1) ]. Adverse reactions reported in ≥5% of all patients with rheumatoid arthritis receiving 4 or more infusions are in Table 2. The types and frequencies of adverse reactions observed were similar in Remicade-treated rheumatoid arthritis, ankylosing spondylitis, psoriatic arthritis, plaque psoriasis and Crohn\\'s disease patients except for abdominal pain, which occurred in 26% of Remicade-treated patients with Crohn\\'s disease. In the Crohn\\'s disease studies, there were insufficient numbers and duration of follow-up for patients who never received Remicade to provide meaningful comparisons. Table 2: Adverse reactions occurring in 5% or more of patients receiving 4 or more infusions for rheumatoid arthritis  Placebo Remicade (n=350) (n=1129) Average weeks of follow-up  59 66 Gastrointestinal  Nausea 20% 21% Abdominal pain 8% 12% Diarrhea 12% 12% Dyspepsia 7% 10% Respiratory  Upper respiratory tract infection 25% 32% Sinusitis 8% 14% Pharyngitis 8% 12% Coughing 8% 12% Bronchitis 9% 10% Skin and appendages disorders  Rash 5% 10% Pruritus 2% 7% Body as a whole-general disorders  Fatigue 7% 9% Pain 7% 8% Resistance mechanism disorders  Fever 4% 7% Moniliasis 3% 5% Central and peripheral nervous system disorders  Headache 14% 18% Musculoskeletal system disorders  Arthralgia 7% 8% Urinary system disorders  Urinary tract infection 6% 8% Cardiovascular disorders, general  Hypertension 5% 7% The most common serious adverse reactions observed in clinical trials were infections  [see Adverse Reactions (6.1) ] . Other serious, medically relevant adverse reactions ≥0.2% or clinically significant adverse reactions by body system were as follows:  Body as a whole : allergic reaction, edema Blood : pancytopenia Cardiovascular : hypotension Gastrointestinal : constipation, intestinal obstruction Central and Peripheral Nervous : dizziness Heart Rate and Rhythm : bradycardia Liver and Biliary : hepatitis Metabolic and Nutritional : dehydration Platelet, Bleeding and Clotting : thrombocytopenia Neoplasms : lymphoma Red Blood Cell : anemia, hemolytic anemia Resistance Mechanism : cellulitis, sepsis, serum sickness, sarcoidosis Respiratory : lower respiratory tract infection (including pneumonia), pleurisy, pulmonary edema Skin and Appendages : increased sweating Vascular (Extracardiac) : thrombophlebitis White Cell and Reticuloendothelial : leukopenia, lymphadenopathy Adverse Reactions in Pediatric Patients Pediatric Crohn\\'s Disease There were some differences in the adverse reactions observed in the pediatric patients receiving Remicade compared to those observed in adults with Crohn\\'s disease. These differences are discussed in the following paragraphs. The following adverse reactions were reported more commonly in 103 randomized pediatric Crohn\\'s disease patients administered 5 mg/kg Remicade through 54 weeks than in 385 adult Crohn\\'s disease patients receiving a similar treatment regimen: anemia (11%), leukopenia (9%), flushing (9%), viral infection (8%), neutropenia (7%), bone fracture (7%), bacterial infection (6%), and respiratory tract allergic reaction (6%). Infections were reported in 56% of randomized pediatric patients in Study Peds Crohn\\'s and in 50% of adult patients in Study Crohn\\'s I. In Study Peds Crohn\\'s, infections were reported more frequently for patients who received every 8-week as opposed to every 12-week infusions (74% and 38%, respectively), while serious infections were reported for 3 patients in the every 8-week and 4 patients in the every 12-week maintenance treatment group. The most commonly reported infections were upper respiratory tract infection and pharyngitis, and the most commonly reported serious infection was abscess. Pneumonia was reported for 3 patients, (2 in the every 8-week and 1 in the every 12-week maintenance treatment groups). Herpes zoster was reported for 2 patients in the every 8-week maintenance treatment group. In Study Peds Crohn\\'s, 18% of randomized patients experienced 1 or more infusion reactions, with no notable difference between treatment groups. Of the 112 patients in Study Peds Crohn\\'s, there were no serious infusion reactions, and 2 patients had non-serious anaphylactoid reactions. In Study Peds Crohn\\'s, in which all patients received stable doses of 6-MP, AZA, or MTX, excluding inconclusive samples, 3 of 24 patients had antibodies to infliximab. Although 105 patients were tested for antibodies to infliximab, 81 patients were classified as inconclusive because they could not be ruled as negative due to assay interference by the presence of infliximab in the sample. Elevations of ALT up to 3 times the upper limit of normal (ULN) were seen in 18% of pediatric patients in Crohn\\'s disease clinical trials; 4% had ALT elevations ≥3 × ULN, and 1% had elevations ≥5 × ULN. (Median follow-up was 53 weeks.)  Pediatric Ulcerative Colitis Overall, the adverse reactions reported in the pediatric ulcerative colitis trial and adult ulcerative colitis (Study UC I and Study UC II) studies were generally consistent. In a pediatric UC trial, the most common adverse reactions were upper respiratory tract infection, pharyngitis, abdominal pain, fever, and headache. Infections were reported in 31 (52%) of 60 treated patients in the pediatric UC trial and 22 (37%) required oral or parenteral antimicrobial treatment. The proportion of patients with infections in the pediatric UC trial was similar to that in the pediatric Crohn\\'s disease study (Study Peds Crohn\\'s) but higher than the proportion in the adults\\' ulcerative colitis studies (Study UC I and Study UC II). The overall incidence of infections in the pediatric UC trial was 13/22 (59%) in the every 8 week maintenance treatment group. Upper respiratory tract infection (7/60 [12%]) and pharyngitis (5/60 [8%]) were the most frequently reported respiratory system infections. Serious infections were reported in 12% (7/60) of all treated patients. In the pediatric UC trial, 58 patients were evaluated for antibodies to infliximab using the EIA as well as the drug-tolerant ECLIA. With the EIA, 4 of 58 (7%) patients had antibodies to infliximab. With the ECLIA, 30 of 58 (52%) patients had antibodies to infliximab  [see Adverse Reactions, Immunogenicity (6.1) ] . The higher incidence of antibodies to infliximab by the ECLIA method was due to the 60-fold higher sensitivity compared to the EIA method. While EIA-positive patients generally had undetectable trough infliximab concentrations, ECLIA-positive patients could have detectable trough concentrations of infliximab because the ECLIA assay is more sensitive and drug-tolerant. Elevations of ALT up to 3 times the upper limit of normal (ULN) were seen in 17% (10/60) of pediatric patients in the pediatric UC trial; 7% (4/60) had ALT elevations ≥3 × ULN, and 2% (1/60) had elevations ≥5 × ULN (median follow-up was 49 weeks). Overall, 8 of 60 (13%) treated patients experienced one or more infusion reactions, including 4 of 22 (18%) patients in the every 8-week treatment maintenance group. No serious infusion reactions were reported. In the pediatric UC trial, 45 patients were in the 12 to 17 year age group and 15 in the 6 to 11 year age group. The numbers of patients in each subgroup are too small to make any definitive conclusions about the effect of age on safety events. There were higher proportions of patients with serious adverse events (40% vs. 18%) and discontinuation due to adverse events (40% vs. 16%) in the younger age group than in the older age group. While the proportion of patients with infections was also higher in the younger age group (60% vs. 49%), for serious infections, the proportions were similar in the two age groups (13% in the 6 to 11 year age group vs. 11% in the 12 to 17 year age group). Overall proportions of adverse reactions, including infusion reactions, were similar between the 6 to 11 and 12 to 17 year age groups (13%).  Postmarketing Experience Adverse reactions have been identified during post approval use of Remicade in adult and pediatric patients. Because these reactions are reported voluntarily from a population of uncertain size, it is not always possible to reliably estimate their frequency or establish a causal relationship to drug exposure. The following adverse reactions, some with fatal outcome, have been reported during post-approval use of Remicade: neutropenia  [see Warnings and Precautions (5.6) ] , agranulocytosis (including infants exposed  in utero to infliximab), interstitial lung disease (including pulmonary fibrosis/interstitial pneumonitis and rapidly progressive disease), idiopathic thrombocytopenic purpura, thrombotic thrombocytopenic purpura, pericardial effusion, systemic and cutaneous vasculitis, erythema multiforme, Stevens-Johnson Syndrome, toxic epidermal necrolysis, peripheral demyelinating disorders (such as Guillain-Barré syndrome, chronic inflammatory demyelinating polyneuropathy, and multifocal motor neuropathy), new onset and worsening psoriasis (all subtypes including pustular, primarily palmoplantar), transverse myelitis, and neuropathies (additional neurologic reactions have also been observed)  [see Warnings and Precautions (5.9) ] , acute liver failure, jaundice, hepatitis, and cholestasis  [see Warnings and Precautions (5.4) ] , serious infections  [see Warnings and Precautions (5.1) ] , malignancies, including leukemia, melanoma, Merkel cell carcinoma, and cervical cancer  [see Warnings and Precautions (5.2) ] and vaccine breakthrough infection including bovine tuberculosis (disseminated BCG infection) following vaccination in an infant exposed  in utero to infliximab  [see Warnings and Precautions (5.15) ] .  Infusion-related Reactions In post-marketing experience, cases of anaphylactic reactions, including anaphylactic shock, laryngeal/pharyngeal edema and severe bronchospasm, and seizure have been associated with Remicade administration. Cases of transient visual loss have been reported in association with Remicade during or within 2 hours of infusion. Cerebrovascular accidents, myocardial ischemia/infarction (some fatal), and arrhythmia occurring within 24 hours of initiation of infusion have also been reported  [see Warnings and Precautions (5.8) ] .  Adverse Reactions in Pediatric Patients The following serious adverse reactions have been reported in the post-marketing experience in children: infections (some fatal) including opportunistic infections and tuberculosis, infusion reactions, and hypersensitivity reactions. Serious adverse reactions in the post-marketing experience with Remicade in the pediatric population have also included malignancies, including hepatosplenic T-cell lymphomas  [see Boxed Warning and Warnings and Precautions (5.2) ] , transient hepatic enzyme abnormalities, lupus-like syndromes, and the development of autoantibodies.  Drug Interactions Use with Anakinra or Abatacept An increased risk of serious infections was seen in clinical studies of other TNFα-blocking agents used in combination with anakinra or abatacept, with no added clinical benefit. Because of the nature of the adverse reactions seen with these combinations with TNF-blocker therapy, similar toxicities may also result from the combination of anakinra or abatacept with other TNFα-blocking agents. Therefore, the combination of Remicade and anakinra or abatacept is not recommended  [see Warnings and Precautions (5.10 and 5.11) ] .  Use with Tocilizumab The use of tocilizumab in combination with biological DMARDs such as TNF antagonists, including Remicade, should be avoided because of the possibility of increased immunosuppression and increased risk of infection.  Use with Other Biological Therapeutics The combination of Remicade with other biological therapeutics used to treat the same conditions as Remicade is not recommended  [see Warnings and Precautions (5.12) ] .  Methotrexate (MTX) and Other Concomitant Medications Specific drug interaction studies, including interactions with MTX, have not been conducted. The majority of patients in rheumatoid arthritis or Crohn\\'s disease clinical studies received one or more concomitant medications. In rheumatoid arthritis, concomitant medications besides MTX were nonsteroidal anti-inflammatory agents (NSAIDs), folic acid, corticosteroids and/or narcotics. Concomitant Crohn\\'s disease medications were antibiotics, antivirals, corticosteroids, 6-MP/AZA and aminosalicylates. In psoriatic arthritis clinical trials, concomitant medications included MTX in approximately half of the patients as well as NSAIDs, folic acid and corticosteroids. Concomitant MTX use may decrease the incidence of anti-infliximab antibody production and increase infliximab concentrations.  Immunosuppressants Patients with Crohn\\'s disease who received immunosuppressants tended to experience fewer infusion reactions compared to patients on no immunosuppressants  [see Adverse Reactions (6.1) ] . Serum infliximab concentrations appeared to be unaffected by baseline use of medications for the treatment of Crohn\\'s disease including corticosteroids, antibiotics (metronidazole or ciprofloxacin) and aminosalicylates.  Cytochrome P450 Substrates The formation of CYP450 enzymes may be suppressed by increased levels of cytokines (e.g., TNFα, IL-1, IL-6, IL-10, IFN) during chronic inflammation. Therefore, it is expected that for a molecule that antagonizes cytokine activity, such as infliximab, the formation of CYP450 enzymes could be normalized. Upon initiation or discontinuation of Remicade in patients being treated with CYP450 substrates with a narrow therapeutic index, monitoring of the effect (e.g., warfarin) or drug concentration (e.g., cyclosporine or theophylline) is recommended and the individual dose of the drug product may be adjusted as needed.  Live Vaccines/Therapeutic Infectious Agents It is recommended that live vaccines not be given concurrently with Remicade. It is also recommended that live vaccines not be given to infants after  in utero exposure to infliximab for at least 6 months following birth  [see Warnings and Precautions (5.15) ] . It is recommended that therapeutic infectious agents not be given concurrently with Remicade  [see Warnings and Precautions (5.15) ] .  USE IN SPECIFIC POPULATIONS Pregnancy Pregnancy Category B . It is not known whether Remicade can cause fetal harm when administered to a pregnant woman or can affect reproduction capacity. Remicade should be given to a pregnant woman only if clearly needed. Because infliximab does not cross-react with TNFα in species other than humans and chimpanzees, animal reproduction studies have not been conducted with Remicade. No evidence of maternal toxicity, embryotoxicity or teratogenicity was observed in a developmental toxicity study conducted in mice using an analogous antibody that selectively inhibits the functional activity of mouse TNFα. Doses of 10 to 15 mg/kg in pharmacodynamic animal models with the anti-TNF analogous antibody produced maximal pharmacologic effectiveness. Doses up to 40 mg/kg were shown to produce no adverse effects in animal reproduction studies. As with other IgG antibodies, infliximab crosses the placenta. Infliximab has been detected in the serum of infants up to 6 months following birth. Consequently, these infants may be at increased risk of infection, including disseminated infection which can become fatal. At least a six month waiting period following birth is recommended before the administration of live vaccines (e.g., BCG vaccine or other live vaccines, such as the rotavirus vaccine) to these infants  [see Warnings and Precautions (5.15) ] . Cases of agranulocytosis in infants exposed  in utero have also been reported  [see Adverse Reactions (6.2) ] .  Nursing Mothers It is not known whether Remicade is excreted in human milk or absorbed systemically after ingestion. Because many drugs and immunoglobulins are excreted in human milk, and because of the potential for adverse reactions in nursing infants from Remicade, women should not breastfeed their infants while taking Remicade. A decision should be made whether to discontinue nursing or to discontinue the drug, taking into account the importance of the drug to the mother.  Pediatric Use The safety and effectiveness of Remicade have been established in pediatric patients 6 to 17 years of age for induction and maintenance treatment of Crohn\\'s disease or ulcerative colitis. However, Remicade has not been studied in children with Crohn\\'s disease or ulcerative colitis <6 years of age.  Pediatric Crohn\\'s Disease Remicade is indicated for reducing signs and symptoms and inducing and maintaining clinical remission in pediatric patients with moderately to severely active Crohn\\'s disease who have had an inadequate response to conventional therapy  [see Boxed Warning , Warnings and Precautions (5) , Indications and Usage (1.2) , Dosage and Administration (2.2) , Clinical Studies (14.2) and Adverse Reactions (6.1) ] . Remicade has been studied only in combination with conventional immunosuppressive therapy in pediatric Crohn\\'s disease. The longer term (greater than 1 year) safety and effectiveness of Remicade in pediatric Crohn\\'s disease patients have not been established in clinical trials.  Pediatric Ulcerative Colitis The safety and effectiveness of Remicade for reducing signs and symptoms and inducing and maintaining clinical remission in pediatric patients aged 6 years and older with moderately to severely active ulcerative colitis who have had an inadequate response to conventional therapy are supported by evidence from adequate and well-controlled studies of Remicade in adults. Additional safety and pharmacokinetic data were collected in 60 pediatric patients aged 6 years and older  [see Clinical Pharmacology (12.3) , Dosage and Administration (2.4) , Adverse Reactions (6.1) , and Clinical Studies (14.4) ] . The effectiveness of Remicade in inducing and maintaining mucosal healing could not be established. Although 41 patients had a Mayo endoscopy subscore of 0 or 1 at the Week 8 endoscopy, the induction phase was open-label and lacked a control group. Only 9 patients had an optional endoscopy at Week 54. In the pediatric UC trial, approximately half of the patients were on concomitant immunomodulators (AZA, 6-MP, MTX) at study start. Due to the risk of HSTCL, a careful risk-benefit assessment should be made when Remicade is used in combination with other immunosuppressants. The longer term (greater than 1 year) safety and effectiveness of Remicade in pediatric ulcerative colitis patients have not been established in clinical trials.  Juvenile Rheumatoid Arthritis (JRA) The safety and efficacy of Remicade in patients with juvenile rheumatoid arthritis (JRA) were evaluated in a multicenter, randomized, placebo-controlled, double-blind study for 14 weeks, followed by a double-blind, all-active treatment extension, for a maximum of 44 weeks. Patients with active JRA between the ages of 4 and 17 years who had been treated with MTX for at least 3 months were enrolled. Concurrent use of folic acid, oral corticosteroids (≤0.2 mg/kg/day of prednisone or equivalent), NSAIDs, and/or disease modifying antirheumatic drugs (DMARDs) was permitted. Doses of 3 mg/kg Remicade or placebo were administered intravenously at Weeks 0, 2 and 6. Patients randomized to placebo crossed-over to receive 6 mg/kg Remicade at Weeks 14, 16, and 20, and then every 8 weeks through Week 44. Patients who completed the study continued to receive open-label treatment with Remicade for up to 2 years in a companion extension study. The study failed to establish the efficacy of Remicade in the treatment of JRA. Key observations in the study included a high placebo response rate and a higher rate of immunogenicity than what has been observed in adults. Additionally, a higher rate of clearance of infliximab was observed than had been observed in adults  [see Clinical Pharmacology (12.3) ] . A total of 60 patients with JRA were treated with doses of 3 mg/kg and 57 patients were treated with doses of 6 mg/kg. The proportion of patients with infusion reactions who received 3 mg/kg Remicade was 35% (21/60) over 52 weeks compared with 18% (10/57) in patients who received 6 mg/kg over 38 weeks. The most common infusion reactions reported were vomiting, fever, headache, and hypotension. In the 3 mg/kg Remicade group, 4 patients had a serious infusion reaction and 3 patients reported a possible anaphylactic reaction (2 of which were among the serious infusion reactions). In the 6 mg/kg Remicade group, 2 patients had a serious infusion reaction, 1 of whom had a possible anaphylactic reaction. Two of the 6 patients who experienced serious infusion reactions received Remicade by rapid infusion (duration of less than 2 hours). Antibodies to infliximab developed in 38% (20/53) of patients who received 3 mg/kg Remicade compared with 12% (6/49) of patients who received 6 mg/kg. A total of 68% (41/60) of patients who received 3 mg/kg Remicade in combination with MTX experienced an infection over 52 weeks compared with 65% (37/57) of patients who received 6 mg/kg Remicade in combination with MTX over 38 weeks. The most commonly reported infections were upper respiratory tract infection and pharyngitis, and the most commonly reported serious infection was pneumonia. Other notable infections included primary varicella infection in 1 patient and herpes zoster in 1 patient.  Geriatric Use In rheumatoid arthritis and plaque psoriasis clinical trials, no overall differences were observed in effectiveness or safety in 181 patients with rheumatoid arthritis and 75 patients with plaque psoriasis, aged 65 or older who received Remicade, compared to younger patients-although the incidence of serious adverse reactions in patients aged 65 or older was higher in both Remicade and control groups compared to younger patients. In Crohn\\'s disease, ulcerative colitis, ankylosing spondylitis and psoriatic arthritis studies, there were insufficient numbers of patients aged 65 and over to determine whether they respond differently from patients aged 18 to 65. There is a greater incidence of infections in the elderly population in general. The incidence of serious infections in Remicade-treated patients 65 years and older was greater than in those under 65 years of age; therefore caution should be used in treating the elderly  [see Adverse Reactions (6.1) ] .  Overdosage Single doses up to 20 mg/kg have been administered without any direct toxic effect. In case of overdosage, it is recommended that the patient be monitored for any signs or symptoms of adverse reactions or effects and appropriate symptomatic treatment instituted immediately.  Remicade Description Infliximab, the active ingredient in Remicade, is a chimeric IgG1κ monoclonal antibody (composed of human constant and murine variable regions) specific for human tumor necrosis factor-alpha (TNFα). It has a molecular weight of approximately 149.1 kilodaltons. Infliximab is produced by a recombinant cell line cultured by continuous perfusion and is purified by a series of steps that includes measures to inactivate and remove viruses. Remicade is supplied as a sterile, white, lyophilized powder for intravenous infusion. Following reconstitution with 10 mL of Sterile Water for Injection, USP, the resulting pH is approximately 7.2. Each single-dose vial contains 100 mg infliximab, dibasic sodium phosphate, dihydrate (6.1 mg), monobasic sodium phosphate, monohydrate (2.2 mg), polysorbate 80 (0.5 mg), and sucrose (500 mg). No preservatives are present.  Remicade - Clinical Pharmacology Mechanism of Action Infliximab neutralizes the biological activity of TNFα by binding with high affinity to the soluble and transmembrane forms of TNFα and inhibits binding of TNFα with its receptors. Infliximab does not neutralize TNFβ (lymphotoxin-α), a related cytokine that utilizes the same receptors as TNFα. Biological activities attributed to TNFα include: induction of pro-inflammatory cytokines such as interleukins (IL) 1 and 6, enhancement of leukocyte migration by increasing endothelial layer permeability and expression of adhesion molecules by endothelial cells and leukocytes, activation of neutrophil and eosinophil functional activity, induction of acute phase reactants and other liver proteins, as well as tissue degrading enzymes produced by synoviocytes and/or chondrocytes. Cells expressing transmembrane TNFα bound by infliximab can be lysed  in vitro or  in vivo . Infliximab inhibits the functional activity of TNFα in a wide variety of  in vitro bioassays utilizing human fibroblasts, endothelial cells, neutrophils, B and T-lymphocytes and epithelial cells. The relationship of these biological response markers to the mechanism(s) by which Remicade exerts its clinical effects is unknown. Anti-TNFα antibodies reduce disease activity in the cotton-top tamarin colitis model, and decrease synovitis and joint erosions in a murine model of collagen-induced arthritis. Infliximab prevents disease in transgenic mice that develop polyarthritis as a result of constitutive expression of human TNFα, and when administered after disease onset, allows eroded joints to heal.  Pharmacodynamics Elevated concentrations of TNFα have been found in involved tissues and fluids of patients with rheumatoid arthritis, Crohn\\'s disease, ulcerative colitis, ankylosing spondylitis, psoriatic arthritis and plaque psoriasis. In rheumatoid arthritis, treatment with Remicade reduced infiltration of inflammatory cells into inflamed areas of the joint as well as expression of molecules mediating cellular adhesion [E-selectin, intercellular adhesion molecule-1 (ICAM-1) and vascular cell adhesion molecule-1 (VCAM-1)], chemoattraction [IL-8 and monocyte chemotactic protein (MCP-1)] and tissue degradation [matrix metalloproteinase (MMP) 1 and 3]. In Crohn\\'s disease, treatment with Remicade reduced infiltration of inflammatory cells and TNFα production in inflamed areas of the intestine, and reduced the proportion of mononuclear cells from the lamina propria able to express TNFα and interferon. After treatment with Remicade, patients with rheumatoid arthritis or Crohn\\'s disease exhibited decreased levels of serum IL-6 and C-reactive protein (CRP) compared to baseline. Peripheral blood lymphocytes from Remicade-treated patients showed no significant decrease in number or in proliferative responses to  in vitro mitogenic stimulation when compared to cells from untreated patients. In psoriatic arthritis, treatment with Remicade resulted in a reduction in the number of T-cells and blood vessels in the synovium and psoriatic skin lesions as well as a reduction of macrophages in the synovium. In plaque psoriasis, Remicade treatment may reduce the epidermal thickness and infiltration of inflammatory cells. The relationship between these pharmacodynamic activities and the mechanism(s) by which Remicade exerts its clinical effects is unknown.  Pharmacokinetics In adults, single intravenous (IV) infusions of 3 mg/kg to 20 mg/kg showed a linear relationship between the dose administered and the maximum serum concentration. The volume of distribution at steady state was independent of dose and indicated that infliximab was distributed primarily within the vascular compartment. Pharmacokinetic results for single doses of 3 mg/kg to 10 mg/kg in rheumatoid arthritis, 5 mg/kg in Crohn\\'s disease, and 3 mg/kg to 5 mg/kg in plaque psoriasis indicate that the median terminal half-life of infliximab is 7.7 to 9.5 days. Following an initial dose of Remicade, repeated infusions at 2 and 6 weeks resulted in predictable concentration-time profiles following each treatment. No systemic accumulation of infliximab occurred upon continued repeated treatment with 3 mg/kg or 10 mg/kg at 4- or 8-week intervals. Development of antibodies to infliximab increased infliximab clearance. At 8 weeks after a maintenance dose of 3 to 10 mg/kg of Remicade, median infliximab serum concentrations ranged from approximately 0.5 to 6 mcg/mL; however, infliximab concentrations were not detectable (<0.1 mcg/mL) in patients who became positive for antibodies to infliximab. No major differences in clearance or volume of distribution were observed in patient subgroups defined by age, weight, or gender. It is not known if there are differences in clearance or volume of distribution in patients with marked impairment of hepatic or renal function. Infliximab pharmacokinetic characteristics (including peak and trough concentrations and terminal half-life) were similar in pediatric (aged 6 to 17 years) and adult patients with Crohn\\'s disease or ulcerative colitis following the administration of 5 mg/kg infliximab. Population pharmacokinetic analysis showed that in children with juvenile rheumatoid arthritis (JRA) with a body weight of up to 35 kg receiving 6 mg/kg Remicade and children with JRA with body weight greater than 35 kg up to adult body weight receiving 3 mg/kg Remicade, the steady state area under the concentration curve (AUC  ss ) was similar to that observed in adults receiving 3 mg/kg of Remicade.  Nonclinical Toxicology Carcinogenesis, Mutagenesis, Impairment of Fertility The significance of the results of nonclinical studies for human risk is unknown. A repeat dose toxicity study was conducted with mice given cV1q anti-mouse TNFα to evaluate tumorigenicity. CV1q is an analogous antibody that inhibits the function of TNFα in mice. Animals were assigned to 1 of 3 dose groups: control, 10 mg/kg or 40 mg/kg cV1q given weekly for 6 months. The weekly doses of 10 mg/kg and 40 mg/kg are 2 and 8 times, respectively, the human dose of 5 mg/kg for Crohn\\'s disease. Results indicated that cV1q did not cause tumorigenicity in mice. No clastogenic or mutagenic effects of infliximab were observed in the  in vivo mouse micronucleus test or the  Salmonella-Escherichia coli (Ames) assay, respectively. Chromosomal aberrations were not observed in an assay performed using human lymphocytes. It is not known whether infliximab can impair fertility in humans. No impairment of fertility was observed in a fertility and general reproduction toxicity study with the analogous mouse antibody used in the 6-month chronic toxicity study.  Clinical Studies Crohn\\'s Disease Active Crohn\\'s Disease The safety and efficacy of single and multiple doses of Remicade were assessed in 2 randomized, double-blind, placebo-controlled clinical studies in 653 patients with moderate to severely active Crohn\\'s disease [Crohn\\'s Disease Activity Index (CDAI) ≥220 and ≤400] with an inadequate response to prior conventional therapies. Concomitant stable doses of aminosalicylates, corticosteroids and/or immunomodulatory agents were permitted and 92% of patients continued to receive at least one of these medications. In the single-dose trial of 108 patients, 16% (4/25) of placebo patients achieved a clinical response (decrease in CDAI ≥70 points) at Week 4 vs. 81% (22/27) of patients receiving 5 mg/kg Remicade (p<0.001, two-sided, Fisher\\'s Exact test). Additionally, 4% (1/25) of placebo patients and 48% (13/27) of patients receiving 5 mg/kg Remicade achieved clinical remission (CDAI<150) at Week 4. In a multidose trial (ACCENT I [Study Crohn\\'s I]), 545 patients received 5 mg/kg at Week 0 and were then randomized to one of three treatment groups; the placebo maintenance group received placebo at Weeks 2 and 6, and then every 8 weeks; the 5 mg/kg maintenance group received 5 mg/kg at Weeks 2 and 6, and then every 8 weeks; and the 10 mg/kg maintenance group received 5 mg/kg at Weeks 2 and 6, and then 10 mg/kg every 8 weeks. Patients in response at Week 2 were randomized and analyzed separately from those not in response at Week 2. Corticosteroid taper was permitted after Week 6. At Week 2, 57% (311/545) of patients were in clinical response. At Week 30, a significantly greater proportion of these patients in the 5 mg/kg and 10 mg/kg maintenance groups achieved clinical remission compared to patients in the placebo maintenance group (Table 3). Additionally, a significantly greater proportion of patients in the 5 mg/kg and 10 mg/kg Remicade maintenance groups were in clinical remission and were able to discontinue corticosteroid use compared to patients in the placebo maintenance group at Week 54 (Table 3). Table 3: Clinical remission and steroid withdrawal  Single 5-mg/kg Dose * Three-Dose Induction † Placebo Maintenance Remicade Maintenance q8 wks 5 mg/kg 10 mg/kg * Remicade at Week 0  † Remicade 5 mg/kg administered at Weeks 0, 2 and 6  ‡ P -values represent pairwise comparisons to placebo  § Of those receiving corticosteroids at baseline Week 30  25/102 41/104 48/105 Clinical remission 25% 39% 46% P -value ‡ 0.022 0.001 Week 54  6/54 14/56 18/53 Patients in remission able to discontinue corticosteroid use § 11% 25% 34% P -value ‡ 0.059 0.005 Patients in the Remicade maintenance groups (5 mg/kg and 10 mg/kg) had a longer time to loss of response than patients in the placebo maintenance group (Figure 1). At Weeks 30 and 54, significant improvement from baseline was seen among the 5 mg/kg and 10 mg/kg Remicade-treated groups compared to the placebo group in the disease-specific inflammatory bowel disease questionnaire (IBDQ), particularly the bowel and systemic components, and in the physical component summary score of the general health-related quality of life questionnaire SF-36. Figure 1: Kaplan-Meier estimate of the proportion of patients who had not lost response through Week 54   In a subset of 78 patients who had mucosal ulceration at baseline and who participated in an endoscopic substudy, 13 of 43 patients in the Remicade maintenance group had endoscopic evidence of mucosal healing compared to 1 of 28 patients in the placebo group at Week 10. Of the Remicade-treated patients showing mucosal healing at Week 10, 9 of 12 patients also showed mucosal healing at Week 54. Patients who achieved a response and subsequently lost response were eligible to receive Remicade on an episodic basis at a dose that was 5 mg/kg higher than the dose to which they were randomized. The majority of such patients responded to the higher dose. Among patients who were not in response at Week 2, 59% (92/157) of Remicade maintenance patients responded by Week 14 compared to 51% (39/77) of placebo maintenance patients. Among patients who did not respond by Week 14, additional therapy did not result in significantly more responses  [see Dosage and Administration (2) ] .  Fistulizing Crohn\\'s Disease The safety and efficacy of Remicade were assessed in 2 randomized, double-blind, placebo-controlled studies in patients with fistulizing Crohn\\'s disease with fistula(s) that were of at least 3 months duration. Concurrent use of stable doses of corticosteroids, 5-aminosalicylates, antibiotics, MTX, 6-mercaptopurine (6-MP) and/or azathioprine (AZA) was permitted. In the first trial, 94 patients received 3 doses of either placebo or Remicade at Weeks 0, 2 and 6. Fistula response (≥50% reduction in number of enterocutaneous fistulas draining upon gentle compression on at least 2 consecutive visits without an increase in medication or surgery for Crohn\\'s disease) was seen in 68% (21/31) of patients in the 5 mg/kg Remicade group (  P =0.002) and 56% (18/32) of patients in the 10 mg/kg Remicade group (  P =0.021) vs. 26% (8/31) of patients in the placebo arm. The median time to onset of response and median duration of response in Remicade-treated patients was 2 and 12 weeks, respectively. Closure of all fistulas was achieved in 52% of Remicade-treated patients compared with 13% of placebo-treated patients (  P <0.001). In the second trial (ACCENT II [Study Crohn\\'s II]), patients who were enrolled had to have at least 1 draining enterocutaneous (perianal, abdominal) fistula. All patients received 5 mg/kg Remicade at Weeks 0, 2 and 6. Patients were randomized to placebo or 5 mg/kg Remicade maintenance at Week 14. Patients received maintenance doses at Week 14 and then every 8 weeks through Week 46. Patients who were in fistula response (fistula response was defined the same as in the first trial) at both Weeks 10 and 14 were randomized separately from those not in response. The primary endpoint was time from randomization to loss of response among those patients who were in fistula response. Among the randomized patients (273 of the 296 initially enrolled), 87% had perianal fistulas and 14% had abdominal fistulas. Eight percent also had rectovaginal fistulas. Greater than 90% of the patients had received previous immunosuppressive and antibiotic therapy. At Week 14, 65% (177/273) of patients were in fistula response. Patients randomized to Remicade maintenance had a longer time to loss of fistula response compared to the placebo maintenance group (Figure 2). At Week 54, 38% (33/87) of Remicade-treated patients had no draining fistulas compared with 22% (20/90) of placebo-treated patients (  P =0.02). Compared to placebo maintenance, patients on Remicade maintenance had a trend toward fewer hospitalizations. Figure 2: Life table estimates of the proportion of patients who had not lost fistula response through Week 54   Patients who achieved a fistula response and subsequently lost response were eligible to receive Remicade maintenance therapy at a dose that was 5 mg/kg higher than the dose to which they were randomized. Of the placebo maintenance patients, 66% (25/38) responded to 5 mg/kg Remicade, and 57% (12/21) of Remicade maintenance patients responded to 10 mg/kg. Patients who had not achieved a response by Week 14 were unlikely to respond to additional doses of Remicade. Similar proportions of patients in either group developed new fistulas (17% overall) and similar numbers developed abscesses (15% overall).  Pediatric Crohn\\'s Disease The safety and efficacy of Remicade were assessed in a randomized, open-label study (Study Peds Crohn\\'s) in 112 pediatric patients aged 6 to 17 years old with moderately to severely active Crohn\\'s disease and an inadequate response to conventional therapies. The median age was 13 years and the median Pediatric Crohn\\'s Disease Activity Index (PCDAI) was 40 (on a scale of 0 to 100). All patients were required to be on a stable dose of 6-MP, AZA, or MTX; 35% were also receiving corticosteroids at baseline. All patients received induction dosing of 5 mg/kg Remicade at Weeks 0, 2, and 6. At Week 10, 103 patients were randomized to a maintenance regimen of 5 mg/kg Remicade given either every 8 weeks or every 12 weeks. At Week 10, 88% of patients were in clinical response (defined as a decrease from baseline in the PCDAI score of ≥15 points and total PCDAI score of ≤30 points), and 59% were in clinical remission (defined as PCDAI score of ≤10 points). The proportion of pediatric patients achieving clinical response at Week 10 compared favorably with the proportion of adults achieving a clinical response in Study Crohn\\'s I. The study definition of clinical response in Study Peds Crohn\\'s was based on the PCDAI score, whereas the CDAI score was used in the adult Study Crohn\\'s I. At both Week 30 and Week 54, the proportion of patients in clinical response was greater in the every 8-week treatment group than in the every 12-week treatment group (73% vs. 47% at Week 30, and 64% vs. 33% at Week 54). At both Week 30 and Week 54, the proportion of patients in clinical remission was also greater in the every 8-week treatment group than in the every 12-week treatment group (60% vs. 35% at Week 30, and 56% vs. 24% at Week 54), (Table 4). For patients in Study Peds Crohn\\'s receiving corticosteroids at baseline, the proportion of patients able to discontinue corticosteroids while in remission at Week 30 was 46% for the every 8-week maintenance group and 33% for the every 12-week maintenance group. At Week 54, the proportion of patients able to discontinue corticosteroids while in remission was 46% for the every 8-week maintenance group and 17% for the every 12-week maintenance group. Table 4: Response and remission in study peds Crohn\\'s  5 mg/kg Remicade Every 8 Week Every 12 Week Treatment Group Treatment Group * Defined as a decrease from baseline in the PCDAI score of ≥15 points and total score of ≤30 points.  † P -value <0.01  ‡ Defined as a PCDAI score of ≤10 points.  § P -value <0.05 Patients randomized  52 51 Clinical Response  * Week 30 73% † 47% Week 54 64% † 33% Clinical Remission  ‡ Week 30 60% § 35% Week 54 56% † 24% Ulcerative Colitis The safety and efficacy of Remicade were assessed in 2 randomized, double-blind, placebo-controlled clinical studies in 728 patients with moderately to severely active ulcerative colitis (UC) (Mayo score  5 6 to 12 [of possible range 0 to 12], Endoscopy subscore ≥2) with an inadequate response to conventional oral therapies (Studies UC I and UC II). Concomitant treatment with stable doses of aminosalicylates, corticosteroids and/or immunomodulatory agents was permitted. Corticosteroid taper was permitted after Week 8. Patients were randomized at week 0 to receive either placebo, 5 mg/kg Remicade or 10 mg/kg Remicade at Weeks 0, 2, 6, and every 8 weeks thereafter through Week 46 in Study UC I, and at Weeks 0, 2, 6, and every 8 weeks thereafter through Week 22 in Study UC II. In Study UC II, patients were allowed to continue blinded therapy to Week 46 at the investigator\\'s discretion. Patients in Study UC I had failed to respond or were intolerant to oral corticosteroids, 6-MP, or AZA. Patients in Study UC II had failed to respond or were intolerant to the above treatments and/or aminosalicylates. Similar proportions of patients in Studies UC I and UC II were receiving corticosteroids (61% and 51%, respectively), 6-MP/AZA (49% and 43%) and aminosalicylates (70% and 75%) at baseline. More patients in Study UC II than UC I were taking solely aminosalicylates for UC (26% vs. 11%, respectively). Clinical response was defined as a decrease from baseline in the Mayo score by ≥30% and ≥3 points, accompanied by a decrease in the rectal bleeding subscore of ≥1 or a rectal bleeding subscore of 0 or 1.  Clinical Response, Clinical Remission, and Mucosal Healing In both Study UC I and Study UC II, greater percentages of patients in both Remicade groups achieved clinical response, clinical remission and mucosal healing than in the placebo group. Each of these effects was maintained through the end of each trial (Week 54 in Study UC I, and Week 30 in Study UC II). In addition, a greater proportion of patients in Remicade groups demonstrated sustained response and sustained remission than in the placebo groups (Table 5). Of patients on corticosteroids at baseline, greater proportions of patients in the Remicade treatment groups were in clinical remission and able to discontinue corticosteroids at Week 30 compared with the patients in the placebo treatment groups (22% in Remicade treatment groups vs. 10% in placebo group in Study UC I; 23% in Remicade treatment groups vs. 3% in placebo group in Study UC II). In Study UC I, this effect was maintained through Week 54 (21% in Remicade treatment groups vs. 9% in placebo group). The Remicade-associated response was generally similar in the 5 mg/kg and 10 mg/kg dose groups. Table 5: Response, remission and mucosal healing in ulcerative colitis studies  Study UC I Study UC II Placebo 5 mg/kg Remicade 10 mg/kg Remicade Placebo 5 mg/kg Remicade 10 mg/kg Remicade * Defined as a decrease from baseline in the Mayo score by ≥30% and ≥3 points, accompanied by a decrease in the rectal bleeding subscore of ≥1 or a rectal bleeding subscore of 0 or 1. (The Mayo score consists of the sum of four subscores: stool frequency, rectal bleeding, physician\\'s global assessment and endoscopy findings.)  † Patients who had a prohibited change in medication, had an ostomy or colectomy, or discontinued study infusions due to lack of efficacy are considered to not be in clinical response, clinical remission or mucosal healing from the time of the event onward.  ‡ P <0.001,  § P <0.01  ¶ Defined as a Mayo score ≤2 points, no individual subscore >1.  # Defined as a 0 or 1 on the endoscopy subscore of the Mayo score. Patients randomized  121 121 122 123 121 120 Clinical Response  * , † Week 8 37% 69% ‡ 62% ‡ 29% 65% ‡ 69% ‡ Week 30 30% 52% ‡ 51% § 26% 47% ‡ 60% ‡ Week 54 20% 45% ‡ 44% ‡ NA NA NA Sustained Response  † (Clinical response at both Weeks 8 and 30) 23% 49% ‡ 46% ‡ 15% 41% ‡ 53% ‡ (Clinical response at Weeks 8, 30, and 54) 14% 39% ‡ 37% ‡ NA NA NA Clinical Remission  ¶ , † Week 8 15% 39% ‡ 32% § 6% 34% ‡ 28% ‡ Week 30 16% 34% § 37% ‡ 11% 26% § 36% ‡ Week 54 17% 35% § 34% § NA NA NA Sustained Remission  † (Clinical remission at both Weeks 8 and 30) 8% 23% § 26% ‡ 2% 15% ‡ 23% ‡ (Clinical remission at Weeks 8, 30 and 54) 7% 20% § 20% § NA NA NA Mucosal Healing  # , † Week 8 34% 62% ‡ 59% ‡ 31% 60% ‡ 62% ‡ Week 30 25% 50% ‡ 49% ‡ 30% 46% § 57% ‡ Week 54 18% 45% ‡ 47% ‡ NA NA NA The improvement with Remicade was consistent across all Mayo subscores through Week 54 (Study UC I shown in Table 6; Study UC II through Week 30 was similar). Table 6: Proportion of patients in Study UC I with Mayo subscores indicating inactive or mild disease through Week 54  Study UC I Remicade Placebo 5 mg/kg 10 mg/kg (n=121) (n=121) (n=122) Stool frequency  Baseline 17% 17% 10% Week 8 35% 60% 58% Week 30 35% 51% 53% Week 54 31% 52% 51% Rectal bleeding  Baseline 54% 40% 48% Week 8 74% 86% 80% Week 30 65% 74% 71% Week 54 62% 69% 67% Physician\\'s Global Assessment  Baseline 4% 6% 3% Week 8 44% 74% 64% Week 30 36% 57% 55% Week 54 26% 53% 53% Endoscopy findings  Baseline 0% 0% 0% Week 8 34% 62% 59% Week 30 26% 51% 52% Week 54 21% 50% 51% Pediatric Ulcerative Colitis The safety and effectiveness of Remicade for reducing signs and symptoms and inducing and maintaining clinical remission in pediatric patients aged 6 years and older with moderately to severely active ulcerative colitis who have had an inadequate response to conventional therapy are supported by evidence from adequate and well-controlled studies of Remicade in adults. Additional safety and pharmacokinetic data were collected in an open-label pediatric UC trial in 60 pediatric patients aged 6 through 17 years (median age 14.5 years) with moderately to severely active ulcerative colitis (Mayo score of 6 to 12; Endoscopic subscore ≥2) and an inadequate response to conventional therapies. At baseline, the median Mayo score was 8, 53% of patients were receiving immunomodulator therapy (6-MP/AZA/MTX), and 62% of patients were receiving corticosteroids (median dose 0.5 mg/kg/day in prednisone equivalents). Discontinuation of immunomodulators and corticosteroid taper were permitted after Week 0. All patients received induction dosing of 5 mg/kg Remicade at Weeks 0, 2, and 6. Patients who did not respond to Remicade at Week 8 received no further Remicade and returned for safety follow-up. At Week 8, 45 patients were randomized to a maintenance regimen of 5 mg/kg Remicade given either every 8 weeks through Week 46 or every 12 weeks through Week 42. Patients were allowed to change to a higher dose and/or more frequent administration schedule if they experienced loss of response. Clinical response at Week 8 was defined as a decrease from baseline in the Mayo score by ≥30% and ≥3 points, including a decrease in the rectal bleeding subscore by ≥1 points or achievement of a rectal bleeding subscore of 0 or 1. Clinical remission at Week 8 was measured by the Mayo score, defined as a Mayo score of ≤2 points with no individual subscore >1. Clinical remission was also assessed at Week 8 and Week 54 using the Pediatric Ulcerative Colitis Activity Index (PUCAI)  6 score and was defined by a PUCAI score of <10 points. Endoscopies were performed at baseline and at Week 8. A Mayo endoscopy subscore of 0 indicated normal or inactive disease and a subscore of 1 indicated mild disease (erythema, decreased vascular pattern, or mild friability). Of the 60 patients treated, 44 were in clinical response at Week 8. Of 32 patients taking concomitant immunomodulators at baseline, 23 achieved clinical response at Week 8, compared to 21 of 28 of those not taking concomitant immunomodulators at baseline. At Week 8, 24 of 60 patients were in clinical remission as measured by the Mayo score and 17 of 51 patients were in remission as measured by the PUCAI score. At Week 54, 8 of 21 patients in the every 8-week maintenance group and 4 of 22 patients in the every 12-week maintenance group achieved remission as measured by the PUCAI score. During maintenance phase, 23 of 45 randomized patients (9 in the every 8-week group and 14 in the every 12-week group) required an increase in their dose and/or increase in frequency of Remicade administration due to loss of response. Nine of the 23 patients who required a change in dose had achieved remission at Week 54. Seven of those patients received the 10 mg/kg every 8-week dosing.  Rheumatoid Arthritis The safety and efficacy of Remicade were assessed in 2 multicenter, randomized, double-blind, pivotal trials: ATTRACT (Study RA I) and ASPIRE (Study RA II). Concurrent use of stable doses of folic acid, oral corticosteroids (≤10 mg/day) and/or non-steroidal anti-inflammatory drugs (NSAIDs) was permitted. Study RA I was a placebo-controlled study of 428 patients with active rheumatoid arthritis despite treatment with MTX. Patients enrolled had a median age of 54 years, median disease duration of 8.4 years, median swollen and tender joint count of 20 and 31 respectively, and were on a median dose of 15 mg/wk of MTX. Patients received either placebo + MTX or one of 4 doses/schedules of Remicade + MTX: 3 mg/kg or 10 mg/kg of Remicade by IV infusion at Weeks 0, 2 and 6 followed by additional infusions every 4 or 8 weeks in combination with MTX. Study RA II was a placebo-controlled study of 3 active treatment arms in 1004 MTX naive patients of 3 or fewer years\\' duration active rheumatoid arthritis. Patients enrolled had a median age of 51 years with a median disease duration of 0.6 years, median swollen and tender joint count of 19 and 31, respectively, and >80% of patients had baseline joint erosions. At randomization, all patients received MTX (optimized to 20 mg/wk by Week 8) and either placebo, 3 mg/kg or 6 mg/kg Remicade at Weeks 0, 2, and 6 and every 8 weeks thereafter. Data on use of Remicade without concurrent MTX are limited  [see Adverse Reactions (6.1) ] .  Clinical Response In Study RA I, all doses/schedules of Remicade + MTX resulted in improvement in signs and symptoms as measured by the American College of Rheumatology response criteria (ACR 20) with a higher percentage of patients achieving an ACR 20, 50 and 70 compared to placebo + MTX (Table 7). This improvement was observed at Week 2 and maintained through Week 102. Greater effects on each component of the ACR 20 were observed in all patients treated with Remicade + MTX compared to placebo + MTX (Table 8). More patients treated with Remicade reached a major clinical response than placebo-treated patients (Table 7). In Study RA II, after 54 weeks of treatment, both doses of Remicade + MTX resulted in statistically significantly greater response in signs and symptoms compared to MTX alone as measured by the proportion of patients achieving ACR 20, 50 and 70 responses (Table 7). More patients treated with Remicade reached a major clinical response than placebo-treated patients (Table 7). Table 7: ACR response (percent of patients)  Study RA I Study RA II Remicade + MTX Remicade + MTX 3 mg/kg 10 mg/kg 3 mg/kg 6 mg/kg Response Placebo + MTX q8 wks q4 wks q8 wks q4 wks Placebo + MTX q8 wks q8 wks (n=88) (n=86) (n=86) (n=87) (n=81) (n=274) (n=351) (n=355) * P ≤0.001  † P <0.05  ‡ P <0.01  § A major clinical response was defined as a 70% ACR response for 6 consecutive months (consecutive visits spanning at least 26 weeks) through Week 102 for Study RA I and Week 54 for Study RA II. ACR 20  Week 30 20% 50% * 50% * 52% * 58% * N/A N/A N/A Week 54 17% 42% * 48% * 59% * 59% * 54% 62% † 66% * ACR 50  Week 30 5% 27% * 29% * 31% * 26% * N/A N/A N/A Week 54 9% 21% † 34% * 40% * 38% * 32% 46% * 50% * ACR 70  Week 30 0% 8% ‡ 11% ‡ 18% * 11% * N/A N/A N/A Week 54 2% 11% † 18% * 26% * 19% * 21% 33% ‡ 37% * Major clinical response § 0% 7% † 8% ‡ 15% * 6% † 8% 12% 17% * Table 8: Components of ACR 20 at baseline and 54 weeks (Study RA I)  Placebo + MTX Remicade + MTX * Parameter (medians) (n=88) (n=340) Baseline Week 54 Baseline Week 54 * All doses/schedules of Remicade + MTX  † Visual Analog Scale (0=best, 10=worst)  ‡ Health Assessment Questionnaire, measurement of 8 categories: dressing and grooming, arising, eating, walking, hygiene, reach, grip, and activities (0=best, 3=worst)  No. of Tender Joints 24 16 32 8 No. of Swollen Joints 19 13 20 7 Pain † 6.7 6.1 6.8 3.3 Physician\\'s Global Assessment † 6.5 5.2 6.2 2.1 Patient\\'s Global Assessment † 6.2 6.2 6.3 3.2 Disability Index (HAQ-DI) ‡ 1.8 1.5 1.8 1.3 CRP (mg/dL) 3.0 2.3 2.4 0.6 Radiographic Response Structural damage in both hands and feet was assessed radiographically at Week 54 by the change from baseline in the van der Heijde-modified Sharp (vdH-S) score, a composite score of structural damage that measures the number and size of joint erosions and the degree of joint space narrowing in hands/wrists and feet.  3 In Study RA I, approximately 80% of patients had paired X-ray data at 54 weeks and approximately 70% at 102 weeks. The inhibition of progression of structural damage was observed at 54 weeks (Table 9) and maintained through 102 weeks. In Study RA II, >90% of patients had at least 2 evaluable X-rays. Inhibition of progression of structural damage was observed at Weeks 30 and 54 (Table 9) in the Remicade + MTX groups compared to MTX alone. Patients treated with Remicade + MTX demonstrated less progression of structural damage compared to MTX alone, whether baseline acute-phase reactants (ESR and CRP) were normal or elevated: patients with elevated baseline acute-phase reactants treated with MTX alone demonstrated a mean progression in vdH-S score of 4.2 units compared to patients treated with Remicade + MTX who demonstrated 0.5 units of progression; patients with normal baseline acute phase reactants treated with MTX alone demonstrated a mean progression in vdH-S score of 1.8 units compared to Remicade + MTX who demonstrated 0.2 units of progression. Of patients receiving Remicade + MTX, 59% had no progression (vdH-S score ≤0 unit) of structural damage compared to 45% of patients receiving MTX alone. In a subset of patients who began the study without erosions, Remicade + MTX maintained an erosion-free state at 1 year in a greater proportion of patients than MTX alone, 79% (77/98) vs. 58% (23/40), respectively (  P <0.01). Fewer patients in the Remicade + MTX groups (47%) developed erosions in uninvolved joints compared to MTX alone (59%). Table 9: Radiographic change from baseline to Week 54  Study RA I Study RA II Remicade + MTX Remicade + MTX 3 mg/kg 10 mg/kg 3 mg/kg 6 mg/kg Placebo + MTX q8 wks q8 wks Placebo + MTX q8 wks q8 wks (n=64) (n=71) (n=77) (n=282) (n=359) (n=363) * P<0.001 for each outcome against placebo. Total Score  Baseline Mean 79 78 65 11.3 11.6 11.2 Median 55 57 56 5.1 5.2 5.3 Change from baseline Mean 6.9 1.3 * 0.2 * 3.7 0.4 * 0.5 * Median 4.0 0.5 0.5 0.4 0.0 0.0 Erosion Score  Baseline Mean 44 44 33 8.3 8.8 8.3 Median 25 29 22 3.0 3.8 3.8 Change from baseline Mean 4.1 0.2 * 0.2 * 3.0 0.3 * 0.1 * Median 2.0 0.0 0.5 0.3 0.0 0.0 JSN Score  Baseline Mean 36 34 31 3.0 2.9 2.9 Median 26 29 24 1.0 1.0 1.0 Change from baseline Mean 2.9 1.1 * 0.0 * 0.6 0.1 * 0.2 Median 1.5 0.0 0.0 0.0 0.0 0.0 Physical Function Response Physical function and disability were assessed using the Health Assessment Questionnaire (HAQ-DI) and the general health-related quality of life questionnaire SF-36. In Study RA I, all doses/schedules of Remicade + MTX showed significantly greater improvement from baseline in HAQ-DI and SF-36 physical component summary score averaged over time through Week 54 compared to placebo + MTX, and no worsening in the SF-36 mental component summary score. The median (interquartile range) improvement from baseline to Week 54 in HAQ-DI was 0.1 (-0.1, 0.5) for the placebo + MTX group and 0.4 (0.1, 0.9) for Remicade + MTX (p<0.001). Both HAQ-DI and SF-36 effects were maintained through Week 102. Approximately 80% of patients in all doses/schedules of Remicade + MTX remained in the trial through 102 weeks. In Study RA II, both Remicade treatment groups showed greater improvement in HAQ-DI from baseline averaged over time through Week 54 compared to MTX alone; 0.7 for Remicade + MTX vs. 0.6 for MTX alone (  P ≤0.001). No worsening in the SF-36 mental component summary score was observed.  Ankylosing Spondylitis The safety and efficacy of Remicade were assessed in a randomized, multicenter, double-blind, placebo-controlled study in 279 patients with active ankylosing spondylitis. Patients were between 18 and 74 years of age, and had ankylosing spondylitis as defined by the modified New York criteria for Ankylosing Spondylitis.  4 Patients were to have had active disease as evidenced by both a Bath Ankylosing Spondylitis Disease Activity Index (BASDAI) score >4 (possible range 0–10) and spinal pain >4 (on a Visual Analog Scale [VAS] of 0–10). Patients with complete ankylosis of the spine were excluded from study participation, and the use of Disease Modifying Anti-Rheumatic Drugs (DMARDs) and systemic corticosteroids were prohibited. Doses of Remicade 5 mg/kg or placebo were administered intravenously at Weeks 0, 2, 6, 12 and 18. At 24 weeks, improvement in the signs and symptoms of ankylosing spondylitis, as measured by the proportion of patients achieving a 20% improvement in ASAS response criteria (ASAS 20), was seen in 60% of patients in the Remicade-treated group vs. 18% of patients in the placebo group (p<0.001). Improvement was observed at Week 2 and maintained through Week 24 (Figure 3 and Table 10). Figure 3: Proportion of patients achieving ASAS 20 response   At 24 weeks, the proportions of patients achieving a 50% and a 70% improvement in the signs and symptoms of ankylosing spondylitis, as measured by ASAS response criteria (ASAS 50 and ASAS 70, respectively), were 44% and 28%, respectively, for patients receiving Remicade, compared to 9% and 4%, respectively, for patients receiving placebo (  P <0.001, Remicade vs. placebo). A low level of disease activity (defined as a value <20 [on a scale of 0–100 mm] in each of the 4 ASAS response parameters) was achieved in 22% of Remicade-treated patients vs. 1% in placebo-treated patients (  P <0.001). Table 10: Components of ankylosing spondylitis disease activity  Placebo (n=78) Remicade 5 mg/kg (n=201) Baseline 24 Weeks Baseline 24 Weeks P -value * Measured on a VAS with 0=\"none\" and 10=\"severe\"  † Bath Ankylosing Spondylitis Functional Index (BASFI), average of 10 questions  ‡ Inflammation, average of last 2 questions on the 6-question BASDAI  § CRP normal range 0–1.0 mg/dL  ¶ Spinal mobility normal values: modified Schober\\'s test: >4 cm; chest expansion:>6 cm; tragus to wall: <15 cm; lateral spinal flexion: >10 cm ASAS 20 response Criteria (Mean)  Patient Global Assessment * 6.6 6.0 6.8 3.8 <0.001 Spinal pain * 7.3 6.5 7.6 4.0 <0.001 BASFI † 5.8 5.6 5.7 3.6 <0.001 Inflammation ‡ 6.9 5.8 6.9 3.4 <0.001 Acute Phase Reactants  Median CRP § (mg/dL) 1.7 1.5 1.5 0.4 <0.001 Spinal Mobility (cm, Mean)  Modified Schober\\'s test ¶ 4.0 5.0 4.3 4.4 0.75 Chest expansion ¶ 3.6 3.7 3.3 3.9 0.04 Tragus to wall ¶ 17.3 17.4 16.9 15.7 0.02 Lateral spinal flexion ¶ 10.6 11.0 11.4 12.9 0.03 The median improvement from baseline in the general health-related quality-of-life questionnaire SF-36 physical component summary score at Week 24 was 10.2 for the Remicade group vs. 0.8 for the placebo group (  P <0.001). There was no change in the SF-36 mental component summary score in either the Remicade group or the placebo group. Results of this study were similar to those seen in a multicenter double-blind, placebo-controlled study of 70 patients with ankylosing spondylitis.  Psoriatic Arthritis Safety and efficacy of Remicade were assessed in a multicenter, double-blind, placebo-controlled study in 200 adult patients with active psoriatic arthritis despite DMARD or NSAID therapy (≥5 swollen joints and ≥5 tender joints) with 1 or more of the following subtypes: arthritis involving DIP joints (n=49), arthritis mutilans (n=3), asymmetric peripheral arthritis (n=40), polyarticular arthritis (n=100), and spondylitis with peripheral arthritis (n=8). Patients also had plaque psoriasis with a qualifying target lesion ≥2 cm in diameter. Forty-six percent of patients continued on stable doses of methotrexate (≤25 mg/week). During the 24-week double-blind phase, patients received either 5 mg/kg Remicade or placebo at Weeks 0, 2, 6, 14, and 22 (100 patients in each group). At Week 16, placebo patients with <10% improvement from baseline in both swollen and tender joint counts were switched to Remicade induction (early escape). At Week 24, all placebo-treated patients crossed over to Remicade induction. Dosing continued for all patients through Week 46.  Clinical Response Treatment with Remicade resulted in improvement in signs and symptoms, as assessed by the ACR criteria, with 58% of Remicade-treated patients achieving ACR 20 at Week 14, compared with 11% of placebo-treated patients (  P <0.001). The response was similar regardless of concomitant use of methotrexate. Improvement was observed as early as Week 2. At 6 months, the ACR 20/50/70 responses were achieved by 54%, 41%, and 27%, respectively, of patients receiving Remicade compared to 16%, 4%, and 2%, respectively, of patients receiving placebo. Similar responses were seen in patients with each of the subtypes of psoriatic arthritis, although few patients were enrolled with the arthritis mutilans and spondylitis with peripheral arthritis subtypes. Compared to placebo, treatment with Remicade resulted in improvements in the components of the ACR response criteria, as well as in dactylitis and enthesopathy (Table 11). The clinical response was maintained through Week 54. Similar ACR responses were observed in an earlier randomized, placebo-controlled study of 104 psoriatic arthritis patients, and the responses were maintained through 98 weeks in an open-label extension phase. Table 11: Components of ACR 20 and percentage of patients with 1 or more joints with dactylitis and percentage of patients with enthesopathy at baseline and Week 24  Placebo Remicade 5 mg/kg * Patients Randomized (n=100) (n=100) Baseline Week 24 Baseline Week 24 * P <0.001 for percent change from baseline in all components of ACR 20 at Week 24, P<0.05 for % of patients with dactylitis, and  P =0.004 for % of patients with enthesopathy at Week 24  † Scale 0–68  ‡ Scale 0–66  § Visual Analog Scale (0=best, 10=worst)  ¶ Health Assessment Questionnaire, measurement of 8 categories: dressing and grooming, arising, eating, walking, hygiene, reach, grip, and activities (0=best, 3=worst)  # Normal range 0–0.6 mg/dL Parameter (medians)  No. of Tender Joints † 24 20 20 6 No. of Swollen Joints ‡ 12 9 12 3 Pain § 6.4 5.6 5.9 2.6 Physician\\'s Global Assessment § 6.0 4.5 5.6 1.5 Patient\\'s Global Assessment § 6.1 5.0 5.9 2.5 Disability Index (HAQ-DI) ¶ 1.1 1.1 1.1 0.5 CRP (mg/dL) # 1.2 0.9 1.0 0.4 % Patients with 1 or more digits with dactylitis 41 33 40 15 % Patients with enthesopathy 35 36 42 22 Improvement in Psoriasis Area and Severity Index (PASI) in psoriatic arthritis patients with baseline body surface area (BSA) ≥3% (n=87 placebo, n=83 Remicade) was achieved at Week 14, regardless of concomitant methotrexate use, with 64% of Remicade-treated patients achieving at least 75% improvement from baseline vs. 2% of placebo-treated patients; improvement was observed in some patients as early as Week 2. At 6 months, the PASI 75 and PASI 90 responses were achieved by 60% and 39%, respectively, of patients receiving Remicade compared to 1% and 0%, respectively, of patients receiving placebo. The PASI response was generally maintained through Week 54.  [see Clinical Studies (14.8) ] .  Radiographic Response Structural damage in both hands and feet was assessed radiographically by the change from baseline in the van der Heijde-Sharp (vdH-S) score, modified by the addition of hand DIP joints. The total modified vdH-S score is a composite score of structural damage that measures the number and size of joint erosions and the degree of joint space narrowing (JSN) in the hands and feet. At Week 24, Remicade-treated patients had less radiographic progression than placebo-treated patients (mean change of -0.70 vs. 0.82,  P <0.001). Remicade-treated patients also had less progression in their erosion scores (-0.56 vs 0.51) and JSN scores (-0.14 vs 0.31). The patients in the Remicade group demonstrated continued inhibition of structural damage at Week 54. Most patients showed little or no change in the vdH-S score during this 12-month study (median change of 0 in both patients who initially received Remicade or placebo). More patients in the placebo group (12%) had readily apparent radiographic progression compared with the Remicade group (3%).  Physical Function Physical function status was assessed using the HAQ Disability Index (HAQ-DI) and the SF-36 Health Survey. Remicade-treated patients demonstrated significant improvement in physical function as assessed by HAQ-DI (median percent improvement in HAQ-DI score from baseline to Week 14 and 24 of 43% for Remicade-treated patients vs 0% for placebo-treated patients). During the placebo-controlled portion of the trial (24 weeks), 54% of Remicade-treated patients achieved a clinically meaningful improvement in HAQ-DI (≥0.3 unit decrease) compared to 22% of placebo-treated patients. Remicade-treated patients also demonstrated greater improvement in the SF-36 physical and mental component summary scores than placebo-treated patients. The responses were maintained for up to 2 years in an open-label extension study.  Plaque Psoriasis The safety and efficacy of Remicade were assessed in 3 randomized, double-blind, placebo-controlled studies in patients 18 years of age and older with chronic, stable plaque psoriasis involving ≥10% BSA, a minimum PASI score of 12, and who were candidates for systemic therapy or phototherapy. Patients with guttate, pustular, or erythrodermic psoriasis were excluded from these studies. No concomitant anti-psoriatic therapies were allowed during the study, with the exception of low-potency topical corticosteroids on the face and groin after Week 10 of study initiation. Study I (EXPRESS) evaluated 378 patients who received placebo or Remicade at a dose of 5 mg/kg at Weeks 0, 2, and 6 (induction therapy), followed by maintenance therapy every 8 weeks. At Week 24, the placebo group crossed over to Remicade induction therapy (5 mg/kg), followed by maintenance therapy every 8 weeks. Patients originally randomized to Remicade continued to receive Remicade 5 mg/kg every 8 weeks through Week 46. Across all treatment groups, the median baseline PASI score was 21 and the baseline Static Physician Global Assessment (sPGA) score ranged from moderate (52% of patients) to marked (36%) to severe (2%). In addition, 75% of patients had a BSA >20%. Seventy-one percent of patients previously received systemic therapy, and 82% received phototherapy. Study II (EXPRESS II) evaluated 835 patients who received placebo or Remicade at doses of 3 mg/kg or 5 mg/kg at Weeks 0, 2, and 6 (induction therapy). At Week 14, within each Remicade dose group, patients were randomized to either scheduled (every 8 weeks) or as needed (PRN) maintenance treatment through Week 46. At Week 16, the placebo group crossed over to Remicade induction therapy (5 mg/kg), followed by maintenance therapy every 8 weeks. Across all treatment groups, the median baseline PASI score was 18, and 63% of patients had a BSA >20%. Fifty-five percent of patients previously received systemic therapy, and 64% received a phototherapy. Study III (SPIRIT) evaluated 249 patients who had previously received either psoralen plus ultraviolet A treatment (PUVA) or other systemic therapy for their psoriasis. These patients were randomized to receive either placebo or Remicade at doses of 3 mg/kg or 5 mg/kg at Weeks 0, 2, and 6. At Week 26, patients with a sPGA score of moderate or worse (greater than or equal to 3 on a scale of 0 to 5) received an additional dose of the randomized treatment. Across all treatment groups, the median baseline PASI score was 19, and the baseline sPGA score ranged from moderate (62% of patients) to marked (22%) to severe (3%). In addition, 75% of patients had a BSA >20%. Of the enrolled patients, 114 (46%) received the Week 26 additional dose. In Studies I, II and III, the primary endpoint was the proportion of patients who achieved a reduction in score of at least 75% from baseline at Week 10 by the PASI (PASI 75). In Study I and Study III, another evaluated outcome included the proportion of patients who achieved a score of \"cleared\" or \"minimal\" by the sPGA. The sPGA is a 6-category scale ranging from \"5 = severe\" to \"0 = cleared\" indicating the physician\\'s overall assessment of the psoriasis severity focusing on induration, erythema, and scaling. Treatment success, defined as \"cleared\" or \"minimal,\" consisted of none or minimal elevation in plaque, up to faint red coloration in erythema, and none or minimal fine scale over <5% of the plaque. Study II also evaluated the proportion of patients who achieved a score of \"clear\" or \"excellent\" by the relative Physician\\'s Global Assessment (rPGA). The rPGA is a 6-category scale ranging from \"6 = worse\" to \"1 = clear\" that was assessed relative to baseline. Overall lesions were graded with consideration to the percent of body involvement as well as overall induration, scaling, and erythema. Treatment success, defined as \"clear\" or \"excellent,\" consisted of some residual pinkness or pigmentation to marked improvement (nearly normal skin texture; some erythema may be present). The results of these studies are presented in Table 12. Table 12: Psoriasis studies I, II, and III, Week 10 percentage of patients who achieved PASI 75 and percentage who achieved treatment \"success\" with Physician\\'s Global Assessment  Placebo Remicade 3 mg/kg 5 mg/kg * Patients with missing data at Week 10 were considered as nonresponders.  † P <0.001 compared with placebo  ‡ Patients with missing data at Week 10 were imputed by last observation.  Psoriasis Study I - patients randomized * 77 — 301 PASI 75 2 (3%) — 242 (80%) † sPGA 3 (4%) — 242 (80%) † Psoriasis Study II - patients randomized * 208 313 314 PASI 75 4 (2%) 220 (70%) † 237 (75%) † rPGA 2 (1%) 217 (69%) † 234 (75%) † Psoriasis Study III - patients randomized ‡ 51 99 99 PASI 75 3 (6%) 71 (72%) † 87 (88%) † sPGA 5 (10%) 71 (72%) † 89 (90%) † In Study I, in the subgroup of patients with more extensive psoriasis who had previously received phototherapy, 85% of patients on 5 mg/kg Remicade achieved a PASI 75 at Week 10 compared with 4% of patients on placebo. In Study II, in the subgroup of patients with more extensive psoriasis who had previously received phototherapy, 72% and 77% of patients on 3 mg/kg and 5 mg/kg Remicade achieved a PASI 75 at Week 10 respectively compared with 1% on placebo. In Study II, among patients with more extensive psoriasis who had failed or were intolerant to phototherapy, 70% and 78% of patients on 3 mg/kg and 5 mg/kg Remicade achieved a PASI 75 at Week 10 respectively, compared with 2% on placebo. Maintenance of response was studied in a subset of 292 and 297 Remicade-treated patients in the 3 mg/kg and 5 mg/kg groups; respectively, in Study II. Stratified by PASI response at Week 10 and investigational site, patients in the active treatment groups were re-randomized to either a scheduled or as needed maintenance (PRN) therapy, beginning on Week 14. The groups that received a maintenance dose every 8 weeks appear to have a greater percentage of patients maintaining a PASI 75 through Week 50 as compared to patients who received the as-needed or PRN doses, and the best response was maintained with the 5 mg/kg every 8-week dose. These results are shown in Figure 4. At Week 46, when Remicade serum concentrations were at trough level, in the every 8-week dose group, 54% of patients in the 5 mg/kg group compared to 36% in the 3 mg/kg group achieved PASI 75. The lower percentage of PASI 75 responders in the 3 mg/kg every 8-week dose group compared to the 5 mg/kg group was associated with a lower percentage of patients with detectable trough serum infliximab levels. This may be related in part to higher antibody rates  [see Adverse Reactions (6.1) ] . In addition, in a subset of patients who had achieved a response at Week 10, maintenance of response appears to be greater in patients who received Remicade every 8 weeks at the 5 mg/kg dose. Regardless of whether the maintenance doses are PRN or every 8 weeks, there is a decline in response in a subpopulation of patients in each group over time. The results of Study I through Week 50 in the 5 mg/kg every 8 weeks maintenance dose group were similar to the results from Study II. Figure 4: Proportion of patients achieving ≥75% improvement in PASI from baseline through Week 50; patients randomized at Week 14   Efficacy and safety of Remicade treatment beyond 50 weeks have not been evaluated in patients with plaque psoriasis.  REFERENCES American Thoracic Society, Centers for Disease Control and Prevention. Targeted tuberculin testing and treatment of latent tuberculosis infection.  Am J Respir Crit Care Med 2000;161:S221–S247. See latest Centers for Disease Control guidelines and recommendations for tuberculosis testing in immunocompromised patients. van der Heijde DM, van Leeuwen MA, van Riel PL,  et al . Biannual radiographic assessments of hands and feet in a three-year prospective follow-up of patients with early rheumatoid arthritis.  Arthritis Rheum . 1992;35(1):26–34. van der Linden S, Valkenburg HA, Cats A. Evaluation of diagnostic criteria for ankylosing spondylitis. A proposal for modification of the New York criteria.  Arthritis Rheum . 1984;27(4):361–368. Schroeder KW, Tremaine WJ, Ilstrup DM. Coated oral 5-aminosalicylic acid therapy for mildly to moderately active ulcerative colitis. A randomized study.  N Engl J Med. 1987;317(26):1625–1629.'"
      ]
     },
     "execution_count": 8,
     "metadata": {},
     "output_type": "execute_result"
    }
   ],
   "source": [
    "train.loc[train.token_length.idxmax(),'text']"
   ]
  },
  {
   "cell_type": "code",
   "execution_count": 9,
   "metadata": {},
   "outputs": [
    {
     "data": {
      "text/plain": [
       "\"A type of monoclonal antibody used in cancer detection or therapy. Monoclonal antibodies are laboratory-produced substances that can locate and bind to cancer cells.  A6 A substance being studied in the treatment of cancer. A6 is a small piece of a protein called urokinase (an enzyme that dissolves blood clots or prevents them from forming). It is a type of antiangiogenesis agent and a type of antimetastatic agent. Also called urokinase plasminogen activator (uPA)-derived peptide A6.  AAP An enzyme that is normally found in healthy kidneys. It may be found at high levels in the urine when there are kidney problems. It is used as a biomarker to detect damage to the kidneys caused by drugs and other agents. It may also be used to diagnose certain kidney and liver disorders. Also called alanine aminopeptidase.  abarelix listen (uh-BAYR-eh-lix) A drug used to reduce the amount of testosterone made in patients with advanced symptomatic prostate cancer for which no other treatment options are available. It belongs to the family of drugs called gonadotropin-releasing hormone (GnRH) antagonists. Also called Plenaxis.  ABCA1 pathway listen (… PATH-way) Describes a group of proteins in a cell that work together to help remove extra cholesterol and certain fats from tissue in the body. Changes in the ABCA1 pathway may lead to diseases of the heart and blood vessels. Drugs or substances that affect this pathway are being studied in the prevention and treatment of some diseases.  ABCD rating listen (... RAY-ting) A staging system for prostate cancer that uses ABCD. “A” and “B” refer to cancer that is confined to the prostate. “C” refers to cancer that has grown out of the prostate but has not spread to lymph nodes or other places in the body. “D” refers to cancer that has spread to lymph nodes or to other places in the body. Also called Jewett staging system and Whitmore-Jewett staging system.  abdomen listen (AB-doh-men) The area of the body that contains the pancreas, stomach, intestines, liver, gallbladder, and other organs.  abdominal listen (ab-DAH-mih-nul) Having to do with the abdomen, which is the part of the body between the chest and the hips that contains the pancreas, stomach, intestines, liver, gallbladder, and other organs.  abdominal ultrasound listen (ab-DAH-mih-nul UL-truh-sownd) A procedure used to examine the organs in the abdomen. An ultrasound transducer (probe) is pressed firmly against the skin of the abdomen. High-energy sound waves from the transducer bounce off tissues and create echoes. The echoes are sent to a computer, which makes a picture called a sonogram. Also called transabdominal ultrasound.  abdominal x-ray listen (ab-DAH-mih-nul EX-ray) An x-ray of the organs inside the abdomen. An x-ray is a type of radiation that can pass through the body and onto film, making pictures of areas inside the body. X-rays may be used to help diagnose disease.  abdominoperineal resection listen (ab-DAH-mih-noh-PAYR-ih-NEE-ul ree-SEK-shun) Surgery to remove the anus, the rectum, and part of the sigmoid colon through an incision made in the abdomen. The end of the intestine is attached to an opening in the surface of the abdomen and body waste is collected in a disposable bag outside of the body. This opening is called a colostomy. Lymph nodes that contain cancer may also be removed during this operation.  Abegrin listen (A-beh-grin) A substance being studied in the treatment of some types of cancer and other conditions. Abegrin binds to a protein on the surface of blood vessels and may prevent the growth of new blood vessels that tumors need to grow. It may also prevent the spread of cancer. It is a type of antiangiogenesis agent, a type of metastasis inhibitor, and a type of monoclonal antibody. Also called etaracizumab, humanized monoclonal antibody MEDI-522, and MEDI-522.  abemaciclib listen (uh-BEH-muh-SY-klib) A drug used to treat hormone-receptor positive (HR+), HER2-negative (HER2-) breast cancer that is advanced or has spread to other parts of the body. It is used with an aromatase inhibitor in postmenopausal women who have not been treated with hormone therapy. It is used with fulvestrant in women whose disease got worse after treatment with hormone therapy. Abemaciclib is also used alone in men and women whose disease got worse after treatment with hormone therapy and previous chemotherapy. It is also being studied in the treatment of other types of cancer. Abemaciclib blocks certain proteins, which may help keep cancer cells from growing. It is a type of cyclin-dependent kinase inhibitor. Also called Verzenio.  aberrant crypt foci listen (uh-BAYR-unt kript FOH-sy) Clusters of abnormal tube-like glands in the lining of the colon and rectum. Aberrant crypt foci form before colorectal polyps and are one of the earliest changes that can be seen in the colon that may lead to cancer. Also called ACF.  ABI-007 A drug used to treat breast cancer that has come back or spread to other parts of the body. It is also used with carboplatin to treat advanced non-small cell lung cancer in patients who are not able to have surgery or radiation therapy. It is also used with gemcitabine hydrochloride to treat pancreatic cancer that has spread to other parts of the body. It is being studied in the treatment of other types of cancer. ABI-007 is a form of the anticancer drug paclitaxel and may cause fewer side effects than paclitaxel. It stops cancer cells from growing and dividing, and may kill them. It is a type of mitotic inhibitor and a type of antimicrotubule agent. Also called Abraxane, nanoparticle paclitaxel, paclitaxel albumin-stabilized nanoparticle formulation, and protein-bound paclitaxel.  abiraterone acetate listen (A-bih-RA-teh-rone A-seh-tayt) A drug used with prednisone to treat prostate cancer that has spread to other parts of the body. It is used in patients whose cancer is castration resistant (has not responded to treatments that lower testosterone levels) or whose cancer is high risk and castration sensitive (has responded to treatments that lower testosterone levels). It is also being studied in the treatment of other types of cancer. Abiraterone acetate lowers the amount of androgens (male hormones), such as testosterone, made by the body. This may stop the growth of cancer cells that need androgens to grow. Abiraterone acetate is a type of antiandrogen. Also called Zytiga.  ablation listen (a-BLAY-shun) In medicine, the removal or destruction of a body part or tissue or its function. Ablation may be performed by surgery, hormones, drugs, radiofrequency, heat, or other methods.  abnormal listen (ab-NOR-mul) Not normal. Describes a state, condition, or behavior that is unusual or different from what is considered normal. An abnormal lesion or growth in or on the body may be benign (not cancer), precancerous or premalignant (likely to become cancer), or malignant (cancer).  ABO blood group system listen (… blud groop SIS-tem) A system used to group human blood into different types, based on the presence or absence of certain markers on the surface of red blood cells. The four main blood types are A, B, O, and AB. For a blood transfusion, the ABO blood group system is used to match the blood type of the donor and the person receiving the transfusion. People with blood type O can donate blood to anyone and are called universal donors. People with blood type AB can accept blood from all donors and are called universal recipients. People with type A or B can receive matching blood or type O blood.  ABR test listen (... test) A test used to detect some types of hearing loss, such as hearing loss caused by injury or tumors that affect nerves involved in hearing. Electrodes are placed on the head and certain tones or clicking sounds are made. The electrodes measure nerve signals in the brain when it reacts to the sounds. Also called auditory brain stem response test, BAER test, and brain stem auditory evoked response test.  Abraxane listen (uh-BRAK-sayn) A drug used to treat breast cancer that has come back or spread to other parts of the body. It is also used with carboplatin to treat advanced non-small cell lung cancer in patients who are not able to have surgery or radiation therapy. It is also used with gemcitabine hydrochloride to treat pancreatic cancer that has spread to other parts of the body. It is being studied in the treatment of other types of cancer. Abraxane is a form of the anticancer drug paclitaxel and may cause fewer side effects than paclitaxel. It stops cancer cells from growing and dividing, and may kill them. It is a type of mitotic inhibitor and a type of antimicrotubule agent. Also called ABI-007, nanoparticle paclitaxel, paclitaxel albumin-stabilized nanoparticle formulation, and protein-bound paclitaxel.  Abrikossoff tumor listen (AH-bree-KAH-sof TOO-mer) A rare type of soft tissue tumor that usually begins in Schwann cells (cells that hold nerve cells in place). It can occur anywhere in the body, but it usually occurs in or under the skin of the head and neck (especially the mouth or tongue). It may also occur in the chest, breast, esophagus, stomach, or other internal organ. Most Abrikossoff tumors are benign (not cancer), but some may be malignant (cancer) and spread quickly to nearby tissue. They usually occur in middle-aged adults. Also called granular cell tumor.  abscess listen (AB-ses) An enclosed collection of pus in tissues, organs, or confined spaces in the body. An abscess is a sign of infection and is usually swollen and inflamed.  absolute neutrophil count listen (AB-soh-loot NOO-troh-fil kownt) A measure of the number of neutrophils in the blood. Neutrophils are a type of white blood cell. They help the body fight infection. An absolute neutrophil count may be used to check for infection, inflammation, leukemia, and other conditions. The lower a person's absolute neutrophil count is, the higher the risk is of getting an infection. Having an absolute neutrophil count of less than 500 means there is a high risk of getting an infection. Cancer treatment, such as chemotherapy, may reduce the absolute neutrophil count. Also called ANC.  absolute risk listen (AB-soh-loot risk) A measure of the risk of a certain event happening. In cancer research, it is the likelihood that a person who is free of a specific type of cancer at a given age will develop that cancer over a certain period of time. For example, a woman 35 years of age, with no known risk factors for breast cancer, has an absolute risk of getting breast cancer over a lifetime of 90 years of about 13.5%, meaning one out of every seven women will develop breast cancer.  absorption listen (ub-SORP-shun) The process of taking nutrients from the digestive system into the blood so they can be used in the body.  ABT-263 A substance being studied in the treatment of lymphomas and other types of cancer. It blocks some of the enzymes that keep cancer cells from dying. It is a type of Bcl-2 family inhibitor. Also called navitoclax.  ABT-510 A substance being studied in the treatment of cancer. It is a type of angiogenesis inhibitor.  ABT-751 A substance that is being studied in the treatment of cancer. It belongs to the family of drugs called sulfonamides.  ABT-869 A substance being studied in the treatment of several types of cancer. ABT-869 blocks the action of several growth factors. It may also block the growth of new blood vessels that tumors need to grow and may cause cancer cells to die. It is a type of receptor tyrosine kinase inhibitor and a type of angiogensis inhibitor. Also called multitargeted receptor tyrosine kinase inhibitor ABT-869.  ABT-888 A substance being studied in the treatment of breast cancers caused by mutations (changes) in the BRCA1 and BRCA2 genes. It is also being studied in the treatment of other types of cancer. It blocks an enzyme involved in many functions of the cell, including the repair of DNA damage. DNA damage may be caused by normal cell actions, UV light, some anticancer drugs, and radiation used to treat cancer. ABT-888 may cause cancer cells to die. It is a type of poly(ADP-ribose) polymerase inhibitor. Also called PARP-1 inhibitor ABT-888 and veliparib.  ABVD An abbreviation for a chemotherapy combination used to treat Hodgkin lymphoma. It includes the drugs doxorubicin hydrochloride (Adriamycin), bleomycin sulfate, vinblastine sulfate, and dacarbazine. Also called ABVD regimen.  ABVD regimen listen (… REH-jih-men) An abbreviation for a chemotherapy combination used to treat Hodgkin lymphoma. It includes the drugs doxorubicin hydrochloride (Adriamycin), bleomycin sulfate, vinblastine sulfate, and dacarbazine. Also called ABVD.  ABVE An abbreviation for a chemotherapy combination used with radiation therapy to treat childhood Hodgkin lymphoma. It includes the drugs doxorubicin hydrochloride (Adriamycin), bleomycin sulfate, vincristine sulfate, and etoposide. Also called ABVE regimen, DBVE, and DBVE regimen.  ABVE regimen listen (… REH-jih-men) An abbreviation for a chemotherapy combination used with radiation therapy to treat childhood Hodgkin lymphoma. It includes the drugs doxorubicin hydrochloride (Adriamycin), bleomycin sulfate, vincristine sulfate, and etoposide. Also called ABVE, DBVE, and DBVE regimen.  ABVE-PC An abbreviation for a chemotherapy combination used with radiation therapy to treat childhood Hodgkin lymphoma. It includes the drugs doxorubicin hydrochloride (Adriamycin), bleomycin sulfate, vincristine sulfate, etoposide, prednisone, and cyclophosphamide. Also called ABVE-PC regimen, DBVE-PC, and DBVE-PC regimen.  ABVE-PC regimen listen (… REH-jih-men) An abbreviation for a chemotherapy combination used with radiation therapy to treat childhood Hodgkin lymphoma. It includes the drugs doxorubicin hydrochloride (Adriamycin), bleomycin sulfate, vincristine sulfate, etoposide, prednisone, and cyclophosphamide. Also called ABVE-PC, DBVE-PC, and DBVE-PC regimen.  ABX-EGF A drug used alone or with other anticancer drugs to treat certain types of colorectal cancer that have spread to other parts of the body. It is used in patients whose cancer has not already been treated or whose cancer got worse after treatment with other anticancer drugs. It is also being studied in the treatment of other types of cancer. ABX-EGF binds to a protein called epidermal growth factor receptor (EGFR), which is found on some normal cells and some types of cancer cells. Blocking this protein may help keep cancer cells from growing. ABX-EGF is a type of monoclonal antibody. Also called panitumumab and Vectibix.  AC An abbreviation for a chemotherapy combination used with other types of therapy to treat breast cancer, including breast cancer that has spread or come back. It includes the drugs doxorubicin hydrochloride (Adriamycin) and cyclophosphamide. Also called AC regimen.  AC regimen listen (… REH-jih-men) An abbreviation for a chemotherapy combination used with other types of therapy to treat breast cancer, including breast cancer that has spread or come back. It includes the drugs doxorubicin hydrochloride (Adriamycin) and cyclophosphamide. Also called AC.  acalabrutinib listen (uh-KA-luh-BROO-tih-nib) A drug used to treat mantle cell lymphoma in patients who have already received at least one other treatment. It is also being studied in the treatment of other types of cancer. Acalabrutinib blocks a protein called Bruton’s tyrosine kinase (BTK), which may help keep cancer cells from growing. It is a type of tyrosine kinase inhibitor. Also called Calquence.  ACAPHA listen (a-KA-fuh) A mixture of six herbs that has been used in China to prevent and treat diseases such as lung and esophageal cancers. It is being studied in the United States and Canada in the prevention of lung cancer in people who used to smoke.  accelerated partial-breast irradiation listen (ak-SEH-leh-ray-ted PAR-shul-brest ih-RAY-dee-AY-shun) A type of radiation therapy given only to the part of the breast that has cancer in it. Accelerated partial-breast irradiation gives a higher dose over a shorter time than is given in standard whole-breast radiation therapy. Accelerated partial-breast irradiation may be given using internal or external sources of radiation. Also called partial-breast irradiation.  accelerated phase chronic myelogenous leukemia listen (ak-SEH-leh-ray-ted fayz KRAH-nik MY-eh-LAH-jeh-nus loo-KEE-mee-uh) A phase of chronic myelogenous leukemia in which the disease is progressing. In this phase, 10% to 19% of the cells in the blood and bone marrow are blast cells (immature blood cells).  accelerated radiation therapy listen (ak-SEH-leh-ray-ted RAY-dee-AY-shun THAYR-uh-pee) Radiation treatment in which the total dose of radiation is given over a shorter period of time (fewer days) compared to standard radiation therapy.  accelerated-fraction radiation therapy listen (ak-SEH-leh-ray-ted-FRAK-shun RAY-dee-AY-shun THAYR-uh-pee) Radiation treatment in which the total dose of radiation is divided into small doses and the treatments are given more than once a day. The total dose of radiation is also given over a shorter period of time (fewer days) compared to standard radiation therapy.  Accolate listen (A-koh-layt) A drug used to prevent and treat symptoms of asthma. It blocks substances that cause inflammation in the lungs. It is a type of antiasthmatic agent and a leukotriene receptor antagonist. Also called zafirlukast.  ACE inhibitor listen (... in-HIH-bih-ter) A drug that is used to lower blood pressure. An ACE inhibitor is a type of antihypertensive agent. Also called angiotensin-converting enzyme inhibitor.  acetaminophen listen (uh-see-tuh-MIH-nuh-fen) A drug that reduces pain and fever (but not inflammation). It belongs to the family of drugs called analgesics.  acetate listen (A-seh-tayt) A form of acetic acid (an acid found in vinegar).  acetic acid listen (uh-SEE-tik A-sid) An acid found in vinegar. Acetic acid is also used to dissolve substances needed to make some medicines and other products, such as plastics.  acetone listen (A-seh-tone) A chemical substance found naturally in small amounts in plants, trees, volcanoes, and forest fires. Acetone is also made by the body when fats are broken down. It is also found in tobacco smoke, car exhaust, and trash landfills. In industry, acetone is used in some plastics, fibers, medicines, household cleaners, glues, and nail polish removers. Being exposed to high levels of acetone may irritate the skin, eyes, nose, throat, and lungs. It can cause headaches, nausea, vomiting, dizziness, confusion, loss of consciousness, and other health problems.  acetyl group listen (A-seh-til groop) A small molecule made of two carbon, three hydrogen, and one oxygen atoms. Acetyl groups are added to or removed from other molecules and may affect how the molecules act in the body.  acetylation listen (a-SEH-tih-LAY-shun) A chemical reaction in which a small molecule called an acetyl group is added to other molecules. Acetylation of proteins may affect how they act in the body.  acetylcholine listen (A-seh-til-KOH-leen) A chemical made by some types of nerve cells. It is used to send messages to other cells, including other nerve cells, muscle cells, and gland cells. It is released from the nerve ending and carries signals to cells on the other side of a synapse (space between nerve cells and other cells). Acetylcholine helps control memory and the action of certain muscles. It is a type of neurotransmitter.  acetylcysteine listen (A-seh-til-SIS-teh-een) A drug usually used to reduce the thickness of mucus and ease its removal. It is also used to reverse the toxicity of high doses of acetaminophen. Also called N-acetyl-L-cysteine and N-acetylcysteine.  acetyl-L-carnitine listen (A-seh-til ... KAR-nih-teen) A form of the natural substance carnitine that is being studied as a way to prevent tissue damage caused by chemotherapy. Carnitine is made in muscle and liver tissue and is found in certain foods, such as meat, poultry, fish, and some dairy products. It is used by many cells in the body to make energy from fat. Also called acetyl-L-carnitine hydrochloride and ALCAR.  acetyl-L-carnitine hydrochloride listen (A-seh-til ... KAR-nih-teen HY-droh-KLOR-ide) A form of the natural substance carnitine that is being studied as a way to prevent tissue damage caused by chemotherapy. Carnitine is made in muscle and liver tissue and is found in certain foods, such as meat, poultry, fish, and some dairy products. It is used by many cells in the body to make energy from fat. Also called acetyl-L-carnitine and ALCAR.  ACF Clusters of abnormal tube-like glands in the lining of the colon and rectum. ACF form before colorectal polyps and are one of the earliest changes that can be seen in the colon that may lead to cancer. Also called aberrant crypt foci.  achlorhydria listen (ay-klor-HY-dree-uh) A lack of hydrochloric acid in the digestive juices in the stomach. Hydrochloric acid helps digest food.  acid listen (A-sid) A chemical that gives off hydrogen ions in water and forms salts by combining with certain metals. Acids have a sour taste and turn certain dyes red. Some acids made by the body, such as gastric acid, can help organs work the way they should. An example of an acid is hydrochloric acid. Acidity is measured on a scale called the pH scale. On this scale, a value of 7 is neutral, and a pH value of less than 7 to 0 shows increasing acidity.  acid-base balance listen (A-sid-bays BA-lunts) In medicine, the state of having the right amount of acid and base in the blood and other body fluids. Keeping a normal acid-base balance is important for the body to work the way it should. Also called acid-base equilibrium.  acid-base equilibrium listen (A-sid-bays EE-kwuh-LIH-bree-um) In medicine, the state of having the right amount of acid and base in the blood and other body fluids. Keeping a normal acid-base equilibrium is important for the body to work the way it should. Also called acid-base balance.  acidification listen (a-SIH-dih-fih-KAY-shun) The process of making or becoming an acid. An acid is a substance that gives off hydrogen ions in water and forms salts by combining with certain metals.  acidity listen (a-SIH-dih-tee) Describes the amount of acid in a substance. An acid is a chemical that gives off hydrogen ions in water and forms salts by combining with certain metals. Acidity is measured on a scale called the pH scale. On this scale, a pH value of 7 is neutral, and a pH value of less than 7 to 0 shows increasing acidity.  acitretin listen (A-sih-TREH-tin) A substance that is used in the prevention of cancer and in the treatment of psoriasis. It belongs to the family of drugs called retinoids.  ACN53 A substance that has been studied in the treatment of some types of cancer. ACN53 is a weakened adenovirus that carries the p53 gene into tumor cells, causing them to die. It is a type of gene therapy. Also called rAd/p53, recombinant adenovirus-p53, and SCH-58500.  acne listen (AK-nee) A disorder of the skin in which oil glands and hair glands become inflamed.  acolbifene hydrochloride listen (ay-KOLE-bih-feen HY-droh-KLOR-ide) A substance being studied in the prevention of breast cancer in women at high risk of breast cancer. Acolbifene hydrochloride binds to estrogen receptors in the body and blocks the effects of estrogen in the breast. It is a type of selective estrogen receptor modulator (SERM).  acoustic listen (uh-KOOS-tik) Having to do with sound or hearing.  acoustic neurofibromatosis listen (uh-KOOS-tik NOOR-oh-FY-broh-muh-TOH-sis) A genetic condition in which tumors form on the nerves of the inner ear and cause loss of hearing and balance. Tumors may also occur in the brain and on nerves in the skull and spinal cord, and may cause loss of speech, eye movement, and the ability to swallow. Also called neurofibromatosis type 2 and NF2.  acquired immunodeficiency syndrome listen (uh-KWY-erd IH-myoo-noh-deh-FIH-shun-see SIN-drome) A disease caused by the human immunodeficiency virus (HIV). People with acquired immunodeficiency syndrome are at an increased risk for developing certain cancers and for infections that usually occur only in individuals with a weak immune system. Also called AIDS.  acquired pure red cell aplasia listen (uh-KWY-erd … sel uh-PLAY-zhuh) A rare disorder in which the bone marrow makes almost no red blood cells. It may be caused by infection or by certain drugs. Patients with this disorder may also have a thymoma (a tumor of the thymus) or an autoimmune condition such as lupus erythematosus or rheumatoid arthritis.  acridine carboxamide listen (A-krih-deen kar-BOK-suh-mide) A substance being studied in the treatment of cancer. It is a type of topoisomerase inhibitor. Also called DACA.  acromegaly listen (A-kroh-MEH-guh-lee) A condition in which the pituitary gland makes too much growth hormone after normal growth of the skeleton is finished. This causes the bones of the hands, feet, head, and face to grow larger than normal. Acromegaly can be caused by a pituitary gland tumor.  acrylonitrile listen (ak-rih-loh-NY-tril) A substance used to make plastics, rubber, and textiles. Being exposed to acrylonitrile may increase the risk of developing certain cancers, such as lung, brain, or prostate cancer.  AC-T An abbreviation for a chemotherapy combination used to treat breast cancer. It includes the drugs doxorubicin hydrochloride (Adriamycin) and cyclophosphamide, followed by treatment with paclitaxel (Taxol). Also called AC-T regimen and AC-Taxol regimen.  AC-T regimen listen (… REH-jih-men) An abbreviation for a chemotherapy combination used to treat breast cancer. It includes the drugs doxorubicin hydrochloride (Adriamycin) and cyclophosphamide, followed by treatment with paclitaxel (Taxol). Also called AC-T and AC-Taxol regimen.  AC-Taxol regimen listen (… TAK-sol REH-jih-men) An abbreviation for a chemotherapy combination used to treat breast cancer. It includes the drugs doxorubicin hydrochloride (Adriamycin) and cyclophosphamide, followed by treatment with paclitaxel (Taxol). Also called AC-T and AC-T regimen.  Actemra listen (ak-TEM-ruh) A drug used to treat severe or life-threatening cytokine release syndrome caused by a type of immunotherapy called chimeric antigen receptor (CAR) T-cell therapy. It is used in patients aged 2 years and older. Actemra is also used to treat certain types of arthritis and a condition that causes inflammation of the lining of the arteries. It is also being studied in the treatment of other conditions. Actemra binds to receptors for a protein called interleukin-6 (IL-6), which is made by white blood cells and other cells in the body. This may help lower the body’s immune response and reduce inflammation. Actemra is a type of monoclonal antibody. Also called tocilizumab.  ACTH A hormone made in the pituitary gland. ACTH acts on the outer part of the adrenal gland to control its release of corticosteroid hormones. More ACTH is made during times of stress. Also called adrenocorticotropic hormone and corticotropin.  AC-TH regimen listen (… REH-jih-men) An abbreviation for a chemotherapy combination used to treat breast cancer. It includes the drugs doxorubicin hydrochloride (Adriamycin) and cyclophosphamide, followed by treatment with paclitaxel (Taxol) and trastuzumab (Herceptin). Also called AC-T-T, AC-T-T regimen, and sequential AC/Taxol-Trastuzumab regimen.  Actinex listen (AK-tih-nex) A drug put on the skin to treat growths caused by sun exposure. A form of Actinex that is taken by mouth is being studied in the treatment of prostate cancer. Actinex is an antioxidant, and it may block certain enzymes needed for tumor growth. Also called masoprocol, NDGA, and nordihydroguaiaretic acid.  actinic keratosis listen (ak-TIH-nik KAYR-uh-TOH-sis) A thick, scaly patch of skin that may become cancer. It usually forms on areas exposed to the sun, such as the face, scalp, back of the hands, or chest. It is most common in people with fair skin. Also called senile keratosis and solar keratosis.  actinomycin D listen (AK-tih-noh-MY-sin …) A drug used to treat Ewing sarcoma, gestational trophoblastic tumor, Wilms tumor, and certain types of testicular cancer. It is also used to treat rhabdomyosarcoma in children. It is being studied in the treatment of other types of cancer. Actinomycin D comes from the bacterium Streptomyces parvulus. It damages the cell’s DNA and may kill cancer cells. It is a type of anticancer antibiotic. Also called Cosmegen and dactinomycin.  action study listen (AK-shun STUH-dee) In cancer prevention clinical trials, a study that focuses on finding out whether actions people take can prevent cancer.  Activase listen (AK-tih-vays) A form of tissue plasminogen activator that is made in the laboratory. It helps dissolve blood clots and is used to treat heart attacks, strokes, and clots in the lungs. It is also being studied in the treatment of cancer. It is a type of systemic thrombolytic agent. Also called Alteplase, r-tPA, and recombinant tissue plasminogen activator.  activate listen (AK-tih-vayt) In biology, to stimulate a cell in a resting state to become active. This causes biochemical and functional changes in the activated cell.  active surveillance listen (AK-tiv ser-VAY-lents) A treatment plan that involves closely watching a patient’s condition but not giving any treatment unless there are changes in test results that show the condition is getting worse. Active surveillance may be used to avoid or delay the need for treatments such as radiation therapy or surgery, which can cause side effects or other problems. During active surveillance, certain exams and tests are done on a regular schedule. It may be used in the treatment of certain types of cancer, such as prostate cancer, urethral cancer, and intraocular (eye) melanoma. It is a type of expectant management.  activities of daily living listen (ak-TIH-vih-teez…DAY-lee LIH-ving) The tasks of everyday life. These activities include eating, dressing, getting into or out of a bed or chair, taking a bath or shower, and using the toilet. Instrumental activities of daily living are activities related to independent living and include preparing meals, managing money, shopping, doing housework, and using a telephone. Also called ADL.  Actos listen (AK-tose) A drug that is used to treat type 2 diabetes and is being studied in the prevention of head and neck cancer. It may be able to stop leukoplakia (a condition affecting the mouth ) from developing into cancer. It is a type of thiazolidinedione. Also called pioglitazone.  AC-T-T An abbreviation for a chemotherapy combination used to treat breast cancer. It includes the drugs doxorubicin hydrochloride (Adriamycin) and cyclophosphamide, followed by treatment with paclitaxel (Taxol) and trastuzumab (Herceptin). Also called AC-T-T regimen, AC-TH regimen, and sequential AC/Taxol-Trastuzumab regimen.  AC-T-T regimen listen (… REH-jih-men) An abbreviation for a chemotherapy combination used to treat breast cancer. It includes the drugs doxorubicin hydrochloride (Adriamycin) and cyclophosphamide, followed by treatment with paclitaxel (Taxol) and trastuzumab (Herceptin). Also called AC-T-T, AC-TH regimen, and sequential AC/Taxol-Trastuzumab regimen.  acupoint listen (AK-yoo-poynt) A specific spot on the body where an acupuncture needle may be inserted to control pain and other symptoms. Also called acupuncture point.  acupressure listen (AK-yoo-PREH-sher) The application of pressure or localized massage to specific sites on the body to control symptoms such as pain or nausea. It is a type of complementary and alternative medicine.  acupuncture listen (AK-yoo-PUNK-cher) The technique of inserting thin needles through the skin at specific points on the body to control pain and other symptoms. It is a type of complementary and alternative medicine.  acupuncture needle listen (AK-yoo-PUNK-cher NEE-dul) A stainless steel needle that is slightly thicker than a human hair. Acupuncture needles are inserted through the skin at specific points on the body to control pain and other symptoms.  acupuncture point listen (AK-yoo-PUNK-cher poynt) A specific spot on the body where an acupuncture needle may be inserted to control pain and other symptoms. Also called acupoint.  acupuncture point injection listen (AK-yoo-PUNK-cher poynt in-JEK-shun) A procedure in which drugs, vitamins, herbal extracts, or other fluids are injected into the body at an acupuncture point using a syringe and needle.  acupuncture-like transcutaneous electrical nerve stimulation listen (AK-yoo-PUNK-cher-like tranz-kyoo-TAY-nee-us ee-LEK-trih-kul nerv STIM-yoo-LAY-shun) A procedure in which mild electric currents are applied to certain acupuncture points (spots on the body where an acupuncture needle may be inserted to control pain and other symptoms) on the skin. It is being studied in the treatment of dry mouth caused by radiation therapy for cancer. Also called ALTENS.  acupuncturist listen (AK-yoo-PUNK-cheh-rist) A person trained in acupuncture (therapy that uses thin needles inserted through the skin at specific points on the body to control pain and other symptoms). Acupuncture is a type of complementary and alternative medicine.  acustimulation listen (AK-yoo-STIM-yoo-LAY-shun) Mild electrical stimulation of acupuncture points to control symptoms such as nausea and vomiting.  acute listen (uh-KYOOT) Symptoms or signs that begin and worsen quickly; not chronic.  acute bacterial prostatitis listen (uh-KYOOT bak-TEER-ee-ul PROS-tuh-TY-tis) Inflammation of the prostate gland that begins suddenly and gets worse quickly. It is caused by a bacterial infection. Symptoms include fever and chills, body aches, pain in the lower back and genital area, a burning feeling during urination, and problems with emptying the bladder all the way.  acute leukemia listen (uh-KYOOT loo-KEE-mee-uh) A rapidly progressing cancer that starts in blood-forming tissue such as the bone marrow, and causes large numbers of white blood cells to be produced and enter the blood stream.  acute lymphoblastic leukemia listen (uh-KYOOT LIM-foh-BLAS-tik loo-KEE-mee-uh) A type of leukemia (blood cancer) that comes on quickly and is fast growing. In acute lymphoblastic leukemia, there are too many lymphoblasts (immature white blood cells) in the blood and bone marrow. Also called acute lymphocytic leukemia and ALL.  acute lymphocytic leukemia listen (uh-KYOOT LIM-foh-SIH-tik loo-KEE-mee-uh) A type of leukemia (blood cancer) that comes on quickly and is fast growing. In acute lymphocytic leukemia, there are too many lymphoblasts (immature white blood cells) in the blood and bone marrow. Also called acute lymphoblastic leukemia and ALL.  acute myeloblastic leukemia listen (uh-KYOOT MY-eh-loh-BLAS-tik loo-KEE-mee-uh) An aggressive (fast-growing) disease in which too many myeloblasts (immature white blood cells that are not lymphoblasts) are found in the bone marrow and blood. Also called acute myelogenous leukemia, acute myeloid leukemia, acute nonlymphocytic leukemia, AML, and ANLL.  acute myelogenous leukemia listen (uh-KYOOT MY-eh-LAH-jeh-nus loo-KEE-mee-uh) An aggressive (fast-growing) disease in which too many myeloblasts (immature white blood cells that are not lymphoblasts) are found in the bone marrow and blood. Also called acute myeloblastic leukemia, acute myeloid leukemia, acute nonlymphocytic leukemia, AML, and ANLL.  acute myeloid leukemia listen (uh-KYOOT MY-eh-loyd loo-KEE-mee-uh) An aggressive (fast-growing) disease in which too many myeloblasts (immature white blood cells that are not lymphoblasts) are found in the bone marrow and blood. Also called acute myeloblastic leukemia, acute myelogenous leukemia, acute nonlymphocytic leukemia, AML, and ANLL.  acute myeloid leukemia with myelodysplasia-related changes listen (uh-KYOOT MY-eh-loyd loo-KEE-mee-uh … MY-eh-loh-dis-PLAY-zhuh-ree-LAY-ted CHAYN-jiz) A type of acute myeloid leukemia in which at least 20% of a patient’s blood or bone marrow is myeloblasts (immature white blood cells) and the patient has one of the following conditions: 1) has had myelodysplastic syndrome (MDS) or a myelodysplastic/myeloproliferative neoplasm (MDS/MPN) before, 2) cells that have changes in certain chromosomes that are similar to those found in MDS, or 3) at least 50% of the cells (of at least two types of blood cells) are abnormal. Acute myeloid leukemia with myelodysplasia-related changes usually occurs in older adults and has a poor prognosis. Also called AML-MRC.  acute nonlymphocytic leukemia listen (uh-KYOOT non-LIM-foh-SIH-tik loo-KEE-mee-uh) An aggressive (fast-growing) disease in which too many myeloblasts (immature white blood cells that are not lymphoblasts) are found in the bone marrow and blood. Also called acute myeloblastic leukemia, acute myelogenous leukemia, acute myeloid leukemia, AML, and ANLL.  acute pain listen (uh-KYOOT payn) Pain that comes on quickly, can be severe, but lasts a relatively short time.  acute promyelocytic leukemia listen (uh-KYOOT proh-MY-eh-loh-SIH-tik loo-KEE-mee-uh) An aggressive (fast-growing) type of acute myeloid leukemia in which there are too many immature blood-forming cells in the blood and bone marrow. It is usually marked by an exchange of parts of chromosomes 15 and 17. Also called APL and promyelocytic leukemia.  acute radiation sickness listen (uh-KYOOT RAY-dee-AY-shun SIK-nes) Serious illness caused by being exposed to high doses of certain types of radiation, usually over a short period of time. Symptoms of acute radiation sickness usually occur right after exposure but they may happen over time, and they may come and go. Symptoms include nausea and vomiting, diarrhea, headache, dizziness, weakness, fatigue, bleeding, hair loss, swelling, itching, and redness of the skin, and other skin problems. Very large doses of radiation may cause death. Also called acute radiation syndrome, radiation poisoning, radiation sickness, and radiation sickness syndrome.  acute radiation syndrome listen (uh-KYOOT RAY-dee-AY-shun SIN-drome) Serious illness caused by being exposed to high doses of certain types of radiation, usually over a short period of time. Symptoms of acute radiation syndrome usually occur right after exposure but they may happen over time, and they may come and go. Symptoms include nausea and vomiting, diarrhea, headache, dizziness, weakness, fatigue, bleeding, hair loss, swelling, itching, and redness of the skin, and other skin problems. Very large doses of radiation may cause death. Also called acute radiation sickness, radiation poisoning, radiation sickness, and radiation sickness syndrome.  acyclovir listen (ay-SY-kloh-veer) A substance used to prevent or treat cytomegalovirus and herpes simplex infections that may occur when the body is immunosuppressed. It belongs to the family of drugs called antivirals.  AD 32 A drug used to treat bladder carcinoma in situ that did not get better after treatment with bacillus Calmette-Guerin (BCG). It is used in patients who cannot have surgery right away to remove all or part of the bladder. AD 32 is given as a solution through a catheter that is placed into the bladder. It blocks a certain enzyme needed for cell division and DNA repair, and it may kill cancer cells. AD 32 is a type of anthracycline antibiotic and a type of topoisomerase inhibitor. Also called valrubicin and Valstar.  ADC A substance made up of a monoclonal antibody chemically linked to a drug. The monoclonal antibody binds to specific proteins or receptors found on certain types of cells, including cancer cells. The linked drug enters these cells and kills them without harming other cells. Some ADCs are used to treat cancer. Also called antibody-drug conjugate.  ADCC A type of immune reaction in which a target cell or microbe is coated with antibodies and killed by certain types of white blood cells. The white blood cells bind to the antibodies and release substances that kill the target cells or microbes. Also called antibody-dependent cell-mediated cytotoxicity and antibody-dependent cellular cytotoxicity.  Adcetris listen (ad-SEH-tris) A drug used with other anticancer drugs to treat systemic anaplastic large cell lymphoma or other peripheral T-cell lymphomas, including angioimmunoblastic T-cell lymphoma, that are CD30 positive and have not been treated with other therapy. It is also used with other anticancer drugs to treat stage III or stage IV classical Hodgkin lymphoma that has not been treated with other therapy. Adcetris is also used to treat certain types of Hodgkin lymphoma, anaplastic large cell lymphoma, and mycosis fungoides that were treated with other therapy. It is also being studied in the treatment of other types of cancer. Adcetris contains a monoclonal antibody that binds to a protein called CD30, which is found on some lymphoma cells. It also contains an anticancer drug, which may help kill cancer cells. Adcetris is a type of antibody-drug conjugate. Also called brentuximab vedotin and SGN-35.  Adderall listen (A-deh-rawl) A combination of drugs used as a treatment for attention deficit hyperactivity disorder (ADHD) and narcolepsy (a sleep disorder). It is a type of stimulant. Also called dextroamphetamine-amphetamine.  addiction listen (uh-DIK-shun) An uncontrollable craving, seeking, and use of a substance, such as a drug or alcohol.  Addison disease listen (A-dih-sun dih-ZEEZ) A rare disorder in which the adrenal glands do not make enough of certain hormones. Symptoms include weight loss, loss of appetite, nausea and vomiting, diarrhea, muscle weakness, fatigue, low blood sugar, low blood pressure, and patchy or dark skin. Most cases of the disorder are caused by immune system problems, but may also be caused by infection, cancer, or other diseases. Also called adrenal insufficiency.  ADE An abbreviation for a chemotherapy combination used to treat childhood acute myeloid leukemia (AML). It includes the drugs cytarabine (Ara-C), daunorubicin hydrochloride, and etoposide phosphate. Also called ADE regimen.  ADE regimen listen (… REH-jih-men) An abbreviation for a chemotherapy combination used to treat childhood acute myeloid leukemia (AML). It includes the drugs cytarabine (Ara-C), daunorubicin hydrochloride, and etoposide phosphate. Also called ADE.  adenine listen (A-deh-neen) A chemical compound that is used to make one of the building blocks of DNA and RNA. It is also a part of many substances in the body that give energy to cells. Adenine is a type of purine.  adenocarcinoma listen (A-deh-noh-KAR-sih-NOH-muh) Cancer that begins in glandular (secretory) cells. Glandular cells are found in tissue that lines certain internal organs and makes and releases substances in the body, such as mucus, digestive juices, or other fluids. Most cancers of the breast, pancreas, lung, prostate, and colon are adenocarcinomas.  adenocarcinoma in situ listen (A-deh-noh-KAR-sih-NOH-muh in SY-too) A condition in which abnormal cells are found in the glandular tissue that lines certain internal organs, such as the uterus, cervix, lung, pancreas, and colon. Adenocarcinoma in situ, which occurs most often in the cervix, may become cancer and spread to nearby normal tissue. Also called AIS.  adenoid cystic carcinoma listen (A-deh-noyd SIS-tik KAR-sih-NOH-muh) A rare type of cancer that usually begins in the salivary glands.  adenoma listen (A-deh-NOH-muh) A tumor that is not cancer. It starts in gland-like cells of the epithelial tissue (thin layer of tissue that covers organs, glands, and other structures within the body).  adenopathy listen (A-deh-NAH-puh-thee) Large or swollen lymph glands.  adenosarcoma listen (A-den-oh-sar-KOH-muh) A tumor that is a mixture of an adenoma (a tumor that starts in the gland-like cells of epithelial tissue) and a sarcoma (a tumor that starts in bone, cartilage, fat, muscle, blood vessels, or other connective or supportive tissue). An example of an adenosarcoma is Wilms tumor.  adenosine triphosphate listen (uh-DEH-nuh-seen try-FOS-fayt) A substance present in all living cells that provides energy for many metabolic processes and is involved in making RNA. Adenosine triphosphate made in the laboratory is being studied in patients with advanced solid tumors to see if it can decrease weight loss and improve muscle strength. Also called ATP.  adenosis listen (A-deh-NOH-sis) A disease or abnormal change in a gland. Breast adenosis is a benign condition in which the lobules are larger than usual.  adenosquamous carcinoma listen (A-deh-noh-SKWAY-mus KAR-sih-NOH-muh) A type of cancer that contains two types of cells: squamous cells (thin, flat cells that line certain organs) and gland-like cells.  adenovirus listen (A-den-oh-VY-rus) A member of a family of viruses that can cause infections in the respiratory tract, eye, and gastrointestinal tract. Forms of adenoviruses that do not cause disease are used in gene therapy. They carry genes that may fix defects in cells or kill cancer cells.  ADH A benign (not cancer) condition in which there are more cells than normal in the lining of breast ducts and the cells look abnormal under a microscope. Having ADH increases the risk of breast cancer. Also called atypical ductal breast hyperplasia and atypical ductal hyperplasia.  ADI-PEG 20 A substance being studied in the treatment of melanoma, liver cancer, and other types of cancer. It breaks down the amino acid arginine and may block the growth of cancer cells that need arginine to grow. It is a type of iminohydrolase. Also called pegylated arginine deiminase.  adjunct agent listen (A-junkt AY-jent) In cancer therapy, a drug or substance used in addition to the primary therapy.  adjunct therapy listen (A-junkt THAYR-uh-pee) Another treatment used together with the primary treatment. Its purpose is to assist the primary treatment. Also called adjunctive therapy.  adjunctive therapy listen (A-junk-tiv THAYR-uh-pee) Another treatment used together with the primary treatment. Its purpose is to assist the primary treatment. Also called adjunct therapy.  adjustment disorder listen (uh-JUST-ment dis-OR-der) A condition in which a person responds to a stressful event (such as an illness, job loss, or divorce) with extreme emotions and actions that cause problems at work and home.  adjuvant therapy listen (A-joo-vunt THAYR-uh-pee) Additional cancer treatment given after the primary treatment to lower the risk that the cancer will come back. Adjuvant therapy may include chemotherapy, radiation therapy, hormone therapy, targeted therapy, or biological therapy.  ADL Activities of daily living. The tasks of everyday life. Basic ADLs include eating, dressing, getting into or out of a bed or chair, taking a bath or shower, and using the toilet. Instrumental activities of daily living (IADL) are activities related to independent living and include preparing meals, managing money, shopping, doing housework, and using a telephone. Also called activities of daily living.  administration listen (ad-MIH-nih-STRAY-shun) In medicine, the act of giving a treatment, such as a drug, to a patient. It can also refer to the way it is given, the dose, or how often it is given.  adnexal mass listen (ad-NEK-sul…) A lump in tissue near the uterus, usually in the ovary or fallopian tube. Adnexal masses include ovarian cysts, ectopic (tubal) pregnancies, and benign (not cancer) or malignant (cancer) tumors.  adolescent listen (A-doh-LEH-sent) A young person who has begun puberty but has not yet become an adult. During adolescence a child experiences physical and hormonal changes that mark the transition into adulthood. Adolescents are generally between the ages of 10 and 19 years.  adoptive cell therapy listen (uh-DOP-tiv sel THAYR-uh-pee) A type of immunotherapy that uses the patient’s own T cells (a type of immune cell) to help the body fight diseases, such as cancer. In cancer therapy, T cells are taken from the patient's blood or tumor tissue and treated in the laboratory with substances to make them better able to target the patient's cancer cells and kill them. Large numbers of the treated T cells are then grown in the laboratory and given back to the patient to help the immune system fight the cancer. Types of adoptive cell therapy include chimeric antigen receptor T-cell (CAR T-cell) therapy and tumor-infiltrating lymphocyte (TIL) therapy. Also called cellular adoptive immunotherapy and T-cell transfer therapy.  ado-trastuzumab emtansine listen (A-doh-tras-TOO-zoo-mab em-TAN-seen) A drug used to treat HER2-positive breast cancer that has spread to other parts of the body. It is used in patients who have already been treated with the anticancer drug called trastuzumab and a type of drug called a taxane. It may also be used in patients whose cancer has recurred (come back) after adjuvant therapy with these drugs. It is also being studied in the treatment of other types of cancer. Ado-trastuzumab emtansine contains a monoclonal antibody called trastuzumab that binds to a protein called HER2, which is found on some breast cancer cells. It also contains an anticancer drug called DM1, which may help kill cancer cells. Ado-trastuzumab emtansine is a type of antibody-drug conjugate. Also called Kadcyla and T-DM1.  adrenal cancer listen (uh-DREE-nul KAN-ser) Cancer that forms in the tissues of the adrenal glands (two glands located just above the kidneys). The adrenal glands make hormones that control heart rate, blood pressure, and other important body functions. Adrenal cancer that starts in the outside layer of the adrenal gland is called adrenocortical carcinoma. Adrenal cancer that starts in the center of the adrenal gland is called malignant pheochromocytoma.  adrenal cortex listen (uh-DREE-nul KOR-tex) The outer part of the adrenal gland (a small organ on top of each kidney). The adrenal cortex makes androgen and corticosteroid hormones.  adrenal gland listen (uh-DREE-nul...) A small gland that makes steroid hormones, adrenaline, and noradrenaline. These hormones help control heart rate, blood pressure, and other important body functions. There are two adrenal glands, one on top of each kidney. Also called suprarenal gland.  adrenal insufficiency listen (uh-DREE-nul IN-suh-FIH-shen-see) A rare disorder in which the adrenal glands do not make enough of certain hormones. Symptoms include weight loss, loss of appetite, nausea and vomiting, diarrhea, muscle weakness, fatigue, low blood sugar, low blood pressure, and patchy or dark skin. Most cases of the disorder are caused by immune system problems, but may also be caused by infection, cancer, or other diseases. Also called Addison disease.  adrenal medulla listen (uh-DREE-nul meh-DOO-luh) The inner part of the adrenal gland (a small organ on top of each kidney). The adrenal medulla makes chemicals such as epinephrine (adrenaline) and norepinephrine (noradrenaline) which are involved in sending nerve signals.  adrenalectomy listen (uh-DREE-nul-EK-toh-mee) Surgery to remove one or both adrenal glands (a small organ on top of each kidney).  adrenaline listen (uh-DREH-nuh-lin) A hormone and neurotransmitter. Also called epinephrine.  adrenocortical listen (uh-DREE-noh-KOR-tih-kul) Having to do with or made by the outer layer of the adrenal gland, which produces steroid hormones. There is an adrenal gland on top of each kidney.  adrenocortical cancer listen (uh-DREE-noh-KOR-tih-kul KAN-ser) A rare cancer that forms in the outer layer of tissue of the adrenal gland (a small organ on top of each kidney that makes steroid hormones, adrenaline, and noradrenaline to control heart rate, blood pressure, and other body functions). Also called adrenocortical carcinoma and cancer of the adrenal cortex.  adrenocortical carcinoma listen (uh-DREE-noh-KOR-tih-kul KAR-sih-NOH-muh) A rare cancer that forms in the outer layer of tissue of the adrenal gland (a small organ on top of each kidney that makes steroid hormones, adrenaline, and noradrenaline to control heart rate, blood pressure, and other body functions). Also called adrenocortical cancer and cancer of the adrenal cortex.  adrenocorticotropic hormone listen (uh-DREE-noh-KOR-tih-koh-TROH-pik HOR-mone) A hormone made in the pituitary gland. Adrenocorticotropic hormone acts on the outer part of the adrenal gland to control its release of corticosteroid hormones. More adrenocorticotropic hormone is made during times of stress. Also called ACTH and corticotropin.  AdreView listen (A-dreh-VYOO) A drug containing a form of radioactive iodine called I 123 that is used to find certain types of tumors, including pheochromocytomas and neuroblastomas. Radiation from I 123 may help show where cancer cells are in the body. AdreView is a type of radioconjugate. Also called 123I-MIBG, iobenguane I 123, and iodine I 123-metaiodobenzylguanidine.  Adriamycin PFS listen (AY-dree-uh-MY-sin …) A brand name for doxorubicin hydrochloride, which is used to treat many types of cancer. Adriamycin PFS brand has been taken off the market and is no longer available.  Adriamycin RDF listen (AY-dree-uh-MY-sin …) A brand name for doxorubicin hydrochloride, which is used to treat many types of cancer. Adriamycin RDF brand has been taken off the market and is no longer available.  adult progeria listen (uh-DULT proh-JEER-ee-uh) An inherited disorder marked by rapid aging that begins in early adolescence. Patients may be shorter than average, and have health problems such as loss and graying of hair, hardening of the arteries, thinning of the bones, diabetes, and thin, hardened skin. They also have an increased risk of cancer, especially osteosarcoma (a type of bone cancer). Adult progeria is caused by a mutation (change) in a gene involved in cell division. It is a type of autosomal recessive gene disease. Also called Werner syndrome and WS.  adult rickets listen (uh-DULT RIH-kets) A condition in adults in which bones become soft and deformed because they don’t have enough calcium and phosphorus. It is usually caused by not having enough vitamin D in the diet, not getting enough sunlight, or a problem with the way the body uses vitamin D. Symptoms include bone pain and muscle weakness. When the condition occurs in children, it is called rickets. Also called osteomalacia.  adult T-cell leukemia/lymphoma listen (uh-DULT T-sel loo-KEE-mee-uh/lim-FOH-muh) An aggressive (fast-growing) type of T-cell non-Hodgkin lymphoma caused by the human T-cell leukemia virus type 1 (HTLV-1). It is marked by bone and skin lesions, high calcium levels, and enlarged lymph nodes, spleen, and liver. Also called ATLL.  adulterant listen (uh-DUL-teh-runt) A substance added to a product but not listed as an ingredient, or a substance that ends up in a product by accident when the product is made. Adulterants may be in foods, drugs, and other products. An adulterant may cause a product to be harmful, cheaper to make, or not work as it should.  adult-type fibrosarcoma listen (uh-DULT… FY-broh-sar-KOH-muh) A type of cancer that forms in fibrous (connective) tissue. It can occur anywhere in the body. Adult-type fibrosarcoma may spread to nearby tissue or to other parts of the body, such as the lungs or bones. It may also recur (come back) after treatment. Adult-type fibrosarcoma usually occurs in young and middle-aged adults, but it can also occur in children. It is a type of soft tissue sarcoma.  advance directive listen (ad-VANS duh-REK-tiv) A legal document that states a person’s wishes about receiving medical care if that person is no longer able to make medical decisions because of a serious illness or injury. An advance directive may also give a person (such as a spouse, relative, or friend) the authority to make medical decisions for another person when that person can no longer make decisions. There are different types of advance directives, including a living will, durable power of attorney (DPA) for healthcare, and do not resuscitate (DNR) orders. In the United States, the laws for advance directives may be different for each state, and each state may allow only certain types of advance directives.  advanced cancer listen (ad-VANST KAN-ser) Cancer that is unlikely to be cured or controlled with treatment. The cancer may have spread from where it first started to nearby tissue, lymph nodes, or distant parts of the body. Treatment may be given to help shrink the tumor, slow the growth of cancer cells, or relieve symptoms.  advanced practice nurse listen (ad-VANST PRAK-tis ...) A registered nurse who has additional education and training in how to diagnose and treat disease. Advanced practice nurses are licensed at the state level and certified by national nursing organizations. In cancer care, an advanced practice nurse may manage the primary care of patients and their families, based on a practice agreement with a doctor. Also called APN, NP, and nurse practitioner.  adverse effect listen (AD-vers eh-FEKT) An unexpected medical problem that happens during treatment with a drug or other therapy. Adverse effects may be mild, moderate, or severe, and may be caused by something other than the drug or therapy being given. Also called adverse event.  adverse event listen (AD-vers eh-VENT) An unexpected medical problem that happens during treatment with a drug or other therapy. Adverse events may be mild, moderate, or severe, and may be caused by something other than the drug or therapy being given. Also called adverse effect.  Advil listen (AD-vil) A drug used to treat fever, swelling, pain, and redness by preventing the body from making a substance that causes inflammation. It is a type of nonsteroidal anti-inflammatory drug (NSAID). Also called ibuprofen and Motrin.  AE-941 A substance made from shark cartilage that is being studied for its ability to prevent the growth of new blood vessels that tumors need to grow. It is a type of antiangiogenesis agent.  AEE788 A substance that is being studied in the treatment of cancer. It belongs to the families of drugs called protein tyrosine kinase inhibitors and angiogenesis inhibitors.  AEG35156 A substance being studied in the treatment of cancer. AEG35156 may kill cancer cells by blocking the production of a protein called XIAP that helps cells live longer. It also makes cancer cells more sensitive to anticancer drugs. It is a type of antisense oligonucleotide, and a type of chemosensitizing agent. Also called GEM640.  aerobic listen (ayr-OH-bik) In biochemistry, reactions that need oxygen to happen or happen when oxygen is present.  aerobic exercise listen (ayr-OH-bik EK-ser-size) Physical activity that increases the heart rate and the body’s use of oxygen. It helps improve a person’s physical fitness.  aerobic metabolism listen (ayr-OH-bik meh-TA-buh-lih-zum) A chemical process in which oxygen is used to make energy from carbohydrates (sugars). Also called aerobic respiration, cell respiration, and oxidative metabolism.  aerobic respiration listen (ayr-OH-bik RES-pih-RAY-shun) A chemical process in which oxygen is used to make energy from carbohydrates (sugars). Also called aerobic metabolism, cell respiration, and oxidative metabolism.  aerodigestive tract listen (ayr-OH-dy-JES-tiv trakt) The combined organs and tissues of the respiratory tract and the upper part of the digestive tract (including the lips, mouth, tongue, nose, throat, vocal cords, and part of the esophagus and windpipe).  aerosolize listen (AYR-oh-sah-lize) In medicine, to turn a liquid drug into a fine mist that can be inhaled.  afatinib dimaleate listen (ay-FA-tih-nib dy-MAY-lee-AYT) A drug used to treat non-small cell lung cancer (NSCLC) that has spread to other parts of the body. It is used in patients whose cancer has certain mutations (changes) in a gene called epidermal growth factor receptor (EGFR). It is also used to treat squamous cell NSCLC that has spread to other parts of the body and got worse after treatment with anticancer drugs that included platinum. It is also being studied in the treatment of other types of cancer. Afatinib dimaleate blocks certain proteins made by the mutated EGFR gene, which may help keep cancer cells from growing. It may also prevent the growth of new blood vessels that tumors need to grow. Afatinib dimaleate is a type of tyrosine kinase inhibitor and a type of antiangiogenesis agent. Also called Gilotrif.  affinity listen (uh-FIH-nih-tee) In chemistry and biology, the strength of the attaction between two substances, such as two chemicals, or an antigen and an antibody.  affinity reagent listen (uh-FIH-nih-tee ree-AY-jent) In chemistry and biology, a compound that binds specific substances, such as proteins or nucleic acids. Many affinity reagents are antibodies. They are used to analyze tissue samples to help diagnose diseases.  Afinitor listen (uh-FIH-nih-tor) A drug used with exemestane to treat some postmenopausal women with advanced breast cancer that is hormone receptor positive and HER2 negative. It is also used to treat advanced renal cell carcinoma (a type of kidney cancer) and certain types of pancreatic, lung, and gastrointestinal neuroendocrine tumors. Afinitor is also used to treat renal angiomyolipoma (a type of benign kidney tumor) and subependymal giant cell astrocytoma (a type of benign brain tumor) in patients who have tuberous sclerosis. It blocks a protein involved in cell division, which may help keep abnormal cells, including cancer cells, from growing. It may also prevent the growth of new blood vessels that tumors need to grow. Afinitor contains the active ingredient everolimus. It is a type of kinase inhibitor and a type of angiogenesis inhibitor.  Afinitor Disperz listen (uh-FIH-nih-tor DIS-perz) A drug used to treat subependymal giant cell astrocytoma (a type of benign brain tumor) and certain types of seizures in patients who have tuberous sclerosis. Afinitor Disperz blocks a protein involved in cell division, which may help keep abnormal cells from growing. It may also prevent the growth of new blood vessels that tumors need to grow. It may also help prevent or treat seizures in some patients. Afinitor Disperz contains the active ingredient everolimus. It is a type of kinase inhibitor and a type of angiogenesis inhibitor.  aflatoxin listen (A-fluh-TOK-sin) A harmful substance made by certain types of mold (Aspergillus flavus and Aspergillus parasiticus) that is often found on poorly stored grains and nuts. Consumption of foods contaminated with aflatoxin is a risk factor for primary liver cancer.  AFP A protein normally produced by a fetus. AFP levels are usually undetectable in the blood of healthy adult men or women (who are not pregnant). An elevated level of AFP suggests the presence of either a primary liver cancer or germ cell tumor. Also called alpha-fetoprotein.  AFP464 A substance being studied in the treatment of cancer. AFP464 kills cancer cells or stops them from dividing. It is a type of aminoflavone.  AG-013736 A substance that is being studied in the treatment of cancer. It belongs to the families of drugs called angiogenesis inhibitors and protein tyrosine kinase inhibitors.  AG014699 A drug used to treat recurrent ovarian epithelial, fallopian tube, or primary peritoneal cancer that has gotten better after treatment with anticancer drugs that included platinum. It is used to help keep the cancer from coming back again. AG014699 is also used in patients whose cancer has certain mutations (changes) in the BRCA1 or BRCA2 genes and who have already been treated with at least two other types of anticancer drugs. It is also being studied in the treatment of other types of cancer. AG014699 blocks an enzyme involved in many cell functions, including the repair of DNA damage. Blocking this enzyme may help keep cancer cells from growing and may kill them. AG014699 is a type of poly (ADP-ribose) polymerase inhibitor. Also called PARP-1 inhibitor AG014699, Rubraca, and rucaparib camsylate.  AG2037 A substance that is being studied in the treatment of cancer. It belongs to the family of drugs called glycinamide ribonucleotide formyl transferase inhibitors.  AG3340 A substance that is being studied in the treatment of cancer. It is a matrix metalloproteinase inhibitor and belongs to the family of drugs called angiogenesis inhibitors. Also called prinomastat.  AG337 A substance that is being studied in the treatment of liver cancer. It belongs to the family of drugs called thymidylate synthase inhibitors. Also called nolatrexed and Thymitaq.  aganglionic megacolon listen (ay-GANG-glee-AH-nik MEH-guh-KOH-lun) A condition in which certain nerve cells are missing from the muscle layers of part of the large intestine. This causes severe constipation or blockage of the large intestine. Constipation is when stool becomes hard, dry, and difficult to pass and bowel movements occur less often than normal. Other symptoms include swollen abdomen, vomiting, bloody diarrhea, gas, lack of energy, and trouble gaining weight. Aganglionic megacolon is present from birth, but the symptoms may not appear until later in a child’s life. This condition has been linked to an increased risk of thyroid cancer and neuroblastoma. Also called Hirschsprung disease.  AGC A finding of abnormal cells in a Pap test. The glandular cells come from the inner part of the cervix or the lining of the uterus. This finding may be a sign of cancer or other serious condition, and more testing may be needed. Also called atypical glandular cells.  agent study listen (AY-jent STUH-dee) In cancer prevention, a clinical trial that studies whether taking certain medicines, vitamins, minerals, or food supplements can prevent cancer. Also called chemoprevention study.  age-related macular degeneration listen (ayj-ree-LAY-ted MA-kyoo-ler dee-JEH-neh-RAY-shun) A condition in which there is a slow breakdown of cells in the center of the retina (the light-sensitive layers of nerve tissue at the back of the eye). This blocks vision in the center of the eye and can cause problems with activities such as reading and driving. Age-related macular degeneration is most often seen in people who are over the age of 50. Also called AMD, ARMD, and macular degeneration.  agglutinin listen (uh-GLOO-tih-nin) A substance that makes particles (such as bacteria or cells) stick together to form a clump or a mass.  aggravating factor listen (A-gruh-VAY-ting FAK-ter) Something that makes a condition worse. For example, tobacco smoke is an aggravating factor for asthma.  aggressive listen (uh-GREH-siv) In medicine, describes a tumor or disease that forms, grows, or spreads quickly. It may also describe treatment that is more severe or intense than usual.  aggressive fibromatosis listen (uh-GREH-siv FY-broh-muh-TOH-sis) A type of soft tissue tumor that forms in fibrous (connective) tissue, usually in the arms, legs, or abdomen. It may also occur in the head and neck. Aggressive fibromatoses are usually benign (not cancer). They often recur (come back) after treatment and spread to nearby tissue, but they rarely spread to other parts of the body. They may occur in adults or children. Also called desmoid tumor and desmoid-type fibromatosis.  aggressive lymphoma listen (uh-GREH-siv lim-FOH-muh) A type of lymphoma that grows and spreads quickly and has severe symptoms. Also called high-grade lymphoma and intermediate-grade lymphoma.  aggressive systemic mastocytosis listen (uh-GREH-siv sis-TEH-mik MAS-toh-sy-TOH-sis) A rare condition in which too many mast cells (a type of white blood cell) build up in certain tissues and organs in the body, including the bone marrow, lymph nodes, bone, liver, spleen, and small intestine. Aggressive systemic mastocytosis may get worse quickly and cause severe symptoms and organ damage. Sometimes, it may become mast cell leukemia (a very rare type of leukemia). Aggressive systemic mastocytosis usually occurs in adults. Also called ASM.  agitation listen (A-jih-TAY-shun) A condition in which a person is unable to relax and be still. The person may be very tense and irritable, and become easily annoyed by small things. He or she may be eager to have an argument, and be unwilling to work with caregivers to make the situation better.  agnogenic myeloid metaplasia listen (ag-noh-JEH-nik MY-eh-loyd meh-tuh-PLAY-zhuh) A progressive, chronic disease in which the bone marrow is replaced by fibrous tissue and blood is made in organs such as the liver and the spleen, instead of in the bone marrow. This disease is marked by an enlarged spleen and progressive anemia. Also called chronic idiopathic myelofibrosis, idiopathic myelofibrosis, myelosclerosis with myeloid metaplasia, and primary myelofibrosis.  agonist listen (A-guh-nist) A drug or substance that binds to a receptor inside a cell or on its surface and causes the same action as the substance that normally binds to the receptor.  agoraphobia listen (A-gor-uh-FOH-bee-uh) An intense fear of being in open places or in situations where it may be hard to escape, or where help may not be available. People with agoraphobia are usually very anxious about having a panic attack in a public place. They may also have a fear of being alone or have trouble leaving their home. They usually avoid elevators, bridges, and public places. Agoraphobia is a type of phobia and a type of anxiety disorder.  agranulocyte listen (ay-GRAN-yoo-loh-SITE) A type of white blood cell. Monocytes and lymphocytes are agranulocytes.  AGUS A term that has been used to describe abnormal cells that come from glands in the walls of the cervix (the lower, narrow end of the uterus). These abnormal cells are found in a small number of Pap smears (a procedure used to detect cervical cancer) and may be a sign of more serious lesions or cancer. The term used now is atypical glandular cells. Also called atypical glandular cells of uncertain significance and atypical glandular cells of undetermined significance.  AHA One of a group of substances that are found in several types of fruit and in milk. They are used in skin care products to reduce wrinkles and soften the skin. Examples of AHAs are glycolic acid, lactic acid, and citric acid. Also called alpha hydroxyl acid and fruit acid.  Aicardi syndrome listen (ay-KAR-dee SIN-drome) A rare, genetic disorder marked by a lack of tissue connecting the left and right halves of the brain, seizures, lesions on the back of the eye (retina), and other brain and eye abnormalities. Other problems may include unusual facial features, defects of the hands, spine, and ribs, and developmental and gastrointestinal problems. When Aicardi syndrome occurs, it is almost always in a newborn girl. People with Aicardi syndrome have an increased risk of certain tumors, such as hepatoblastoma (a type of liver cancer) and choroid plexus tumors (a rare tumor that forms in the brain).  AIDS listen A disease caused by the human immunodeficiency virus (HIV). People with AIDS are at an increased risk for developing certain cancers and for infections that usually occur only in individuals with a weak immune system. Also called acquired immunodeficiency syndrome.  AIDS-defining cancer listen (… deh-FY-ning KAN-ser) A type of cancer that a person infected with human immunodeficiency virus (HIV) is at high risk of developing. If a person with HIV develops one of these cancers, it means they have AIDS. AIDS-defining cancers include Kaposi sarcoma, certain types of non-Hodgkin lymphoma, and cervical cancer.  AIDS-related cancer listen (… ree-LAY-ted KAN-ser) A type of cancer that is more likely to occur in people who are infected with the human immunodeficiency virus (HIV). AIDS-related cancers include Kaposi sarcoma, non-Hodgkin lymphoma, cervical cancer, Hodgkin lymphoma, and cancers of the mouth, throat, liver, lung, and anus.  AIS A condition in which abnormal cells are found in the glandular tissue that lines certain internal organs, such as the uterus, cervix, lung, pancreas, and colon. AIS, which occurs most often in the cervix, may become cancer and spread to nearby normal tissue. Also called adenocarcinoma in situ.  AJCC staging system listen (... STAY-jing SIS-tem) A system to describe the amount and spread of cancer in a patient’s body, using TNM. T describes the size of the tumor and any spread of cancer into nearby tissue; N describes spread of cancer to nearby lymph nodes; and M describes metastasis (spread of cancer to other parts of the body). This system was created and is updated by the American Joint Committee on Cancer (AJCC) and the International Union Against Cancer (UICC). The AJCC staging system is used to describe most types of cancer. Also called TNM staging system.  Akt A group of enzymes involved in several processes related to cell growth and survival. Akt enzymes help to transfer signals inside cells. An Akt enzyme is a type of serine/threonine protein kinase. Also called protein kinase B.  Akynzeo listen (ay-KIN-zee-oh) A combination of two drugs used to prevent nausea and vomiting caused by chemotherapy. It is a combination of netupitant and palonosetron hydrochloride. Akynzeo blocks the action of chemicals in the brain that may trigger nausea and vomiting. Akynzeo is a type of antiemetic. Also called netupitant and palonosetron hydrochloride.  Alagille syndrome listen (a-luh-JEEL SIN-drome) A rare disorder in which there are defects in the small tubes that carry bile (fluid that helps digest fat) out of the liver. These small tubes may be narrow or have an abnormal shape, or there may be fewer of them than normal. This can cause bile to build up in the liver, which may lead to cirrhosis (scarring of the liver) and liver damage. Alagille syndrome can also affect other parts of the body, including the heart, kidneys, blood vessels, eyes, face, and spine. It usually occurs in infants and children and may be inherited.  alanine aminopeptidase listen (A-luh-neen uh-MEE-noh-PEP-tih-days) An enzyme that is normally found in healthy kidneys. It may be found at high levels in the urine when there are kidney problems. It is used as a biomarker to detect damage to the kidneys caused by drugs and other agents. It may also be used to diagnose certain kidney and liver disorders. Also called AAP.  alanine transferase listen (A-luh-neen TRANZ-feh-rays) An enzyme found in the liver and other tissues. A high level of alanine transferase released into the blood may be a sign of liver damage, cancer, or other diseases. Also called serum glutamate pyruvate transaminase and SGPT.  alanosine listen (uh-LAN-oh-seen) A substance that is being studied in the treatment of cancer. It belongs to the family of drugs called antimetabolites. Also called SDX-102.  albinism listen (AL-bih-NIH-zum) A group of genetic conditions marked by little or none of the pigment melanin in the skin, hair, and/or eyes. People with albinism may have vision problems and white or yellow hair; reddish, violet, blue or brown eyes; and pale skin.  albumin listen (al-BYOO-min) A type of protein found in blood, egg white, milk, and other substances.  ALCAR listen (ALL-kar) A form of the natural substance carnitine that is being studied as a way to prevent tissue damage caused by chemotherapy. Carnitine is made in muscle and liver tissue and is found in certain foods, such as meat, poultry, fish, and some dairy products. It is used by many cells in the body to make energy from fat. Also called acetyl-L-carnitine and acetyl-L-carnitine hydrochloride.  ALCL An aggressive (fast-growing) type of non-Hodgkin lymphoma that is usually of the T-cell type. The cancer cells express a marker called CD30 or Ki-1 on the surface, and may appear in the lymph nodes, skin, bones, soft tissues, lungs, or liver. Also called anaplastic large cell lymphoma.  alcohol listen (AL-kuh-hol) A chemical substance found in drinks such as beer, wine, and liquor. It is also found in some medicines, mouthwashes, household products, and essential oils (scented liquid taken from certain plants). It is made by a chemical process called fermentation that uses sugars and yeast. There are different types of alcohol. The type used to make alcoholic drinks is called ethyl alcohol (ethanol). Drinking regular or large amounts of alcohol may increase the risk of certain types of cancer, such as cancer of the mouth, throat, esophagus, breast, liver, colon, and rectum.  alcohol ablation listen (AL-kuh-hol a-BLAY-shun) An injection of ethanol (alcohol) through the skin directly into a tumor to kill cancer cells. Ultrasound or a CT scan is used to guide the needle into the tumor. Also called ethanol ablation, PEI, and percutaneous ethanol injection.  alcohol dependence listen (AL-kuh-hol dee-PEN-dents) A chronic disease in which a person craves drinks that contain alcohol and is unable to control his or her drinking. A person with this disease also needs to drink greater amounts to get the same effect and has withdrawal symptoms after stopping alcohol use. Alcohol dependence affects physical and mental health, and can cause problems with family, friends, and work. Regular heavy alcohol intake increases the risk of several types of cancer. Also called alcoholism.  alcoholism listen (AL-kuh-HAW-LIH-zum) A chronic disease in which a person craves drinks that contain alcohol and is unable to control his or her drinking. A person with this disease also needs to drink greater amounts to get the same effect and has withdrawal symptoms after stopping alcohol use. Alcoholism affects physical and mental health, and can cause problems with family, friends, and work. Regular heavy alcohol intake increases the risk of several types of cancer. Also called alcohol dependence.  Aldara listen (al-DAR-uh) A drug used to treat early basal cell skin cancer. It is also used to treat actinic keratosis (a skin condition that may become cancer) and genital warts. Aldara is also being studied in the treatment of other conditions and types of cancer. It may help the immune system kill abnormal cells, including cancer cells. Aldara is a type of immune response modifier. Also called imiquimod.  aldehyde listen (AL-deh-hide) A type of chemical substance made from alcohol. Aldehydes are found in essential oils (scented liquid taken from plants).  aldesleukin listen (AL-des-LOO-kin) A drug used to treat melanoma and renal cell carcinoma (a type of kidney cancer) that have spread to other parts of the body. It is also being studied in the treatment of other types of cancer. Aldesleukin is a form of interleukin-2 that is made in the laboratory. Aldesleukin increases the activity and growth of T lymphocytes and B lymphocytes (types of white blood cells). This may help the immune system kill cancer cells. Aldesleukin is a type of biological response modifier. Also called Proleukin and recombinant human interleukin-2.  aldosterone listen (al-DOS-teh-rone) A steroid hormone made by the adrenal cortex (the outer layer of the adrenal gland). It helps control the balance of water and salts in the kidney by keeping sodium in and releasing potassium from the body. Too much aldosterone can cause high blood pressure and a build-up of fluid in body tissues. Aldosterone is a type of mineralocorticoid hormone.  Aldrich syndrome listen (ALL-drich SIN-drome) An inherited immune disorder that occurs in young boys. It causes eczema (a type of skin inflammation), a decrease in the number of platelets (blood cells that help prevent bleeding), and frequent bacterial infections. People with Aldrich syndrome are at increased risk of developing leukemia and lymphoma. Also called Wiskott-Aldrich syndrome.  Alecensa listen (A-leh-SEN-suh) A drug used to treat non-small cell lung cancer that has spread to other parts of the body and is anaplastic lymphoma kinase (ALK) positive. It is also being studied in the treatment of other types of cancer. Alecensa blocks certain proteins made by the ALK gene. Blocking these proteins may stop the growth and spread of cancer cells. Alecensa is a type of tyrosine kinase inhibitor. Also called alectinib.  alectinib listen (uh-LEK-tih-nib) A drug used to treat non-small cell lung cancer that has spread to other parts of the body and is anaplastic lymphoma kinase (ALK) positive. It is also being studied in the treatment of other types of cancer. Alectinib blocks certain proteins made by the ALK gene. Blocking these proteins may stop the growth and spread of cancer cells. Alectinib is a type of tyrosine kinase inhibitor. Also called Alecensa.  alefacept listen (uh-LEH-fuh-sept) A drug that is used to treat certain skin conditions and is being studied in the treatment of cutaneous (skin-related) T-cell cancer and T-cell non-Hodgkin lymphoma. Alefacept is made by combining part of an antibody with a protein that blocks the growth some types of T cells. It is a type of fusion protein and a type of immunosuppressant. Also called Amevive.  alemtuzumab listen (A-lem-TOO-zoo-mab) A drug used to treat B-cell chronic lymphocytic leukemia. It is also being studied in the treatment of other types of cancer. Alemtuzumab binds to a protein called CD52, which is found on some types of immune cells and cancer cells. This may help the immune system kill cancer cells. Alemtuzumab is a type of monoclonal antibody. Also called Campath.  alendronate sodium listen (uh-LEN-droh-nayt SOH-dee-um) A drug used to treat certain bone conditions, such as osteoporosis and Paget disease of the bone. It is also being studied in the treatment of hypercalcemia (high levels of calcium in the blood) and bone pain caused by cancer. Alendronate sodium slows the breakdown of bone and prevents the loss of calcium. It is a type of bisphosphonate. Also called Fosamax.  ALH A benign (not cancer) condition in which there are more cells than normal in the breast lobules and the cells look abnormal under a microscope. Having ALH increases the risk of breast cancer. Also called atypical lobular breast hyperplasia and atypical lobular hyperplasia.  Alimta listen (uh-LIM-tuh) A drug used alone or with cisplatin to treat certain types of non-small cell lung cancer that is locally advanced or has spread to other parts of the body. It is also used with cisplatin to treat malignant pleural mesothelioma in patients whose cancer cannot be treated with surgery. It is also being studied in the treatment of other types of cancer. Alimta stops cells from using folic acid to make DNA and may kill cancer cells. It is a type of folate antagonist. Also called LY231514 and pemetrexed disodium.  Aliqopa listen (A-lih-KOH-puh) A drug used to treat follicular lymphoma that has relapsed (come back) after treatment with at least two other anticancer therapies. It is also being studied in the treatment of other types of cancer. Aliqopa blocks certain proteins, which may help keep cancer cells from growing and may kill them. It is a type of kinase inhibitor. Also called copanlisib hydrochloride.  ALK gene listen (… jeen) A gene that makes a protein called anaplastic lymphoma kinase (ALK), which is involved in cell growth. Mutated (changed) forms of the ALK gene and protein have been found in some types of cancer, including neuroblastoma, non-small cell lung cancer, and anaplastic large cell lymphoma. These changes may increase the growth of cancer cells. Checking for changes in the ALK gene in tumor tissue may help to plan cancer treatment. Also called anaplastic lymphoma kinase gene.  ALK inhibitor (… in-HIH-bih-ter) A substance that blocks the activity of a protein called anaplastic lymphoma kinase (ALK), which helps control cell growth. Blocking this protein may help keep cancer cells from growing and spreading. Some ALK inhibitors are used to treat cancer. They are a type of targeted therapy. Also called anaplastic lymphoma kinase inhibitor.  alkali listen (AL-kuh-ly) A chemical that can dissolve in water, combine with acids to form salts, and make acids less acidic. Alkalis have a bitter taste and turn certain dyes blue. Some alkalis can help the body work the way it should. An example of an alkali is sodium hydroxide.  alkalinity listen (AL-kuh-lih-nih-tee) Refers to the amount of alkali. An alkali is a chemical that can dissolve in water, combine with acids to form salts, and make acids less acidic.  alkalinization listen (AL-kuh-LIH-nih-ZAY-shun) A process that lowers the amount of acid in a solution. In medicine, an alkali, such as sodium bicarbonate, may be given to patients to lower high levels of acid in the blood or urine that can be caused by certain medicines or conditions.  alkaloid listen (AL-kuh-loyd) A member of a large group of substances found in plants and in some fungi. Alkaloids contain nitrogen and can be made in the laboratory. Nicotine, caffeine, codeine, and vincristine are alkaloids. Some alkaloids, such as vincristine, are used to treat cancer.  Alkeran listen (AL-keh-ran) A drug used to treat multiple myeloma. It is also used to treat ovarian epithelial cancer that cannot be removed by surgery. It is also being studied in the treatment of other types of cancer. Alkeran may kill cancer cells by damaging their DNA and stopping them from dividing. It is a type of alkylating agent. Also called melphalan.  alkylating agent listen (AL-kuh-LAY-ting AY-jent) A type of drug that is used in the treatment of cancer. It interferes with the cell's DNA and inhibits cancer cell growth.  ALL A type of leukemia (blood cancer) that comes on quickly and is fast growing. In ALL, there are too many lymphoblasts (immature white blood cells) in the blood and bone marrow. Also called acute lymphoblastic leukemia and acute lymphocytic leukemia.  Allegra listen (uh-LEH-gruh) A drug used to treat certain allergy symptoms. It blocks a chemical released during an allergic response that causes itching, sneezing, runny nose, wheezing, and watery eyes. It is a type of antihistamine. Also called fexofenadine.  allergen listen (A-ler-jen) A substance that causes an allergic response. Examples include pollen, molds, and certain foods.  allergic response listen (uh-LER-jik reh-SPONTS) A hypersensitive immune reaction to a substance that normally is harmless or would not cause an immune response in most people. An allergic response may cause harmful symptoms such as itching or inflammation or tissue injury.  allogeneic listen (A-loh-jeh-NAY-ik) Taken from different individuals of the same species. Also called allogenic.  allogeneic bone marrow transplantation listen (A-loh-jeh-NAY-ik bone MAYR-oh tranz-plan-TAY-shun) A procedure in which a person receives stem cells (cells from which all blood cells develop) from a genetically similar, but not identical, donor.  allogeneic stem cell transplantation listen (A-loh-jeh-NAY-ik stem sel tranz-plan-TAY-shun) A procedure in which a person receives blood-forming stem cells (cells from which all blood cells develop) from a genetically similar, but not identical, donor. This is often a sister or brother, but could be an unrelated donor.  allogenic listen (A-loh-JEH-nik) Taken from different individuals of the same species. Also called allogeneic.  allograft listen (A-loh-graft) The transplant of an organ, tissue, or cells from one individual to another individual of the same species who is not an identical twin.  allopathic medicine listen (A-loh-PA-thik MEH-dih-sin) A system in which medical doctors and other healthcare professionals (such as nurses, pharmacists, and therapists) treat symptoms and diseases using drugs, radiation, or surgery. Also called biomedicine, conventional medicine, mainstream medicine, orthodox medicine, and Western medicine.  allopurinol listen (a-loh-PYOOR-rih-nol) A drug that lowers high levels of uric acid (a byproduct of metabolism) in the blood caused by some cancer treatments.  Allovectin-7 listen (A-loh-VEK-tin ...) A substance that is being studied as a gene therapy agent in the treatment of cancer. It increases the ability of the immune system to recognize cancer cells and kill them.  all-trans retinoic acid listen (all-tranz REH-tih-NOH-ik A-sid) A nutrient that the body needs in small amounts to function and stay healthy. All-trans retinoic acid is made in the body from vitamin A and helps cells to grow and develop, especially in the embryo. A form of all-trans retinoic acid made in the laboratory is put on the skin to treat conditions such as acne and is taken by mouth to treat acute promyelocytic leukemia (a fast-growing cancer in which there are too many immature blood-forming cells in the blood and bone marrow). All-trans retinoic acid is being studied in the prevention and treatment of other types of cancer. Also called ATRA, retinoic acid, tretinoin, and vitamin A acid.  aloe-emodin listen (A-loh-EH-muh-din) A substance found in certain plants, including aloe vera. It belongs to a family of compounds called anthraquinones, which have shown anti-inflammatory and anticancer effects.  alopecia listen (A-loh-PEE-shuh) The lack or loss of hair from areas of the body where hair is usually found. Alopecia can be a side effect of some cancer treatments.  Aloxi listen (uh-LOK-see) A drug used to prevent nausea and vomiting caused by chemotherapy. It is also used to prevent nausea and vomiting after surgery. Aloxi blocks the action of the chemical serotonin, which binds to certain nerves and may trigger nausea and vomiting. Blocking serotonin may help lessen nausea and vomiting. Aloxi is a type of serotonin receptor antagonist and a type of antiemetic. Also called palonosetron hydrochloride.  alpha emitter radiation therapy listen (AL-fuh ee-MIH-ter RAY-dee-AY-shun THAYR-uh-pee) Therapy that uses a radioactive substance that gives off a type of high-energy radiation called an alpha-particle to kill cancer cells. The radioactive substance is injected into a vein, travels through the blood, and collects in certain tissues in the body, such as areas of bone with cancer. This type of radiation may cause less damage to nearby healthy tissue. Alpha emitter radiation therapy is used to treat prostate cancer that has spread to the bone, and it is being studied in the treatment of other types of cancer.  alpha hydroxyl acid listen (AL-fuh hy-DROK-sil A-sid) One of a group of substances that are found in several types of fruit and in milk. They are used in skin care products to reduce wrinkles and soften the skin. Examples of alpha hydroxyl acids are glycolic acid, lactic acid, and citric acid. Also called AHA and fruit acid.  alpha-adrenergic antagonist listen (AL-fuh-A-dreh-NER-jik an-TA-guh-nist) A substance that relaxes muscle tissue in blood vessels and in the prostate gland, which improves the flow of urine and blood. Alpha-adrenergic antagonists are used to treat the symptoms of many conditions, such as benign prostatic hyperplasia (BPH), high blood pressure, and some blood circulation problems. Also called alpha-blocker.  alpha-blocker listen (AL-fuh-BLAH-ker) A substance that relaxes muscle tissue in blood vessels and in the prostate gland, which improves the flow of urine and blood. Alpha-blockers are used to treat the symptoms of many conditions, such as benign prostatic hyperplasia (BPH), high blood pressure, and some blood circulation problems. Also called alpha-adrenergic antagonist.  alpha-fetoprotein listen (AL-fuh-FEE-toh-PROH-teen) A protein normally produced by a fetus. Alpha-fetoprotein levels are usually undetectable in the blood of healthy adult men or women (who are not pregnant). An elevated level of alpha-fetoprotein suggests the presence of either a primary liver cancer or germ cell tumor. Also called AFP.  alpha-lipoic acid listen (AL-fuh-lih-POH-ik A-sid) A substance that is being studied for its ability to protect normal cells from the side effects of chemotherapy and prevent peripheral neuropathy (numbness, tingling, burning, and weakness in the hands or feet). Alpha-lipoic acid is made by the body and can be found in foods such as organ meats, spinach, broccoli, peas, brussel sprouts, and rice bran. It can also be made in the laboratory. Alpha-lipoic acid is a type of antioxidant and chemoprotective agent.  alpha-tocopherol listen (AL-fuh-toh-KAH-feh-rol) A nutrient that the body needs in small amounts to stay healthy and work the way it should. It is fat-soluble (can dissolve in fats and oils) and is found in seeds, nuts, leafy green vegetables, and vegetable oils. Alpha-tocopherol boosts the immune system and helps keep blood clots from forming. It also helps prevent cell damage caused by free radicals (highly reactive chemicals). Alpha-tocopherol is being studied in the prevention and treatment of some types of cancer. It is a type of antioxidant. Also called vitamin E.  alprazolam listen (al-PRAY-zoh-lam) A drug used to treat anxiety disorders and panic attacks. It is being studied in the treatment of nausea and vomiting caused by some cancer treatments. It is a type of benzodiazepine. Also called Xanax.  alprostadil listen (al-PROS-tuh-dil) A drug that is used to treat impotence (inability to have an erection) and is being studied in the treatment of sexual problems in men who have had surgery for prostate cancer. It is a type of vasodilator. Also called PGE1 and prostaglandin E1.  ALTENS listen A procedure in which mild electric currents are applied to certain acupuncture points (spots on the body where an acupuncture needle may be inserted to control pain and other symptoms) on the skin. It is being studied in the treatment of dry mouth caused by radiation therapy for cancer. Also called acupuncture-like transcutaneous electrical nerve stimulation.  Alteplase listen (AL-teh-plays) A form of tissue plasminogen activator that is made in the laboratory. It helps dissolve blood clots and is used to treat heart attacks, strokes, and clots in the lungs. It is also being studied in the treatment of cancer. It is a type of systemic thrombolytic agent. Also called Activase, r-tPA, and recombinant tissue plasminogen activator.  alteration listen (all-teh-RAY-shun) A change resulting in something that is different from the original.  alternative medicine listen (all-TER-nuh-tiv MEH-dih-sin) Treatments that are used instead of standard treatments. Standard treatments are based on the results of scientific research and are currently accepted and widely used. Less research has been done for most types of alternative medicine. Alternative medicine may include special diets, megadose vitamins, herbal preparations, special teas, and magnet therapy. For example, a special diet may be used instead of anticancer drugs as a treatment for cancer.  altretamine listen (al-TREH-tuh-meen) An anticancer drug that belongs to the family of drugs called alkylating agents.  alum listen (A-lum) A chemical substance that contains aluminum sulfate and a second chemical, usually potassium sulfate. It is used to shrink tissues, to stop bleeding, and to boost the immune response to a vaccine.  aluminum listen (uh-LOO-mih-num) A metallic element that is found combined with other elements in the earth’s crust. It is also found in small amounts in soil, water, and many foods. It is used in medicine and dentistry and in many products such as foil, cans, pots and pans, airplanes, siding, and roofs. High levels of aluminum in the body can be harmful.  Alunbrig listen (uh-LUN-brig) A drug used to treat non-small cell lung cancer that has spread to other parts of the body and is anaplastic lymphoma kinase (ALK) positive. It is used in patients whose cancer has gotten worse during treatment with or who cannot take crizotinib (a type of anticancer drug). Alunbrig blocks certain proteins made by the ALK gene. Blocking these proteins may stop the growth and spread of cancer cells. Alunbrig is a type of tyrosine kinase inhibitor. Also called brigatinib.  ALVAC-CEA vaccine listen (… vak-SEEN) A cancer vaccine made with a form of the canarypox virus that does not cause disease in people. It is being studied in the treatment of some kinds of cancer. The virus is changed in the laboratory to make a protein called carcinoembryonic antigen (CEA), which is a tumor marker. ALVAC-CEA vaccine may help the immune system find and kill cancer cells that make CEA.  alveolar rhabdomyosarcoma listen (al-VEE-oh-ler RAB-doh-MY-oh-sar-KOH-muh) A soft tissue tumor that is most common in older children and teenagers. It begins in embryonic muscle cells (cells that develop into muscles in the body). It can occur at many places in the body, but usually occurs in the trunk, arms, or legs. Also called ARMS.  alveolar soft part sarcoma listen (al-VEE-oh-ler … sar-KOH-muh) A soft tissue tumor that is most common in older children and teenagers. It begins in the soft supporting tissue that connects and surrounds the organs and other tissues. Alveolar soft part sarcoma usually occurs in the legs, but can also occur in the arms, hands, head, or neck. It can cause the growth of new blood vessels that help the tumor grow and spread. Also called ASPS.  alveoli listen (al-VEE-oh-ly) Tiny air sacs at the end of the bronchioles (tiny branches of air tubes) in the lungs. The alveoli are where the lungs and the bloodstream exchange carbon dioxide and oxygen. Carbon dioxide in the blood passes into the lungs through the alveoli. Oxygen in the lungs passes through the alveoli into the blood.  alvocidib listen (al-VOH-sih-dib) A substance being studied in the treatment of several types of cancer. It stops cells from dividing and may kill cancer cells. It is a type of cyclin-dependent kinase (CDK) inhibitor. Also called flavopiridol and HMR 1275.  Alzheimer dementia listen (ALTS-hy-mer deh-MEN-shuh) A brain disorder that usually starts in late middle age or old age and gets worse over time. Symptoms include loss of memory, confusion, difficulty thinking, and changes in language, behavior, and personality. Also called Alzheimer disease.  Alzheimer disease listen (ALTS-hy-mer dih-ZEEZ) A brain disorder that usually starts in late middle age or old age and gets worse over time. Symptoms include loss of memory, confusion, difficulty thinking, and changes in language, behavior, and personality. Also called Alzheimer dementia.  Amanita phalloides listen (a-muh-NY-tuh fuh-LOY-deez) A type of poisonous mushroom that has harmful effects on the kidneys and liver. It is responsible for most fatal cases of mushroom poisoning. Also called death cap.  amantadine hydrochloride listen (uh-MAN-tuh-deen HY-droh-KLOR-ide) A drug used to treat infections caused by the influenza A virus. It blocks the ability of the virus to infect cells and to make more virus particles. It is also used to treat the symptoms of Parkinson disease. Amantidine hydrochloride is a type of antiviral agent.  amatuximab listen (A-muh-TUK-sih-mab) A substance being studied in the treatment of mesothelioma. Amatuximab binds to a protein called mesothelin, which is found on some cancer cells. Amatuximab may help the immune system kill cancer cells. It is a type of monoclonal antibody. Also called anti-mesothelin monoclonal antibody MORAb-009 and MORAb-009.  Ambien listen (AM-bee-un) A drug used to treat insomnia (inability to sleep), and anxiety. It is a type of imidazopyridine (sedative hypnotic). Also called zolpidem.  AMD A condition in which there is a slow breakdown of cells in the center of the retina (the light-sensitive layers of nerve tissue at the back of the eye). This blocks vision in the center of the eye and can cause problems with activities such as reading and driving. AMD is most often seen in people who are over the age of 50. Also called age-related macular degeneration, ARMD, and macular degeneration.  AMD 3100 A drug used before autologous stem cell transplantation in patients with non-Hodgkin lymphoma or multiple myeloma. AMD 3100 is given together with granulocyte-colony stimulating factor (G-CSF) to help move stem cells from the bone marrow to the blood. The stem cells can then be collected, stored, and given back to the patient. AMD 3100 is a type of chemokine receptor antagonist. Also called Mozobil and plerixafor.  amelanotic melanoma listen (AY-meh-luh-NAH-tik MEH-luh-NOH-muh) A type of skin cancer in which the cells do not make the pigment melanin. Skin lesions are often irregular and may be pink, red, or have light brown, tan, or gray at the edges.  Ameluz listen (A-meh-looz) A drug used to treat actinic keratosis (a skin condition that may become cancer). When Ameluz is taken up by abnormal cells, including cancer cells, and then exposed to certain types of light, it becomes active and kills the cells. Ameluz contains the active ingredient aminolevulinic acid hydrochloride. It is a type of photosensitizing agent.  amethopterin listen (A-meh-THOP-teh-rin) A drug used to treat many types of cancer. It is also used to treat rheumatoid arthritis and severe psoriasis (a type of skin condition). Amethopterin stops cells from using folic acid to make DNA and may kill cancer cells. It may also lower the body’s immune response. Amethopterin is a type of antimetabolite and a type of antifolate. Also called methotrexate, MTX, Rheumatrex, and Trexall.  Amevive listen (A-meh-veev) A drug that is used to treat certain skin conditions and is being studied in the treatment of cutaneous (skin-related) T-cell cancer and T-cell non-Hodgkin lymphoma. Amevive is made by combining part of an antibody with a protein that blocks the growth some types of T cells. It is a type of fusion protein and a type of immunosuppressant. Also called alefacept.  AMG 102 A substance being studied in the treatment of cancer. It binds to a protein called hepatocyte growth factor (HGF), which may cause cancer cells to grow. Blocking this may cause cancer cells to die. AMG 102 is a type of monoclonal antibody. Also called anti-HGF monoclonal antibody AMG 102.  AMG 162 A drug used to prevent or treat certain bone problems. It is used under the brand name Xgeva to prevent bone problems caused by multiple myeloma or by solid tumors that have spread to the bone. It is also used in certain patients to treat giant cell tumor of the bone that cannot be removed by surgery, and to treat hypercalcemia that is caused by cancer and did not get better after treatment with bisphosphonates. AMG 162 is also used under the brand name Prolia to increase bone mass in certain patients with breast cancer or prostate cancer who have a high risk of breaking bones. It is also used to treat osteoporosis in men and postmenopausal women who have a high risk of breaking bones. AMG 162 is also being studied in the treatment of other conditions and types of cancer. It binds to a protein called RANKL, which keeps RANKL from binding to another protein called RANK on the surface of certain bone cells, including bone cancer cells. This may help keep bone from breaking down and cancer cells from growing. AMG 162 may also prevent the loss of calcium from the bones. It is a type of monoclonal antibody. Also called denosumab.  AMG 531 A drug used to treat thrombocytopenia (low platelet levels) in patients with immune thrombocytopenic purpura (ITP) that did not get better with other treatment. ITP is a condition in which platelets are destroyed by the immune system. AMG 531 binds to the thrombopoietin receptor, which causes the bone marrow to make more platelets. It is a type of thrombopoietin receptor agonist. Also called Nplate and romiplostim.  AMG 706 A substance that is being studied in the treatment of some types of cancer. It belongs to the families of drugs called angiogenesis inhibitors and protein kinase inhibitors.  AMH A hormone made by the ovaries in females and the testicles in males. AMH helps to form the male and female reproductive organs. It also helps control other hormones that act on the ovaries to make the follicles and eggs grow during a woman’s menstrual cycle. Measuring the amount of AMH in the blood may help diagnose infertility and other conditions, such as polycystic ovarian syndrome, menopause, and certain types of ovarian tumors. It may also help determine the sex of an infant, when the sex is not clear. Also called anti-Mullerian hormone.  amifostine listen (A-mih-FOS-teen) A drug used to help protect the kidneys in patients receiving cisplatin (a type of anticancer drug) for advanced ovarian cancer. It is also used to help reduce dry mouth in patients receiving radiation therapy after surgery for head and neck cancer. Amifostine helps protect healthy tissue from some of the side effects caused by certain types of cancer treatment. It is a type of chemoprotective agent and a type of radioprotective agent. Also called Ethyol.  amikacin listen (A-mih-KAY-sin) An antibiotic drug used to treat infection. It belongs to the family of drugs called aminoglycoside antibiotics.  amino acid listen (uh-MEE-noh A-sid) One of several molecules that join together to form proteins. There are 20 common amino acids found in proteins.  amino acid sequence listen (uh-MEE-noh A-sid SEE-kwents) The arrangement of amino acids in a protein. Proteins can be made from 20 different kinds of amino acids, and the structure and function of each protein are determined by the kinds of amino acids used to make it and how they are arranged.  aminobenzoic acid listen (uh-MEE-noh-ben-ZOH-ik-A-sid) A nutrient in the vitamin B complex that the body needs in small amounts to function and stay healthy. Bacteria that live in the intestines need aminobenzoic acid to survive. Aminobenzoic acid is found in grains and foods from animals. It is being studied as a radiosensitizer (a substance that makes tumor cells more sensitive to radiation therapy) and in the treatment of certain skin disorders. Also called PABA and para-aminobenzoic acid.  aminocamptothecin listen (uh-MEE-noh-KAMP-toh-THEH-kin) An anticancer drug that belongs to the family of drugs called topoisomerase inhibitors.  aminoglutethimide listen (uh-MEE-noh-gloo-TETH-ih-mide) An anticancer drug that belongs to the family of drugs called nonsteroidal aromatase inhibitors. Aminoglutethimide is used to decrease the production of sex hormones (estrogen in women or testosterone in men) and suppress the growth of tumors that need sex hormones to grow.  aminoglycoside antibiotic listen (uh-MEE-noh-GLY-koh-side AN-tee-by-AH-tik) A substance that works against many types of bacteria and includes streptomycin, gentamicin, and neomycin. An aminoglycoside antibiotic is used to treat bacterial infections.  aminolevulinic acid listen (uh-MEE-noh-LEH-vyoo-LIH-nik A-sid) The active ingredient in a drug used to treat actinic keratosis (a skin condition that may become cancer). It is also being studied in the treatment of other conditions and types of cancer. When aminolevulinic acid is taken up by abnormal cells, including cancer cells, and then exposed to certain types of light, it becomes active and kills the cells. It may also help find some types of cancer cells when they are exposed to certain types of light. Aminolevulinic acid is a type of photosensitizing agent.  aminolevulinic acid hydrochloride listen (uh-MEE-noh-LEH-vyoo-LIH-nik A-sid HY-droh-KLOR-ide) A drug used under the brand names Ameluz and Levulan Kerastick to treat actinic keratosis (a skin condition that may become cancer). It is also used under the brand name Gleolan as an imaging agent during surgery for certain types of brain tumors. Aminolevulinic acid hydrochloride is also being studied in the treatment of other conditions and types of cancer. When aminolevulinic acid hydrochloride is taken up by abnormal cells, including cancer cells, and then exposed to certain types of light, it becomes active and kills the cells. It may also help find some types of cancer cells when they are exposed to certain types of light. Aminolevulinic acid hydrochloride is a type of photosensitizing agent.  aminopterin listen (a-mih-NOP-teh-rin) An anticancer drug that belongs to the family of drugs called antimetabolites.  amiodarone hydrochloride listen (A-mee-OH-duh-rone HY-droh-KLOR-ide) A drug used to treat certain types of abnormal heart rhythms that have not gotten better with other drugs. Amiodarone hydrochloride affects the electrical activity of the heart. It is a type of antiarrhythmic agent. Also called Corderone.  amitriptyline listen (A-mih-TRIP-tih-LEEN) A drug that is used to treat depression and may be given to treat anxiety, sleep disorders, and pain. It is also being studied in an oral or gel form in the treatment of nerve pain caused by chemotherapy. Amitriptyline is a type of tricyclic antidepressant. Also called amitriptyline hydrochloride.  amitriptyline hydrochloride listen (A-mih-TRIP-tih-LEEN HY-droh-KLOR-ide) A drug that is used to treat depression and may be given to treat anxiety, sleep disorders, and pain. It is also being studied in an oral or gel form in the treatment of nerve pain caused by chemotherapy. Amitriptyline hydrochloride is a type of tricyclic antidepressant. Also called amitriptyline.  AML An aggressive (fast-growing) disease in which too many myeloblasts (immature white blood cells that are not lymphoblasts) are found in the bone marrow and blood. Also called acute myeloblastic leukemia, acute myelogenous leukemia, acute myeloid leukemia, acute nonlymphocytic leukemia, and ANLL.  AML-MRC A type of acute myeloid leukemia in which at least 20% of a patient’s blood or bone marrow is myeloblasts (immature white blood cells) and the patient has one of the following conditions: 1) has had myelodysplastic syndrome (MDS) or a myelodysplastic/myeloproliferative neoplasm (MDS/MPN) before, 2) cells that have changes in certain chromosomes that are similar to those found in MDS, or 3) at least 50% of the cells (of at least two types of blood cells) are abnormal. AML-MRC usually occurs in older adults and has a poor prognosis. Also called acute myeloid leukemia with myelodysplasia-related changes.  ammonia listen (uh-MOH-nyuh) A gas made of nitrogen and hydrogen. It has a strong odor and can irritate the skin, eyes, nose, throat, and lungs. Ammonia is made by bacteria and decaying plants and animals and is found in water, soil, and air. Ammonia is also made by the body when proteins break down. In the laboratory, ammonia can be changed to a liquid and used in medicines, fertilizers, household cleaning liquids, and other products. It is also added to cigarettes to increase the effect of nicotine on the body.  ammonium tetrathiomolybdate listen (uh-MOH-nee-um TEH-truh-THY-oh-muh-LIB-dayt) A substance being studied in the treatment of many types of cancer. Ammonium tetrathiomolybdate removes extra copper from the body. Removing the copper may prevent the growth of new blood vessels that tumors need to grow and may kill cancer cells. Ammonium tetrathiomolybdate is a type of chelating agent and a type of antiangiogenesis agent.  amniotic fluid listen (AM-nee-AH-tik FLOO-id) The clear or slightly yellow fluid that surrounds and protects an unborn baby as it grows during pregnancy. Amniotic fluid cushions the baby and helps keep the temperature in the womb constant. It also helps the growing baby’s lungs, digestive system, and bones develop properly. Amniotic fluid contains some of the baby’s cells and other substances. Samples of amniotic fluid may be taken to check the health of the baby and to test for genetic changes that may be a sign of a genetic disease or condition. Amniotic fluid also may be used to learn the sex of the baby.  amonafide listen (ay-MOH-nah-fide) A substance that is being studied in the treatment of cancer. It belongs to the families of drugs called topoisomerase inhibitors and intercalating agents.  amoxicillin listen (uh-MOK-sih-SIH-lin) A drug used to treat some bacterial infections. Amoxicillin is a form of penicillin that is made in the laboratory. It kills certain types of bacteria. It is a type of antibiotic.  amoxicillin-clavulanate potassium listen (uh-MOK-sih-SIH-lin-kla-vyoo-LA-nayt puh-TA-see-um) A drug used to treat bacterial infections. Adding the chemical clavulanate potassium to the antibiotic amoxicillin increases the amount of time the antibiotic stays active in the body. Amoxicillin-clavulanate potassium is a type of combination antibiotic. Also called Augmentin.  amphotericin B listen (AM-fuh-TAYR-ih-sin ...) A drug used in the treatment of infections caused by fungi. It is a type of antifungal.  Amplimexon listen (AM-plih-MEK-son) A substance that is being studied in the treatment of some types of cancer, including pancreatic, lung, breast, prostate, melanoma, and multiple myeloma. It belongs to the family of drugs called cyanoaziridine derivatives. Also called imexon.  ampulla listen (am-PUH-luh) A sac-like enlargement of a canal or duct.  ampulla of Vater listen (am-PUH-luh ... VAH-ter) An enlargement of the ducts from the liver and pancreas at the point where they enter the small intestine.  ampulla of Vater cancer listen (am-PUH-luh ... VAH-ter KAN-ser) Cancer that forms in the ampulla of Vater (an enlargement of the ducts from the liver and pancreas where they join and enter the small intestine). Symptoms include jaundice, abdominal pain, nausea, vomiting, and weight loss. Also called ampullary cancer.  ampullary cancer listen (AM-puh-LAYR-ee KAN-ser) Cancer that forms in the ampulla of Vater (an enlargement of the ducts from the liver and pancreas where they join and enter the small intestine). Symptoms include jaundice, abdominal pain, nausea, vomiting, and weight loss. Also called ampulla of Vater cancer.  amputation listen (am-pyoo-TAY-shun) The removal by surgery of a limb (arm or leg) or other body part because of injury or disease, such as diabetes or cancer.  amrubicin listen (am-ROO-bih-sin) A substance being studied in the treatment of lung cancer. It is a type of anthracycline analog.  amsacrine listen (AM-suh-kreen) An anticancer drug that belongs to the family of drugs called topoisomerase inhibitors.  amuvatinib listen (AM-yoo-VA-tih-nib) A substance being studied in the treatment of some types of cancer. It may block certain proteins involved in cancer cell growth and DNA repair. Blocking these proteins may make cancer cells more sensitive to anticancer drugs and radiation therapy. Amuvatinib is a type of tyrosine kinase inhibitor. Also called MP470.  amygdalin listen (uh-MIG-duh-lin) A substance found in the pits of some fruits, such as apricots, and in raw nuts and plants. Amygdalin has been used in some countries as a treatment for cancer, but it has not been shown to work in human clinical trials. It is not approved for use in the United States. Amygdalin is sometimes called vitamin B17.  amylase listen (A-mih-lays) An enzyme that helps the body digest starches.  amyloidosis listen (A-muh-loy-DOH-sis) A group of diseases in which protein builds up in certain organs (localized amyloidosis) or throughout the body (systemic amyloidosis). Amyloidosis may be either primary (with no known cause), secondary (caused by another disease, including some types of cancer, such as multiple myeloma), or hereditary (passed down from parents to children). Many organs are affected by amyloidosis. The organs affected may depend on whether the amyloidosis is the primary, secondary, or hereditary form.  anabolic steroid listen (A-nuh-BAH-lik STAYR-oyd) A type of steroid that is used in medicine to repair body tissues and to increase appetite and the growth of muscles. Anabolic steroids are made in the laboratory from testosterone (a male hormone).  anagrelide listen (an-AG-re-lide) A drug that is used to decrease the number of platelets in the blood in order to prevent blood clotting.  anakinra listen (A-nuh-KIN-ruh) A substance that is used to treat rheumatoid arthritis, and is being studied in the treatment of cancer. Anakinra blocks the action of interleukin 1 (IL-1). It is a type of interleukin receptor antagonist. Also called Kinaret.  anal listen (AY-nul) Having to do with the anus. The anus is the opening of the rectum (last part of the large intestine) to the outside of the body.  anal cancer listen (AY-nul KAN-ser) Cancer that forms in tissues of the anus. The anus is the opening of the rectum (last part of the large intestine) to the outside of the body.  anal Pap smear listen (AY-nul … smeer) A procedure in which cells are scraped from the lining of the anus (the opening of the rectum to the outside of the body) and looked at under a microscope. It is used to find cancer and changes in cells that may lead to cancer. An anal Pap smear can also show conditions that are not cancer, such as infection or inflammation. Also called anal Pap test.  anal Pap test listen (AY-nul …) A procedure in which cells are scraped from the lining of the anus (the opening of the rectum to the outside of the body) and looked at under a microscope. It is used to find cancer and changes in cells that may lead to cancer. An anal Pap test can also show conditions that are not cancer, such as infection or inflammation. Also called anal Pap smear.  analgesia listen (A-nul-JEE-zhee-uh) Pain relief.  analgesic listen (A-nul-JEE-zik) A drug that reduces pain. Analgesics include aspirin, acetaminophen, and ibuprofen.  analog listen (A-nuh-log) In chemistry, a substance that is similar, but not identical, to another.  analysis listen (uh-NA-lih-sis) A process in which anything complex is separated into simple or less complex parts.  anaphylactic shock listen (A-nuh-fih-LAK-tik shok) A severe and sometimes life-threatening immune system reaction to an antigen that a person has been previously exposed to. The reaction may include itchy skin, edema, collapsed blood vessels, fainting, difficulty in breathing, and death.  anaplastic listen (A-nuh-PLAS-tik) A term used to describe cancer cells that divide rapidly and have little or no resemblance to normal cells.  anaplastic large cell lymphoma listen (A-nuh-PLAS-tik larj sel lim-FOH-muh) An aggressive (fast-growing) type of non-Hodgkin lymphoma that is usually of the T-cell type. The cancer cells express a marker called CD30 or Ki-1 on the surface, and may appear in the lymph nodes, skin, bones, soft tissues, lungs, or liver. Also called ALCL.  anaplastic lymphoma kinase listen (A-nuh-PLAS-tik lim-FOH-muh KY-nays) A protein that helps control cell growth. It is made by the anaplastic lymphoma kinase (ALK) gene, which may be changed in some types of cancer, such as anaplastic large cell lymphoma, neuroblastoma, and non-small cell lung cancer. These changes in the ALK gene can cause the cancer cells to grow and spread. Anaplastic lymphoma kinase is a type of receptor tyrosine kinase.  anaplastic lymphoma kinase gene listen (A-nuh-PLAS-tik lim-FOH-muh KY-nays jeen) A gene that makes a protein called anaplastic lymphoma kinase (ALK), which is involved in cell growth. Mutated (changed) forms of the ALK gene and protein have been found in some types of cancer, including neuroblastoma, non-small cell lung cancer, and anaplastic large cell lymphoma. These changes may increase the growth of cancer cells. Checking for changes in the anaplastic lymphoma kinase gene in tumor tissue may help to plan cancer treatment. Also called ALK gene.  anaplastic lymphoma kinase inhibitor (A-nuh-PLAS-tik lim-FOH-muh KY-nays in-HIH-bih-ter) A substance that blocks the activity of a protein called anaplastic lymphoma kinase (ALK), which helps control cell growth. Blocking this protein may help keep cancer cells from growing and spreading. Some anaplastic lymphoma kinase inhibitors are used to treat cancer. They are a type of targeted therapy. Also called ALK inhibitor.  anaplastic thyroid cancer listen (A-nuh-PLAS-tik THY-royd KAN-ser) A rare, aggressive type of thyroid cancer in which the malignant (cancer) cells look very different from normal thyroid cells.  anastomosis listen (uh-NAS-toh-MOH-sis) A procedure to connect healthy sections of tubular structures in the body after the diseased portion has been surgically removed.  anastrozole listen (an-AS-troh-zole) A drug used to treat certain types of breast cancer in postmenopausal women. It is also being studied in the treatment of other types of cancer. Anastrozole lowers the amount of estrogen made by the body. This may stop the growth of cancer cells that need estrogen to grow. Anastrozole is a type of nonsteroidal aromatase inhibitor. Also called Arimidex.  anatomic listen (A-nuh-TAH-mik) Having to do with anatomy (the study of the structure of a plant or animal).  anatomist listen (uh-NA-tuh-mist) A person who has special training in anatomy (the study of the structures of animals or plants).  anatomy listen (uh-NA-toh-mee) The study of the structure of a plant or animal.  ANC A measure of the number of neutrophils in the blood. Neutrophils are a type of white blood cell. They help the body fight infection. An ANC may be used to check for infection, inflammation, leukemia, and other conditions. The lower a person's ANC is, the higher the risk is of getting an infection. Having an ANC of less than 500 means there is a high risk of getting an infection. Cancer treatment, such as chemotherapy, may reduce the ANC. Also called absolute neutrophil count.  ancestim listen (an-SES-tim) A substance that causes blood stem cells (cells from which other types of cells develop) to change into different types of blood cells and increases the number and actions of these cells in the blood. It is being studied in the treatment of myelodysplasia. Ancestim is a type of recombinant stem cell growth factor. Also called r-metHuSCF, recombinant human methionyl stem cell factor, and Stemgen.  ancillary test listen (AN-sih-LAYR-ree …) In a clinical trial, a medical test on a patient that is not a part of the original study design.  androblastoma listen (AN-droh-blas-TOH-muh) A rare type of ovarian tumor in which the tumor cells secrete a male sex hormone. This may cause virilization (the appearance of male physical characteristics in females). Also called arrhenoblastoma and Sertoli-Leydig cell tumor of the ovary.  androgen listen (AN-droh-jen) A type of hormone that promotes the development and maintenance of male sex characteristics.  androgen ablation listen (AN-droh-jen a-BLAY-shun) Treatment to suppress or block the production or action of male hormones. This is done by having the testicles removed, by taking female sex hormones, or by taking drugs called antiandrogens. Also called androgen deprivation and androgen suppression.  androgen deprivation listen (AN-droh-jen DEH-prih-VAY-shun) Treatment to suppress or block the production or action of male hormones. This is done by having the testicles removed, by taking female sex hormones, or by taking drugs called antiandrogens. Also called androgen ablation and androgen suppression.  androgen receptor listen (AN-droh-jen reh-SEP-ter) A protein that binds male hormones called androgens. Androgen receptors are found inside the cells of male reproductive tissue, some other types of tissue, and some cancer cells. In prostate cancer, androgens bind to androgen receptors inside the cancer cells, which causes the cancer cells to grow. Also called AR.  androgen receptor positive listen (AN-droh-jen reh-SEP-ter PAH-zih-tiv) Describes cells that have a protein that binds to androgens (male hormones). Cancer cells that are androgen receptor positive may need androgens to grow. These cells may stop growing or die when they are treated with substances that block the binding and actions of androgen hormones. Also called AR+.  androgen suppression listen (AN-droh-jen suh-PREH-shun) Treatment to suppress or block the production or action of male hormones. This is done by having the testicles removed, by taking female sex hormones, or by taking drugs called antiandrogens. Also called androgen ablation and androgen deprivation.  androgen-independent listen (AN-droh-jen...) Describes the ability of tumor cells to grow in the absence of androgens (hormones that promote the development and maintenance of male sex characteristics). Many early prostate cancers require androgens for growth, but advanced prostate cancers are often androgen-independent.  androstanolone listen (AN-droh-STAN-uh-lone) A hormone made from testosterone in the prostate, testes, and certain other tissues. It is needed to develop and maintain male sex characteristics, such as facial hair, deep voice, and muscle growth. High amounts of androstanolone may increase the growth of prostate cancer and make it harder to treat. Also called DHT and dihydrotestosterone.  anecdotal report listen (A-nek-DOH-tul reh-PORT) An incomplete description of the medical and treatment history of one or more patients. Anecdotal reports may be published in places other than peer-reviewed, scientific journals.  anemia listen (uh-NEE-mee-uh) A condition in which the number of red blood cells is below normal.  anesthesia listen (A-nes-THEE-zhuh) A loss of feeling or awareness caused by drugs or other substances. Anesthesia keeps patients from feeling pain during surgery or other procedures. Local anesthesia is a loss of feeling in one small area of the body. Regional anesthesia is a loss of feeling in a part of the body, such as an arm or leg. General anesthesia is a loss of feeling and a complete loss of awareness that feels like a very deep sleep.  anesthesiologist listen (A-nes-THEE-zee-AH-loh-jist) A doctor who has special training in giving drugs or other agents to prevent or relieve pain during surgery or other procedures.  anesthetic listen (A-nes-THEH-tik) A drug or other substance that causes a loss of feeling or awareness. Local anesthetics cause a loss of feeling in one small area of the body. Regional anesthetics cause a loss of feeling in a part of the body, such as an arm or leg. General anesthetics cause a loss of feeling and a complete loss of awareness that feels like a very deep sleep.  anetholtrithione listen (A-neh-thol-try-THY-one) A substance that is being studied in the treatment of cancer.  angelica root listen (an-JEH-lih-kuh root) The root of any of a group of herbs called Angelica. It has been used in some cultures to treat certain medical problems, including gastrointestinal problems such as loss of appetite, feelings of fullness, and gas.  Angiocept listen (AN-jee-oh-sept) A substance being studied in the treatment of cancer. Angiocept may prevent the growth of new blood vessels that tumors need to grow and may kill cancer cells. It is a type of vascular endothelial growth factor receptor-2 (VEGFR-2) inhibitor and a type of antiangiogenesis agent. Also called CT-322 and VEGFR-2 inhibitor CT-322.  angiofibroma listen (AN-jee-oh-fy-BROH-muh) A benign (not cancer) tumor that is made up of blood vessels and fibrous (connective) tissue. Angiofibromas usually appear as small, red bumps on the face, especially on the nose and cheeks. They are common in patients with tuberous sclerosis (a genetic disorder that causes skin lesions, seizures, and mental problems). Angiofibromas are a type of vascular tumor.  angiofollicular lymph node hyperplasia listen (AN-jee-oh-fuh-LIH-kyoo-ler limf node HY-per-PLAY-zhuh) A rare disorder in which benign (not cancer) growths form in lymph node tissue. There are two main ways that angiofollicular lymph node hyperplasia occurs: localized (unicentric) and multicentric. Unicentric angiofollicular lymph node hyperplasia affects only one group of lymph nodes in one part of the body, usually in the chest or abdomen. It may not cause symptoms. Multicentric angiofollicular lymph node hyperplasia affects many groups of lymph nodes and lymphoid tissue all through the body. It can weaken the immune system and cause problems such as infection, fever, weight loss, fatigue, night sweats, nerve damage, and anemia. People with angiofollicular lymph node hyperplasia have an increased risk of lymphoma. Also called Castleman disease and giant lymph node hyperplasia.  angiogenesis listen (AN-jee-oh-JEH-neh-sis) Blood vessel formation. Tumor angiogenesis is the growth of new blood vessels that tumors need to grow. This process is caused by the release of chemicals by the tumor and by host cells near the tumor.  angiogenesis inhibitor listen (AN-jee-oh-JEH-neh-sis in-HIH-bih-ter) A drug or substance that keeps new blood vessels from forming. In cancer treatment, angiogenesis inhibitors may prevent the growth of new blood vessels that tumors need to grow. Also called antiangiogenesis agent.  angiogram listen (AN-jee-oh-gram) An x-ray or computer image (CT scan or MRI) of the blood vessels and blood flow in the body. A dye may be injected through a catheter (small tube) into an artery or vein to make the blood vessels easier to see. An angiogram may be used to check for an aneurysm (a bulge in a blood vessel wall), blockages in arteries, blood clots, or other problems, such as a tumor.  angiography listen (an-jee-AH-gruh-fee) A procedure to x-ray blood vessels. The blood vessels can be seen because of an injection of a dye that shows up in the x-ray.  angioimmunoblastic T-cell lymphoma listen (AN-jee-oh-IH-myoo-noh-BLAS-tik T-sel lim-FOH-muh) An aggressive (fast-growing) type of T-cell non-Hodgkin lymphoma marked by enlarged lymph nodes and hypergammaglobulinemia (increased antibodies in the blood). Other symptoms may include a skin rash, fever, weight loss, or night sweats.  angiolymphoid hyperplasia with eosinophilia listen (AN-jee-oh-LIM-foyd HY-per-PLAY-zhuh … EE-oh-SIH-noh-FIH-lee-uh) A rare benign (not cancer) tumor of small blood vessels surrounded by lymphocytes and eosinophils (types of white blood cells). Angiolymphoid hyperplasia with eosinophilia usually forms on or in the skin, especially the skin of the head, but can occur in other areas of the body, such as in bone. On the skin, it may appear as firm pink to red bumps that may be itchy or painful. If the tumor is in bone, it may cause swelling and pain. Angiolymphoid hyperplasia with eosinophilia is sometimes caused by injury and often comes back after treatment. Angiolymphoid hyperplasia with eosinophilia is most common in young and middle-aged adults. It is a type of vascular tumor. Also called epithelioid hemangioma and histiocytoid hemangioma.  angiomyolipoma listen (AN-jee-oh-MY-oh-lih-POH-muh) A benign (noncancer) tumor of fat and muscle tissue that usually is found in the kidney. Angiomyolipomas rarely cause symptoms, but may bleed or grow large enough to be painful or cause kidney failure. They are common in patients with tuberous sclerosis (a genetic disorder in which benign tumors grow in the kidneys, brain, eyes, heart, lungs, and skin, causing seizures, mental problems, and skin lesions).  angioplasty listen (AN-jee-oh-PLAS-tee) A procedure to enlarge the opening in a blood vessel that has become narrowed or blocked by plaque (a buildup of fat and cholesterol on the inner wall of the blood vessel). Examples of angioplasty are balloon angioplasty and laser angioplasty.  angiosarcoma listen (AN-jee-oh-sar-KOH-muh) A type of cancer that begins in the cells that line blood vessels or lymph vessels. Cancer that begins in blood vessels is called hemangiosarcoma. Cancer that begins in lymph vessels is called lymphangiosarcoma.  angiostatin listen (AN-jee-oh-STA-tin) A protein normally made by the body. It can also be made in the laboratory, and is being studied in the treatment of cancer. Angiostatin may prevent the growth of new blood vessels that tumors need to grow. It is a type of antiangiogenesis agent.  angiotensin-converting enzyme inhibitor listen (AN-jee-oh-TEN-sin-kun-VER-ting EN-zime in-HIH-bih-ter) A drug that is used to lower blood pressure. An angiotensin-converting enzyme inhibitor is a type of antihypertensive agent. Also called ACE inhibitor.  Angiozyme listen (AN-jee-oh-zime) A substance being studied in the treatment of cancer. Angiozyme is a special type of RNA made in the laboratory. It stops a protein called vascular endothelial growth factor receptor (VEGFR) from being made. This may prevent the growth of new blood vessels that tumors need to grow. It is a type of angiogenesis inhibitor and a type of ribozyme. Also called RPI.4610.  anhidrosis listen (AN-hih-DROH-sis) A rare condition in which the sweat glands make little or no sweat. It can affect the whole body or a small part of the body. Anhidrosis may be caused by severe burns, radiation, infection, inflammation, or other injuries to the skin. It may also be caused by certain medicines and some conditions that affect the skin, nerves, connective tissue, or sweat glands. It may be inherited as part of a genetic condition or develop later in life. Also called hypohidrosis.  anhydrovinblastine listen (an-HY-droh-vin-BLAS-teen) An anticancer drug that belongs to the family of drugs called mitotic inhibitors.  anidulafungin listen (uh-NIH-dyoo-luh-FUN-jin) A drug that is used to treat infections caused by fungi. It belongs to the family of drugs called antifungals.  animal model listen (A-nih-mul MAH-dul) An animal with a disease either the same as or like a disease in humans. Animal models are used to study the development and progression of diseases and to test new treatments before they are given to humans. Animals with transplanted human cancers or other tissues are called xenograft models.  animal study listen (A-nih-mul STUH-dee) A laboratory experiment using animals to study the development and progression of diseases. Animal studies also test how safe and effective new treatments are before they are tested in people.  animal-assisted therapy listen (A-nih-mul-uh-SIS-ted THAYR-uh-pee) A type of therapy that uses dogs or other pets to improve the physical and mental health of patients with certain acute or chronic diseases. It is being studied as a way to relieve distress in cancer patients undergoing treatment for pain. Also called pet-facilitated therapy.  aniridia listen (A-nih-RIH-dee-uh) A disorder in which a person is born without part or all of the iris (colored tissue at the front of the eyeball). Aniridia usually affects both eyes and causes other eye problems, including being sensitive to light and loss of vision.  ANLL An aggressive (fast-growing) disease in which too many myeloblasts (immature white blood cells that are not lymphoblasts) are found in the bone marrow and blood. Also called acute myeloblastic leukemia, acute myelogenous leukemia, acute myeloid leukemia, acute nonlymphocytic leukemia, and AML.  annamycin listen (A-nuh-MY-sin) A substance that is being studied in the treatment of cancer. It belongs to the family of drugs called anthracycline antibiotics.  anorexia listen (a-nuh-REK-see-uh) An abnormal loss of the appetite for food. Anorexia can be caused by cancer, AIDS, a mental disorder (i.e., anorexia nervosa), or other diseases.  anorexia nervosa listen (a-nuh-REK-see-uh ner-VOH-suh) An eating disorder marked by an intense fear of gaining weight, a refusal to maintain a healthy weight, and a distorted body image. People with anorexia nervosa have an abnormal loss of appetite for food, try to avoid eating, and eat as little as possible.  ANS The part of the nervous system that controls muscles of internal organs (such as the heart, blood vessels, lungs, stomach, and intestines) and glands (such as salivary glands and sweat glands). One part of the ANS helps the body rest, relax, and digest food and another part helps a person fight or take flight in an emergency. Also called autonomic nervous system and involuntary nervous system.  ansamycin listen (AN-suh-MY-sin) An anticancer drug that belongs to the family of drugs called antineoplastic antibiotics.  antagonist listen (an-TA-guh-nist) In medicine, a substance that stops the action or effect of another substance. For example, a drug that blocks the stimulating effect of estrogen on a tumor cell is called an estrogen receptor antagonist.  antenatal listen (AN-tee-NAY-tul) Having to do with the time a female is pregnant, before birth occurs. Also called prenatal.  anterior listen (an-TEER-ee-er) In human anatomy, has to do with the front of a structure, or a structure found toward the front of the body.  anterior mediastinotomy listen (an-TEER-ee-er MEE-dee-A-stih-NAH-toh-mee) A procedure in which a tube is inserted into the chest to view the tissues and organs in the area between the lungs and between the breastbone and heart. The tube is inserted through an incision next to the breastbone. This procedure is usually used to get a tissue sample from the lymph nodes on the left side of the chest. Also called Chamberlain procedure.  anterior mediastinum listen (an-TEER-ee-er MEE-dee-uh-STY-num) The area in the front part of the chest between the lungs. Also called prevascular space.  anterior pelvic exenteration listen (an-TEER-ee-er PEL-vik eg-ZEN-teh-RAY-shun) Surgery to remove the urethra, lower part of the ureters, uterus, cervix, vagina, and bladder.  anterior urethral cancer listen (an-TEER-ee-er yoo-REE-thrul KAN-ser) A disease in which malignant (cancer) cells are found in the part of the urethra (the tube through which urine leaves the body) that is closest to the outside of the body.  anthracenedione listen (AN-thruh-seen-DY-one) An anticancer drug that belongs to the family of drugs called anticancer antibiotics.  anthracycline listen (AN-thruh-SY-klin) A type of antibiotic that comes from certain types of Streptomyces bacteria. Anthracyclines are used to treat many types of cancer. Anthracyclines damage the DNA in cancer cells, causing them to die. Daunorubicin, doxorubicin, and epirubicin are anthracyclines.  anthraquinone listen (AN-thruh-kwih-NONE) A type of anticancer drug.  antiandrogen listen (AN-tee-AN-droh-jen) A substance that keeps androgens (male hormones) from binding to proteins called androgen receptors, which can be found in prostate cells and cells of some other tissues. Treatment with antiandrogens may stop prostate cancer cells from growing. Examples of antiandrogens used to treat prostate cancer are flutamide, bicalutamide, enzalutamide, and nilutamide.  antiandrogen therapy listen (AN-tee-AN-droh-jen THAYR-uh-pee) Treatment with drugs to block the action of androgens (male hormones) in the body. Androgens, such as testosterone, bind to proteins called androgen receptors, which are found in prostate cancer cells and in cells of some other tissues. Antiandrogen therapy keeps androgens from binding to these receptors and may keep cancer cells from growing. It is used to treat prostate cancer.  antiangiogenesis listen (AN-tee-AN-jee-oh-JEH-neh-sis) Prevention of the growth of new blood vessels.  antiangiogenesis agent listen (AN-tee-AN-jee-oh-JEH-neh-sis AY-jent) A drug or substance that keeps new blood vessels from forming. In cancer treatment, antiangiogenesis agents may prevent the growth of new blood vessels that tumors need to grow. Also called angiogenesis inhibitor.  antiangiogenic listen (AN-tee-AN-jee-oh-JEH-nik) Having to do with reducing the growth of new blood vessels.  antianxiety agent listen (AN-tee-ang-ZY-eh-tee AY-jent) A drug used to treat symptoms of anxiety, such as feelings of fear, dread, uneasiness, and muscle tightness, that may occur as a reaction to stress. Most antianxiety agents block the action of certain chemicals in the nervous system. Also called anxiolytic and anxiolytic agent.  antiapoptotic listen (AN-tee-A-pop-TAH-tik) Something that prevents apoptosis. Apoptosis is a type of cell death in which a series of molecular steps in a cell leads to its death.  antibacterial listen (AN-tee-bak-TEER-ee-ul) A substance that kills bacteria or stops them from growing and causing disease.  antibiotic listen (AN-tee-by-AH-tik) A drug used to treat infections caused by bacteria and other microorganisms.  antibody listen (AN-tee-BAH-dee) A protein made by plasma cells (a type of white blood cell) in response to an antigen (a substance that causes the body to make a specific immune response). Each antibody can bind to only one specific antigen. The purpose of this binding is to help destroy the antigen. Some antibodies destroy antigens directly. Others make it easier for white blood cells to destroy the antigen. An antibody is a type of immunoglobulin.  antibody therapy listen (AN-tee-BAH-dee THAYR-uh-pee) Treatment that uses antibodies to help the body fight cancer, infection, or other diseases. Antibodies are proteins made by the immune system that bind to specific markers on cells or tissues. Monoclonal antibodies are a type of antibody made in the laboratory that can be used in diagnosis or treatment. In cancer treatment, monoclonal antibodies may kill cancer cells directly, they may block development of tumor blood vessels, or they may help the immune system kill cancer cells.  antibody-dependent cell-mediated cytotoxicity listen (AN-tee-BAH-dee-deh-PEN-dent sel-MEE-dee-AY-ted SY-toh-tok-SIH-sih-tee) A type of immune reaction in which a target cell or microbe is coated with antibodies and killed by certain types of white blood cells. The white blood cells bind to the antibodies and release substances that kill the target cells or microbes. Also called ADCC and antibody-dependent cellular cytotoxicity.  antibody-dependent cellular cytotoxicity listen (AN-tee-BAH-dee-deh-PEN-dent SEL-yoo-ler SY-toh-tok-SIH-sih-tee) A type of immune reaction in which a target cell or microbe is coated with antibodies and killed by certain types of white blood cells. The white blood cells bind to the antibodies and release substances that kill the target cells or microbes. Also called ADCC and antibody-dependent cell-mediated cytotoxicity.  antibody-drug conjugate listen (AN-tee-BAH-dee ... KON-jih-gut) A substance made up of a monoclonal antibody chemically linked to a drug. The monoclonal antibody binds to specific proteins or receptors found on certain types of cells, including cancer cells. The linked drug enters these cells and kills them without harming other cells. Some antibody-drug conjugates are used to treat cancer. Also called ADC.  anticachexia listen (AN-tee-kuh-KEK-see-uh) Describes a drug or effect that works against cachexia (loss of body weight and muscle mass).  anticancer antibiotic listen (AN-tee-KAN-ser AN-tee-by-AH-tik) A type of anticancer drug that blocks cell growth by interfering with DNA, the genetic material in cells. Also called antineoplastic antibiotic and antitumor antibiotic.  anticancer therapy listen (AN-tee-KAN-ser THAYR-uh-pee) Treatment to stop or prevent cancer.  anticarcinogenic listen (AN-tee-KAR-sih-noh-JEH-nik) Having to do with preventing or delaying the development of cancer.  anti-CCR2 monoclonal antibody MLN1202 listen (AN-tee … MAH-noh-KLOH-nul AN-tee-BAH-dee …) A substance being studied as a treatment for atherosclerosis (a build-up of fat in the arteries). It is also being studied in the treatment of cancers that spread to the bone. Anti-CCR2 monoclonal antibody MLN1202 binds to a protein called CCR2, which is found on the surface of certain bone cells, white blood cells, and cancer cells. Anti-CCR2 monoclonal antibody MLN1202 blocks the action of a substance that is involved in keeping healthy bone mass. It may help keep the cancer cells from spreading to and growing in the bone. It is a type of monoclonal antibody. Also called MLN1202.  anti-CD19 immunotoxin listen (AN-tee … IH-myoo-noh-TOK-sin) A monoclonal antibody linked to a toxic substance. It is being studied in the treatment of some types of B-cell cancer. Anti-CD19 immunotoxin is made in the laboratory. It binds to CD19, a protein on the surface of normal B cells and B-cell tumors, and kills the cells.  anti-CD22 immunotoxin listen (AN-tee … IH-myoo-noh-TOK-sin) A monoclonal antibody linked to a toxic substance. It is being studied in the treatment of some types of B-cell cancer. Anti-CD22 immunotoxin is made in the laboratory. It binds to CD22, a protein on the surface of normal B cells and B-cell tumors, and kills the cells.  anti-CD22 immunotoxin CAT-8015 listen (AN-tee … IH-myoo-noh-TOK-sin …) A drug used to treat hairy cell leukemia that came back or did not get better with at least two other systemic therapies, including treatment with a purine nucleoside analog (a type of anticancer drug). Anti-CD22 immunotoxin CAT-8015 contains a monoclonal antibody called moxetumomab that binds to a protein called CD22, which is found on B cells (a type of white blood cell) and some types of leukemia cells. It also contains a bacterial toxin called PE38, which may help kill cancer cells. Anti-CD22 immunotoxin CAT-8015 is a type of immunotoxin. Also called CAT-8015, Lumoxiti, and moxetumomab pasudotox.  anti-CD45 monoclonal antibody listen (AN-tee … MAH-noh-KLOH-nul AN-tee-BAH-dee) A substance being studied in the treatment of some types of leukemia and lymphoma. Anti-CD45 monoclonal antibody binds to a protein called CD45, which is found on most types of blood cells and some types of leukemia and lymphoma cells. Anti-CD45 monoclonal antibody may help the immune system kill cancer cells. It is a type of monoclonal antibody.  anti-CEA antibody listen (AN-tee ... AN-tee-BAH-dee) An antibody against carcinoembryonic antigen (CEA), a protein present on certain types of cancer cells.  anticoagulant listen (AN-tee-koh-A-gyuh-lunt) A substance that is used to prevent and treat blood clots in blood vessels and the heart. Also called blood thinner.  anticonvulsant listen (AN-tee-kun-VUL-sunt) A drug or other substance used to prevent or stop seizures or convulsions. Also called antiepileptic.  antidepressant listen (AN-tee-dee-PREH-sunt) A drug used to treat depression.  antidiarrheal listen (AN-tee-dy-uh-REE-ul) A substance used to treat diarrhea (frequent and watery bowel movements).  antiemetic listen (AN-tee-eh-MEH-tik) A drug that prevents or reduces nausea and vomiting.  anti-EpCAM-Pseudomonas-exotoxin fusion protein listen (AN-tee ... SOO-doh-MOH-nus-EK-soh-TOK-sin FYOO-zhun PROH-teen) A substance being studied in the treatment of certain types of head and neck cancer. Anti-EpCAM-Pseudomonas-exotoxin fusion protein is made by linking a monoclonal antibody fragment to a toxic protein that may kill cancer cells. It binds to EpCAM (a protein on the surface of epithelial cells and some types of cancer cells). Also called Proxinium and VB4-845.  antiepileptic listen (AN-tee-EH-pih-LEP-tik) A drug or other substance used to prevent or stop seizures or convulsions. Also called anticonvulsant.  antiestrogen listen (AN-tee-ES-truh-jin) A substance that keeps cells from making or using estrogen (a hormone that plays a role in female sex characteristics, the menstrual cycle, and pregnancy). Antiestrogens may stop some cancer cells from growing and are used to prevent and treat breast cancer. They are also being studied in the treatment of other types of cancer. An antiestrogen is a type of hormone antagonist. Also called estrogen blocker.  antifibrinolytic agent listen (AN-tee-fy-BRIH-noh-LIH-tik AY-jent) A type of drug that helps the blood clot. It prevents the breakdown of a protein called fibrin, which is the main protein in a blood clot. Antifibrinolytic agents may be used to help prevent or treat serious bleeding in patients who have certain conditions, such as hemophilia, very heavy menstrual bleeding, or some types of vascular tumors. They may also be used to help prevent or control bleeding during or after surgery or after a traumatic injury.  antifolate listen (AN-tee-FOH-layt) A type of drug that stops cells from using folic acid to make DNA and may kill cancer cells. Certain antifolates are used to treat some types of cancer and inflammatory conditions, such as rheumatoid arthritis. Also called folate antagonist and folic acid antagonist.  antifungal listen (AN-tee-FUN-gul) A drug that treats infections caused by fungi.  antigen listen (AN-tih-jen) Any substance that causes the body to make an immune response against that substance. Antigens include toxins, chemicals, bacteria, viruses, or other substances that come from outside the body. Body tissues and cells, including cancer cells, also have antigens on them that can cause an immune response. These antigens can also be used as markers in laboratory tests to identify those tissues or cells.  antigen-presenting cell listen (AN-tih-jen-preh-ZEN-ting sel) A type of immune cell that boosts immune responses by showing antigens on its surface to other cells of the immune system. An antigen-presenting cell is a type of phagocyte. Also called APC.  antigen-presenting cell vaccine listen (AN-tih-jen-preh-ZEN-ting sel vak-SEEN) A vaccine made of antigens and antigen-presenting cells (APCs). APCs boost an immune response by presenting antigens on their surfaces to other cells of the immune system. Also called APC vaccine.  antiglobulin test listen (AN-tee-GLAH-byoo-lin ...) A laboratory test to identify antibodies that can bind to the surface of red blood cells or platelets and destroy them. This test is used to diagnose certain blood disorders in which patients make antibodies to their own red blood cells or platelets. It is also used to determine blood type. Also called Coombs test.  anti-HGF monoclonal antibody AMG 102 listen (AN-tee … MAH-noh-KLOH-nul AN-tee-BAH-dee ...) A substance being studied in the treatment of cancer. It binds to a protein called hepatocyte growth factor (HGF), which may cause cancer cells to grow. Blocking this may cause cancer cells to die. Anti-HGF monoclonal antibody AMG 102 is a type of monoclonal antibody. Also called AMG 102.  antihistamine listen (AN-tee-HIS-tuh-meen) A type of drug that blocks the action of histamines, which can cause fever, itching, sneezing, a runny nose, and watery eyes. Antihistamines are used to prevent fevers in patients receiving blood transfusions and to treat allergies, coughs, and colds.  antihormone therapy listen (AN-tee-HOR-mone THAYR-uh-pee) Treatment with drugs, surgery, or radiation in order to block the production or action of a hormone. Antihormone therapy may be used in cancer treatment because certain hormones are able to stimulate the growth of some types of tumors.  antihypertensive agent listen (AN-tee-HY-per-TEN-siv AY-jent) A type of drug used to treat high blood pressure. There are many different types of antihypertensive agents, and they work in different ways to lower blood pressure. Some remove extra fluid and salt from the body. Others relax and widen the blood vessels or slow the heartbeat. A person may respond better and have fewer side effects with one drug than with another. Some patients need more than one antihypertensive agent to lower their blood pressure.  anti-idiotype vaccine listen (AN-tee-IH-dee-oh-TIPE vak-SEEN) A vaccine made of antibodies that see other antibodies as the antigen and bind to it. Anti-idiotype vaccines can stimulate the body to produce antibodies against tumor cells.  anti-IGF1R recombinant monoclonal antibody MK-0646 listen (AN-tee … ree-KOM-bih-nunt MAH-noh-KLOH-nul AN-tee-BAH-dee …) A substance being studied in the treatment of many types of cancer. Anti-IGF1R recombinant monoclonal antibody MK-0646 binds to a protein called insulin-like growth factor receptor (IGFR) on the surface of cells. This may prevent the cells from growing when IGF is present. It may also kill cancer cells. Anti-IGF1R recombinant monoclonal antibody MK-0646 is a type of monoclonal antibody. Also called MK-0646.  anti-IL-6 chimeric monoclonal antibody listen (AN-tee ... ky-MEER-ik MAH-noh-KLOH-nul AN-tee-BAH-dee) A drug used to treat a rare condition called Castleman disease in patients who do not have HIV or human herpesvirus 8. It is also being studied in the treatment of multiple myeloma. Anti-IL-6 chimeric monoclonal antibody binds to a protein called interleukin-6 (IL-6), which is made by some white blood cells and other cells in the body. Anti-IL-6 chimeric monoclonal antibody may help reduce inflammation and stop the growth of cancer cells or abnormal blood cells. It is a type of monoclonal antibody. Also called cCLB8, CNTO 328, siltuximab, and Sylvant.  anti-inflammatory listen (AN-tee-in-FLA-muh-TOR-ee) Having to do with reducing inflammation.  anti-inflammatory agent listen (AN-tee-in-FLA-muh-TOR-ee AY-jent) A drug or substance that reduces inflammation (redness, swelling, and pain) in the body. Anti-inflammatory agents block certain substances in the body that cause inflammation. They are used to treat many different conditions. Some anti-inflammatory agents are being studied in the prevention and treatment of cancer.  antilymphocyte globulin listen (AN-tee-LIM-foh-site GLAH-byoo-lin) Serum from blood that contains antibodies that bind to human T cells. Antilymphocyte globulin is given to a patient before a stem cell transplant to kill T cells and lower the risk of graft-versus-host disease (GVHD). It is also used to treat GVHD and after a kidney transplant to help keep the body from rejecting the kidney. Also called antithymocyte globulin.  anti-mesothelin monoclonal antibody MORAb-009 listen (AN-tee-MEH-zoh-THEE-lin MAH-noh-KLOH-nul AN-tee-BAH-dee…) A substance being studied in the treatment of mesothelioma. Anti-mesothelin monoclonal antibody MORAb-009 binds to a protein called mesothelin, which is found on some cancer cells. Anti-mesothelin monoclonal antibody MORAb-009 may help the immune system kill cancer cells. It is a type of monoclonal antibody. Also called amatuximab and MORAb-009.  antimetabolite listen (AN-tee-meh-TA-boh-lite) A drug that is very similar to natural chemicals in a normal biochemical reaction in cells but different enough to interfere with the normal division and functions of cells.  antimicrobial listen (AN-tee-my-KROH-bee-ul) A substance that kills microorganisms such as bacteria or mold, or stops them from growing and causing disease.  antimicrotubule agent listen (AN-tee-MY-kroh-TOO-byool AY-jent) A type of drug that blocks cell growth by stopping mitosis (cell division). Antimicrotubule agents interfere with microtubules (cellular structures that help move chromosomes during mitosis). They are used to treat cancer.  antimitotic agent listen (AN-tee-my-TAH-tik AY-jent) A type of drug that blocks cell growth by stopping mitosis (cell division). They are used to treat cancer. Also called mitotic inhibitor.  anti-Mullerian hormone listen (AN-tee-myoo-LAYR-ee-un HOR-mone) A hormone made by the ovaries in females and the testicles in males. Anti-Mullerian hormone helps to form the male and female reproductive organs. It also helps control other hormones that act on the ovaries to make the follicles and eggs grow during a woman’s menstrual cycle. Measuring the amount of anti-Mullerian hormone in the blood may help diagnose infertility and other conditions, such as polycystic ovarian syndrome, menopause, and certain types of ovarian tumors. It may also help determine the sex of an infant, when the sex is not clear. Also called AMH.  antineoplastic listen (AN-tee-NEE-oh-PLAS-tik) Blocking the formation of neoplasms (growths that may become cancer).  antineoplastic antibiotic listen (AN-tee-NEE-oh-PLAS-tik AN-tee-by-AH-tik) A type of anticancer drug that blocks cell growth by interfering with DNA, the genetic material in cells. Also called anticancer antibiotic and antitumor antibiotic.  antineoplaston listen (AN-tee-NEE-oh-PLAS-ton) A substance isolated from normal human blood and urine that is being tested as a type of treatment for some tumors and AIDS.  antioncogene listen (AN-tee-ON-koh-jeen) A type of gene that makes a protein called a tumor suppressor protein that helps control cell growth. Mutations (changes in DNA) in antioncogenes may lead to cancer. Also called tumor suppressor gene.  antioxidant listen (AN-tee-OK-sih-dent) A substance that protects cells from the damage caused by free radicals (unstable molecules made by the process of oxidation during normal metabolism). Free radicals may play a part in cancer, heart disease, stroke, and other diseases of aging. Antioxidants include beta-carotene, lycopene, vitamins A, C, and E, and other natural and manufactured substances.  antiparasitic listen (AN-tee-PAYR-uh-SIH-tik) A drug used to treat infections caused by bacteria and parasites. It is also used in the treatment of some cancers.  anti-PDGFR alpha monoclonal antibody IMC-3G3 listen (AN-tee … AL-fuh MAH-noh-KLOH-nul AN-tee-BAH-dee …) A drug used with doxorubicin to treat soft tissue sarcoma that cannot be treated with radiation therapy or surgery. It is used in patients whose cancer has not already been treated with an anthracycline (a type of anticancer drug). It is also being studied in the treatment of other types of cancer. Anti-PDGFR alpha monoclonal antibody IMC-3G3 binds to a receptor for a protein called platelet-derived growth factor (PDGF), which is found on some types of cancer cells. Blocking this protein receptor may help keep cancer cells from growing and prevent the growth of new blood vessels that tumors need to grow. Anti-PDGFR alpha monoclonal antibody IMC-3G3 is a type of monoclonal antibody. Also called anti-platelet-derived growth factor receptor alpha monoclonal antibody IMC-3G3, IMC-3G3, Lartruvo, and olaratumab.  anti-platelet-derived growth factor receptor alpha monoclonal antibody IMC-3G3 listen (AN-tee-PLAYT-let-deh-RIVED grothe FAK-ter reh-SEP-ter AL-fuh MAH-noh-KLOH-nul AN-tee-BAH-dee …) A drug used with doxorubicin to treat soft tissue sarcoma that cannot be treated with radiation therapy or surgery. It is used in patients whose cancer has not already been treated with an anthracycline (a type of anticancer drug). It is also being studied in the treatment of other types of cancer. Anti-platelet-derived growth factor receptor alpha monoclonal antibody IMC-3G3 binds to a receptor for a protein called platelet-derived growth factor (PDGF), which is found on some types of cancer cells. Blocking this protein receptor may help keep cancer cells from growing and prevent the growth of new blood vessels that tumors need to grow. Anti-platelet-derived growth factor receptor alpha monoclonal antibody IMC-3G3 is a type of monoclonal antibody. Also called anti-PDGFR alpha monoclonal antibody IMC-3G3, IMC-3G3, Lartruvo, and olaratumab.  antiprogestin listen (AN-tee-proh-JES-tin) A substance that prevents cells from making or using progesterone (a hormone that plays a role in the menstrual cycle and pregnancy). Antiprogestins may stop some cancer cells from growing and they are being studied in the treatment of breast cancer. An antiprogestin is a type of hormone antagonist.  antipsychotic listen (AN-tee-sy-KAH-tik) A type of drug used to treat symptoms of psychosis. These include hallucinations (sights, sounds, smells, tastes, or touches that a person believes to be real but are not real), delusions (false beliefs), and dementia (loss of the ability to think, remember, learn, make decisions, and solve problems). Most antipsychotics block the action of certain chemicals in the nervous system. Also called antipsychotic agent and neuroleptic agent.  antipsychotic agent listen (AN-tee-sy-KAH-tik AY-jent) A type of drug used to treat symptoms of psychosis. These include hallucinations (sights, sounds, smells, tastes, or touches that a person believes to be real but are not real), delusions (false beliefs), and dementia (loss of the ability to think, remember, learn, make decisions, and solve problems). Most antipsychotic agents block the action of certain chemicals in the nervous system. Also called antipsychotic and neuroleptic agent.  antiretroviral therapy listen (AN-tee-REH-troh-VY-rul THAYR-uh-pee) Treatment with drugs that inhibit the ability of the human immunodeficiency virus (HIV) or other types of retroviruses to multiply in the body.  antisense agent listen (AN-tee-sents AY-jent) Small pieces of DNA or RNA that can bind to specific molecules of RNA. This blocks the ability of the RNA to make a protein or work in other ways. Antisense agents may be used to block the production of proteins needed for cell growth. They are being studied in the treatment of several types of cancer. Also called antisense oligonucleotide.  antisense c-fos listen (AN-tee-sents ...) A substance that has been studied in the treatment of cancer and is being studied in the treatment of rheumatoid arthritis and certain skin conditions. It blocks the production of a protein called c-fos, which helps control cell growth. This may kill cancer cells that need c-fos to grow. It is a type of antisense oligonucleotide. Also called c-fos antisense oligonucleotide.  antisense DNA listen (AN-tee-sents …) Small pieces of DNA that can bind to specific molecules of RNA and block the cell’s ability to use the RNA to make a protein or work in other ways. Antisense DNA may be used to block the production of proteins needed for cell growth. It is being studied in the treatment of many types of cancer.  antisense oligonucleotide listen (AN-tee-sents AH-lih-goh-NOO-klee-oh-tide) Small pieces of DNA or RNA that can bind to specific molecules of RNA. This blocks the ability of the RNA to make a protein or work in other ways. Antisense oligonucleotides may be used to block the production of proteins needed for cell growth. They are being studied in the treatment of several types of cancer. Also called antisense agent.  antisense oligonucleotide therapy listen (AN-tee-sents AH-lih-goh-NOO-klee-oh-tide THAYR-uh-pee) Treatment with antisense oligonucleotides. These are small pieces of DNA or RNA that can bind to specific molecules of RNA. This blocks the cell’s ability to use the RNA to make a protein or work in other ways. Antisense oligonucleotides are being studied in the treatment of many types of cancer. Also called antisense therapy.  antisense RNA listen (AN-tee-sents …) Small pieces of RNA that can bind to specific molecules of RNA and block the cell’s ability to use the RNA to make a protein or work in other ways. Antisense RNA may be used to block the production of proteins needed for cell growth. It is being studied in the treatment of many types of cancer.  antisense therapy listen (AN-tee-sents THAYR-uh-pee) Treatment with antisense oligonucleotides. These are small pieces of DNA or RNA that can bind to specific molecules of RNA. This blocks the cell’s ability to use the RNA to make a protein or work in other ways. Antisense oligonucleotides are being studied in the treatment of many types of cancer. Also called antisense oligonucleotide therapy.  antisocial listen (AN-tee-SOH-shul) Describes behavior that ignores the rights of others and the practices and laws of society.  anti-TGF-beta monoclonal antibody GC1008 listen (AN-tee ... BAY-tuh MAH-noh-KLOH-nul AN-tee-BAH-dee ...) A substance being studied in the treatment of breast cancer that has spread to other parts of the body. It is also being studied in the treatment of other cancers and conditions. Anti-TGF-beta monoclonal antibody GC1008 binds to a protein called transforming growth factor-beta (TGF-beta), which is found on some cancer cells. Anti-TGF-beta monoclonal antibody GC1008 may help keep cancer cells from growing and prevent the growth of new blood vessels that tumors need to grow. It is a type of monoclonal antibody and a type of antiangiogenesis agent. Also called fresolimumab and GC1008.  antithymocyte globulin listen (AN-tee-THY-moh-site GLAH-byoo-lin) Serum from blood that contains antibodies that bind to human T cells. Antithymocyte globulin is given to a patient before a stem cell transplant to kill T cells and lower the risk of graft-versus-host disease (GVHD). It is also used to treat GVHD and after a kidney transplant to help keep the body from rejecting the kidney. Also called antilymphocyte globulin.  anti-TRAIL R1-mAb listen (AN-tee ...) A substance being studied in the treatment of some types of cancer. It binds to a protein called TRAIL R1 on the surface of some tumor cells. This may kill the tumor cells. Anti-TRAIL R1-mAb is a type of monoclonal antibody. Also called HGS-ETR1 and mapatumumab.  anti-TRAIL R2 mAb HGS-ETR2 listen (AN-tee ...) A substance being studied in the treatment of some types of cancer. It binds to a protein called TRAIL-R2 on the surface of some tumor cells, which may kill the tumor cells. Anti-TRAIL R2 mAb HGS-ETR2 is a type of monoclonal antibody. Also called HGS-ETR2 and lexatumumab.  antituberculosis listen (AN-tee-too-BER-kyoo-LOH-sis) Describes a drug or effect that works against tuberculosis (a contagious bacterial infection that usually affects the lungs).  antitumor listen (AN-tee-TOO-mer) Having to do with stopping abnormal cell growth.  antitumor antibiotic listen (AN-tee-TOO-mer AN-tee-by-AH-tik) A type of anticancer drug that blocks cell growth by interfering with DNA, the genetic material in cells. Also called anticancer antibiotic and antineoplastic antibiotic.  anti-VEGFR monoclonal antibody listen (AN-tee … MAH-noh-KLOH-nul AN-tee-BAH-dee) A substance that binds to receptors for a protein called vascular endothelial growth factor (VEGF), which may be found on some types of cancer cells. This may prevent the growth of new blood vessels that tumors need to grow. There are different types of anti-VEGFR monoclonal antibodies being studied in the treatment of cancer. These substances are a type of antiangiogenesis agent and a type of monoclonal antibody.  anti-VEGFR-2 fully human monoclonal antibody IMC-1121B listen (AN-tee … ful-ee HYOO-mun MAH-noh-KLOH-nul AN-tee-BAH-dee …) A drug used with other drugs to treat colorectal cancer and non-small cell lung cancer that have spread to other parts of the body. It is used alone or with another drug to treat cancer of the stomach or gastroesophageal junction (area where the esophagus connects to the stomach) that is advanced or has spread to other parts of the body. It is also being studied in the treatment of other types of cancer. Anti-VEGFR-2 fully human monoclonal antibody IMC-1121B binds to receptors for a protein called vascular endothelial growth factor (VEGF), which may be found on some types of cancer cells. This may prevent the growth of new blood vessels that tumors need to grow. Anti-VEGFR-2 fully human monoclonal antibody IMC-1121B is a type of antiangiogenesis agent and a type of monoclonal antibody. Also called Cyramza, IMC-1121B, and ramucirumab.  antiviral listen (AN-tee-VY-rul) A drug used to treat infections caused by viruses.  anus listen (AY-nus) The opening of the rectum to the outside of the body.  anxiety listen (ang-ZY-eh-tee) Feelings of fear, dread, and uneasiness that may occur as a reaction to stress. A person with anxiety may sweat, feel restless and tense, and have a rapid heart beat. Extreme anxiety that happens often over time may be a sign of an anxiety disorder.  anxiolysis listen (ANG-zee-AH-lih-sis) A level of sedation in which a person is very relaxed and may be awake. The person is able to answer questions and follow instructions. Anxiolysis is caused by special drugs and is used to help relieve anxiety during certain medical or surgical procedures. Also called minimal sedation.  anxiolytic listen (ANG-zee-oh-LIH-tik) A drug used to treat symptoms of anxiety, such as feelings of fear, dread, uneasiness, and muscle tightness, that may occur as a reaction to stress. Most anxiolytics block the action of certain chemicals in the nervous system. Also called antianxiety agent and anxiolytic agent.  anxiolytic agent listen (ANG-zee-oh-LIH-tik AY-jent) A drug used to treat symptoms of anxiety, such as feelings of fear, dread, uneasiness, and muscle tightness, that may occur as a reaction to stress. Most anxiolytic agents block the action of certain chemicals in the nervous system. Also called antianxiety agent and anxiolytic.  aorta listen (ay-OR-tuh) The largest artery in the body. It carries oxygen-rich blood away from the heart to vessels that reach the rest of the body.  aortocoronary bypass listen (ay-OR-toh-KOR-uh-NAYR-ee BY-pass) Surgery in which a healthy blood vessel taken from another part of the body is used to make a new path for blood around a blocked artery leading to the heart. This restores the flow of oxygen and nutrients to the heart. Also called CAB and coronary artery bypass.  AP23573 A substance being studied in the treatment of soft tissue and bone cancers. It is also being studied in the treatment of other solid tumors and hematologic cancer. AP23573 stops cells from dividing and may cause cancer cells to die. It is a type of mTOR inhibitor. Also called ridaforolimus.  AP5346 A substance being studied in the treatment of head and neck cancer. It may kill cancer cells by carrying an anticancer drug into the tumor. It is a type of platinum compound.  apalutamide listen (A-puh-LOO-tuh-mide) A drug used to treat prostate cancer that has not spread to other parts of the body. It is used in patients whose cancer is castration resistant (has not responded to treatments that lower testosterone levels). Apalutamide binds to proteins called androgen receptors, which are found in some prostate cancer cells. These proteins bind to androgens (male hormones) and may cause cancer cells to grow. Apalutamide blocks these proteins and may keep cancer cells from growing. It is a type of antiandrogen. Also called Erleada.  APC A type of immune cell that boosts immune responses by showing antigens on its surface to other cells of the immune system. An APC is a type of phagocyte. Also called antigen-presenting cell.  APC vaccine listen (… vak-SEEN) A vaccine made of antigens and antigen-presenting cells (APCs). APCs boost an immune response by presenting antigens on their surfaces to other cells of the immune system. Also called antigen-presenting cell vaccine.  APC8015 A vaccine used to treat prostate cancer that has spread to other parts of the body. It is used in patients who have few or no symptoms and whose cancer is castration resistant (has not responded to treatments that lower testosterone levels). APC8015 is made from a patient’s immune cells that have been treated in the laboratory with GM-CSF (a type of growth factor) and a protein found on prostate cancer cells. APC8015 may help the immune system kill prostate cancer cells. It is a type of cellular adoptive immunotherapy. Also called Provenge and sipuleucel-T.  APC8015F A vaccine made from immune system cells taken from a patient with prostate cancer and frozen for future use. The cells are treated in the laboratory with a growth factor attached to a protein called prostatic-acid phosphatase (PAP), which is found on prostate cancer cells. When APC8015F is injected into the patient, it may cause T cells (a type of white blood cell) to kill tumor cells that have PAP on them.  apheresis listen (a-feh-REE-sis) A procedure in which blood is collected, part of the blood such as platelets or white blood cells is taken out, and the rest of the blood is returned to the donor. Also called pheresis.  Apidra listen (uh-PEE-druh) A drug used to control the amount of sugar in the blood of patients with diabetes mellitus. It is a form of the hormone insulin that is made in the laboratory. Apidra gets into the blood faster than insulin when it is injected under the skin before or shortly after a meal. It is a type of therapeutic insulin. Also called insulin glulisine.  APL An aggressive (fast-growing) type of acute myeloid leukemia in which there are too many immature blood-forming cells in the blood and bone marrow. It is usually marked by an exchange of parts of chromosomes 15 and 17. Also called acute promyelocytic leukemia and promyelocytic leukemia.  aplastic anemia listen (AY-PLAS-tik uh-NEE-mee-uh) A condition in which the bone marrow is unable to produce blood cells.  aplidine listen (AP-lih-deen) A substance that is being studied in the treatment of cancer. It is obtained from a marine organism.  APN A registered nurse who has additional education and training in how to diagnose and treat disease. APNs are licensed at the state level and certified by national nursing organizations. In cancer care, an APN may manage the primary care of patients and their families, based on a practice agreement with a doctor. Also called advanced practice nurse, NP, and nurse practitioner.  Apo-2L listen (AY-poh …) A cell protein that can attach to certain molecules in some cancer cells and may kill the cells. Apo-2L is being studied in the treatment of cancer. Also called TNF-related apoptosis-inducing ligand, TRAIL, and tumor necrosis factor-related apoptosis-inducing ligand.  apocrine gland listen (A-poh-krin ...) A type of gland that is found in the skin, breast, eyelid, and ear. Apocrine glands in the breast secrete fat droplets into breast milk and those in the ear help form earwax. Apocrine glands in the skin and eyelid are sweat glands. Most apocrine glands in the skin are in the armpits, the groin, and the area around the nipples of the breast. Apocrine glands in the skin are scent glands, and their secretions usually have an odor. Another type of gland (eccrine gland or simple sweat gland) produces most sweat.  apolizumab listen (a-puh-LIZ-yoo-mab) A substance being studied in the treatment of hematologic (blood) cancers. Apolizumab binds to a protein called ID10, which is found on the surface of some types of immune cells and cancer cells. It may help the immune system kill cancer cells. It is a type of monoclonal antibody.  apoptosis listen (A-pop-TOH-sis) A type of cell death in which a series of molecular steps in a cell lead to its death. This is one method the body uses to get rid of unneeded or abnormal cells. The process of apoptosis may be blocked in cancer cells. Also called programmed cell death.  appendage listen (uh-PEN-dij) In medicine, a body part (such as an arm or leg) that is attached to the main part of the body.  appendectomy listen (A-pen-DEK-toh-mee) Surgery to remove the appendix (small finger-shaped pouch at the end of the first part of the large intestine).  appendix listen (uh-PEN-dix) A small, fingerlike pouch that sticks out from the cecum (the first part of the large intestine near the end of the small intestine).  appetite listen (A-peh-tite) A desire to satisfy a physical or mental need, such as for food, sex, or adventure.  aprepitant listen (uh-PREH-pih-tunt) A drug used with other drugs to prevent nausea and vomiting caused by chemotherapy. It is also used to prevent nausea and vomiting after surgery. Aprepitant blocks the action of a certain chemical in the brain that may trigger nausea and vomiting. Blocking this chemical may lessen nausea and vomiting. Aprepitant is a type of antiemetic and a type of substance P/neurokinin 1 receptor antagonist. Also called Emend.  Aptivus listen (AP-tih-vus) A drug used with another drug, ritonavir, to treat patients who are infected with HIV (the virus that causes AIDS) and have been treated with other anti-HIV drugs. Aptivus blocks the HIV virus from making copies of itself. It is a type of anti-HIV agent and a type of protease inhibitor. Also called tipranavir sodium.  aqueous listen (A-kwee-us) Having to do with water.  AR A protein that binds male hormones called androgens. ARs are found inside the cells of male reproductive tissue, some other types of tissue, and some cancer cells. In prostate cancer, androgens bind to ARs inside the cancer cells, which causes the cancer cells to grow. Also called androgen receptor.  AR+ listen Describes cells that have a protein that binds to androgens (male hormones). Cancer cells that are AR+ may need androgens to grow. These cells may stop growing or die when they are treated with substances that block the binding and actions of androgen hormones. Also called androgen receptor positive.  ARA-C A drug used with other drugs to treat acute lymphoblastic leukemia (ALL), acute myeloid leukemia (AML), and chronic myeloid leukemia (CML). It is also used to prevent and treat a type of leukemia that has spread to the meninges (three thin layers of tissue that cover and protect the brain and spinal cord). It is also being studied in the treatment of other types of cancer. ARA-C blocks cells from making DNA and may kill cancer cells. It is a type of antimetabolite. Also called cytarabine.  Aranesp listen (AYR-uh-nesp) A drug used to treat anemia caused by chronic kidney disease and some types of chemotherapy. Aranesp is a form of erythropoietin (a substance naturally made by the kidneys) that is made in the laboratory. It helps the bone marrow make more red blood cells. Aranesp is a type of antianemic and a type of erythropoiesis-stimulating agent. Also called darbepoetin alfa.  arctigenin listen (ARK-tih-JEH-nin) A substance found in certain plants, including burdock. It has shown antiviral and anticancer effects. Arctigenin belongs to a group of substances called lignans.  arctiin listen (ARK-tine) A substance found in certain plants, including burdock. It has shown anticancer effects. Arctiin belongs to a group of substances called lignans.  Aredia listen (uh-REH-dee-uh) A drug used to treat hypercalcemia (high blood levels of calcium) caused by certain types of cancer. It is also used with other anticancer drugs to treat multiple myeloma and breast cancer that has spread to bone. It is also used to treat Paget disease of the bone. Aredia may help keep bone from breaking down and prevent the loss of calcium from the bones. It is a type of bisphosphonate. Also called pamidronate disodium.  areola listen (ayr-EE-oh-luh) The area of dark-colored skin on the breast that surrounds the nipple.  arginine listen (AR-jih-neen) One of the twenty common amino acids (building blocks of proteins). Arginine is being studied as a nutritional supplement in the treatment and prevention of cancer and other conditions. Also called L-arginine.  arginine butyrate listen (AR-jih-neen BYOO-tuh-rayt) A substance that is being studied in the treatment of cancer.  argon beam coagulator ablation listen (AR-gon beem coh-A-gyuh-LAY-ter a-BLAY-shun) A procedure that destroys tissue with an electrical current passed through a stream of argon gas to the tissue. It is used to treat endometriosis and other conditions, and to stop blood loss during surgery.  Arimidex listen (uh-RIH-mih-dex) A drug used to treat certain types of breast cancer in postmenopausal women. It is also being studied in the treatment of other types of cancer. Arimidex lowers the amount of estrogen made by the body. This may stop the growth of cancer cells that need estrogen to grow. Arimidex is a type of nonsteroidal aromatase inhibitor. Also called anastrozole.  Arixtra listen (uh-RIK-struh) A drug used to prevent blood clots from forming inside blood vessels in the leg. It is being studied in the prevention of blood clots in some cancer patients, including women having surgery for cancer of the reproductive tract. It is a type of anticoagulant. Also called fondaparinux and fondaparinux sodium.  ARMD A condition in which there is a slow breakdown of cells in the center of the retina (the light-sensitive layers of nerve tissue at the back of the eye). This blocks vision in the center of the eye and can cause problems with activities such as reading and driving. ARMD is most often seen in people who are over the age of 50. Also called age-related macular degeneration, AMD, and macular degeneration.  armodafinil listen (ar-moh-DA-fih-nil) A drug that is used to treat certain sleep disorders, such as narcolepsy. It makes patients feel more alert and awake. It is also being studied in the treatment of insomnia and fatigue in patients treated for cancer. Armodafinil acts in a part of the brain that controls sleep and wakefulness. It is a type of wakefulness-promoting agent. Also called Nuvigil.  ARMS A soft tissue tumor that is most common in older children and teenagers. It begins in embryonic muscle cells (cells that develop into muscles in the body). It can occur at many places in the body, but usually occurs in the trunk, arms, or legs. Also called alveolar rhabdomyosarcoma.  Aromasin listen (uh-ROH-muh-sin) A drug used to treat advanced breast cancer or early-stage breast cancer that is estrogen receptor positive (ER+). It is used in postmenopausal women whose cancer has already been treated with tamoxifen. It is also being studied in the treatment of other types of cancer. Aromasin lowers the amount of estrogen made by the body. This may stop the growth of cancer cells that need estrogen to grow. Aromasin is a type of aromatase inhibitor. Also called exemestane.  aromatase inhibitor listen (uh-ROH-muh-tays in-HIH-bih-ter) A drug that prevents the formation of estradiol, a female hormone, by interfering with an aromatase enzyme. Aromatase inhibitors are used as a type of hormone therapy for postmenopausal women who have hormone-dependent breast cancer.  aromatherapist listen (uh-ROH-muh-THAYR-uh-pist) A person who practices a type of complementary medicine called aromatherapy. This therapy uses plant oils that give off strong, pleasant smells to promote relaxation and a sense of well-being. The plant oils are usually inhaled or put on the skin using wet cloths, baths, or massage.  aromatherapy listen (uh-ROH-muh-THAYR-uh-pee) A type of complementary and alternative medicine that uses plant oils that give off strong pleasant aromas (smells) to promote relaxation, a sense of well-being, and healing.  aromatherapy infusion listen (uh-ROH-muh-THAYR-uh-pee in-FYOO-zhun) The process of heating (without boiling) a mixture of water and an essential oil (scented liquid taken from a plant) to release a pleasant aroma. Aromatherapy infusion may also refer to the process of heating an herb in liquid to release the essential oils. Inhaled oxygen scented by aromatherapy infusion is being studied as a complementary therapy (used in addition to standard treatments) to relieve pain and shorten recovery time in patients undergoing colonoscopy.  aromatherapy massage listen (uh-ROH-muh-THAYR-uh-pee muh-SAZH) A type of complementary and alternative medicine that uses rubbing and kneading of the skin with plant oils that give off strong, pleasant aromas (smells) to promote relaxation, a sense of well-being, and healing.  aromatic listen (AYR-oh-MA-tik) Having an odor, which often is pleasant or spicy.  arousal listen (uh-ROW-zul) The state of being alert and ready to respond, or waking from sleep.  Arranon listen (AYR-rah-non) A drug used to treat T-cell acute lymphoblastic leukemia and T-cell lymphoblastic lymphoma. It is used in patients whose cancer has not gotten better or has recurred (come back) after treatment with other anticancer drugs. Arranon stops cells from making DNA and may kill cancer cells. It is a type of antimetabolite. Also called 506U78 and nelarabine.  arrhenoblastoma listen (uh-REE-noh-blas-TOH-muh) A rare type of ovarian tumor in which the tumor cells secrete a male sex hormone. This may cause virilization (the appearance of male physical characteristics in females). Also called androblastoma and Sertoli-Leydig cell tumor of the ovary.  arsenic listen (ARS-nik) A poisonous chemical used to kill weeds and pests. Also used in cancer therapy.  arsenic trioxide listen (AR-seh-nik try-OK-side) A drug used to treat acute promyelocytic leukemia (APL) that has a certain chromosome abnormality or a fusion gene called PML/RAR-alpha. It is used with tretinoin in some newly diagnosed patients. It is used alone in patients whose cancer has not gotten better or has come back after treatment with other anticancer drugs. Arsenic trioxide is also being studied in the treatment of other types of cancer. Arsenic trioxide damages a fusion protein made by the PML/RAR-alpha fusion gene. This may help keep cancer cells from growing and may kill them. Also called Trisenox.  art therapy listen (… THAYR-uh-pee) Treatment that uses the making of art and the response to art to improve one’s physical, mental, and emotional well-being. Art therapy is sometimes used together with psychotherapy (talk therapy).  arterial embolization listen (ar-TEER-ee-ul EM-boh-lih-ZAY-shun) A procedure in which the blood supply to a tumor or an abnormal area of tissue is blocked. During arterial embolization, a small incision (cut) is made in the inner thigh and a catheter (thin, flexible tube) is inserted and guided into an artery near the tumor or abnormal tissue. Once the catheter is in place, small particles made of tiny gelatin sponges or beads are injected. This blocks the artery and stops the flow of blood to the tumor or abnormal area of tissue. Arterial embolization is used to treat some types of liver cancer, kidney cancer, and neuroendocrine tumors. It may also be used to treat uterine fibroids, aneurysms, and other conditions. Also called TAE and transarterial embolization.  arteriogram listen (ar-TEER-ee-oh-gram) An x-ray of arteries. The person receives an injection of a dye that outlines the vessels on the x-ray.  arteriography listen (ar-TEER-ee-AH-gruh-fee) A procedure to x-ray arteries. The arteries can be seen because of an injection of a dye that outlines the vessels on the x-ray.  artery listen (AR-tuh-ree) A blood vessel that carries blood from the heart to tissues and organs in the body.  arthralgia listen (ar-THRAL-juh) Joint pain.  arthritis listen (ar-THRY-tis) A disease that causes inflammation and pain in the joints.  artificial pacemaker listen (AR-tih-FIH-shul PAYS-may-ker) An electronic device that is implanted in the body to monitor heart rate and rhythm. It gives the heart electrical stimulation when it does not beat normally. It runs on batteries and has long, thin wires that connect it to the heart. Also called cardiac pacemaker and pacemaker.  Arzerra listen (ar-ZAYR-uh) A drug used alone or with other anticancer drugs to treat certain types of chronic lymphocytic leukemia (CLL). It is also being studied in the treatment of other types of cancer. Arzerra binds to a protein called CD20, which is found on B cells (a type of white blood cell) and some types of leukemia and lymphoma cells. Arzerra may block CD20 and help the immune system kill cancer cells. It is a type of monoclonal antibody. Also called HuMax-CD20 and ofatumumab.  arzoxifene hydrochloride listen (ar-ZOK-sih-feen HY-droh-KLOR-ide) A substance being studied in the treatment of osteoporosis and breast cancer. Arzoxifene hydrochloride is made in the laboratory and binds to estrogen receptors in the body. It is a type of selective estrogen receptor modulator (SERM). Also called LY353381 hydrochloride.  asbestos listen (as-BES-tus) A group of minerals that take the form of tiny fibers. Asbestos has been used as insulation against heat and fire in buildings. Loose asbestos fibers breathed into the lungs can cause several serious diseases, including lung cancer and malignant mesothelioma (cancer found in the lining of the lungs, chest, or abdomen). Asbestos that is swallowed may cause cancer of the gastrointestinal tract.  asbestosis listen (as-bes-TOH-sis) A lung disease caused by breathing in particles of asbestos (a group of minerals that take the form of tiny fibers). Symptoms include coughing, trouble breathing, and chest pain caused by scarring and permanent damage to lung tissue. Asbestosis increases the risk of lung cancer and malignant mesothelioma (cancer found in the lining of the lungs, chest, or abdomen).  ASC-H A finding of abnormal cells in a Pap test. It means there are abnormal squamous cells in the tissue that lines the outer part of the cervix. ASC-H may be a sign of a high-grade squamous intraepithelial lesion (HSIL), which may become cervical cancer if untreated. More testing may be needed. Also called atypical squamous cells, cannot exclude a high-grade lesion.  ascites listen (uh-SY-teez) Abnormal buildup of fluid in the abdomen that may cause swelling. In late-stage cancer, tumor cells may be found in the fluid in the abdomen. Ascites also occurs in patients with liver disease.  ascorbic acid listen (uh-SKOR-bik A-sid) A nutrient that the body needs in small amounts to function and stay healthy. Ascorbic acid helps fight infections, heal wounds, and keep tissues healthy. It is an antioxidant that helps prevent cell damage caused by free radicals (highly reactive chemicals). Ascorbic acid is found in all fruits and vegetables, especially citrus fruits, strawberries, cantaloupe, green peppers, tomatoes, broccoli, leafy greens, and potatoes. It is water-soluble (can dissolve in water) and must be taken in every day. Ascorbic acid is being studied in the prevention and treatment of some types of cancer. Also called vitamin C.  ASCUS listen A finding of abnormal cells in the tissue that lines the outer part of the cervix. ASCUS is the most common abnormal finding in a Pap test. It may be a sign of infection with certain types of human papillomavirus (HPV). It may also be a sign of a benign (not cancer) growth, such as a cyst or polyp or, in menopausal women, of low hormone levels. More testing, such as an HPV test, may be needed. Also called ASC-US and atypical squamous cells of undetermined significance.  ASC-US A finding of abnormal cells in the tissue that lines the outer part of the cervix. ASC-US is the most common abnormal finding in a Pap test. It may be a sign of infection with certain types of human papillomavirus (HPV). It may also be a sign of a benign (not cancer) growth, such as a cyst or polyp or, in menopausal women, of low hormone levels. More testing, such as an HPV test, may be needed. Also called ASCUS and atypical squamous cells of undetermined significance.  aseptic necrosis listen (ay-SEP-tik neh-KROH-sis) A condition in which there is a loss of blood flow to bone tissue, which causes the bone to die. It is most common in the hips, knees, shoulders, and ankles. It may be caused by long-term use of steroid medicines, alcohol abuse, joint injuries, and certain diseases, such as cancer and arthritis. It may also occur at some point in time after cancer treatment that included methotrexate, bisphosphonates, or corticosteroids. Also called avascular necrosis, ischemic necrosis, and osteonecrosis.  Ashkenazi Jews listen (ASH-keh-NAH-zee jooz) One of two major ancestral groups of Jewish individuals. The ancestors of Ashkenazi Jews lived in Central and Eastern Europe (e.g., Germany, Poland, Russia). The other group is called Sephardic Jews and includes those whose ancestors lived in North Africa, the Middle East, and Spain. Most Jews living in the United States are of Ashkenazi descent.  ASM A rare condition in which too many mast cells (a type of white blood cell) build up in certain tissues and organs in the body, including the bone marrow, lymph nodes, bone, liver, spleen, and small intestine. ASM may get worse quickly and cause severe symptoms and organ damage. Sometimes, it may become mast cell leukemia (a very rare type of leukemia). ASM usually occurs in adults. Also called aggressive systemic mastocytosis.  asparaginase listen (as-PAYR-uh-jih-NAYS) A drug that is used to treat acute lymphoblastic leukemia (ALL) and is being studied in the treatment of some other types of cancer. It is an enzyme taken from the bacterium Escherichia coli (E. coli). It breaks down the amino acid asparagine and may block the growth of tumor cells that need asparagine to grow. Also called Elspar and L-asparaginase.  asparaginase Erwinia chrysanthemi listen (as-PAYR-uh-jih-NAYS er-WIH-nee-uh krih-SAN-theh-my) A drug used with other anticancer drugs to treat acute lymphoblastic leukemia (ALL). It is an enzyme that comes from the Erwinia chrysanthemi bacterium. It is used in patients who cannot take a similar drug that comes from the E. coli bacterium. It is also being studied in the treatment of other types of cancer. It breaks down the amino acid asparagine and may block the growth of cancer cells that need asparagine to grow. It may also kill cancer cells. Also called Erwinaze.  Asparlas (AS-par-las) A drug used with other drugs to treat acute lymphoblastic lymphoma in children and young adults aged 1 month to 21 years. Asparlas is a form of the drug L-asparaginase that is linked to a substance called SC-PEG, which makes the drug stay in the body longer. L-asparaginase is an enzyme taken from the bacterium Escherichia coli (E. coli). It breaks down the amino acid asparagine and may stop the growth of cancer cells that need asparagine to grow. Asparlas is a type of protein synthesis inhibitor. Also called calaspargase pegol, EZN-2285, and SC-PEG E. coli L-asparaginase.  aspartate transaminase listen (as-PAR-tayt tranz-A-mih-nays) An enzyme found in the liver, heart, and other tissues. A high level of aspartate transaminase released into the blood may be a sign of liver or heart damage, cancer, or other diseases. Also called serum glutamic-oxaloacetic transaminase and SGOT.  aspergillosis listen (AS-per-jih-LOH-sis) An infectious fungal disease that occurs most often in the skin, ears, nasal sinuses, and lungs of people with suppressed immune systems.  Aspergillus listen (AS-per-JIH-lus) Fungi commonly found in soil. Certain types of Aspergillus may cause disease, especially in people who have suppressed immune systems.  aspirate Aspirate (pronounced AS-pih-rit) refers to fluid, tissue, or other substance that is withdrawn from a body cavity, cyst, or tumor. Aspirate (pronounced AS-pih-rayt) refers to the act of withdrawing the fluid, tissue, or other substance through a needle. It also refers to the accidental breathing in of food or fluid into the lungs. This can cause serious problems, such as pneumonia and other lung problems.  aspiration listen (AS-pih-RAY-shun) Removal of fluid or tissue through a needle. Also, the accidental breathing in of food or fluid into the lungs.  aspirin listen (AS-pih-rin) A drug that reduces pain, fever, inflammation, and blood clotting. Aspirin belongs to the family of drugs called nonsteroidal anti-inflammatory agents. It is also being studied in cancer prevention.  ASPS A soft tissue tumor that is most common in older children and teenagers. It begins in the soft supporting tissue that connects and surrounds the organs and other tissues. ASPS usually occurs in the legs, but can also occur in the arms, hands, head, or neck. It can cause the growth of new blood vessels that help the tumor grow and spread. Also called alveolar soft part sarcoma.  assay listen (A-say) A laboratory test to find and measure the amount of a specific substance.  assent process listen (uh-SENT PRAH-ses) A process that is required by law in which children or adolescents are given easy-to-understand information about a clinical trial to help them decide if they want to take part in the trial. The patient is given a chance to ask questions about what will happen during the trial, why it’s being done, and what they will be asked to do. Formal consent to enter the trial comes from the parent or guardian.  assessment listen (uh-SES-ment) In healthcare, a process used to learn about a patient’s condition. This may include a complete medical history, medical tests, a physical exam, a test of learning skills, tests to find out if the patient is able to carry out the tasks of daily living, a mental health evaluation, and a review of social support and community resources available to the patient.  asset listen (A-set) Something that has financial value and that a person owns, benefits from, or has use of. Money, jewelry, artwork, investments, real estate, and cars are examples of assets.  assistive device listen (uh-SIS-tiv dee-VISE) A tool that helps a person with a disability to do a certain task. Examples are a cane, wheelchair, scooter, walker, hearing aid, or special bed.  assistive technology listen (uh-SIS-tiv tek-NAH-loh-jee) Any device or technology that helps a disabled person. Examples are special grips for holding utensils, computer screen monitors to help a person with low vision read more easily, computers controlled by talking, telephones that make the sound louder, and lifters to help a person rise out of a chair.  asthenia listen (as-THEE-nee-uh) Weakness; lack of energy and strength.  asthma listen (AZ-muh) A chronic disease in which the bronchial airways in the lungs become narrowed and swollen, making it difficult to breathe. Symptoms include wheezing, coughing, tightness in the chest, shortness of breath, and rapid breathing. An asthma attack may be brought on by pet hair, dust, smoke, pollen, mold, exercise, cold air, or stress.  astrocyte listen (AS-troh-site) A large, star-shaped cell that holds nerve cells in place and helps them develop and work the way they should. An astrocyte is a type of glial cell.  astrocytoma listen (AS-troh-sy-TOH-muh) A tumor that begins in the brain or spinal cord in small, star-shaped cells called astrocytes.  asymmetry listen (ay-SIH-meh-tree) Lack or absence of balanced proportions between parts of a thing.  asymptomatic listen (AY-sim-toh-MA-tik) Having no signs or symptoms of disease.  asymptomatic inflammatory prostatitis listen (AY-sim-toh-MA-tik in-FLA-muh-TOR-ee PROS-tuh-TY-tis) Inflammation of the prostate gland where the only symptom is the presence of white blood cells in the prostate fluid.  AT/RT An aggressive cancer of the central nervous system, kidney, or liver that occurs in very young children. Also called ATT/RHT and atypical teratoid/rhabdoid tumor.\""
      ]
     },
     "execution_count": 9,
     "metadata": {},
     "output_type": "execute_result"
    }
   ],
   "source": [
    "test.loc[test.token_length.idxmax(),'text']"
   ]
  },
  {
   "cell_type": "code",
   "execution_count": 10,
   "metadata": {},
   "outputs": [
    {
     "data": {
      "text/plain": [
       "'Thank you so much…I’m learning a lot here at GRACE.  I should have mentioned my husband’s cancer is in his bones, liver, adrenal, in addition to lung and brain mets as I mentioned.   I truly appreciate the comments on hospice as we just started hospice a few weeks ago…my insurance allows palliative care along with continued anti-cancer treatment.  I only thought of hospice as end-of-life care, thus was hesitant, but it has truly been a blessing as they’ve helped with equipment, medicine, and twice weekly visits give us a bit of a measurement of how my husband is doing.  They have been extremely helpful.   I meant to ask…does Opdivo and/or Tagrisso penetrate the blood brain barrier?  I’ve heard yes and no.  My husband had just started Opdivo (only 5 treatments) and they switched to Irinotecan chemo because of the brain mets.  After the first chemo, he ended up in the hospital with pneumonia.   Thank you again! Gina'"
      ]
     },
     "execution_count": 10,
     "metadata": {},
     "output_type": "execute_result"
    }
   ],
   "source": [
    "train['text'][9]"
   ]
  },
  {
   "cell_type": "code",
   "execution_count": 11,
   "metadata": {},
   "outputs": [
    {
     "data": {
      "text/plain": [
       "' Sandy'"
      ]
     },
     "execution_count": 11,
     "metadata": {},
     "output_type": "execute_result"
    }
   ],
   "source": [
    "train.loc[train.token_length.idxmin(),'text']"
   ]
  },
  {
   "cell_type": "code",
   "execution_count": 12,
   "metadata": {},
   "outputs": [
    {
     "data": {
      "text/plain": [
       "'Keytruda Carboplatin and Alimta'"
      ]
     },
     "execution_count": 12,
     "metadata": {},
     "output_type": "execute_result"
    }
   ],
   "source": [
    "test.loc[test.token_length.idxmin(),'text']"
   ]
  },
  {
   "cell_type": "code",
   "execution_count": 13,
   "metadata": {},
   "outputs": [
    {
     "data": {
      "text/plain": [
       "<matplotlib.axes._subplots.AxesSubplot at 0x1a057f3dc88>"
      ]
     },
     "execution_count": 13,
     "metadata": {},
     "output_type": "execute_result"
    },
    {
     "data": {
      "image/png": "[encoded data removed]",
      "text/plain": [
       "<Figure size 432x288 with 1 Axes>"
      ]
     },
     "metadata": {
      "needs_background": "light"
     },
     "output_type": "display_data"
    }
   ],
   "source": [
    "train['drug'].value_counts().plot.line()"
   ]
  },
  {
   "cell_type": "code",
   "execution_count": 14,
   "metadata": {},
   "outputs": [
    {
     "data": {
      "text/plain": [
       "<matplotlib.axes._subplots.AxesSubplot at 0x1a057f3d1d0>"
      ]
     },
     "execution_count": 14,
     "metadata": {},
     "output_type": "execute_result"
    },
    {
     "data": {
      "image/png": "[encoded data removed]",
      "text/plain": [
       "<Figure size 432x288 with 1 Axes>"
      ]
     },
     "metadata": {
      "needs_background": "light"
     },
     "output_type": "display_data"
    }
   ],
   "source": [
    "test['drug'].value_counts().plot.line()"
   ]
  },
  {
   "cell_type": "code",
   "execution_count": 15,
   "metadata": {},
   "outputs": [
    {
     "data": {
      "text/plain": [
       "0         76\n",
       "1        206\n",
       "2        135\n",
       "3         20\n",
       "4        115\n",
       "5         37\n",
       "6        118\n",
       "7        137\n",
       "8         50\n",
       "9        169\n",
       "10       328\n",
       "11       123\n",
       "12       239\n",
       "13      1979\n",
       "14       137\n",
       "15      4133\n",
       "16       107\n",
       "17        60\n",
       "18        89\n",
       "19       101\n",
       "20       263\n",
       "21        48\n",
       "22       146\n",
       "23       174\n",
       "24       149\n",
       "25       176\n",
       "26       103\n",
       "27       221\n",
       "28      2888\n",
       "29        54\n",
       "        ... \n",
       "5249    2018\n",
       "5250     128\n",
       "5251      78\n",
       "5252     330\n",
       "5253     116\n",
       "5254      68\n",
       "5255     736\n",
       "5256     602\n",
       "5257     325\n",
       "5258      15\n",
       "5259      83\n",
       "5260     163\n",
       "5261     201\n",
       "5262     233\n",
       "5263     771\n",
       "5264      39\n",
       "5265      17\n",
       "5266      47\n",
       "5267      32\n",
       "5268      60\n",
       "5269      69\n",
       "5270    1538\n",
       "5271      23\n",
       "5272     126\n",
       "5273      24\n",
       "5274     187\n",
       "5275     150\n",
       "5276       9\n",
       "5277     117\n",
       "5278      95\n",
       "Name: token_length, Length: 5279, dtype: int64"
      ]
     },
     "execution_count": 15,
     "metadata": {},
     "output_type": "execute_result"
    }
   ],
   "source": [
    "train['token_length']"
   ]
  },
  {
   "cell_type": "code",
   "execution_count": 16,
   "metadata": {},
   "outputs": [
    {
     "data": {
      "text/plain": [
       "0         10\n",
       "1         27\n",
       "2        182\n",
       "3        163\n",
       "4        537\n",
       "5         18\n",
       "6        105\n",
       "7        167\n",
       "8         66\n",
       "9        200\n",
       "10       117\n",
       "11       220\n",
       "12       100\n",
       "13        97\n",
       "14       250\n",
       "15        97\n",
       "16        72\n",
       "17       155\n",
       "18       172\n",
       "19       364\n",
       "20       116\n",
       "21       235\n",
       "22       958\n",
       "23        49\n",
       "24        66\n",
       "25      1785\n",
       "26        20\n",
       "27        23\n",
       "28        38\n",
       "29        27\n",
       "        ... \n",
       "2894      36\n",
       "2895      86\n",
       "2896     128\n",
       "2897     217\n",
       "2898     350\n",
       "2899     160\n",
       "2900     111\n",
       "2901      28\n",
       "2902      44\n",
       "2903     471\n",
       "2904      58\n",
       "2905     153\n",
       "2906     205\n",
       "2907      67\n",
       "2908    2064\n",
       "2909      23\n",
       "2910     745\n",
       "2911    5063\n",
       "2912     919\n",
       "2913     126\n",
       "2914     146\n",
       "2915     153\n",
       "2916     184\n",
       "2917      83\n",
       "2918     232\n",
       "2919     139\n",
       "2920     244\n",
       "2921     352\n",
       "2922      87\n",
       "2923     120\n",
       "Name: token_length, Length: 2924, dtype: int64"
      ]
     },
     "execution_count": 16,
     "metadata": {},
     "output_type": "execute_result"
    }
   ],
   "source": [
    "test['token_length']"
   ]
  },
  {
   "cell_type": "code",
   "execution_count": 17,
   "metadata": {},
   "outputs": [
    {
     "data": {
      "text/plain": [
       "<matplotlib.axes._subplots.AxesSubplot at 0x1a05806feb8>"
      ]
     },
     "execution_count": 17,
     "metadata": {},
     "output_type": "execute_result"
    },
    {
     "data": {
      "image/png": "[encoded data removed]",
      "text/plain": [
       "<Figure size 432x288 with 1 Axes>"
      ]
     },
     "metadata": {
      "needs_background": "light"
     },
     "output_type": "display_data"
    }
   ],
   "source": [
    "train['token_length'].plot.line()"
   ]
  },
  {
   "cell_type": "code",
   "execution_count": 18,
   "metadata": {},
   "outputs": [
    {
     "data": {
      "text/plain": [
       "<matplotlib.axes._subplots.AxesSubplot at 0x1a0580eea58>"
      ]
     },
     "execution_count": 18,
     "metadata": {},
     "output_type": "execute_result"
    },
    {
     "data": {
      "image/png": "[encoded data removed]",
      "text/plain": [
       "<Figure size 432x288 with 1 Axes>"
      ]
     },
     "metadata": {
      "needs_background": "light"
     },
     "output_type": "display_data"
    }
   ],
   "source": [
    "test['token_length'].plot.line()"
   ]
  },
  {
   "cell_type": "code",
   "execution_count": 19,
   "metadata": {},
   "outputs": [
    {
     "data": {
      "text/plain": [
       "((5279, 5), (2924, 4))"
      ]
     },
     "execution_count": 19,
     "metadata": {},
     "output_type": "execute_result"
    }
   ],
   "source": [
    "train.shape,test.shape"
   ]
  },
  {
   "cell_type": "code",
   "execution_count": 20,
   "metadata": {},
   "outputs": [],
   "source": [
    "train.drop(train.index[train['token_length'] == 0], inplace = True)"
   ]
  },
  {
   "cell_type": "code",
   "execution_count": 21,
   "metadata": {},
   "outputs": [],
   "source": [
    "\n",
    "contraction_mapping = {\"ain't\": \"is not\", \"aren't\": \"are not\",\"can't\": \"cannot\", \n",
    "                   \"can't've\": \"cannot have\", \"'cause\": \"because\", \"could've\": \"could have\", \n",
    "                   \"couldn't\": \"could not\", \"couldn't've\": \"could not have\",\"didn't\": \"did not\", \n",
    "                   \"doesn't\": \"does not\", \"don't\": \"do not\", \"hadn't\": \"had not\", \n",
    "                   \"hadn't've\": \"had not have\", \"hasn't\": \"has not\", \"haven't\": \"have not\", \n",
    "                   \"he'd\": \"he would\", \"he'd've\": \"he would have\", \"he'll\": \"he will\", \n",
    "                   \"he'll've\": \"he will have\", \"he's\": \"he is\", \"how'd\": \"how did\", \n",
    "                   \"how'd'y\": \"how do you\", \"how'll\": \"how will\", \"how's\": \"how is\", \n",
    "                   \"I'd\": \"I would\", \"I'd've\": \"I would have\", \"I'll\": \"I will\", \n",
    "                   \"I'll've\": \"I will have\",\"I'm\": \"I am\", \"I've\": \"I have\", \n",
    "                   \"i'd\": \"i would\", \"i'd've\": \"i would have\", \"i'll\": \"i will\", \n",
    "                   \"i'll've\": \"i will have\",\"i'm\": \"i am\", \"i've\": \"i have\", \n",
    "                   \"isn't\": \"is not\", \"it'd\": \"it would\", \"it'd've\": \"it would have\", \n",
    "                   \"it'll\": \"it will\", \"it'll've\": \"it will have\",\"it's\": \"it is\", \n",
    "                   \"let's\": \"let us\", \"ma'am\": \"madam\", \"mayn't\": \"may not\", \n",
    "                   \"might've\": \"might have\",\"mightn't\": \"might not\",\"mightn't've\": \"might not have\", \n",
    "                   \"must've\": \"must have\", \"mustn't\": \"must not\", \"mustn't've\": \"must not have\", \n",
    "                   \"needn't\": \"need not\", \"needn't've\": \"need not have\",\"o'clock\": \"of the clock\", \n",
    "                   \"oughtn't\": \"ought not\", \"oughtn't've\": \"ought not have\", \"shan't\": \"shall not\",\n",
    "                   \"sha'n't\": \"shall not\", \"shan't've\": \"shall not have\", \"she'd\": \"she would\", \n",
    "                   \"she'd've\": \"she would have\", \"she'll\": \"she will\", \"she'll've\": \"she will have\", \n",
    "                   \"she's\": \"she is\", \"should've\": \"should have\", \"shouldn't\": \"should not\", \n",
    "                   \"shouldn't've\": \"should not have\", \"so've\": \"so have\",\"so's\": \"so as\", \n",
    "                   \"this's\": \"this is\",\n",
    "                   \"that'd\": \"that would\", \"that'd've\": \"that would have\",\"that's\": \"that is\", \n",
    "                   \"there'd\": \"there would\", \"there'd've\": \"there would have\",\"there's\": \"there is\", \n",
    "                       \"here's\": \"here is\",\n",
    "                   \"they'd\": \"they would\", \"they'd've\": \"they would have\", \"they'll\": \"they will\", \n",
    "                   \"they'll've\": \"they will have\", \"they're\": \"they are\", \"they've\": \"they have\", \n",
    "                   \"to've\": \"to have\", \"wasn't\": \"was not\", \"we'd\": \"we would\", \n",
    "                   \"we'd've\": \"we would have\", \"we'll\": \"we will\", \"we'll've\": \"we will have\", \n",
    "                   \"we're\": \"we are\", \"we've\": \"we have\", \"weren't\": \"were not\", \n",
    "                   \"what'll\": \"what will\", \"what'll've\": \"what will have\", \"what're\": \"what are\", \n",
    "                   \"what's\": \"what is\", \"what've\": \"what have\", \"when's\": \"when is\", \n",
    "                   \"when've\": \"when have\", \"where'd\": \"where did\", \"where's\": \"where is\", \n",
    "                   \"where've\": \"where have\", \"who'll\": \"who will\", \"who'll've\": \"who will have\", \n",
    "                   \"who's\": \"who is\", \"who've\": \"who have\", \"why's\": \"why is\", \n",
    "                   \"why've\": \"why have\", \"will've\": \"will have\", \"won't\": \"will not\", \n",
    "                   \"won't've\": \"will not have\", \"would've\": \"would have\", \"wouldn't\": \"would not\", \n",
    "                   \"wouldn't've\": \"would not have\", \"y'all\": \"you all\", \"y'all'd\": \"you all would\",\n",
    "                   \"y'all'd've\": \"you all would have\",\"y'all're\": \"you all are\",\"y'all've\": \"you all have\",\n",
    "                   \"you'd\": \"you would\", \"you'd've\": \"you would have\", \"you'll\": \"you will\", \n",
    "                   \"you'll've\": \"you will have\", \"you're\": \"you are\", \"you've\": \"you have\" } "
   ]
  },
  {
   "cell_type": "code",
   "execution_count": 22,
   "metadata": {},
   "outputs": [],
   "source": [
    "import codecs\n",
    "import unidecode\n",
    "import re\n",
    "import spacy\n",
    "import en_core_web_sm\n",
    "nlp = spacy.load('en')\n",
    "def spacy_cleaner(text):\n",
    "    try:\n",
    "        decoded = unidecode.unidecode(codecs.decode(text, 'unicode_escape'))\n",
    "    except:\n",
    "        decoded = unidecode.unidecode(text)\n",
    "    apostrophe_handled = re.sub(\"’\", \"'\", decoded)\n",
    "    expanded = ' '.join([contraction_mapping[t] if t in contraction_mapping else t for t in apostrophe_handled.split(\" \")])\n",
    "    parsed = nlp(expanded)\n",
    "    final_tokens = []\n",
    "    for t in parsed:\n",
    "        if t.is_punct or t.is_space or t.like_num or t.like_url or str(t).startswith('@'):\n",
    "            pass\n",
    "        else:\n",
    "            if t.lemma_ == '-PRON-':\n",
    "                final_tokens.append(str(t))\n",
    "            else:\n",
    "                sc_removed = re.sub(\"[^a-zA-Z]\", '', str(t.lemma_))\n",
    "                if len(sc_removed) > 1:\n",
    "                    final_tokens.append(sc_removed)\n",
    "    joined = ' '.join(final_tokens)\n",
    "    spell_corrected = re.sub(r'(.)\\1+', r'\\1\\1', joined)\n",
    "    return spell_corrected"
   ]
  },
  {
   "cell_type": "code",
   "execution_count": 23,
   "metadata": {},
   "outputs": [
    {
     "data": {
      "text/plain": [
       "0    Autoimmune diseases tend to come in clusters. As for Gilenya – if you feel good, don’t think about it, it won’t change anything but waste your time and energy. I’m taking Tysabri and feel amazing, no symptoms (other than dodgy color vision, but I’ve had it since always, so, don’t know) and I don’t know if it will last a month, a year, a decade, ive just decided to enjoy the ride, no point in worrying.                                                                                                                                                                                                                                                                                                                                                                                                                                                                                                                                                                                                                                                                                                                                                                                                            \n",
       "1    I can completely understand why you’d want to try it. But, results reported in lectures don’t always stand up to the scrutiny of peer-review during publication. There so much still to do before this is convincing. I hope that it does work out, I really do. And if you’re aware of and happy with the risks, then that’s great. I just think it’s important to present this in a balanced way, and to understand why we don’t move straight from the first show of promise in an animal study to using drugs on humans. There’s still a lot of animal data to gather, and human data to gather before anyone can tell if it’s safe or effective. I can’t tell you how many times animal studies don’t follow through to humans, but it’s one of the major attrition points in drug development. You’ve been through some of the unpredictability issues with Cladribine/Gilenya, where there was an interaction that wasn’t predicted. But once people try it, the doctors can see patterns and work out what’s going on. Clemastine/metformin is very exciting, and given what you’ve said about your current condition and your personal risk tolerance it makes sense to try it. It definitely wouldn’t be for everyone.\n",
       "2    Interesting that it only targets S1P-1/5 receptors rather than 1-5 like Fingolimod. Hoping to soon see what the AEs and SAEs were Yes. I'm not sure what this means, exactly:  Quote Nine patients reported serious adverse events (2 mg: 3/29 [10.3%], 1.25 mg: 1/43 [2.3%], 0.5 mg: 4/29 [13.8%], and 0.25 mg: 1/50 [2.0%]; no serious adverse event was reported for more than 1 patient and no new safety signals occurred compared with the BOLD Study. If there were 9 patients reporting SAEs, how can it be stated that \"no serious adverse event was reported for more than 1 patient...\"? Maybe I haven't read this right, or maybe there's a misprint. I'm very pleased that something is being developed for SPMS, and it's encouraging that siponimod doesn't linger for very long in the body.                                                                                                                                                                                                                                                                                                                                                                                                                    \n",
       "3    Very interesting, grand merci. Now I wonder where lemtrada and ocrevus sales would go, if they prove anti-cd20 are induction                                                                                                                                                                                                                                                                                                                                                                                                                                                                                                                                                                                                                                                                                                                                                                                                                                                                                                                                                                                                                                                                                                    \n",
       "4    Hi everybody, My latest MRI results for Brain and Cervical Cord are in and my next Neurologist appointment is in the next couple of weeks. There’re no new lesions in Brain/Cord and I’ve had no relapses while I was on Gilenya. This was a good sign. But there was one line in the cervical cord review that concerned me. It goes : “Lesions at C2-3 and T2 now show hypointensity on the post gadolinium T1 images only. This could represent artifact or early axonal loss.” That was bothersome to read. What are the kind of symptoms from C2-C3 lesion should I be aware of ? Would it result in change of my DMT ? Thanks.                                                                                                                                                                                                                                                                                                                                                                                                                                                                                                                                                                                            \n",
       "5    I can’t give you advice about Lemtrada because I chose Cladribine. Have you thought about this drug? The doctors at Barts are keen to give it to people with SPMS. You can read about it here: http://multiple-sclerosis-research.blogspot.com/2016/01/suppose-there-was-therapy-for-all.html                                                                                                                                                                                                                                                                                                                                                                                                                                                                                                                                                                                                                                                                                                                                                                                                                                                                                                                                   \n",
       "6    Reply posted for JessZidek. Hi Jess Sorry to read about the challenges you are having with your health. You mentioned a lot in your post. I just want to share some info on a few of the points. First, I know you said that you are scared of Humira. Humira and other biologics are very successful in reducing symptoms and inducing and maintain disease remission. To reduce your level of fear it can help to learn more about your treatment option. You can learn more about some of your treatment options. To learn more view our Understanding IBD Medication brochure at: http://www.crohnscolitisfoundation.org/assets/pdfs/understanding-ibd-meds-nov.pdf . If you would like to talk, contact the Help Center at 888-694-8872 or at info@crohnscolitisfoundation.org                                                                                                                                                                                                                                                                                                                                                                                                                                             \n",
       "7    Well as expected my Neurologist wants me to start Tysabri, I kept saying that I wasn’t happy and he kept saying Yes you are! But I am still NOT, If Lemtrada was available here I think I would definitely go for that,but like every thing here we are way behind, it took 8 years longer than Australia to get Gilenya and Tysabri? I am taking Gilenya every second day,but my vitals are still low,white blood count 1.9 last week? On the day I don’t take I am a box of birds,as normal as I can be! Again I really Don’t want this Tysabri! And am considering just not attending! I have voiced my concerns_But? It seems even on it,if you tolerate ok, the average time until you have to stop though becoming JVC positive is two years?                                                                                                                                                                                                                                                                                                                                                                                                                                                                             \n",
       "8    Why do you think that FIngolimod was such a miserable failure in progressive MS trial in humans (not animals) that was aborted by Biogen? If it is in fact stimulating neuronal gene expression, axon growth and regeneration, which is what you want in progressive patients, why do human trials fail?                                                                                                                                                                                                                                                                                                                                                                                                                                                                                                                                                                                                                                                                                                                                                                                                                                                                                                                        \n",
       "9    Thank you so much…I’m learning a lot here at GRACE.  I should have mentioned my husband’s cancer is in his bones, liver, adrenal, in addition to lung and brain mets as I mentioned.   I truly appreciate the comments on hospice as we just started hospice a few weeks ago…my insurance allows palliative care along with continued anti-cancer treatment.  I only thought of hospice as end-of-life care, thus was hesitant, but it has truly been a blessing as they’ve helped with equipment, medicine, and twice weekly visits give us a bit of a measurement of how my husband is doing.  They have been extremely helpful.   I meant to ask…does Opdivo and/or Tagrisso penetrate the blood brain barrier?  I’ve heard yes and no.  My husband had just started Opdivo (only 5 treatments) and they switched to Irinotecan chemo because of the brain mets.  After the first chemo, he ended up in the hospital with pneumonia.   Thank you again! Gina                                                                                                                                                                                                                                                                 \n",
       "Name: text, dtype: object"
      ]
     },
     "execution_count": 23,
     "metadata": {},
     "output_type": "execute_result"
    }
   ],
   "source": [
    "pd.set_option('display.max_colwidth', -1)\n",
    "train.text[:10]"
   ]
  },
  {
   "cell_type": "code",
   "execution_count": 24,
   "metadata": {},
   "outputs": [
    {
     "data": {
      "text/plain": [
       "['Autoimmune disease tend to come in cluster as for Gilenya if you feel good donat think about it it wonat change anything but waste your time and energy Iam take Tysabri and feel amazing no symptom other than dodgy color vision but Iave have it since always so donat know and I donat know if it will last month year decade i have just decide to enjoy the ride no point in worry',\n",
       " 'I can completely understand why youad want to try it but result report in lecture donat always stand up to the scrutiny of peer review during publication there so much still to do before this be convince I hope that it do work out I really do and if youare aware of and happy with the risk then thata great I just think ita important to present this in balanced way and to understand why we donat move straight from the first show of promise in an animal study to use drug on human therea still lot of animal datum to gather and human datum to gather before anyone can tell if ita safe or effective I canat tell you how many time animal study donat follow through to human but ita of the major attrition point in drug development Youave be through some of the unpredictability issue with Cladribine Gilenya where there be an interaction that wasnat predict but once people try it the doctor can see pattern and work out whata go on clemastine metformin be very exciting and give what youave say about your current condition and your personal risk tolerance it make sense to try it It definitely wouldnat be for everyone',\n",
       " 'interesting that it only target sp receptor rather than like Fingolimod hope to soon see what the ae and sae be yes I be not sure what this mean exactly Quote patient report serious adverse event mg mg mg and mg no serious adverse event be report for more than patient and no new safety signal occur compare with the BOLD Study if there be patient report sae how can it be state that no serious adverse event be report for more than patient maybe I have not read this right or maybe there be misprint I be very pleased that something be be develop for SPMS and it be encourage that siponimod do not linger for very long in the body',\n",
       " 'very interesting grand merci now I wonder where lemtrada and ocrevus sale would go if they prove anti cd be induction',\n",
       " 'hi everybody My late MRI result for Brain and Cervical Cord be in and my next neurologist appointment be in the next couple of week thereare no new lesion in Brain Cord and Iave have no relapse while I be on Gilenya this be good sign but there be line in the cervical cord review that concern me It go alesion at and now show hypointensity on the post gadolinium image only this could represent artifact or early axonal lossa that be bothersome to read what be the kind of symptom from cc lesion should I be aware of Would it result in change of my DMT thank',\n",
       " 'I canat give you advice about Lemtrada because I choose Cladribine Have you think about this drug the doctor at bart be keen to give it to people with SPMS You can read about it here',\n",
       " 'Reply post for JessZidek hi Jess sorry to read about the challenge you be have with your health You mention lot in your post I just want to share some info on few of the point first I know you say that you be scared of Humira humira and other biologic be very successful in reduce symptom and inducing and maintain disease remission to reduce your level of fear it can help to learn more about your treatment option You can learn more about some of your treatment option to learn more view our Understanding IBD Medication brochure at if you would like to talk contact the Help Center at or at infocrohnscolitisfoundationorg',\n",
       " 'well as expect my Neurologist want me to start Tysabri I keep say that I wasnat happy and he keep say yes you be but I be still not if Lemtrada be available here I think I would definitely go for that but like every thing here we be way behind it take year longer than Australia to get Gilenya and Tysabri I be take Gilenya every second day but my vital be still low white blood count last week on the day I donat take I be box of bird as normal as I can be again I really Donat want this Tysabri and be consider just not attend I have voice my concernsbut It seem even on it if you tolerate ok the average time until you have to stop though become JVC positive be year',\n",
       " 'why do you think that FIngolimod be such miserable failure in progressive MS trial in human not animal that be abort by Biogen if it be in fact stimulate neuronal gene expression axon growth and regeneration which be what you want in progressive patient why do human trial fail',\n",
       " 'thank you so muchaiam learn lot here at GRACE I should have mention my husbanda cancer be in his bone liver adrenal in addition to lung and brain met as I mention I truly appreciate the comment on hospice as we just start hospice few week agoamy insurance allow palliative care along with continue anti cancer treatment I only think of hospice as end of life care thus be hesitant but it have truly be blessing as theyave help with equipment medicine and twice weekly visit give us bit of measurement of how my husband be do They have be extremely helpful I mean to askadoes Opdivo andor Tagrisso penetrate the blood brain barrier Iave hear yes and no My husband have just start Opdivo only treatment and they switch to irinotecan chemo because of the brain met after the first chemo he end up in the hospital with pneumonia thank you again Gina']"
      ]
     },
     "execution_count": 24,
     "metadata": {},
     "output_type": "execute_result"
    }
   ],
   "source": [
    "[spacy_cleaner(t) for t in train.text[:10]]"
   ]
  },
  {
   "cell_type": "code",
   "execution_count": 25,
   "metadata": {},
   "outputs": [
    {
     "name": "stderr",
     "output_type": "stream",
     "text": [
      "C:\\Users\\dk283\\AppData\\Local\\Continuum\\anaconda3\\lib\\site-packages\\ipykernel_launcher.py:9: DeprecationWarning: invalid escape sequence '\\W'\n",
      "  if __name__ == '__main__':\n"
     ]
    }
   ],
   "source": [
    "train['text'] = [spacy_cleaner(t) for t in train.text]"
   ]
  },
  {
   "cell_type": "code",
   "execution_count": 26,
   "metadata": {},
   "outputs": [
    {
     "name": "stderr",
     "output_type": "stream",
     "text": [
      "C:\\Users\\dk283\\AppData\\Local\\Continuum\\anaconda3\\lib\\site-packages\\ipykernel_launcher.py:9: DeprecationWarning: invalid escape sequence '\\W'\n",
      "  if __name__ == '__main__':\n"
     ]
    }
   ],
   "source": [
    "test['text'] = [spacy_cleaner(t) for t in test.text]"
   ]
  },
  {
   "cell_type": "code",
   "execution_count": 27,
   "metadata": {},
   "outputs": [
    {
     "data": {
      "text/plain": [
       "2    3825\n",
       "1    837 \n",
       "0    617 \n",
       "Name: sentiment, dtype: int64"
      ]
     },
     "execution_count": 27,
     "metadata": {},
     "output_type": "execute_result"
    }
   ],
   "source": [
    "train['sentiment'].value_counts()"
   ]
  },
  {
   "cell_type": "code",
   "execution_count": 28,
   "metadata": {},
   "outputs": [
    {
     "data": {
      "text/plain": [
       "((5279, 5), (2924, 4))"
      ]
     },
     "execution_count": 28,
     "metadata": {},
     "output_type": "execute_result"
    }
   ],
   "source": [
    "train.shape,test.shape"
   ]
  },
  {
   "cell_type": "code",
   "execution_count": 29,
   "metadata": {},
   "outputs": [
    {
     "data": {
      "text/html": [
       "<div>\n",
       "<style scoped>\n",
       "    .dataframe tbody tr th:only-of-type {\n",
       "        vertical-align: middle;\n",
       "    }\n",
       "\n",
       "    .dataframe tbody tr th {\n",
       "        vertical-align: top;\n",
       "    }\n",
       "\n",
       "    .dataframe thead th {\n",
       "        text-align: right;\n",
       "    }\n",
       "</style>\n",
       "<table border=\"1\" class=\"dataframe\">\n",
       "  <thead>\n",
       "    <tr style=\"text-align: right;\">\n",
       "      <th></th>\n",
       "      <th>unique_hash</th>\n",
       "      <th>sentiment</th>\n",
       "    </tr>\n",
       "  </thead>\n",
       "  <tbody>\n",
       "    <tr>\n",
       "      <th>0</th>\n",
       "      <td>9e9a8166b84114aca147bf409f6f956635034c08</td>\n",
       "      <td>0</td>\n",
       "    </tr>\n",
       "    <tr>\n",
       "      <th>1</th>\n",
       "      <td>e747e6822c867571afe7b907b51f0f2ca67b0e1a</td>\n",
       "      <td>0</td>\n",
       "    </tr>\n",
       "    <tr>\n",
       "      <th>2</th>\n",
       "      <td>50b6d851bcff4f35afe354937949e9948975adf7</td>\n",
       "      <td>0</td>\n",
       "    </tr>\n",
       "    <tr>\n",
       "      <th>3</th>\n",
       "      <td>7f82ec2176ae6ab0b5d20b5ffc767ac829f384ae</td>\n",
       "      <td>0</td>\n",
       "    </tr>\n",
       "    <tr>\n",
       "      <th>4</th>\n",
       "      <td>8b37d169dee5bdae27060949242fb54feb6a7f7f</td>\n",
       "      <td>0</td>\n",
       "    </tr>\n",
       "  </tbody>\n",
       "</table>\n",
       "</div>"
      ],
      "text/plain": [
       "                                unique_hash  sentiment\n",
       "0  9e9a8166b84114aca147bf409f6f956635034c08  0        \n",
       "1  e747e6822c867571afe7b907b51f0f2ca67b0e1a  0        \n",
       "2  50b6d851bcff4f35afe354937949e9948975adf7  0        \n",
       "3  7f82ec2176ae6ab0b5d20b5ffc767ac829f384ae  0        \n",
       "4  8b37d169dee5bdae27060949242fb54feb6a7f7f  0        "
      ]
     },
     "execution_count": 29,
     "metadata": {},
     "output_type": "execute_result"
    }
   ],
   "source": [
    "sample=pd.read_csv(\"sample_submission_i5xnIZD.csv\")\n",
    "sample.head()"
   ]
  },
  {
   "cell_type": "code",
   "execution_count": 30,
   "metadata": {},
   "outputs": [],
   "source": [
    "train['text'] = train['text'].apply(lambda x: \" \".join(x.lower() for x in x.split()))\n",
    "test['text'] = test['text'].apply(lambda x: \" \".join(x.lower() for x in x.split()))\n",
    "train['text'] = train['text'].str.replace('[^\\w\\s]','')\n",
    "test['text'] = test['text'].str.replace('[^\\w\\s]','')\n",
    "from nltk.corpus import stopwords\n",
    "stop = stopwords.words('english')\n",
    "train['text'] = train['text'].apply(lambda x: \" \".join(x for x in x.split() if x not in stop))\n",
    "test['text'] = test['text'].apply(lambda x: \" \".join(x for x in x.split() if x not in stop))"
   ]
  },
  {
   "cell_type": "code",
   "execution_count": 31,
   "metadata": {},
   "outputs": [
    {
     "data": {
      "text/plain": [
       "unique_hash     0\n",
       "text            0\n",
       "drug            0\n",
       "sentiment       0\n",
       "token_length    0\n",
       "dtype: int64"
      ]
     },
     "execution_count": 31,
     "metadata": {},
     "output_type": "execute_result"
    }
   ],
   "source": [
    "train.isnull().sum()"
   ]
  },
  {
   "cell_type": "code",
   "execution_count": 32,
   "metadata": {},
   "outputs": [
    {
     "data": {
      "text/plain": [
       "gilenya                         311\n",
       "ocrevus                         302\n",
       "humira                          188\n",
       "entyvio                         183\n",
       "remicade                        174\n",
       "ocrelizumab                     161\n",
       "opdivo                          130\n",
       "tarceva                         126\n",
       "tagrisso                        125\n",
       "keytruda                        115\n",
       "stelara                         106\n",
       "fingolimod                      105\n",
       "cladribine                      100\n",
       "alimta                          83 \n",
       "lucentis                        47 \n",
       "cimzia                          38 \n",
       "eylea                           33 \n",
       "avastin                         31 \n",
       "simponi                         27 \n",
       "pembrolizumab                   27 \n",
       "erlotinib                       26 \n",
       "vitrectomy                      23 \n",
       "crizotinib                      23 \n",
       "nivolumab                       23 \n",
       "durvalumab                      20 \n",
       "alectinib                       19 \n",
       "osimertinib                     19 \n",
       "mavenclad                       19 \n",
       "tofacitinib                     19 \n",
       "tecentriq                       17 \n",
       "                                .. \n",
       "ceritinib                       3  \n",
       "macugen                         3  \n",
       "ixifi                           2  \n",
       "duvalumab                       2  \n",
       "dexamethasone                   2  \n",
       "gilotrif                        2  \n",
       "alemtuzumab                     2  \n",
       "stellara                        2  \n",
       "panretinal photocoagulation     2  \n",
       "risankizumab                    2  \n",
       "aubagio                         2  \n",
       "movectro                        1  \n",
       "osmertinib                      1  \n",
       "etrolizumab                     1  \n",
       "pegaptanib                      1  \n",
       "zykadia                         1  \n",
       "arzerra                         1  \n",
       "pf-00547659                     1  \n",
       "afainib                         1  \n",
       "dexamethasone implant           1  \n",
       "brolucizumab                    1  \n",
       "teriflunomide                   1  \n",
       "flixabi                         1  \n",
       "necitumumab                     1  \n",
       "elotinib                        1  \n",
       "pan-retinal photocoagulation    1  \n",
       "almita                          1  \n",
       "portrazza                       1  \n",
       "cyltezo                         1  \n",
       "alitma                          1  \n",
       "Name: drug, Length: 95, dtype: int64"
      ]
     },
     "execution_count": 32,
     "metadata": {},
     "output_type": "execute_result"
    }
   ],
   "source": [
    "test['drug'].value_counts()"
   ]
  },
  {
   "cell_type": "code",
   "execution_count": 33,
   "metadata": {},
   "outputs": [
    {
     "data": {
      "text/plain": [
       "102"
      ]
     },
     "execution_count": 33,
     "metadata": {},
     "output_type": "execute_result"
    }
   ],
   "source": [
    "len(train['drug'].value_counts())"
   ]
  },
  {
   "cell_type": "code",
   "execution_count": 34,
   "metadata": {},
   "outputs": [
    {
     "data": {
      "text/plain": [
       "95"
      ]
     },
     "execution_count": 34,
     "metadata": {},
     "output_type": "execute_result"
    }
   ],
   "source": [
    "len(test['drug'].value_counts())"
   ]
  },
  {
   "cell_type": "code",
   "execution_count": 35,
   "metadata": {},
   "outputs": [
    {
     "data": {
      "text/plain": [
       "'necitumumab'"
      ]
     },
     "execution_count": 35,
     "metadata": {},
     "output_type": "execute_result"
    }
   ],
   "source": [
    "train['drug'][1374]"
   ]
  },
  {
   "cell_type": "code",
   "execution_count": 36,
   "metadata": {},
   "outputs": [],
   "source": [
    "l=[]\n",
    "for i in range(len(train)):\n",
    "    l.append(train['drug'][i])\n",
    "l=set(l)\n",
    "l=list(l)"
   ]
  },
  {
   "cell_type": "code",
   "execution_count": 37,
   "metadata": {},
   "outputs": [],
   "source": [
    "l1=[]\n",
    "for i in range(len(test)):\n",
    "    l1.append(test['drug'][i])\n",
    "l1=set(l1)\n",
    "l1=list(l1) "
   ]
  },
  {
   "cell_type": "code",
   "execution_count": 38,
   "metadata": {},
   "outputs": [
    {
     "data": {
      "text/plain": [
       "95"
      ]
     },
     "execution_count": 38,
     "metadata": {},
     "output_type": "execute_result"
    }
   ],
   "source": [
    "len(l1)"
   ]
  },
  {
   "cell_type": "code",
   "execution_count": 39,
   "metadata": {},
   "outputs": [
    {
     "data": {
      "text/plain": [
       "9"
      ]
     },
     "execution_count": 39,
     "metadata": {},
     "output_type": "execute_result"
    }
   ],
   "source": [
    "l2=[]\n",
    "for i in range(len(l1)):\n",
    "        if(l1[i] not in l):\n",
    "            l2.append(l1[i])\n",
    "len(l2)"
   ]
  },
  {
   "cell_type": "code",
   "execution_count": 40,
   "metadata": {},
   "outputs": [
    {
     "data": {
      "text/plain": [
       "16"
      ]
     },
     "execution_count": 40,
     "metadata": {},
     "output_type": "execute_result"
    }
   ],
   "source": [
    "l3=[]\n",
    "for i in range(len(l)):\n",
    "        if(l[i] not in l1):\n",
    "            l3.append(l[i])\n",
    "len(l3)"
   ]
  },
  {
   "cell_type": "code",
   "execution_count": 41,
   "metadata": {},
   "outputs": [
    {
     "data": {
      "text/plain": [
       "['stellara',\n",
       " 'afainib',\n",
       " 'elotinib',\n",
       " 'alitma',\n",
       " 'flixabi',\n",
       " 'duvalumab',\n",
       " 'etrolizumab',\n",
       " 'osmertinib',\n",
       " 'risankizumab']"
      ]
     },
     "execution_count": 41,
     "metadata": {},
     "output_type": "execute_result"
    }
   ],
   "source": [
    "l2"
   ]
  },
  {
   "cell_type": "code",
   "execution_count": 42,
   "metadata": {},
   "outputs": [
    {
     "data": {
      "text/plain": [
       "['rhumab 2h7',\n",
       " 'filgotinib',\n",
       " 'guselkumab',\n",
       " 'amjevita',\n",
       " 'nivolumabb',\n",
       " 'pemrolizumab',\n",
       " 'pemetrexed disodium',\n",
       " 'giotrif',\n",
       " 'alunbrig',\n",
       " 'ketruda',\n",
       " 'cyramza',\n",
       " 'geftinib',\n",
       " 'alectnib',\n",
       " 'infliximab-dyyb',\n",
       " 'crizotnib',\n",
       " 'ct-p13']"
      ]
     },
     "execution_count": 42,
     "metadata": {},
     "output_type": "execute_result"
    }
   ],
   "source": [
    "l3"
   ]
  },
  {
   "cell_type": "code",
   "execution_count": 43,
   "metadata": {},
   "outputs": [
    {
     "data": {
      "text/plain": [
       "True"
      ]
     },
     "execution_count": 43,
     "metadata": {},
     "output_type": "execute_result"
    }
   ],
   "source": [
    "'flixabi' not in train['drug']"
   ]
  },
  {
   "cell_type": "code",
   "execution_count": 44,
   "metadata": {},
   "outputs": [
    {
     "data": {
      "text/plain": [
       "222"
      ]
     },
     "execution_count": 44,
     "metadata": {},
     "output_type": "execute_result"
    }
   ],
   "source": [
    "lx=l+l1+l2+l3\n",
    "len(lx)"
   ]
  },
  {
   "cell_type": "code",
   "execution_count": 45,
   "metadata": {},
   "outputs": [
    {
     "data": {
      "text/plain": [
       "111"
      ]
     },
     "execution_count": 45,
     "metadata": {},
     "output_type": "execute_result"
    }
   ],
   "source": [
    "lx=set(lx)\n",
    "lx=list(lx)\n",
    "len(lx)"
   ]
  },
  {
   "cell_type": "code",
   "execution_count": 46,
   "metadata": {},
   "outputs": [
    {
     "data": {
      "text/plain": [
       "['stellara',\n",
       " 'osimertinib',\n",
       " 'aubagio',\n",
       " 'pegaptanib',\n",
       " 'simponi',\n",
       " 'inflectra',\n",
       " 'mavenclad',\n",
       " 'tecentriq',\n",
       " 'ocrevus',\n",
       " 'avastin',\n",
       " 'entrectinib',\n",
       " 'dexamethasone',\n",
       " 'crizotinib',\n",
       " 'remicade',\n",
       " 'renflexis',\n",
       " 'lorlatinib',\n",
       " 'tofacitinib',\n",
       " 'stelara',\n",
       " 'afainib',\n",
       " 'brolucizumab',\n",
       " 'gilenya',\n",
       " 'portrazza',\n",
       " 'tagrisso',\n",
       " 'upadacitinib',\n",
       " 'trametinib',\n",
       " 'rhumab 2h7',\n",
       " 'humira',\n",
       " 'ozurdex',\n",
       " 'cladribine',\n",
       " 'ofatumumab',\n",
       " 'panretinal photocoagulation',\n",
       " 'lemtrada',\n",
       " 'gefitinib',\n",
       " 'pan-retinal photocoagulation',\n",
       " 'filgotinib',\n",
       " 'opdivo',\n",
       " 'guselkumab',\n",
       " 'dabrafenib',\n",
       " 'zykadia',\n",
       " 'tafinlar',\n",
       " 'xalkori',\n",
       " 'teriflunomide',\n",
       " 'amjevita',\n",
       " 'nivolumabb',\n",
       " 'cimzia',\n",
       " 'pemrolizumab',\n",
       " 'keytruda',\n",
       " 'ranibizumab',\n",
       " 'pemetrexed disodium',\n",
       " 'elotinib',\n",
       " 'alemtuzumab',\n",
       " 'giotrif',\n",
       " 'ceritinib',\n",
       " 'iressa',\n",
       " 'brigatinib',\n",
       " 'fingolimod',\n",
       " 'tysabri',\n",
       " 'atezolizumab',\n",
       " 'alunbrig',\n",
       " 'entyvio',\n",
       " 'ketruda',\n",
       " 'tarceva',\n",
       " 'eylea',\n",
       " 'almita',\n",
       " 'pemetrexed',\n",
       " 'cyramza',\n",
       " 'pf-00547659',\n",
       " 'cyltezo',\n",
       " 'alecensa',\n",
       " 'alitma',\n",
       " 'geftinib',\n",
       " 'imfinzi',\n",
       " 'pembrolizumab',\n",
       " 'necitumumab',\n",
       " 'erlotinib',\n",
       " 'certolizumab pegol',\n",
       " 'siponimod',\n",
       " 'alectnib',\n",
       " 'flixabi',\n",
       " 'remsima',\n",
       " 'mekinist',\n",
       " 'alectinib',\n",
       " 'aflibercept',\n",
       " 'ixifi',\n",
       " 'vitrectomy',\n",
       " 'lucentis',\n",
       " 'ipilimumab',\n",
       " 'photodynamic therapy',\n",
       " 'dexamethasone implant',\n",
       " 'duvalumab',\n",
       " 'infliximab-dyyb',\n",
       " 'bevacizumab',\n",
       " 'movectro',\n",
       " 'nivolumab',\n",
       " 'gilotrif',\n",
       " 'yervoy',\n",
       " 'crizotnib',\n",
       " 'ocrelizumab',\n",
       " 'etrolizumab',\n",
       " 'afatinib',\n",
       " 'osmertinib',\n",
       " 'arzerra',\n",
       " 'macugen',\n",
       " 'laser photocoagulation',\n",
       " 'risankizumab',\n",
       " 'vedolizumab',\n",
       " 'ustekinumab',\n",
       " 'ct-p13',\n",
       " 'durvalumab',\n",
       " 'alimta',\n",
       " 'golimumab']"
      ]
     },
     "execution_count": 46,
     "metadata": {},
     "output_type": "execute_result"
    }
   ],
   "source": [
    "lx"
   ]
  },
  {
   "cell_type": "code",
   "execution_count": 47,
   "metadata": {},
   "outputs": [
    {
     "data": {
      "text/plain": [
       "['afainib',\n",
       " 'afatinib',\n",
       " 'aflibercept',\n",
       " 'alecensa',\n",
       " 'alectinib',\n",
       " 'alectnib',\n",
       " 'alemtuzumab',\n",
       " 'alimta',\n",
       " 'alitma',\n",
       " 'almita',\n",
       " 'alunbrig',\n",
       " 'amjevita',\n",
       " 'arzerra',\n",
       " 'atezolizumab',\n",
       " 'aubagio',\n",
       " 'avastin',\n",
       " 'bevacizumab',\n",
       " 'brigatinib',\n",
       " 'brolucizumab',\n",
       " 'ceritinib',\n",
       " 'certolizumab pegol',\n",
       " 'cimzia',\n",
       " 'cladribine',\n",
       " 'crizotinib',\n",
       " 'crizotnib',\n",
       " 'ct-p13',\n",
       " 'cyltezo',\n",
       " 'cyramza',\n",
       " 'dabrafenib',\n",
       " 'dexamethasone',\n",
       " 'dexamethasone implant',\n",
       " 'durvalumab',\n",
       " 'duvalumab',\n",
       " 'elotinib',\n",
       " 'entrectinib',\n",
       " 'entyvio',\n",
       " 'erlotinib',\n",
       " 'etrolizumab',\n",
       " 'eylea',\n",
       " 'filgotinib',\n",
       " 'fingolimod',\n",
       " 'flixabi',\n",
       " 'gefitinib',\n",
       " 'geftinib',\n",
       " 'gilenya',\n",
       " 'gilotrif',\n",
       " 'giotrif',\n",
       " 'golimumab',\n",
       " 'guselkumab',\n",
       " 'humira',\n",
       " 'imfinzi',\n",
       " 'inflectra',\n",
       " 'infliximab-dyyb',\n",
       " 'ipilimumab',\n",
       " 'iressa',\n",
       " 'ixifi',\n",
       " 'ketruda',\n",
       " 'keytruda',\n",
       " 'laser photocoagulation',\n",
       " 'lemtrada',\n",
       " 'lorlatinib',\n",
       " 'lucentis',\n",
       " 'macugen',\n",
       " 'mavenclad',\n",
       " 'mekinist',\n",
       " 'movectro',\n",
       " 'necitumumab',\n",
       " 'nivolumab',\n",
       " 'nivolumabb',\n",
       " 'ocrelizumab',\n",
       " 'ocrevus',\n",
       " 'ofatumumab',\n",
       " 'opdivo',\n",
       " 'osimertinib',\n",
       " 'osmertinib',\n",
       " 'ozurdex',\n",
       " 'pan-retinal photocoagulation',\n",
       " 'panretinal photocoagulation',\n",
       " 'pegaptanib',\n",
       " 'pembrolizumab',\n",
       " 'pemetrexed',\n",
       " 'pemetrexed disodium',\n",
       " 'pemrolizumab',\n",
       " 'pf-00547659',\n",
       " 'photodynamic therapy',\n",
       " 'portrazza',\n",
       " 'ranibizumab',\n",
       " 'remicade',\n",
       " 'remsima',\n",
       " 'renflexis',\n",
       " 'rhumab 2h7',\n",
       " 'risankizumab',\n",
       " 'simponi',\n",
       " 'siponimod',\n",
       " 'stelara',\n",
       " 'stellara',\n",
       " 'tafinlar',\n",
       " 'tagrisso',\n",
       " 'tarceva',\n",
       " 'tecentriq',\n",
       " 'teriflunomide',\n",
       " 'tofacitinib',\n",
       " 'trametinib',\n",
       " 'tysabri',\n",
       " 'upadacitinib',\n",
       " 'ustekinumab',\n",
       " 'vedolizumab',\n",
       " 'vitrectomy',\n",
       " 'xalkori',\n",
       " 'yervoy',\n",
       " 'zykadia']"
      ]
     },
     "execution_count": 47,
     "metadata": {},
     "output_type": "execute_result"
    }
   ],
   "source": [
    "lx.sort()\n",
    "lx"
   ]
  },
  {
   "cell_type": "code",
   "execution_count": 48,
   "metadata": {},
   "outputs": [
    {
     "data": {
      "text/plain": [
       "2    3825\n",
       "1    837 \n",
       "0    617 \n",
       "Name: sentiment, dtype: int64"
      ]
     },
     "execution_count": 48,
     "metadata": {},
     "output_type": "execute_result"
    }
   ],
   "source": [
    "train['sentiment'].value_counts()"
   ]
  },
  {
   "cell_type": "code",
   "execution_count": 49,
   "metadata": {},
   "outputs": [],
   "source": [
    "y_train=train['sentiment']"
   ]
  },
  {
   "cell_type": "code",
   "execution_count": 50,
   "metadata": {},
   "outputs": [
    {
     "data": {
      "text/html": [
       "<div>\n",
       "<style scoped>\n",
       "    .dataframe tbody tr th:only-of-type {\n",
       "        vertical-align: middle;\n",
       "    }\n",
       "\n",
       "    .dataframe tbody tr th {\n",
       "        vertical-align: top;\n",
       "    }\n",
       "\n",
       "    .dataframe thead th {\n",
       "        text-align: right;\n",
       "    }\n",
       "</style>\n",
       "<table border=\"1\" class=\"dataframe\">\n",
       "  <thead>\n",
       "    <tr style=\"text-align: right;\">\n",
       "      <th></th>\n",
       "      <th>aflibercept</th>\n",
       "      <th>alecensa</th>\n",
       "      <th>alectinib</th>\n",
       "      <th>alectnib</th>\n",
       "      <th>alemtuzumab</th>\n",
       "      <th>alimta</th>\n",
       "      <th>almita</th>\n",
       "      <th>alunbrig</th>\n",
       "      <th>amjevita</th>\n",
       "      <th>arzerra</th>\n",
       "      <th>...</th>\n",
       "      <th>tofacitinib</th>\n",
       "      <th>trametinib</th>\n",
       "      <th>tysabri</th>\n",
       "      <th>upadacitinib</th>\n",
       "      <th>ustekinumab</th>\n",
       "      <th>vedolizumab</th>\n",
       "      <th>vitrectomy</th>\n",
       "      <th>xalkori</th>\n",
       "      <th>yervoy</th>\n",
       "      <th>zykadia</th>\n",
       "    </tr>\n",
       "  </thead>\n",
       "  <tbody>\n",
       "    <tr>\n",
       "      <th>0</th>\n",
       "      <td>0</td>\n",
       "      <td>0</td>\n",
       "      <td>0</td>\n",
       "      <td>0</td>\n",
       "      <td>0</td>\n",
       "      <td>0</td>\n",
       "      <td>0</td>\n",
       "      <td>0</td>\n",
       "      <td>0</td>\n",
       "      <td>0</td>\n",
       "      <td>...</td>\n",
       "      <td>0</td>\n",
       "      <td>0</td>\n",
       "      <td>0</td>\n",
       "      <td>0</td>\n",
       "      <td>0</td>\n",
       "      <td>0</td>\n",
       "      <td>0</td>\n",
       "      <td>0</td>\n",
       "      <td>0</td>\n",
       "      <td>0</td>\n",
       "    </tr>\n",
       "    <tr>\n",
       "      <th>1</th>\n",
       "      <td>0</td>\n",
       "      <td>0</td>\n",
       "      <td>0</td>\n",
       "      <td>0</td>\n",
       "      <td>0</td>\n",
       "      <td>0</td>\n",
       "      <td>0</td>\n",
       "      <td>0</td>\n",
       "      <td>0</td>\n",
       "      <td>0</td>\n",
       "      <td>...</td>\n",
       "      <td>0</td>\n",
       "      <td>0</td>\n",
       "      <td>0</td>\n",
       "      <td>0</td>\n",
       "      <td>0</td>\n",
       "      <td>0</td>\n",
       "      <td>0</td>\n",
       "      <td>0</td>\n",
       "      <td>0</td>\n",
       "      <td>0</td>\n",
       "    </tr>\n",
       "    <tr>\n",
       "      <th>2</th>\n",
       "      <td>0</td>\n",
       "      <td>0</td>\n",
       "      <td>0</td>\n",
       "      <td>0</td>\n",
       "      <td>0</td>\n",
       "      <td>0</td>\n",
       "      <td>0</td>\n",
       "      <td>0</td>\n",
       "      <td>0</td>\n",
       "      <td>0</td>\n",
       "      <td>...</td>\n",
       "      <td>0</td>\n",
       "      <td>0</td>\n",
       "      <td>0</td>\n",
       "      <td>0</td>\n",
       "      <td>0</td>\n",
       "      <td>0</td>\n",
       "      <td>0</td>\n",
       "      <td>0</td>\n",
       "      <td>0</td>\n",
       "      <td>0</td>\n",
       "    </tr>\n",
       "    <tr>\n",
       "      <th>3</th>\n",
       "      <td>0</td>\n",
       "      <td>0</td>\n",
       "      <td>0</td>\n",
       "      <td>0</td>\n",
       "      <td>0</td>\n",
       "      <td>0</td>\n",
       "      <td>0</td>\n",
       "      <td>0</td>\n",
       "      <td>0</td>\n",
       "      <td>0</td>\n",
       "      <td>...</td>\n",
       "      <td>0</td>\n",
       "      <td>0</td>\n",
       "      <td>0</td>\n",
       "      <td>0</td>\n",
       "      <td>0</td>\n",
       "      <td>0</td>\n",
       "      <td>0</td>\n",
       "      <td>0</td>\n",
       "      <td>0</td>\n",
       "      <td>0</td>\n",
       "    </tr>\n",
       "    <tr>\n",
       "      <th>4</th>\n",
       "      <td>0</td>\n",
       "      <td>0</td>\n",
       "      <td>0</td>\n",
       "      <td>0</td>\n",
       "      <td>0</td>\n",
       "      <td>0</td>\n",
       "      <td>0</td>\n",
       "      <td>0</td>\n",
       "      <td>0</td>\n",
       "      <td>0</td>\n",
       "      <td>...</td>\n",
       "      <td>0</td>\n",
       "      <td>0</td>\n",
       "      <td>0</td>\n",
       "      <td>0</td>\n",
       "      <td>0</td>\n",
       "      <td>0</td>\n",
       "      <td>0</td>\n",
       "      <td>0</td>\n",
       "      <td>0</td>\n",
       "      <td>0</td>\n",
       "    </tr>\n",
       "  </tbody>\n",
       "</table>\n",
       "<p>5 rows × 101 columns</p>\n",
       "</div>"
      ],
      "text/plain": [
       "   aflibercept  alecensa  alectinib  alectnib  alemtuzumab  alimta  almita  \\\n",
       "0  0            0         0          0         0            0       0        \n",
       "1  0            0         0          0         0            0       0        \n",
       "2  0            0         0          0         0            0       0        \n",
       "3  0            0         0          0         0            0       0        \n",
       "4  0            0         0          0         0            0       0        \n",
       "\n",
       "   alunbrig  amjevita  arzerra   ...     tofacitinib  trametinib  tysabri  \\\n",
       "0  0         0         0         ...     0            0           0         \n",
       "1  0         0         0         ...     0            0           0         \n",
       "2  0         0         0         ...     0            0           0         \n",
       "3  0         0         0         ...     0            0           0         \n",
       "4  0         0         0         ...     0            0           0         \n",
       "\n",
       "   upadacitinib  ustekinumab  vedolizumab  vitrectomy  xalkori  yervoy  \\\n",
       "0  0             0            0            0           0        0        \n",
       "1  0             0            0            0           0        0        \n",
       "2  0             0            0            0           0        0        \n",
       "3  0             0            0            0           0        0        \n",
       "4  0             0            0            0           0        0        \n",
       "\n",
       "   zykadia  \n",
       "0  0        \n",
       "1  0        \n",
       "2  0        \n",
       "3  0        \n",
       "4  0        \n",
       "\n",
       "[5 rows x 101 columns]"
      ]
     },
     "execution_count": 50,
     "metadata": {},
     "output_type": "execute_result"
    }
   ],
   "source": [
    "tr_train=pd.get_dummies(train['drug'],drop_first=True)\n",
    "tr_train.head()"
   ]
  },
  {
   "cell_type": "code",
   "execution_count": 51,
   "metadata": {},
   "outputs": [
    {
     "data": {
      "text/plain": [
       "(5279, 101)"
      ]
     },
     "execution_count": 51,
     "metadata": {},
     "output_type": "execute_result"
    }
   ],
   "source": [
    "tr_train.shape"
   ]
  },
  {
   "cell_type": "code",
   "execution_count": 52,
   "metadata": {},
   "outputs": [
    {
     "data": {
      "text/plain": [
       "'aflibercept'"
      ]
     },
     "execution_count": 52,
     "metadata": {},
     "output_type": "execute_result"
    }
   ],
   "source": [
    "tr_train.columns[0]"
   ]
  },
  {
   "cell_type": "code",
   "execution_count": 53,
   "metadata": {},
   "outputs": [
    {
     "data": {
      "text/plain": [
       "['afainib',\n",
       " 'afatinib',\n",
       " 'aflibercept',\n",
       " 'alecensa',\n",
       " 'alectinib',\n",
       " 'alectnib',\n",
       " 'alemtuzumab',\n",
       " 'alimta',\n",
       " 'alitma',\n",
       " 'almita',\n",
       " 'alunbrig',\n",
       " 'amjevita',\n",
       " 'arzerra',\n",
       " 'atezolizumab',\n",
       " 'aubagio',\n",
       " 'avastin',\n",
       " 'bevacizumab',\n",
       " 'brigatinib',\n",
       " 'brolucizumab',\n",
       " 'ceritinib',\n",
       " 'certolizumab pegol',\n",
       " 'cimzia',\n",
       " 'cladribine',\n",
       " 'crizotinib',\n",
       " 'crizotnib',\n",
       " 'ct-p13',\n",
       " 'cyltezo',\n",
       " 'cyramza',\n",
       " 'dabrafenib',\n",
       " 'dexamethasone',\n",
       " 'dexamethasone implant',\n",
       " 'durvalumab',\n",
       " 'duvalumab',\n",
       " 'elotinib',\n",
       " 'entrectinib',\n",
       " 'entyvio',\n",
       " 'erlotinib',\n",
       " 'etrolizumab',\n",
       " 'eylea',\n",
       " 'filgotinib',\n",
       " 'fingolimod',\n",
       " 'flixabi',\n",
       " 'gefitinib',\n",
       " 'geftinib',\n",
       " 'gilenya',\n",
       " 'gilotrif',\n",
       " 'giotrif',\n",
       " 'golimumab',\n",
       " 'guselkumab',\n",
       " 'humira',\n",
       " 'imfinzi',\n",
       " 'inflectra',\n",
       " 'infliximab-dyyb',\n",
       " 'ipilimumab',\n",
       " 'iressa',\n",
       " 'ixifi',\n",
       " 'ketruda',\n",
       " 'keytruda',\n",
       " 'laser photocoagulation',\n",
       " 'lemtrada',\n",
       " 'lorlatinib',\n",
       " 'lucentis',\n",
       " 'macugen',\n",
       " 'mavenclad',\n",
       " 'mekinist',\n",
       " 'movectro',\n",
       " 'necitumumab',\n",
       " 'nivolumab',\n",
       " 'nivolumabb',\n",
       " 'ocrelizumab',\n",
       " 'ocrevus',\n",
       " 'ofatumumab',\n",
       " 'opdivo',\n",
       " 'osimertinib',\n",
       " 'osmertinib',\n",
       " 'ozurdex',\n",
       " 'pan-retinal photocoagulation',\n",
       " 'panretinal photocoagulation',\n",
       " 'pegaptanib',\n",
       " 'pembrolizumab',\n",
       " 'pemetrexed',\n",
       " 'pemetrexed disodium',\n",
       " 'pemrolizumab',\n",
       " 'pf-00547659',\n",
       " 'photodynamic therapy',\n",
       " 'portrazza',\n",
       " 'ranibizumab',\n",
       " 'remicade',\n",
       " 'remsima',\n",
       " 'renflexis',\n",
       " 'rhumab 2h7',\n",
       " 'risankizumab',\n",
       " 'simponi',\n",
       " 'siponimod',\n",
       " 'stelara',\n",
       " 'stellara',\n",
       " 'tafinlar',\n",
       " 'tagrisso',\n",
       " 'tarceva',\n",
       " 'tecentriq',\n",
       " 'teriflunomide',\n",
       " 'tofacitinib',\n",
       " 'trametinib',\n",
       " 'tysabri',\n",
       " 'upadacitinib',\n",
       " 'ustekinumab',\n",
       " 'vedolizumab',\n",
       " 'vitrectomy',\n",
       " 'xalkori',\n",
       " 'yervoy',\n",
       " 'zykadia']"
      ]
     },
     "execution_count": 53,
     "metadata": {},
     "output_type": "execute_result"
    }
   ],
   "source": [
    "lx"
   ]
  },
  {
   "cell_type": "code",
   "execution_count": null,
   "metadata": {},
   "outputs": [],
   "source": []
  },
  {
   "cell_type": "code",
   "execution_count": 54,
   "metadata": {},
   "outputs": [
    {
     "data": {
      "text/plain": [
       "0       0\n",
       "1       0\n",
       "2       0\n",
       "3       0\n",
       "4       0\n",
       "5       0\n",
       "6       0\n",
       "7       0\n",
       "8       0\n",
       "9       0\n",
       "10      0\n",
       "11      0\n",
       "12      0\n",
       "13      0\n",
       "14      0\n",
       "15      0\n",
       "16      0\n",
       "17      0\n",
       "18      0\n",
       "19      0\n",
       "20      0\n",
       "21      0\n",
       "22      0\n",
       "23      0\n",
       "24      0\n",
       "25      0\n",
       "26      0\n",
       "27      0\n",
       "28      0\n",
       "29      0\n",
       "       ..\n",
       "5249    0\n",
       "5250    0\n",
       "5251    0\n",
       "5252    0\n",
       "5253    0\n",
       "5254    0\n",
       "5255    0\n",
       "5256    0\n",
       "5257    0\n",
       "5258    0\n",
       "5259    0\n",
       "5260    0\n",
       "5261    0\n",
       "5262    0\n",
       "5263    0\n",
       "5264    0\n",
       "5265    0\n",
       "5266    0\n",
       "5267    0\n",
       "5268    0\n",
       "5269    0\n",
       "5270    0\n",
       "5271    0\n",
       "5272    0\n",
       "5273    0\n",
       "5274    0\n",
       "5275    0\n",
       "5276    0\n",
       "5277    0\n",
       "5278    0\n",
       "Name: alecensa, Length: 5279, dtype: uint8"
      ]
     },
     "execution_count": 54,
     "metadata": {},
     "output_type": "execute_result"
    }
   ],
   "source": [
    "tr_train.iloc[:,1]"
   ]
  },
  {
   "cell_type": "code",
   "execution_count": 55,
   "metadata": {},
   "outputs": [
    {
     "data": {
      "text/plain": [
       "['afainib',\n",
       " 'afatinib',\n",
       " 'alitma',\n",
       " 'duvalumab',\n",
       " 'elotinib',\n",
       " 'etrolizumab',\n",
       " 'flixabi',\n",
       " 'osmertinib',\n",
       " 'risankizumab',\n",
       " 'stellara']"
      ]
     },
     "execution_count": 55,
     "metadata": {},
     "output_type": "execute_result"
    }
   ],
   "source": [
    "ln=[]\n",
    "for i in range(111):\n",
    "    if(lx[i] not in tr_train.columns):\n",
    "        ln.append(lx[i])\n",
    "ln"
   ]
  },
  {
   "cell_type": "code",
   "execution_count": 56,
   "metadata": {},
   "outputs": [],
   "source": [
    "for i in range(len(ln)):\n",
    "     tr_train[ln[i]]=0"
   ]
  },
  {
   "cell_type": "code",
   "execution_count": 57,
   "metadata": {},
   "outputs": [
    {
     "data": {
      "text/plain": [
       "(5279, 111)"
      ]
     },
     "execution_count": 57,
     "metadata": {},
     "output_type": "execute_result"
    }
   ],
   "source": [
    "tr_train.shape"
   ]
  },
  {
   "cell_type": "code",
   "execution_count": 58,
   "metadata": {},
   "outputs": [
    {
     "data": {
      "text/html": [
       "<div>\n",
       "<style scoped>\n",
       "    .dataframe tbody tr th:only-of-type {\n",
       "        vertical-align: middle;\n",
       "    }\n",
       "\n",
       "    .dataframe tbody tr th {\n",
       "        vertical-align: top;\n",
       "    }\n",
       "\n",
       "    .dataframe thead th {\n",
       "        text-align: right;\n",
       "    }\n",
       "</style>\n",
       "<table border=\"1\" class=\"dataframe\">\n",
       "  <thead>\n",
       "    <tr style=\"text-align: right;\">\n",
       "      <th></th>\n",
       "      <th>afatinib</th>\n",
       "      <th>aflibercept</th>\n",
       "      <th>alecensa</th>\n",
       "      <th>alectinib</th>\n",
       "      <th>alemtuzumab</th>\n",
       "      <th>alimta</th>\n",
       "      <th>alitma</th>\n",
       "      <th>almita</th>\n",
       "      <th>arzerra</th>\n",
       "      <th>atezolizumab</th>\n",
       "      <th>...</th>\n",
       "      <th>tofacitinib</th>\n",
       "      <th>trametinib</th>\n",
       "      <th>tysabri</th>\n",
       "      <th>upadacitinib</th>\n",
       "      <th>ustekinumab</th>\n",
       "      <th>vedolizumab</th>\n",
       "      <th>vitrectomy</th>\n",
       "      <th>xalkori</th>\n",
       "      <th>yervoy</th>\n",
       "      <th>zykadia</th>\n",
       "    </tr>\n",
       "  </thead>\n",
       "  <tbody>\n",
       "    <tr>\n",
       "      <th>0</th>\n",
       "      <td>0</td>\n",
       "      <td>0</td>\n",
       "      <td>0</td>\n",
       "      <td>0</td>\n",
       "      <td>0</td>\n",
       "      <td>0</td>\n",
       "      <td>0</td>\n",
       "      <td>0</td>\n",
       "      <td>0</td>\n",
       "      <td>0</td>\n",
       "      <td>...</td>\n",
       "      <td>0</td>\n",
       "      <td>0</td>\n",
       "      <td>0</td>\n",
       "      <td>0</td>\n",
       "      <td>0</td>\n",
       "      <td>0</td>\n",
       "      <td>0</td>\n",
       "      <td>0</td>\n",
       "      <td>0</td>\n",
       "      <td>0</td>\n",
       "    </tr>\n",
       "    <tr>\n",
       "      <th>1</th>\n",
       "      <td>0</td>\n",
       "      <td>0</td>\n",
       "      <td>0</td>\n",
       "      <td>0</td>\n",
       "      <td>0</td>\n",
       "      <td>0</td>\n",
       "      <td>0</td>\n",
       "      <td>0</td>\n",
       "      <td>0</td>\n",
       "      <td>0</td>\n",
       "      <td>...</td>\n",
       "      <td>0</td>\n",
       "      <td>0</td>\n",
       "      <td>0</td>\n",
       "      <td>0</td>\n",
       "      <td>0</td>\n",
       "      <td>0</td>\n",
       "      <td>0</td>\n",
       "      <td>0</td>\n",
       "      <td>0</td>\n",
       "      <td>0</td>\n",
       "    </tr>\n",
       "    <tr>\n",
       "      <th>2</th>\n",
       "      <td>0</td>\n",
       "      <td>0</td>\n",
       "      <td>0</td>\n",
       "      <td>0</td>\n",
       "      <td>0</td>\n",
       "      <td>0</td>\n",
       "      <td>0</td>\n",
       "      <td>0</td>\n",
       "      <td>0</td>\n",
       "      <td>0</td>\n",
       "      <td>...</td>\n",
       "      <td>0</td>\n",
       "      <td>0</td>\n",
       "      <td>0</td>\n",
       "      <td>0</td>\n",
       "      <td>0</td>\n",
       "      <td>0</td>\n",
       "      <td>0</td>\n",
       "      <td>0</td>\n",
       "      <td>0</td>\n",
       "      <td>0</td>\n",
       "    </tr>\n",
       "    <tr>\n",
       "      <th>3</th>\n",
       "      <td>0</td>\n",
       "      <td>0</td>\n",
       "      <td>0</td>\n",
       "      <td>0</td>\n",
       "      <td>0</td>\n",
       "      <td>0</td>\n",
       "      <td>0</td>\n",
       "      <td>0</td>\n",
       "      <td>0</td>\n",
       "      <td>0</td>\n",
       "      <td>...</td>\n",
       "      <td>0</td>\n",
       "      <td>0</td>\n",
       "      <td>0</td>\n",
       "      <td>0</td>\n",
       "      <td>0</td>\n",
       "      <td>0</td>\n",
       "      <td>0</td>\n",
       "      <td>0</td>\n",
       "      <td>0</td>\n",
       "      <td>0</td>\n",
       "    </tr>\n",
       "    <tr>\n",
       "      <th>4</th>\n",
       "      <td>0</td>\n",
       "      <td>0</td>\n",
       "      <td>0</td>\n",
       "      <td>0</td>\n",
       "      <td>0</td>\n",
       "      <td>0</td>\n",
       "      <td>0</td>\n",
       "      <td>0</td>\n",
       "      <td>0</td>\n",
       "      <td>0</td>\n",
       "      <td>...</td>\n",
       "      <td>0</td>\n",
       "      <td>0</td>\n",
       "      <td>0</td>\n",
       "      <td>0</td>\n",
       "      <td>0</td>\n",
       "      <td>0</td>\n",
       "      <td>0</td>\n",
       "      <td>0</td>\n",
       "      <td>0</td>\n",
       "      <td>0</td>\n",
       "    </tr>\n",
       "  </tbody>\n",
       "</table>\n",
       "<p>5 rows × 94 columns</p>\n",
       "</div>"
      ],
      "text/plain": [
       "   afatinib  aflibercept  alecensa  alectinib  alemtuzumab  alimta  alitma  \\\n",
       "0  0         0            0         0          0            0       0        \n",
       "1  0         0            0         0          0            0       0        \n",
       "2  0         0            0         0          0            0       0        \n",
       "3  0         0            0         0          0            0       0        \n",
       "4  0         0            0         0          0            0       0        \n",
       "\n",
       "   almita  arzerra  atezolizumab   ...     tofacitinib  trametinib  tysabri  \\\n",
       "0  0       0        0              ...     0            0           0         \n",
       "1  0       0        0              ...     0            0           0         \n",
       "2  0       0        0              ...     0            0           0         \n",
       "3  0       0        0              ...     0            0           0         \n",
       "4  0       0        0              ...     0            0           0         \n",
       "\n",
       "   upadacitinib  ustekinumab  vedolizumab  vitrectomy  xalkori  yervoy  \\\n",
       "0  0             0            0            0           0        0        \n",
       "1  0             0            0            0           0        0        \n",
       "2  0             0            0            0           0        0        \n",
       "3  0             0            0            0           0        0        \n",
       "4  0             0            0            0           0        0        \n",
       "\n",
       "   zykadia  \n",
       "0  0        \n",
       "1  0        \n",
       "2  0        \n",
       "3  0        \n",
       "4  0        \n",
       "\n",
       "[5 rows x 94 columns]"
      ]
     },
     "execution_count": 58,
     "metadata": {},
     "output_type": "execute_result"
    }
   ],
   "source": [
    "tr_test=pd.get_dummies(test['drug'],drop_first=True)\n",
    "tr_test.head()"
   ]
  },
  {
   "cell_type": "code",
   "execution_count": 59,
   "metadata": {},
   "outputs": [
    {
     "data": {
      "text/plain": [
       "['afainib',\n",
       " 'alectnib',\n",
       " 'alunbrig',\n",
       " 'amjevita',\n",
       " 'crizotnib',\n",
       " 'ct-p13',\n",
       " 'cyramza',\n",
       " 'filgotinib',\n",
       " 'geftinib',\n",
       " 'giotrif',\n",
       " 'guselkumab',\n",
       " 'infliximab-dyyb',\n",
       " 'ketruda',\n",
       " 'nivolumabb',\n",
       " 'pemetrexed disodium',\n",
       " 'pemrolizumab',\n",
       " 'rhumab 2h7']"
      ]
     },
     "execution_count": 59,
     "metadata": {},
     "output_type": "execute_result"
    }
   ],
   "source": [
    "ln1=[]\n",
    "for i in range(111):\n",
    "    if(lx[i] not in tr_test.columns):\n",
    "        ln1.append(lx[i])\n",
    "ln1"
   ]
  },
  {
   "cell_type": "code",
   "execution_count": 60,
   "metadata": {},
   "outputs": [],
   "source": [
    "for i in range(len(ln1)):\n",
    "     tr_test[ln1[i]]=0"
   ]
  },
  {
   "cell_type": "code",
   "execution_count": 61,
   "metadata": {},
   "outputs": [
    {
     "data": {
      "text/plain": [
       "((5279, 111), (2924, 111))"
      ]
     },
     "execution_count": 61,
     "metadata": {},
     "output_type": "execute_result"
    }
   ],
   "source": [
    "tr_train.shape,tr_test.shape"
   ]
  },
  {
   "cell_type": "code",
   "execution_count": 62,
   "metadata": {},
   "outputs": [
    {
     "data": {
      "text/plain": [
       "Index(['aflibercept', 'alecensa', 'alectinib', 'alectnib', 'alemtuzumab',\n",
       "       'alimta', 'almita', 'alunbrig', 'amjevita', 'arzerra',\n",
       "       ...\n",
       "       'afainib', 'afatinib', 'alitma', 'duvalumab', 'elotinib', 'etrolizumab',\n",
       "       'flixabi', 'osmertinib', 'risankizumab', 'stellara'],\n",
       "      dtype='object', length=111)"
      ]
     },
     "execution_count": 62,
     "metadata": {},
     "output_type": "execute_result"
    }
   ],
   "source": [
    "tr_train.columns"
   ]
  },
  {
   "cell_type": "code",
   "execution_count": 63,
   "metadata": {},
   "outputs": [
    {
     "data": {
      "text/plain": [
       "Index(['afatinib', 'aflibercept', 'alecensa', 'alectinib', 'alemtuzumab',\n",
       "       'alimta', 'alitma', 'almita', 'arzerra', 'atezolizumab',\n",
       "       ...\n",
       "       'filgotinib', 'geftinib', 'giotrif', 'guselkumab', 'infliximab-dyyb',\n",
       "       'ketruda', 'nivolumabb', 'pemetrexed disodium', 'pemrolizumab',\n",
       "       'rhumab 2h7'],\n",
       "      dtype='object', length=111)"
      ]
     },
     "execution_count": 63,
     "metadata": {},
     "output_type": "execute_result"
    }
   ],
   "source": [
    "tr_test.columns"
   ]
  },
  {
   "cell_type": "code",
   "execution_count": 64,
   "metadata": {},
   "outputs": [],
   "source": [
    "tr_train = tr_train.reindex(sorted(tr_train.columns), axis=1)"
   ]
  },
  {
   "cell_type": "code",
   "execution_count": 65,
   "metadata": {},
   "outputs": [
    {
     "data": {
      "text/plain": [
       "Index(['afainib', 'afatinib', 'aflibercept', 'alecensa', 'alectinib',\n",
       "       'alectnib', 'alemtuzumab', 'alimta', 'alitma', 'almita',\n",
       "       ...\n",
       "       'tofacitinib', 'trametinib', 'tysabri', 'upadacitinib', 'ustekinumab',\n",
       "       'vedolizumab', 'vitrectomy', 'xalkori', 'yervoy', 'zykadia'],\n",
       "      dtype='object', length=111)"
      ]
     },
     "execution_count": 65,
     "metadata": {},
     "output_type": "execute_result"
    }
   ],
   "source": [
    "tr_train.columns"
   ]
  },
  {
   "cell_type": "code",
   "execution_count": 66,
   "metadata": {},
   "outputs": [],
   "source": [
    "tr_test = tr_test.reindex(sorted(tr_test.columns), axis=1)"
   ]
  },
  {
   "cell_type": "code",
   "execution_count": 67,
   "metadata": {},
   "outputs": [
    {
     "data": {
      "text/plain": [
       "Index(['afainib', 'afatinib', 'aflibercept', 'alecensa', 'alectinib',\n",
       "       'alectnib', 'alemtuzumab', 'alimta', 'alitma', 'almita',\n",
       "       ...\n",
       "       'tofacitinib', 'trametinib', 'tysabri', 'upadacitinib', 'ustekinumab',\n",
       "       'vedolizumab', 'vitrectomy', 'xalkori', 'yervoy', 'zykadia'],\n",
       "      dtype='object', length=111)"
      ]
     },
     "execution_count": 67,
     "metadata": {},
     "output_type": "execute_result"
    }
   ],
   "source": [
    "tr_test.columns"
   ]
  },
  {
   "cell_type": "code",
   "execution_count": 68,
   "metadata": {},
   "outputs": [
    {
     "data": {
      "text/plain": [
       "((5279, 111), (2924, 111))"
      ]
     },
     "execution_count": 68,
     "metadata": {},
     "output_type": "execute_result"
    }
   ],
   "source": [
    "tr_train.shape,tr_test.shape"
   ]
  },
  {
   "cell_type": "code",
   "execution_count": 69,
   "metadata": {},
   "outputs": [
    {
     "data": {
      "text/plain": [
       "<8203x10000 sparse matrix of type '<class 'numpy.float64'>'\n",
       "\twith 738865 stored elements in Compressed Sparse Row format>"
      ]
     },
     "execution_count": 69,
     "metadata": {},
     "output_type": "execute_result"
    }
   ],
   "source": [
    "tfidf_vect = TfidfVectorizer(sublinear_tf=True, norm='l2',min_df=4,max_features=10000,encoding='latin-1',stop_words='english')\n",
    "tfidf_vect.fit_transform(train['text'].values.tolist() + test['text'].values.tolist())"
   ]
  },
  {
   "cell_type": "code",
   "execution_count": 70,
   "metadata": {},
   "outputs": [],
   "source": [
    "train_tfidf = tfidf_vect.transform(train['text'].values.tolist())\n",
    "test_tfidf = tfidf_vect.transform(test['text'].values.tolist())"
   ]
  },
  {
   "cell_type": "code",
   "execution_count": 71,
   "metadata": {},
   "outputs": [
    {
     "data": {
      "text/html": [
       "<div>\n",
       "<style scoped>\n",
       "    .dataframe tbody tr th:only-of-type {\n",
       "        vertical-align: middle;\n",
       "    }\n",
       "\n",
       "    .dataframe tbody tr th {\n",
       "        vertical-align: top;\n",
       "    }\n",
       "\n",
       "    .dataframe thead th {\n",
       "        text-align: right;\n",
       "    }\n",
       "</style>\n",
       "<table border=\"1\" class=\"dataframe\">\n",
       "  <thead>\n",
       "    <tr style=\"text-align: right;\">\n",
       "      <th></th>\n",
       "      <th>unique_hash</th>\n",
       "      <th>text</th>\n",
       "      <th>drug</th>\n",
       "      <th>sentiment</th>\n",
       "      <th>token_length</th>\n",
       "    </tr>\n",
       "  </thead>\n",
       "  <tbody>\n",
       "    <tr>\n",
       "      <th>0</th>\n",
       "      <td>2e180be4c9214c1f5ab51fd8cc32bc80c9f612e0</td>\n",
       "      <td>autoimmune disease tend come cluster gilenya feel good donat think wonat change anything waste time energy iam take tysabri feel amazing symptom dodgy color vision iave since always donat know donat know last month year decade decide enjoy ride point worry</td>\n",
       "      <td>gilenya</td>\n",
       "      <td>2</td>\n",
       "      <td>76</td>\n",
       "    </tr>\n",
       "    <tr>\n",
       "      <th>1</th>\n",
       "      <td>9eba8f80e7e20f3a2f48685530748fbfa95943e4</td>\n",
       "      <td>completely understand youad want try result report lecture donat always stand scrutiny peer review publication much still convince hope work really youare aware happy risk thata great think ita important present balanced way understand donat move straight first show promise animal study use drug human therea still lot animal datum gather human datum gather anyone tell ita safe effective canat tell many time animal study donat follow human ita major attrition point drug development youave unpredictability issue cladribine gilenya interaction wasnat predict people try doctor see pattern work whata go clemastine metformin exciting give youave say current condition personal risk tolerance make sense try definitely wouldnat everyone</td>\n",
       "      <td>gilenya</td>\n",
       "      <td>2</td>\n",
       "      <td>206</td>\n",
       "    </tr>\n",
       "    <tr>\n",
       "      <th>2</th>\n",
       "      <td>fe809672251f6bd0d986e00380f48d047c7e7b76</td>\n",
       "      <td>interesting target sp receptor rather like fingolimod hope soon see ae sae yes sure mean exactly quote patient report serious adverse event mg mg mg mg serious adverse event report patient new safety signal occur compare bold study patient report sae state serious adverse event report patient maybe read right maybe misprint pleased something develop spms encourage siponimod linger long body</td>\n",
       "      <td>fingolimod</td>\n",
       "      <td>2</td>\n",
       "      <td>135</td>\n",
       "    </tr>\n",
       "    <tr>\n",
       "      <th>3</th>\n",
       "      <td>bd22104dfa9ec80db4099523e03fae7a52735eb6</td>\n",
       "      <td>interesting grand merci wonder lemtrada ocrevus sale would go prove anti cd induction</td>\n",
       "      <td>ocrevus</td>\n",
       "      <td>2</td>\n",
       "      <td>20</td>\n",
       "    </tr>\n",
       "    <tr>\n",
       "      <th>4</th>\n",
       "      <td>b227688381f9b25e5b65109dd00f7f895e838249</td>\n",
       "      <td>hi everybody late mri result brain cervical cord next neurologist appointment next couple week thereare new lesion brain cord iave relapse gilenya good sign line cervical cord review concern go alesion show hypointensity post gadolinium image could represent artifact early axonal lossa bothersome read kind symptom cc lesion aware would result change dmt thank</td>\n",
       "      <td>gilenya</td>\n",
       "      <td>1</td>\n",
       "      <td>115</td>\n",
       "    </tr>\n",
       "  </tbody>\n",
       "</table>\n",
       "</div>"
      ],
      "text/plain": [
       "                                unique_hash  \\\n",
       "0  2e180be4c9214c1f5ab51fd8cc32bc80c9f612e0   \n",
       "1  9eba8f80e7e20f3a2f48685530748fbfa95943e4   \n",
       "2  fe809672251f6bd0d986e00380f48d047c7e7b76   \n",
       "3  bd22104dfa9ec80db4099523e03fae7a52735eb6   \n",
       "4  b227688381f9b25e5b65109dd00f7f895e838249   \n",
       "\n",
       "                                                                                                                                                                                                                                                                                                                                                                                                                                                                                                                                                                                                                                                                                                                                                                text  \\\n",
       "0  autoimmune disease tend come cluster gilenya feel good donat think wonat change anything waste time energy iam take tysabri feel amazing symptom dodgy color vision iave since always donat know donat know last month year decade decide enjoy ride point worry                                                                                                                                                                                                                                                                                                                                                                                                                                                                                                    \n",
       "1  completely understand youad want try result report lecture donat always stand scrutiny peer review publication much still convince hope work really youare aware happy risk thata great think ita important present balanced way understand donat move straight first show promise animal study use drug human therea still lot animal datum gather human datum gather anyone tell ita safe effective canat tell many time animal study donat follow human ita major attrition point drug development youave unpredictability issue cladribine gilenya interaction wasnat predict people try doctor see pattern work whata go clemastine metformin exciting give youave say current condition personal risk tolerance make sense try definitely wouldnat everyone   \n",
       "2  interesting target sp receptor rather like fingolimod hope soon see ae sae yes sure mean exactly quote patient report serious adverse event mg mg mg mg serious adverse event report patient new safety signal occur compare bold study patient report sae state serious adverse event report patient maybe read right maybe misprint pleased something develop spms encourage siponimod linger long body                                                                                                                                                                                                                                                                                                                                                           \n",
       "3  interesting grand merci wonder lemtrada ocrevus sale would go prove anti cd induction                                                                                                                                                                                                                                                                                                                                                                                                                                                                                                                                                                                                                                                                               \n",
       "4  hi everybody late mri result brain cervical cord next neurologist appointment next couple week thereare new lesion brain cord iave relapse gilenya good sign line cervical cord review concern go alesion show hypointensity post gadolinium image could represent artifact early axonal lossa bothersome read kind symptom cc lesion aware would result change dmt thank                                                                                                                                                                                                                                                                                                                                                                                           \n",
       "\n",
       "         drug  sentiment  token_length  \n",
       "0  gilenya     2          76            \n",
       "1  gilenya     2          206           \n",
       "2  fingolimod  2          135           \n",
       "3  ocrevus     2          20            \n",
       "4  gilenya     1          115           "
      ]
     },
     "execution_count": 71,
     "metadata": {},
     "output_type": "execute_result"
    }
   ],
   "source": [
    "train.head()"
   ]
  },
  {
   "cell_type": "code",
   "execution_count": 73,
   "metadata": {},
   "outputs": [],
   "source": [
    "train.drop(['unique_hash','text','sentiment','token_length'],axis=1,inplace=True)\n",
    "test.drop(['unique_hash','text','token_length'],axis=1,inplace=True)"
   ]
  },
  {
   "cell_type": "code",
   "execution_count": 74,
   "metadata": {},
   "outputs": [],
   "source": [
    "train_features = hstack([\n",
    "    train_tfidf,\n",
    "    tr_train,],'csr'\n",
    ")"
   ]
  },
  {
   "cell_type": "code",
   "execution_count": 75,
   "metadata": {},
   "outputs": [],
   "source": [
    "test_features = hstack([\n",
    "    test_tfidf,\n",
    "    tr_test,],'csr'\n",
    ")"
   ]
  },
  {
   "cell_type": "code",
   "execution_count": 76,
   "metadata": {},
   "outputs": [
    {
     "data": {
      "text/plain": [
       "((5279, 10111), (2924, 10111))"
      ]
     },
     "execution_count": 76,
     "metadata": {},
     "output_type": "execute_result"
    }
   ],
   "source": [
    "train_features.shape,test_features.shape"
   ]
  },
  {
   "cell_type": "code",
   "execution_count": 107,
   "metadata": {},
   "outputs": [
    {
     "data": {
      "text/plain": [
       "LogisticRegression(C=7.0, class_weight=None, dual=False, fit_intercept=True,\n",
       "                   intercept_scaling=1, l1_ratio=None, max_iter=1000,\n",
       "                   multi_class='warn', n_jobs=None, penalty='l2',\n",
       "                   random_state=None, solver='warn', tol=0.0001, verbose=0,\n",
       "                   warm_start=False)"
      ]
     },
     "execution_count": 107,
     "metadata": {},
     "output_type": "execute_result"
    }
   ],
   "source": [
    "from sklearn.linear_model import LogisticRegression\n",
    "from sklearn.svm import LinearSVC\n",
    "clf=LogisticRegression(C=7.0,max_iter=1000)\n",
    "clf.fit(train_features,y_train)"
   ]
  },
  {
   "cell_type": "code",
   "execution_count": 108,
   "metadata": {},
   "outputs": [],
   "source": [
    "y_pred=clf.predict_proba(test_features)"
   ]
  },
  {
   "cell_type": "code",
   "execution_count": 109,
   "metadata": {},
   "outputs": [
    {
     "data": {
      "text/plain": [
       "array([[0.10248982, 0.23374206, 0.66376812],\n",
       "       [0.12282603, 0.50817046, 0.36900351],\n",
       "       [0.00260442, 0.05049199, 0.94690359],\n",
       "       ...,\n",
       "       [0.52124526, 0.08269473, 0.39606002],\n",
       "       [0.0759462 , 0.03986798, 0.88418583],\n",
       "       [0.02223518, 0.04359537, 0.93416945]])"
      ]
     },
     "execution_count": 109,
     "metadata": {},
     "output_type": "execute_result"
    }
   ],
   "source": [
    "y_pred"
   ]
  },
  {
   "cell_type": "code",
   "execution_count": 110,
   "metadata": {},
   "outputs": [
    {
     "data": {
      "text/plain": [
       "0.663768119376479"
      ]
     },
     "execution_count": 110,
     "metadata": {},
     "output_type": "execute_result"
    }
   ],
   "source": [
    "y_pred[0][2]"
   ]
  },
  {
   "cell_type": "code",
   "execution_count": 117,
   "metadata": {},
   "outputs": [],
   "source": [
    "l=[]\n",
    "for i in range(2924):\n",
    "        if(y_pred[i][0]>y_pred[i][1] and y_pred[i][0]>y_pred[i][2]):\n",
    "            l.append(0)\n",
    "        elif(y_pred[i][0]<y_pred[i][1] and y_pred[i][1]>y_pred[i][2]):     \n",
    "             l.append(1)\n",
    "        elif(y_pred[i][0]<y_pred[i][1] and y_pred[i][1]<y_pred[i][2] and y_pred[i][2]<0.85):\n",
    "             l.append(1)\n",
    "        elif(y_pred[i][0]>y_pred[i][1] and y_pred[i][0]<y_pred[i][2] and y_pred[i][2]<0.85):\n",
    "             l.append(0)\n",
    "        else:\n",
    "            l.append(2)"
   ]
  },
  {
   "cell_type": "code",
   "execution_count": 118,
   "metadata": {},
   "outputs": [
    {
     "data": {
      "text/plain": [
       "[1,\n",
       " 1,\n",
       " 2,\n",
       " 2,\n",
       " 2,\n",
       " 0,\n",
       " 1,\n",
       " 0,\n",
       " 1,\n",
       " 0,\n",
       " 2,\n",
       " 1,\n",
       " 2,\n",
       " 2,\n",
       " 2,\n",
       " 2,\n",
       " 1,\n",
       " 1,\n",
       " 2,\n",
       " 1,\n",
       " 2,\n",
       " 1,\n",
       " 0,\n",
       " 2,\n",
       " 1,\n",
       " 2,\n",
       " 0,\n",
       " 0,\n",
       " 1,\n",
       " 1,\n",
       " 2,\n",
       " 1,\n",
       " 1,\n",
       " 1,\n",
       " 1,\n",
       " 2,\n",
       " 0,\n",
       " 1,\n",
       " 2,\n",
       " 1,\n",
       " 1,\n",
       " 2,\n",
       " 1,\n",
       " 0,\n",
       " 2,\n",
       " 0,\n",
       " 2,\n",
       " 0,\n",
       " 1,\n",
       " 1,\n",
       " 1,\n",
       " 1,\n",
       " 2,\n",
       " 2,\n",
       " 2,\n",
       " 0,\n",
       " 2,\n",
       " 1,\n",
       " 1,\n",
       " 2,\n",
       " 0,\n",
       " 1,\n",
       " 1,\n",
       " 2,\n",
       " 2,\n",
       " 2,\n",
       " 0,\n",
       " 2,\n",
       " 1,\n",
       " 2,\n",
       " 2,\n",
       " 0,\n",
       " 2,\n",
       " 2,\n",
       " 0,\n",
       " 1,\n",
       " 0,\n",
       " 2,\n",
       " 1,\n",
       " 1,\n",
       " 2,\n",
       " 2,\n",
       " 2,\n",
       " 2,\n",
       " 1,\n",
       " 2,\n",
       " 1,\n",
       " 0,\n",
       " 2,\n",
       " 1,\n",
       " 2,\n",
       " 0,\n",
       " 2,\n",
       " 2,\n",
       " 1,\n",
       " 2,\n",
       " 0,\n",
       " 2,\n",
       " 1,\n",
       " 0,\n",
       " 2,\n",
       " 0,\n",
       " 2,\n",
       " 1,\n",
       " 1,\n",
       " 1,\n",
       " 0,\n",
       " 2,\n",
       " 2,\n",
       " 0,\n",
       " 2,\n",
       " 0,\n",
       " 0,\n",
       " 2,\n",
       " 0,\n",
       " 1,\n",
       " 0,\n",
       " 2,\n",
       " 0,\n",
       " 2,\n",
       " 1,\n",
       " 0,\n",
       " 0,\n",
       " 2,\n",
       " 2,\n",
       " 1,\n",
       " 0,\n",
       " 2,\n",
       " 0,\n",
       " 2,\n",
       " 2,\n",
       " 2,\n",
       " 2,\n",
       " 0,\n",
       " 1,\n",
       " 2,\n",
       " 2,\n",
       " 0,\n",
       " 1,\n",
       " 0,\n",
       " 1,\n",
       " 2,\n",
       " 2,\n",
       " 1,\n",
       " 1,\n",
       " 2,\n",
       " 2,\n",
       " 1,\n",
       " 2,\n",
       " 2,\n",
       " 0,\n",
       " 1,\n",
       " 2,\n",
       " 2,\n",
       " 0,\n",
       " 2,\n",
       " 2,\n",
       " 0,\n",
       " 2,\n",
       " 1,\n",
       " 1,\n",
       " 1,\n",
       " 0,\n",
       " 2,\n",
       " 2,\n",
       " 2,\n",
       " 2,\n",
       " 2,\n",
       " 2,\n",
       " 2,\n",
       " 0,\n",
       " 2,\n",
       " 2,\n",
       " 1,\n",
       " 0,\n",
       " 2,\n",
       " 2,\n",
       " 1,\n",
       " 0,\n",
       " 2,\n",
       " 0,\n",
       " 1,\n",
       " 1,\n",
       " 1,\n",
       " 2,\n",
       " 0,\n",
       " 2,\n",
       " 0,\n",
       " 0,\n",
       " 2,\n",
       " 1,\n",
       " 2,\n",
       " 0,\n",
       " 0,\n",
       " 0,\n",
       " 2,\n",
       " 1,\n",
       " 1,\n",
       " 1,\n",
       " 1,\n",
       " 2,\n",
       " 2,\n",
       " 1,\n",
       " 0,\n",
       " 2,\n",
       " 1,\n",
       " 1,\n",
       " 2,\n",
       " 1,\n",
       " 2,\n",
       " 1,\n",
       " 1,\n",
       " 2,\n",
       " 2,\n",
       " 0,\n",
       " 1,\n",
       " 1,\n",
       " 1,\n",
       " 2,\n",
       " 2,\n",
       " 0,\n",
       " 2,\n",
       " 1,\n",
       " 2,\n",
       " 2,\n",
       " 1,\n",
       " 2,\n",
       " 2,\n",
       " 0,\n",
       " 1,\n",
       " 2,\n",
       " 2,\n",
       " 2,\n",
       " 0,\n",
       " 2,\n",
       " 1,\n",
       " 1,\n",
       " 0,\n",
       " 2,\n",
       " 2,\n",
       " 1,\n",
       " 0,\n",
       " 2,\n",
       " 0,\n",
       " 2,\n",
       " 1,\n",
       " 1,\n",
       " 0,\n",
       " 1,\n",
       " 0,\n",
       " 1,\n",
       " 2,\n",
       " 2,\n",
       " 2,\n",
       " 0,\n",
       " 2,\n",
       " 1,\n",
       " 0,\n",
       " 0,\n",
       " 2,\n",
       " 2,\n",
       " 1,\n",
       " 2,\n",
       " 0,\n",
       " 2,\n",
       " 2,\n",
       " 0,\n",
       " 2,\n",
       " 0,\n",
       " 2,\n",
       " 1,\n",
       " 2,\n",
       " 0,\n",
       " 0,\n",
       " 0,\n",
       " 0,\n",
       " 2,\n",
       " 2,\n",
       " 2,\n",
       " 1,\n",
       " 2,\n",
       " 2,\n",
       " 2,\n",
       " 2,\n",
       " 0,\n",
       " 2,\n",
       " 2,\n",
       " 1,\n",
       " 2,\n",
       " 0,\n",
       " 1,\n",
       " 0,\n",
       " 1,\n",
       " 0,\n",
       " 1,\n",
       " 1,\n",
       " 2,\n",
       " 2,\n",
       " 2,\n",
       " 1,\n",
       " 0,\n",
       " 2,\n",
       " 1,\n",
       " 2,\n",
       " 0,\n",
       " 1,\n",
       " 0,\n",
       " 1,\n",
       " 2,\n",
       " 2,\n",
       " 2,\n",
       " 1,\n",
       " 0,\n",
       " 2,\n",
       " 0,\n",
       " 2,\n",
       " 1,\n",
       " 1,\n",
       " 0,\n",
       " 2,\n",
       " 0,\n",
       " 1,\n",
       " 1,\n",
       " 2,\n",
       " 1,\n",
       " 2,\n",
       " 2,\n",
       " 0,\n",
       " 0,\n",
       " 1,\n",
       " 1,\n",
       " 1,\n",
       " 2,\n",
       " 1,\n",
       " 2,\n",
       " 1,\n",
       " 0,\n",
       " 1,\n",
       " 2,\n",
       " 2,\n",
       " 0,\n",
       " 1,\n",
       " 2,\n",
       " 0,\n",
       " 0,\n",
       " 2,\n",
       " 2,\n",
       " 2,\n",
       " 1,\n",
       " 2,\n",
       " 0,\n",
       " 2,\n",
       " 2,\n",
       " 2,\n",
       " 2,\n",
       " 2,\n",
       " 0,\n",
       " 1,\n",
       " 1,\n",
       " 2,\n",
       " 0,\n",
       " 0,\n",
       " 0,\n",
       " 1,\n",
       " 0,\n",
       " 1,\n",
       " 1,\n",
       " 2,\n",
       " 1,\n",
       " 2,\n",
       " 0,\n",
       " 2,\n",
       " 2,\n",
       " 2,\n",
       " 2,\n",
       " 2,\n",
       " 1,\n",
       " 2,\n",
       " 2,\n",
       " 0,\n",
       " 2,\n",
       " 2,\n",
       " 0,\n",
       " 0,\n",
       " 1,\n",
       " 1,\n",
       " 2,\n",
       " 2,\n",
       " 2,\n",
       " 1,\n",
       " 0,\n",
       " 2,\n",
       " 2,\n",
       " 2,\n",
       " 1,\n",
       " 2,\n",
       " 2,\n",
       " 1,\n",
       " 2,\n",
       " 0,\n",
       " 2,\n",
       " 1,\n",
       " 2,\n",
       " 1,\n",
       " 2,\n",
       " 2,\n",
       " 2,\n",
       " 2,\n",
       " 2,\n",
       " 1,\n",
       " 0,\n",
       " 1,\n",
       " 2,\n",
       " 1,\n",
       " 2,\n",
       " 2,\n",
       " 0,\n",
       " 0,\n",
       " 0,\n",
       " 1,\n",
       " 2,\n",
       " 1,\n",
       " 1,\n",
       " 2,\n",
       " 0,\n",
       " 1,\n",
       " 0,\n",
       " 1,\n",
       " 1,\n",
       " 2,\n",
       " 0,\n",
       " 0,\n",
       " 2,\n",
       " 2,\n",
       " 2,\n",
       " 1,\n",
       " 2,\n",
       " 2,\n",
       " 2,\n",
       " 0,\n",
       " 1,\n",
       " 2,\n",
       " 0,\n",
       " 2,\n",
       " 1,\n",
       " 2,\n",
       " 2,\n",
       " 2,\n",
       " 1,\n",
       " 2,\n",
       " 0,\n",
       " 1,\n",
       " 1,\n",
       " 0,\n",
       " 0,\n",
       " 0,\n",
       " 2,\n",
       " 2,\n",
       " 2,\n",
       " 2,\n",
       " 2,\n",
       " 2,\n",
       " 0,\n",
       " 2,\n",
       " 2,\n",
       " 0,\n",
       " 2,\n",
       " 0,\n",
       " 2,\n",
       " 2,\n",
       " 2,\n",
       " 0,\n",
       " 0,\n",
       " 2,\n",
       " 1,\n",
       " 0,\n",
       " 0,\n",
       " 1,\n",
       " 2,\n",
       " 1,\n",
       " 0,\n",
       " 2,\n",
       " 1,\n",
       " 2,\n",
       " 2,\n",
       " 2,\n",
       " 1,\n",
       " 1,\n",
       " 2,\n",
       " 2,\n",
       " 2,\n",
       " 0,\n",
       " 0,\n",
       " 0,\n",
       " 2,\n",
       " 2,\n",
       " 0,\n",
       " 2,\n",
       " 2,\n",
       " 2,\n",
       " 0,\n",
       " 2,\n",
       " 1,\n",
       " 1,\n",
       " 1,\n",
       " 0,\n",
       " 2,\n",
       " 2,\n",
       " 0,\n",
       " 1,\n",
       " 0,\n",
       " 2,\n",
       " 2,\n",
       " 2,\n",
       " 1,\n",
       " 1,\n",
       " 1,\n",
       " 0,\n",
       " 0,\n",
       " 2,\n",
       " 1,\n",
       " 2,\n",
       " 0,\n",
       " 2,\n",
       " 2,\n",
       " 2,\n",
       " 1,\n",
       " 1,\n",
       " 2,\n",
       " 0,\n",
       " 1,\n",
       " 2,\n",
       " 2,\n",
       " 0,\n",
       " 1,\n",
       " 2,\n",
       " 1,\n",
       " 2,\n",
       " 2,\n",
       " 1,\n",
       " 2,\n",
       " 1,\n",
       " 0,\n",
       " 2,\n",
       " 2,\n",
       " 2,\n",
       " 1,\n",
       " 0,\n",
       " 2,\n",
       " 0,\n",
       " 1,\n",
       " 0,\n",
       " 0,\n",
       " 2,\n",
       " 1,\n",
       " 2,\n",
       " 0,\n",
       " 1,\n",
       " 2,\n",
       " 1,\n",
       " 2,\n",
       " 2,\n",
       " 2,\n",
       " 1,\n",
       " 1,\n",
       " 2,\n",
       " 1,\n",
       " 2,\n",
       " 2,\n",
       " 2,\n",
       " 2,\n",
       " 2,\n",
       " 1,\n",
       " 2,\n",
       " 2,\n",
       " 1,\n",
       " 0,\n",
       " 2,\n",
       " 1,\n",
       " 0,\n",
       " 1,\n",
       " 1,\n",
       " 2,\n",
       " 2,\n",
       " 2,\n",
       " 2,\n",
       " 0,\n",
       " 0,\n",
       " 2,\n",
       " 1,\n",
       " 2,\n",
       " 2,\n",
       " 2,\n",
       " 0,\n",
       " 1,\n",
       " 0,\n",
       " 0,\n",
       " 0,\n",
       " 1,\n",
       " 2,\n",
       " 1,\n",
       " 1,\n",
       " 2,\n",
       " 2,\n",
       " 1,\n",
       " 0,\n",
       " 2,\n",
       " 2,\n",
       " 1,\n",
       " 0,\n",
       " 1,\n",
       " 1,\n",
       " 1,\n",
       " 1,\n",
       " 0,\n",
       " 2,\n",
       " 2,\n",
       " 2,\n",
       " 1,\n",
       " 2,\n",
       " 1,\n",
       " 1,\n",
       " 2,\n",
       " 2,\n",
       " 2,\n",
       " 1,\n",
       " 1,\n",
       " 2,\n",
       " 0,\n",
       " 1,\n",
       " 2,\n",
       " 0,\n",
       " 2,\n",
       " 0,\n",
       " 2,\n",
       " 1,\n",
       " 2,\n",
       " 1,\n",
       " 2,\n",
       " 2,\n",
       " 1,\n",
       " 2,\n",
       " 0,\n",
       " 1,\n",
       " 1,\n",
       " 2,\n",
       " 2,\n",
       " 1,\n",
       " 1,\n",
       " 1,\n",
       " 2,\n",
       " 2,\n",
       " 1,\n",
       " 1,\n",
       " 2,\n",
       " 2,\n",
       " 1,\n",
       " 1,\n",
       " 1,\n",
       " 1,\n",
       " 2,\n",
       " 0,\n",
       " 0,\n",
       " 2,\n",
       " 1,\n",
       " 0,\n",
       " 0,\n",
       " 0,\n",
       " 2,\n",
       " 2,\n",
       " 2,\n",
       " 2,\n",
       " 2,\n",
       " 1,\n",
       " 2,\n",
       " 2,\n",
       " 2,\n",
       " 0,\n",
       " 0,\n",
       " 2,\n",
       " 0,\n",
       " 2,\n",
       " 0,\n",
       " 1,\n",
       " 1,\n",
       " 2,\n",
       " 0,\n",
       " 1,\n",
       " 2,\n",
       " 2,\n",
       " 2,\n",
       " 1,\n",
       " 1,\n",
       " 1,\n",
       " 1,\n",
       " 0,\n",
       " 1,\n",
       " 1,\n",
       " 2,\n",
       " 0,\n",
       " 0,\n",
       " 0,\n",
       " 2,\n",
       " 1,\n",
       " 2,\n",
       " 1,\n",
       " 2,\n",
       " 0,\n",
       " 2,\n",
       " 2,\n",
       " 1,\n",
       " 0,\n",
       " 2,\n",
       " 0,\n",
       " 2,\n",
       " 1,\n",
       " 0,\n",
       " 0,\n",
       " 2,\n",
       " 2,\n",
       " 1,\n",
       " 2,\n",
       " 2,\n",
       " 1,\n",
       " 2,\n",
       " 0,\n",
       " 0,\n",
       " 2,\n",
       " 2,\n",
       " 2,\n",
       " 1,\n",
       " 2,\n",
       " 1,\n",
       " 0,\n",
       " 0,\n",
       " 2,\n",
       " 0,\n",
       " 1,\n",
       " 1,\n",
       " 2,\n",
       " 1,\n",
       " 0,\n",
       " 2,\n",
       " 1,\n",
       " 1,\n",
       " 0,\n",
       " 2,\n",
       " 0,\n",
       " 2,\n",
       " 2,\n",
       " 1,\n",
       " 1,\n",
       " 1,\n",
       " 2,\n",
       " 2,\n",
       " 2,\n",
       " 2,\n",
       " 0,\n",
       " 1,\n",
       " 1,\n",
       " 0,\n",
       " 0,\n",
       " 1,\n",
       " 0,\n",
       " 1,\n",
       " 1,\n",
       " 1,\n",
       " 2,\n",
       " 2,\n",
       " 0,\n",
       " 2,\n",
       " 1,\n",
       " 1,\n",
       " 1,\n",
       " 0,\n",
       " 0,\n",
       " 2,\n",
       " 2,\n",
       " 2,\n",
       " 1,\n",
       " 1,\n",
       " 2,\n",
       " 2,\n",
       " 2,\n",
       " 2,\n",
       " 2,\n",
       " 2,\n",
       " 2,\n",
       " 1,\n",
       " 0,\n",
       " 0,\n",
       " 2,\n",
       " 2,\n",
       " 2,\n",
       " 1,\n",
       " 0,\n",
       " 0,\n",
       " 2,\n",
       " 0,\n",
       " 1,\n",
       " 1,\n",
       " 2,\n",
       " 2,\n",
       " 1,\n",
       " 1,\n",
       " 1,\n",
       " 2,\n",
       " 1,\n",
       " 0,\n",
       " 0,\n",
       " 1,\n",
       " 1,\n",
       " 0,\n",
       " 2,\n",
       " 0,\n",
       " 0,\n",
       " 0,\n",
       " 2,\n",
       " 2,\n",
       " 1,\n",
       " 2,\n",
       " 1,\n",
       " 0,\n",
       " 0,\n",
       " 2,\n",
       " 0,\n",
       " 0,\n",
       " 0,\n",
       " 1,\n",
       " 1,\n",
       " 2,\n",
       " 1,\n",
       " 2,\n",
       " 1,\n",
       " 2,\n",
       " 2,\n",
       " 0,\n",
       " 2,\n",
       " 2,\n",
       " 0,\n",
       " 2,\n",
       " 2,\n",
       " 1,\n",
       " 2,\n",
       " 2,\n",
       " 2,\n",
       " 2,\n",
       " 2,\n",
       " 1,\n",
       " 2,\n",
       " 1,\n",
       " 1,\n",
       " 2,\n",
       " 1,\n",
       " 0,\n",
       " 1,\n",
       " 0,\n",
       " 1,\n",
       " 1,\n",
       " 2,\n",
       " 2,\n",
       " 2,\n",
       " 0,\n",
       " 2,\n",
       " 0,\n",
       " 2,\n",
       " 2,\n",
       " 0,\n",
       " 0,\n",
       " 2,\n",
       " 0,\n",
       " 2,\n",
       " 1,\n",
       " 2,\n",
       " 0,\n",
       " 1,\n",
       " 2,\n",
       " 0,\n",
       " 2,\n",
       " 0,\n",
       " 2,\n",
       " 1,\n",
       " 2,\n",
       " 2,\n",
       " 2,\n",
       " 2,\n",
       " 2,\n",
       " 2,\n",
       " 1,\n",
       " 0,\n",
       " 0,\n",
       " 2,\n",
       " 1,\n",
       " 0,\n",
       " 1,\n",
       " 0,\n",
       " 2,\n",
       " 2,\n",
       " 1,\n",
       " 2,\n",
       " 0,\n",
       " 0,\n",
       " 2,\n",
       " 2,\n",
       " 1,\n",
       " 2,\n",
       " 2,\n",
       " 1,\n",
       " 2,\n",
       " 2,\n",
       " 2,\n",
       " 1,\n",
       " 0,\n",
       " 0,\n",
       " 2,\n",
       " 2,\n",
       " 0,\n",
       " 2,\n",
       " 2,\n",
       " 1,\n",
       " 1,\n",
       " 1,\n",
       " 2,\n",
       " 0,\n",
       " 1,\n",
       " 1,\n",
       " 0,\n",
       " 2,\n",
       " 2,\n",
       " 2,\n",
       " 2,\n",
       " 2,\n",
       " 0,\n",
       " 2,\n",
       " 1,\n",
       " 2,\n",
       " 1,\n",
       " 2,\n",
       " 1,\n",
       " 2,\n",
       " 2,\n",
       " 0,\n",
       " 1,\n",
       " 2,\n",
       " 2,\n",
       " 0,\n",
       " 2,\n",
       " 2,\n",
       " 2,\n",
       " 2,\n",
       " 1,\n",
       " 1,\n",
       " 0,\n",
       " 0,\n",
       " 2,\n",
       " 2,\n",
       " 2,\n",
       " 0,\n",
       " 2,\n",
       " 1,\n",
       " 2,\n",
       " 0,\n",
       " 1,\n",
       " 0,\n",
       " 2,\n",
       " 2,\n",
       " 2,\n",
       " 1,\n",
       " 1,\n",
       " 2,\n",
       " 1,\n",
       " 2,\n",
       " 0,\n",
       " 2,\n",
       " 0,\n",
       " 1,\n",
       " 2,\n",
       " 2,\n",
       " 2,\n",
       " 2,\n",
       " 1,\n",
       " 2,\n",
       " 2,\n",
       " 0,\n",
       " 2,\n",
       " 0,\n",
       " 2,\n",
       " 0,\n",
       " 2,\n",
       " 1,\n",
       " 0,\n",
       " 1,\n",
       " 2,\n",
       " 1,\n",
       " 0,\n",
       " 2,\n",
       " 0,\n",
       " 0,\n",
       " 0,\n",
       " 2,\n",
       " ...]"
      ]
     },
     "execution_count": 118,
     "metadata": {},
     "output_type": "execute_result"
    }
   ],
   "source": [
    "len(l)\n",
    "l"
   ]
  },
  {
   "cell_type": "code",
   "execution_count": 119,
   "metadata": {},
   "outputs": [
    {
     "data": {
      "text/plain": [
       "1312"
      ]
     },
     "execution_count": 119,
     "metadata": {},
     "output_type": "execute_result"
    }
   ],
   "source": [
    "k=0\n",
    "for i in range(len(y_pred)):\n",
    "    if(l[i]==2):\n",
    "        k=k+1\n",
    "k"
   ]
  },
  {
   "cell_type": "code",
   "execution_count": 120,
   "metadata": {},
   "outputs": [],
   "source": [
    "sample['sentiment']=l"
   ]
  },
  {
   "cell_type": "code",
   "execution_count": 121,
   "metadata": {},
   "outputs": [],
   "source": [
    "sample.to_csv(\"analytic.csv\", index=False)"
   ]
  },
  {
   "cell_type": "code",
   "execution_count": 122,
   "metadata": {},
   "outputs": [
    {
     "data": {
      "text/html": [
       "<div>\n",
       "<style scoped>\n",
       "    .dataframe tbody tr th:only-of-type {\n",
       "        vertical-align: middle;\n",
       "    }\n",
       "\n",
       "    .dataframe tbody tr th {\n",
       "        vertical-align: top;\n",
       "    }\n",
       "\n",
       "    .dataframe thead th {\n",
       "        text-align: right;\n",
       "    }\n",
       "</style>\n",
       "<table border=\"1\" class=\"dataframe\">\n",
       "  <thead>\n",
       "    <tr style=\"text-align: right;\">\n",
       "      <th></th>\n",
       "      <th>unique_hash</th>\n",
       "      <th>sentiment</th>\n",
       "    </tr>\n",
       "  </thead>\n",
       "  <tbody>\n",
       "    <tr>\n",
       "      <th>0</th>\n",
       "      <td>9e9a8166b84114aca147bf409f6f956635034c08</td>\n",
       "      <td>1</td>\n",
       "    </tr>\n",
       "    <tr>\n",
       "      <th>1</th>\n",
       "      <td>e747e6822c867571afe7b907b51f0f2ca67b0e1a</td>\n",
       "      <td>1</td>\n",
       "    </tr>\n",
       "    <tr>\n",
       "      <th>2</th>\n",
       "      <td>50b6d851bcff4f35afe354937949e9948975adf7</td>\n",
       "      <td>2</td>\n",
       "    </tr>\n",
       "    <tr>\n",
       "      <th>3</th>\n",
       "      <td>7f82ec2176ae6ab0b5d20b5ffc767ac829f384ae</td>\n",
       "      <td>2</td>\n",
       "    </tr>\n",
       "    <tr>\n",
       "      <th>4</th>\n",
       "      <td>8b37d169dee5bdae27060949242fb54feb6a7f7f</td>\n",
       "      <td>2</td>\n",
       "    </tr>\n",
       "  </tbody>\n",
       "</table>\n",
       "</div>"
      ],
      "text/plain": [
       "                                unique_hash  sentiment\n",
       "0  9e9a8166b84114aca147bf409f6f956635034c08  1        \n",
       "1  e747e6822c867571afe7b907b51f0f2ca67b0e1a  1        \n",
       "2  50b6d851bcff4f35afe354937949e9948975adf7  2        \n",
       "3  7f82ec2176ae6ab0b5d20b5ffc767ac829f384ae  2        \n",
       "4  8b37d169dee5bdae27060949242fb54feb6a7f7f  2        "
      ]
     },
     "execution_count": 122,
     "metadata": {},
     "output_type": "execute_result"
    }
   ],
   "source": [
    "sample.head()"
   ]
  },
  {
   "cell_type": "code",
   "execution_count": null,
   "metadata": {},
   "outputs": [],
   "source": []
  },
  {
   "cell_type": "code",
   "execution_count": null,
   "metadata": {},
   "outputs": [],
   "source": []
  }
 ],
 "metadata": {
  "kernelspec": {
   "display_name": "Python 3",
   "language": "python",
   "name": "python3"
  },
  "language_info": {
   "codemirror_mode": {
    "name": "ipython",
    "version": 3
   },
   "file_extension": ".py",
   "mimetype": "text/x-python",
   "name": "python",
   "nbconvert_exporter": "python",
   "pygments_lexer": "ipython3",
   "version": "3.7.1"
  }
 },
 "nbformat": 4,
 "nbformat_minor": 2
}
